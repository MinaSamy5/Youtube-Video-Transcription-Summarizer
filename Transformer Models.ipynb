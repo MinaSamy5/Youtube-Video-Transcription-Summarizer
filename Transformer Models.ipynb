{
  "nbformat": 4,
  "nbformat_minor": 0,
  "metadata": {
    "colab": {
      "provenance": [],
      "gpuType": "T4"
    },
    "kernelspec": {
      "name": "python3",
      "display_name": "Python 3"
    },
    "language_info": {
      "name": "python"
    },
    "accelerator": "GPU",
    "widgets": {
      "application/vnd.jupyter.widget-state+json": {
        "7a9f853092c44dfb99d6f200fc62c711": {
          "model_module": "@jupyter-widgets/controls",
          "model_name": "HBoxModel",
          "model_module_version": "1.5.0",
          "state": {
            "_dom_classes": [],
            "_model_module": "@jupyter-widgets/controls",
            "_model_module_version": "1.5.0",
            "_model_name": "HBoxModel",
            "_view_count": null,
            "_view_module": "@jupyter-widgets/controls",
            "_view_module_version": "1.5.0",
            "_view_name": "HBoxView",
            "box_style": "",
            "children": [
              "IPY_MODEL_7eb115b2042349b9aff8b0e964dd4de6",
              "IPY_MODEL_12920be50b584501b81dc6b039090819",
              "IPY_MODEL_154f67c357af436ca974882dd2069fe9"
            ],
            "layout": "IPY_MODEL_c0e42719ee5745dcaa4a7c58058159d5"
          }
        },
        "7eb115b2042349b9aff8b0e964dd4de6": {
          "model_module": "@jupyter-widgets/controls",
          "model_name": "HTMLModel",
          "model_module_version": "1.5.0",
          "state": {
            "_dom_classes": [],
            "_model_module": "@jupyter-widgets/controls",
            "_model_module_version": "1.5.0",
            "_model_name": "HTMLModel",
            "_view_count": null,
            "_view_module": "@jupyter-widgets/controls",
            "_view_module_version": "1.5.0",
            "_view_name": "HTMLView",
            "description": "",
            "description_tooltip": null,
            "layout": "IPY_MODEL_6d00c238f14a49609f97472f00cbcb01",
            "placeholder": "​",
            "style": "IPY_MODEL_3d231bf7b2204c5889661118cc5cc338",
            "value": "Downloading readme: 100%"
          }
        },
        "12920be50b584501b81dc6b039090819": {
          "model_module": "@jupyter-widgets/controls",
          "model_name": "FloatProgressModel",
          "model_module_version": "1.5.0",
          "state": {
            "_dom_classes": [],
            "_model_module": "@jupyter-widgets/controls",
            "_model_module_version": "1.5.0",
            "_model_name": "FloatProgressModel",
            "_view_count": null,
            "_view_module": "@jupyter-widgets/controls",
            "_view_module_version": "1.5.0",
            "_view_name": "ProgressView",
            "bar_style": "success",
            "description": "",
            "description_tooltip": null,
            "layout": "IPY_MODEL_5c8b12bc869f40c2b0f188042114f329",
            "max": 7268,
            "min": 0,
            "orientation": "horizontal",
            "style": "IPY_MODEL_13720d4bf7374c89bf0a7c8991425cd6",
            "value": 7268
          }
        },
        "154f67c357af436ca974882dd2069fe9": {
          "model_module": "@jupyter-widgets/controls",
          "model_name": "HTMLModel",
          "model_module_version": "1.5.0",
          "state": {
            "_dom_classes": [],
            "_model_module": "@jupyter-widgets/controls",
            "_model_module_version": "1.5.0",
            "_model_name": "HTMLModel",
            "_view_count": null,
            "_view_module": "@jupyter-widgets/controls",
            "_view_module_version": "1.5.0",
            "_view_name": "HTMLView",
            "description": "",
            "description_tooltip": null,
            "layout": "IPY_MODEL_0f84e782cbed4f6d9c101836dc500683",
            "placeholder": "​",
            "style": "IPY_MODEL_adade8c3dd9d464cb4a98e11ea8f2dbd",
            "value": " 7.27k/7.27k [00:00&lt;00:00, 193kB/s]"
          }
        },
        "c0e42719ee5745dcaa4a7c58058159d5": {
          "model_module": "@jupyter-widgets/base",
          "model_name": "LayoutModel",
          "model_module_version": "1.2.0",
          "state": {
            "_model_module": "@jupyter-widgets/base",
            "_model_module_version": "1.2.0",
            "_model_name": "LayoutModel",
            "_view_count": null,
            "_view_module": "@jupyter-widgets/base",
            "_view_module_version": "1.2.0",
            "_view_name": "LayoutView",
            "align_content": null,
            "align_items": null,
            "align_self": null,
            "border": null,
            "bottom": null,
            "display": null,
            "flex": null,
            "flex_flow": null,
            "grid_area": null,
            "grid_auto_columns": null,
            "grid_auto_flow": null,
            "grid_auto_rows": null,
            "grid_column": null,
            "grid_gap": null,
            "grid_row": null,
            "grid_template_areas": null,
            "grid_template_columns": null,
            "grid_template_rows": null,
            "height": null,
            "justify_content": null,
            "justify_items": null,
            "left": null,
            "margin": null,
            "max_height": null,
            "max_width": null,
            "min_height": null,
            "min_width": null,
            "object_fit": null,
            "object_position": null,
            "order": null,
            "overflow": null,
            "overflow_x": null,
            "overflow_y": null,
            "padding": null,
            "right": null,
            "top": null,
            "visibility": null,
            "width": null
          }
        },
        "6d00c238f14a49609f97472f00cbcb01": {
          "model_module": "@jupyter-widgets/base",
          "model_name": "LayoutModel",
          "model_module_version": "1.2.0",
          "state": {
            "_model_module": "@jupyter-widgets/base",
            "_model_module_version": "1.2.0",
            "_model_name": "LayoutModel",
            "_view_count": null,
            "_view_module": "@jupyter-widgets/base",
            "_view_module_version": "1.2.0",
            "_view_name": "LayoutView",
            "align_content": null,
            "align_items": null,
            "align_self": null,
            "border": null,
            "bottom": null,
            "display": null,
            "flex": null,
            "flex_flow": null,
            "grid_area": null,
            "grid_auto_columns": null,
            "grid_auto_flow": null,
            "grid_auto_rows": null,
            "grid_column": null,
            "grid_gap": null,
            "grid_row": null,
            "grid_template_areas": null,
            "grid_template_columns": null,
            "grid_template_rows": null,
            "height": null,
            "justify_content": null,
            "justify_items": null,
            "left": null,
            "margin": null,
            "max_height": null,
            "max_width": null,
            "min_height": null,
            "min_width": null,
            "object_fit": null,
            "object_position": null,
            "order": null,
            "overflow": null,
            "overflow_x": null,
            "overflow_y": null,
            "padding": null,
            "right": null,
            "top": null,
            "visibility": null,
            "width": null
          }
        },
        "3d231bf7b2204c5889661118cc5cc338": {
          "model_module": "@jupyter-widgets/controls",
          "model_name": "DescriptionStyleModel",
          "model_module_version": "1.5.0",
          "state": {
            "_model_module": "@jupyter-widgets/controls",
            "_model_module_version": "1.5.0",
            "_model_name": "DescriptionStyleModel",
            "_view_count": null,
            "_view_module": "@jupyter-widgets/base",
            "_view_module_version": "1.2.0",
            "_view_name": "StyleView",
            "description_width": ""
          }
        },
        "5c8b12bc869f40c2b0f188042114f329": {
          "model_module": "@jupyter-widgets/base",
          "model_name": "LayoutModel",
          "model_module_version": "1.2.0",
          "state": {
            "_model_module": "@jupyter-widgets/base",
            "_model_module_version": "1.2.0",
            "_model_name": "LayoutModel",
            "_view_count": null,
            "_view_module": "@jupyter-widgets/base",
            "_view_module_version": "1.2.0",
            "_view_name": "LayoutView",
            "align_content": null,
            "align_items": null,
            "align_self": null,
            "border": null,
            "bottom": null,
            "display": null,
            "flex": null,
            "flex_flow": null,
            "grid_area": null,
            "grid_auto_columns": null,
            "grid_auto_flow": null,
            "grid_auto_rows": null,
            "grid_column": null,
            "grid_gap": null,
            "grid_row": null,
            "grid_template_areas": null,
            "grid_template_columns": null,
            "grid_template_rows": null,
            "height": null,
            "justify_content": null,
            "justify_items": null,
            "left": null,
            "margin": null,
            "max_height": null,
            "max_width": null,
            "min_height": null,
            "min_width": null,
            "object_fit": null,
            "object_position": null,
            "order": null,
            "overflow": null,
            "overflow_x": null,
            "overflow_y": null,
            "padding": null,
            "right": null,
            "top": null,
            "visibility": null,
            "width": null
          }
        },
        "13720d4bf7374c89bf0a7c8991425cd6": {
          "model_module": "@jupyter-widgets/controls",
          "model_name": "ProgressStyleModel",
          "model_module_version": "1.5.0",
          "state": {
            "_model_module": "@jupyter-widgets/controls",
            "_model_module_version": "1.5.0",
            "_model_name": "ProgressStyleModel",
            "_view_count": null,
            "_view_module": "@jupyter-widgets/base",
            "_view_module_version": "1.2.0",
            "_view_name": "StyleView",
            "bar_color": null,
            "description_width": ""
          }
        },
        "0f84e782cbed4f6d9c101836dc500683": {
          "model_module": "@jupyter-widgets/base",
          "model_name": "LayoutModel",
          "model_module_version": "1.2.0",
          "state": {
            "_model_module": "@jupyter-widgets/base",
            "_model_module_version": "1.2.0",
            "_model_name": "LayoutModel",
            "_view_count": null,
            "_view_module": "@jupyter-widgets/base",
            "_view_module_version": "1.2.0",
            "_view_name": "LayoutView",
            "align_content": null,
            "align_items": null,
            "align_self": null,
            "border": null,
            "bottom": null,
            "display": null,
            "flex": null,
            "flex_flow": null,
            "grid_area": null,
            "grid_auto_columns": null,
            "grid_auto_flow": null,
            "grid_auto_rows": null,
            "grid_column": null,
            "grid_gap": null,
            "grid_row": null,
            "grid_template_areas": null,
            "grid_template_columns": null,
            "grid_template_rows": null,
            "height": null,
            "justify_content": null,
            "justify_items": null,
            "left": null,
            "margin": null,
            "max_height": null,
            "max_width": null,
            "min_height": null,
            "min_width": null,
            "object_fit": null,
            "object_position": null,
            "order": null,
            "overflow": null,
            "overflow_x": null,
            "overflow_y": null,
            "padding": null,
            "right": null,
            "top": null,
            "visibility": null,
            "width": null
          }
        },
        "adade8c3dd9d464cb4a98e11ea8f2dbd": {
          "model_module": "@jupyter-widgets/controls",
          "model_name": "DescriptionStyleModel",
          "model_module_version": "1.5.0",
          "state": {
            "_model_module": "@jupyter-widgets/controls",
            "_model_module_version": "1.5.0",
            "_model_name": "DescriptionStyleModel",
            "_view_count": null,
            "_view_module": "@jupyter-widgets/base",
            "_view_module_version": "1.2.0",
            "_view_name": "StyleView",
            "description_width": ""
          }
        },
        "a7c83e40e7e045c5b4f6876bf7da56bc": {
          "model_module": "@jupyter-widgets/controls",
          "model_name": "HBoxModel",
          "model_module_version": "1.5.0",
          "state": {
            "_dom_classes": [],
            "_model_module": "@jupyter-widgets/controls",
            "_model_module_version": "1.5.0",
            "_model_name": "HBoxModel",
            "_view_count": null,
            "_view_module": "@jupyter-widgets/controls",
            "_view_module_version": "1.5.0",
            "_view_name": "HBoxView",
            "box_style": "",
            "children": [
              "IPY_MODEL_0d93cbb82e704ae4b65a3851774e3413",
              "IPY_MODEL_58ea4506bdf8454f95e9fb55db9ced46",
              "IPY_MODEL_5db75e07e5414c9d925fdf3b2e7f8e07"
            ],
            "layout": "IPY_MODEL_c10348a97f61421e84b317d557279f14"
          }
        },
        "0d93cbb82e704ae4b65a3851774e3413": {
          "model_module": "@jupyter-widgets/controls",
          "model_name": "HTMLModel",
          "model_module_version": "1.5.0",
          "state": {
            "_dom_classes": [],
            "_model_module": "@jupyter-widgets/controls",
            "_model_module_version": "1.5.0",
            "_model_name": "HTMLModel",
            "_view_count": null,
            "_view_module": "@jupyter-widgets/controls",
            "_view_module_version": "1.5.0",
            "_view_name": "HTMLView",
            "description": "",
            "description_tooltip": null,
            "layout": "IPY_MODEL_5a9afa96cca449f385f18814941fa3f0",
            "placeholder": "​",
            "style": "IPY_MODEL_471114c02be34d618c7cd2426cba888b",
            "value": "Downloading data: 100%"
          }
        },
        "58ea4506bdf8454f95e9fb55db9ced46": {
          "model_module": "@jupyter-widgets/controls",
          "model_name": "FloatProgressModel",
          "model_module_version": "1.5.0",
          "state": {
            "_dom_classes": [],
            "_model_module": "@jupyter-widgets/controls",
            "_model_module_version": "1.5.0",
            "_model_name": "FloatProgressModel",
            "_view_count": null,
            "_view_module": "@jupyter-widgets/controls",
            "_view_module_version": "1.5.0",
            "_view_name": "ProgressView",
            "bar_style": "success",
            "description": "",
            "description_tooltip": null,
            "layout": "IPY_MODEL_479df6045c57465fb124456298822376",
            "max": 91811112,
            "min": 0,
            "orientation": "horizontal",
            "style": "IPY_MODEL_fcfef4fa08e748a8a1ef70441b03e5a6",
            "value": 91811112
          }
        },
        "5db75e07e5414c9d925fdf3b2e7f8e07": {
          "model_module": "@jupyter-widgets/controls",
          "model_name": "HTMLModel",
          "model_module_version": "1.5.0",
          "state": {
            "_dom_classes": [],
            "_model_module": "@jupyter-widgets/controls",
            "_model_module_version": "1.5.0",
            "_model_name": "HTMLModel",
            "_view_count": null,
            "_view_module": "@jupyter-widgets/controls",
            "_view_module_version": "1.5.0",
            "_view_name": "HTMLView",
            "description": "",
            "description_tooltip": null,
            "layout": "IPY_MODEL_a362e7e353f3488c99afa7d4fb6fedb9",
            "placeholder": "​",
            "style": "IPY_MODEL_02252d0b31c240c4ad55fb9de2ac9fbe",
            "value": " 91.8M/91.8M [00:02&lt;00:00, 47.8MB/s]"
          }
        },
        "c10348a97f61421e84b317d557279f14": {
          "model_module": "@jupyter-widgets/base",
          "model_name": "LayoutModel",
          "model_module_version": "1.2.0",
          "state": {
            "_model_module": "@jupyter-widgets/base",
            "_model_module_version": "1.2.0",
            "_model_name": "LayoutModel",
            "_view_count": null,
            "_view_module": "@jupyter-widgets/base",
            "_view_module_version": "1.2.0",
            "_view_name": "LayoutView",
            "align_content": null,
            "align_items": null,
            "align_self": null,
            "border": null,
            "bottom": null,
            "display": null,
            "flex": null,
            "flex_flow": null,
            "grid_area": null,
            "grid_auto_columns": null,
            "grid_auto_flow": null,
            "grid_auto_rows": null,
            "grid_column": null,
            "grid_gap": null,
            "grid_row": null,
            "grid_template_areas": null,
            "grid_template_columns": null,
            "grid_template_rows": null,
            "height": null,
            "justify_content": null,
            "justify_items": null,
            "left": null,
            "margin": null,
            "max_height": null,
            "max_width": null,
            "min_height": null,
            "min_width": null,
            "object_fit": null,
            "object_position": null,
            "order": null,
            "overflow": null,
            "overflow_x": null,
            "overflow_y": null,
            "padding": null,
            "right": null,
            "top": null,
            "visibility": null,
            "width": null
          }
        },
        "5a9afa96cca449f385f18814941fa3f0": {
          "model_module": "@jupyter-widgets/base",
          "model_name": "LayoutModel",
          "model_module_version": "1.2.0",
          "state": {
            "_model_module": "@jupyter-widgets/base",
            "_model_module_version": "1.2.0",
            "_model_name": "LayoutModel",
            "_view_count": null,
            "_view_module": "@jupyter-widgets/base",
            "_view_module_version": "1.2.0",
            "_view_name": "LayoutView",
            "align_content": null,
            "align_items": null,
            "align_self": null,
            "border": null,
            "bottom": null,
            "display": null,
            "flex": null,
            "flex_flow": null,
            "grid_area": null,
            "grid_auto_columns": null,
            "grid_auto_flow": null,
            "grid_auto_rows": null,
            "grid_column": null,
            "grid_gap": null,
            "grid_row": null,
            "grid_template_areas": null,
            "grid_template_columns": null,
            "grid_template_rows": null,
            "height": null,
            "justify_content": null,
            "justify_items": null,
            "left": null,
            "margin": null,
            "max_height": null,
            "max_width": null,
            "min_height": null,
            "min_width": null,
            "object_fit": null,
            "object_position": null,
            "order": null,
            "overflow": null,
            "overflow_x": null,
            "overflow_y": null,
            "padding": null,
            "right": null,
            "top": null,
            "visibility": null,
            "width": null
          }
        },
        "471114c02be34d618c7cd2426cba888b": {
          "model_module": "@jupyter-widgets/controls",
          "model_name": "DescriptionStyleModel",
          "model_module_version": "1.5.0",
          "state": {
            "_model_module": "@jupyter-widgets/controls",
            "_model_module_version": "1.5.0",
            "_model_name": "DescriptionStyleModel",
            "_view_count": null,
            "_view_module": "@jupyter-widgets/base",
            "_view_module_version": "1.2.0",
            "_view_name": "StyleView",
            "description_width": ""
          }
        },
        "479df6045c57465fb124456298822376": {
          "model_module": "@jupyter-widgets/base",
          "model_name": "LayoutModel",
          "model_module_version": "1.2.0",
          "state": {
            "_model_module": "@jupyter-widgets/base",
            "_model_module_version": "1.2.0",
            "_model_name": "LayoutModel",
            "_view_count": null,
            "_view_module": "@jupyter-widgets/base",
            "_view_module_version": "1.2.0",
            "_view_name": "LayoutView",
            "align_content": null,
            "align_items": null,
            "align_self": null,
            "border": null,
            "bottom": null,
            "display": null,
            "flex": null,
            "flex_flow": null,
            "grid_area": null,
            "grid_auto_columns": null,
            "grid_auto_flow": null,
            "grid_auto_rows": null,
            "grid_column": null,
            "grid_gap": null,
            "grid_row": null,
            "grid_template_areas": null,
            "grid_template_columns": null,
            "grid_template_rows": null,
            "height": null,
            "justify_content": null,
            "justify_items": null,
            "left": null,
            "margin": null,
            "max_height": null,
            "max_width": null,
            "min_height": null,
            "min_width": null,
            "object_fit": null,
            "object_position": null,
            "order": null,
            "overflow": null,
            "overflow_x": null,
            "overflow_y": null,
            "padding": null,
            "right": null,
            "top": null,
            "visibility": null,
            "width": null
          }
        },
        "fcfef4fa08e748a8a1ef70441b03e5a6": {
          "model_module": "@jupyter-widgets/controls",
          "model_name": "ProgressStyleModel",
          "model_module_version": "1.5.0",
          "state": {
            "_model_module": "@jupyter-widgets/controls",
            "_model_module_version": "1.5.0",
            "_model_name": "ProgressStyleModel",
            "_view_count": null,
            "_view_module": "@jupyter-widgets/base",
            "_view_module_version": "1.2.0",
            "_view_name": "StyleView",
            "bar_color": null,
            "description_width": ""
          }
        },
        "a362e7e353f3488c99afa7d4fb6fedb9": {
          "model_module": "@jupyter-widgets/base",
          "model_name": "LayoutModel",
          "model_module_version": "1.2.0",
          "state": {
            "_model_module": "@jupyter-widgets/base",
            "_model_module_version": "1.2.0",
            "_model_name": "LayoutModel",
            "_view_count": null,
            "_view_module": "@jupyter-widgets/base",
            "_view_module_version": "1.2.0",
            "_view_name": "LayoutView",
            "align_content": null,
            "align_items": null,
            "align_self": null,
            "border": null,
            "bottom": null,
            "display": null,
            "flex": null,
            "flex_flow": null,
            "grid_area": null,
            "grid_auto_columns": null,
            "grid_auto_flow": null,
            "grid_auto_rows": null,
            "grid_column": null,
            "grid_gap": null,
            "grid_row": null,
            "grid_template_areas": null,
            "grid_template_columns": null,
            "grid_template_rows": null,
            "height": null,
            "justify_content": null,
            "justify_items": null,
            "left": null,
            "margin": null,
            "max_height": null,
            "max_width": null,
            "min_height": null,
            "min_width": null,
            "object_fit": null,
            "object_position": null,
            "order": null,
            "overflow": null,
            "overflow_x": null,
            "overflow_y": null,
            "padding": null,
            "right": null,
            "top": null,
            "visibility": null,
            "width": null
          }
        },
        "02252d0b31c240c4ad55fb9de2ac9fbe": {
          "model_module": "@jupyter-widgets/controls",
          "model_name": "DescriptionStyleModel",
          "model_module_version": "1.5.0",
          "state": {
            "_model_module": "@jupyter-widgets/controls",
            "_model_module_version": "1.5.0",
            "_model_name": "DescriptionStyleModel",
            "_view_count": null,
            "_view_module": "@jupyter-widgets/base",
            "_view_module_version": "1.2.0",
            "_view_name": "StyleView",
            "description_width": ""
          }
        },
        "bf6b9abf53444db5bc0155f9f2599af4": {
          "model_module": "@jupyter-widgets/controls",
          "model_name": "HBoxModel",
          "model_module_version": "1.5.0",
          "state": {
            "_dom_classes": [],
            "_model_module": "@jupyter-widgets/controls",
            "_model_module_version": "1.5.0",
            "_model_name": "HBoxModel",
            "_view_count": null,
            "_view_module": "@jupyter-widgets/controls",
            "_view_module_version": "1.5.0",
            "_view_name": "HBoxView",
            "box_style": "",
            "children": [
              "IPY_MODEL_ea3673a04f404238bb52967ed928f1ef",
              "IPY_MODEL_d1dbb9cb45fc4dbbb84464fa9cfeabc1",
              "IPY_MODEL_19b6a4736dfd4fccaa40dcd7f8e7e758"
            ],
            "layout": "IPY_MODEL_1e9beb6335b6492c9ab703c75790d37f"
          }
        },
        "ea3673a04f404238bb52967ed928f1ef": {
          "model_module": "@jupyter-widgets/controls",
          "model_name": "HTMLModel",
          "model_module_version": "1.5.0",
          "state": {
            "_dom_classes": [],
            "_model_module": "@jupyter-widgets/controls",
            "_model_module_version": "1.5.0",
            "_model_name": "HTMLModel",
            "_view_count": null,
            "_view_module": "@jupyter-widgets/controls",
            "_view_module_version": "1.5.0",
            "_view_name": "HTMLView",
            "description": "",
            "description_tooltip": null,
            "layout": "IPY_MODEL_8ac7fe46a64d42ffa73bfb0d26ce1fab",
            "placeholder": "​",
            "style": "IPY_MODEL_74ab51342f414708b18cad6c864ddf6e",
            "value": "Downloading data: 100%"
          }
        },
        "d1dbb9cb45fc4dbbb84464fa9cfeabc1": {
          "model_module": "@jupyter-widgets/controls",
          "model_name": "FloatProgressModel",
          "model_module_version": "1.5.0",
          "state": {
            "_dom_classes": [],
            "_model_module": "@jupyter-widgets/controls",
            "_model_module_version": "1.5.0",
            "_model_name": "FloatProgressModel",
            "_view_count": null,
            "_view_module": "@jupyter-widgets/controls",
            "_view_module_version": "1.5.0",
            "_view_name": "ProgressView",
            "bar_style": "success",
            "description": "",
            "description_tooltip": null,
            "layout": "IPY_MODEL_66d955298fbd4fc29fd9d5eab732e560",
            "max": 15797079,
            "min": 0,
            "orientation": "horizontal",
            "style": "IPY_MODEL_4ddf6df528a34bd1bafecb419963b148",
            "value": 15797079
          }
        },
        "19b6a4736dfd4fccaa40dcd7f8e7e758": {
          "model_module": "@jupyter-widgets/controls",
          "model_name": "HTMLModel",
          "model_module_version": "1.5.0",
          "state": {
            "_dom_classes": [],
            "_model_module": "@jupyter-widgets/controls",
            "_model_module_version": "1.5.0",
            "_model_name": "HTMLModel",
            "_view_count": null,
            "_view_module": "@jupyter-widgets/controls",
            "_view_module_version": "1.5.0",
            "_view_name": "HTMLView",
            "description": "",
            "description_tooltip": null,
            "layout": "IPY_MODEL_3af0eb4631654c38aa47ddfe37efb119",
            "placeholder": "​",
            "style": "IPY_MODEL_91873bf29c3c49958ba4fb05328c5d59",
            "value": " 15.8M/15.8M [00:00&lt;00:00, 28.7MB/s]"
          }
        },
        "1e9beb6335b6492c9ab703c75790d37f": {
          "model_module": "@jupyter-widgets/base",
          "model_name": "LayoutModel",
          "model_module_version": "1.2.0",
          "state": {
            "_model_module": "@jupyter-widgets/base",
            "_model_module_version": "1.2.0",
            "_model_name": "LayoutModel",
            "_view_count": null,
            "_view_module": "@jupyter-widgets/base",
            "_view_module_version": "1.2.0",
            "_view_name": "LayoutView",
            "align_content": null,
            "align_items": null,
            "align_self": null,
            "border": null,
            "bottom": null,
            "display": null,
            "flex": null,
            "flex_flow": null,
            "grid_area": null,
            "grid_auto_columns": null,
            "grid_auto_flow": null,
            "grid_auto_rows": null,
            "grid_column": null,
            "grid_gap": null,
            "grid_row": null,
            "grid_template_areas": null,
            "grid_template_columns": null,
            "grid_template_rows": null,
            "height": null,
            "justify_content": null,
            "justify_items": null,
            "left": null,
            "margin": null,
            "max_height": null,
            "max_width": null,
            "min_height": null,
            "min_width": null,
            "object_fit": null,
            "object_position": null,
            "order": null,
            "overflow": null,
            "overflow_x": null,
            "overflow_y": null,
            "padding": null,
            "right": null,
            "top": null,
            "visibility": null,
            "width": null
          }
        },
        "8ac7fe46a64d42ffa73bfb0d26ce1fab": {
          "model_module": "@jupyter-widgets/base",
          "model_name": "LayoutModel",
          "model_module_version": "1.2.0",
          "state": {
            "_model_module": "@jupyter-widgets/base",
            "_model_module_version": "1.2.0",
            "_model_name": "LayoutModel",
            "_view_count": null,
            "_view_module": "@jupyter-widgets/base",
            "_view_module_version": "1.2.0",
            "_view_name": "LayoutView",
            "align_content": null,
            "align_items": null,
            "align_self": null,
            "border": null,
            "bottom": null,
            "display": null,
            "flex": null,
            "flex_flow": null,
            "grid_area": null,
            "grid_auto_columns": null,
            "grid_auto_flow": null,
            "grid_auto_rows": null,
            "grid_column": null,
            "grid_gap": null,
            "grid_row": null,
            "grid_template_areas": null,
            "grid_template_columns": null,
            "grid_template_rows": null,
            "height": null,
            "justify_content": null,
            "justify_items": null,
            "left": null,
            "margin": null,
            "max_height": null,
            "max_width": null,
            "min_height": null,
            "min_width": null,
            "object_fit": null,
            "object_position": null,
            "order": null,
            "overflow": null,
            "overflow_x": null,
            "overflow_y": null,
            "padding": null,
            "right": null,
            "top": null,
            "visibility": null,
            "width": null
          }
        },
        "74ab51342f414708b18cad6c864ddf6e": {
          "model_module": "@jupyter-widgets/controls",
          "model_name": "DescriptionStyleModel",
          "model_module_version": "1.5.0",
          "state": {
            "_model_module": "@jupyter-widgets/controls",
            "_model_module_version": "1.5.0",
            "_model_name": "DescriptionStyleModel",
            "_view_count": null,
            "_view_module": "@jupyter-widgets/base",
            "_view_module_version": "1.2.0",
            "_view_name": "StyleView",
            "description_width": ""
          }
        },
        "66d955298fbd4fc29fd9d5eab732e560": {
          "model_module": "@jupyter-widgets/base",
          "model_name": "LayoutModel",
          "model_module_version": "1.2.0",
          "state": {
            "_model_module": "@jupyter-widgets/base",
            "_model_module_version": "1.2.0",
            "_model_name": "LayoutModel",
            "_view_count": null,
            "_view_module": "@jupyter-widgets/base",
            "_view_module_version": "1.2.0",
            "_view_name": "LayoutView",
            "align_content": null,
            "align_items": null,
            "align_self": null,
            "border": null,
            "bottom": null,
            "display": null,
            "flex": null,
            "flex_flow": null,
            "grid_area": null,
            "grid_auto_columns": null,
            "grid_auto_flow": null,
            "grid_auto_rows": null,
            "grid_column": null,
            "grid_gap": null,
            "grid_row": null,
            "grid_template_areas": null,
            "grid_template_columns": null,
            "grid_template_rows": null,
            "height": null,
            "justify_content": null,
            "justify_items": null,
            "left": null,
            "margin": null,
            "max_height": null,
            "max_width": null,
            "min_height": null,
            "min_width": null,
            "object_fit": null,
            "object_position": null,
            "order": null,
            "overflow": null,
            "overflow_x": null,
            "overflow_y": null,
            "padding": null,
            "right": null,
            "top": null,
            "visibility": null,
            "width": null
          }
        },
        "4ddf6df528a34bd1bafecb419963b148": {
          "model_module": "@jupyter-widgets/controls",
          "model_name": "ProgressStyleModel",
          "model_module_version": "1.5.0",
          "state": {
            "_model_module": "@jupyter-widgets/controls",
            "_model_module_version": "1.5.0",
            "_model_name": "ProgressStyleModel",
            "_view_count": null,
            "_view_module": "@jupyter-widgets/base",
            "_view_module_version": "1.2.0",
            "_view_name": "StyleView",
            "bar_color": null,
            "description_width": ""
          }
        },
        "3af0eb4631654c38aa47ddfe37efb119": {
          "model_module": "@jupyter-widgets/base",
          "model_name": "LayoutModel",
          "model_module_version": "1.2.0",
          "state": {
            "_model_module": "@jupyter-widgets/base",
            "_model_module_version": "1.2.0",
            "_model_name": "LayoutModel",
            "_view_count": null,
            "_view_module": "@jupyter-widgets/base",
            "_view_module_version": "1.2.0",
            "_view_name": "LayoutView",
            "align_content": null,
            "align_items": null,
            "align_self": null,
            "border": null,
            "bottom": null,
            "display": null,
            "flex": null,
            "flex_flow": null,
            "grid_area": null,
            "grid_auto_columns": null,
            "grid_auto_flow": null,
            "grid_auto_rows": null,
            "grid_column": null,
            "grid_gap": null,
            "grid_row": null,
            "grid_template_areas": null,
            "grid_template_columns": null,
            "grid_template_rows": null,
            "height": null,
            "justify_content": null,
            "justify_items": null,
            "left": null,
            "margin": null,
            "max_height": null,
            "max_width": null,
            "min_height": null,
            "min_width": null,
            "object_fit": null,
            "object_position": null,
            "order": null,
            "overflow": null,
            "overflow_x": null,
            "overflow_y": null,
            "padding": null,
            "right": null,
            "top": null,
            "visibility": null,
            "width": null
          }
        },
        "91873bf29c3c49958ba4fb05328c5d59": {
          "model_module": "@jupyter-widgets/controls",
          "model_name": "DescriptionStyleModel",
          "model_module_version": "1.5.0",
          "state": {
            "_model_module": "@jupyter-widgets/controls",
            "_model_module_version": "1.5.0",
            "_model_name": "DescriptionStyleModel",
            "_view_count": null,
            "_view_module": "@jupyter-widgets/base",
            "_view_module_version": "1.2.0",
            "_view_name": "StyleView",
            "description_width": ""
          }
        },
        "ce50813de969484eb037eddcf9018fd8": {
          "model_module": "@jupyter-widgets/controls",
          "model_name": "HBoxModel",
          "model_module_version": "1.5.0",
          "state": {
            "_dom_classes": [],
            "_model_module": "@jupyter-widgets/controls",
            "_model_module_version": "1.5.0",
            "_model_name": "HBoxModel",
            "_view_count": null,
            "_view_module": "@jupyter-widgets/controls",
            "_view_module_version": "1.5.0",
            "_view_name": "HBoxView",
            "box_style": "",
            "children": [
              "IPY_MODEL_16e8e4dffece4feb9dbd7fe18ecb1a62",
              "IPY_MODEL_cb5a5bc38e8a4f2b9f9c7f2667e21928",
              "IPY_MODEL_96d3d342e3804ce18cc4526dda878150"
            ],
            "layout": "IPY_MODEL_ca5943f11b1b4213840b02148dfcae47"
          }
        },
        "16e8e4dffece4feb9dbd7fe18ecb1a62": {
          "model_module": "@jupyter-widgets/controls",
          "model_name": "HTMLModel",
          "model_module_version": "1.5.0",
          "state": {
            "_dom_classes": [],
            "_model_module": "@jupyter-widgets/controls",
            "_model_module_version": "1.5.0",
            "_model_name": "HTMLModel",
            "_view_count": null,
            "_view_module": "@jupyter-widgets/controls",
            "_view_module_version": "1.5.0",
            "_view_name": "HTMLView",
            "description": "",
            "description_tooltip": null,
            "layout": "IPY_MODEL_19500219e8914d778ef765962467225c",
            "placeholder": "​",
            "style": "IPY_MODEL_ca384c4f2f7d40a9b6d378a8c8516d2f",
            "value": "Downloading data: 100%"
          }
        },
        "cb5a5bc38e8a4f2b9f9c7f2667e21928": {
          "model_module": "@jupyter-widgets/controls",
          "model_name": "FloatProgressModel",
          "model_module_version": "1.5.0",
          "state": {
            "_dom_classes": [],
            "_model_module": "@jupyter-widgets/controls",
            "_model_module_version": "1.5.0",
            "_model_name": "FloatProgressModel",
            "_view_count": null,
            "_view_module": "@jupyter-widgets/controls",
            "_view_module_version": "1.5.0",
            "_view_name": "ProgressView",
            "bar_style": "success",
            "description": "",
            "description_tooltip": null,
            "layout": "IPY_MODEL_999ccb323bce4486bb556894c3a368b4",
            "max": 6121191,
            "min": 0,
            "orientation": "horizontal",
            "style": "IPY_MODEL_55f23bb6701b4bc29ec6d77258262f86",
            "value": 6121191
          }
        },
        "96d3d342e3804ce18cc4526dda878150": {
          "model_module": "@jupyter-widgets/controls",
          "model_name": "HTMLModel",
          "model_module_version": "1.5.0",
          "state": {
            "_dom_classes": [],
            "_model_module": "@jupyter-widgets/controls",
            "_model_module_version": "1.5.0",
            "_model_name": "HTMLModel",
            "_view_count": null,
            "_view_module": "@jupyter-widgets/controls",
            "_view_module_version": "1.5.0",
            "_view_name": "HTMLView",
            "description": "",
            "description_tooltip": null,
            "layout": "IPY_MODEL_0043d75833b148fe86b79a94990fc722",
            "placeholder": "​",
            "style": "IPY_MODEL_6f2bcc8b8e8c43e3a06d427a5b2d4961",
            "value": " 6.12M/6.12M [00:00&lt;00:00, 24.8MB/s]"
          }
        },
        "ca5943f11b1b4213840b02148dfcae47": {
          "model_module": "@jupyter-widgets/base",
          "model_name": "LayoutModel",
          "model_module_version": "1.2.0",
          "state": {
            "_model_module": "@jupyter-widgets/base",
            "_model_module_version": "1.2.0",
            "_model_name": "LayoutModel",
            "_view_count": null,
            "_view_module": "@jupyter-widgets/base",
            "_view_module_version": "1.2.0",
            "_view_name": "LayoutView",
            "align_content": null,
            "align_items": null,
            "align_self": null,
            "border": null,
            "bottom": null,
            "display": null,
            "flex": null,
            "flex_flow": null,
            "grid_area": null,
            "grid_auto_columns": null,
            "grid_auto_flow": null,
            "grid_auto_rows": null,
            "grid_column": null,
            "grid_gap": null,
            "grid_row": null,
            "grid_template_areas": null,
            "grid_template_columns": null,
            "grid_template_rows": null,
            "height": null,
            "justify_content": null,
            "justify_items": null,
            "left": null,
            "margin": null,
            "max_height": null,
            "max_width": null,
            "min_height": null,
            "min_width": null,
            "object_fit": null,
            "object_position": null,
            "order": null,
            "overflow": null,
            "overflow_x": null,
            "overflow_y": null,
            "padding": null,
            "right": null,
            "top": null,
            "visibility": null,
            "width": null
          }
        },
        "19500219e8914d778ef765962467225c": {
          "model_module": "@jupyter-widgets/base",
          "model_name": "LayoutModel",
          "model_module_version": "1.2.0",
          "state": {
            "_model_module": "@jupyter-widgets/base",
            "_model_module_version": "1.2.0",
            "_model_name": "LayoutModel",
            "_view_count": null,
            "_view_module": "@jupyter-widgets/base",
            "_view_module_version": "1.2.0",
            "_view_name": "LayoutView",
            "align_content": null,
            "align_items": null,
            "align_self": null,
            "border": null,
            "bottom": null,
            "display": null,
            "flex": null,
            "flex_flow": null,
            "grid_area": null,
            "grid_auto_columns": null,
            "grid_auto_flow": null,
            "grid_auto_rows": null,
            "grid_column": null,
            "grid_gap": null,
            "grid_row": null,
            "grid_template_areas": null,
            "grid_template_columns": null,
            "grid_template_rows": null,
            "height": null,
            "justify_content": null,
            "justify_items": null,
            "left": null,
            "margin": null,
            "max_height": null,
            "max_width": null,
            "min_height": null,
            "min_width": null,
            "object_fit": null,
            "object_position": null,
            "order": null,
            "overflow": null,
            "overflow_x": null,
            "overflow_y": null,
            "padding": null,
            "right": null,
            "top": null,
            "visibility": null,
            "width": null
          }
        },
        "ca384c4f2f7d40a9b6d378a8c8516d2f": {
          "model_module": "@jupyter-widgets/controls",
          "model_name": "DescriptionStyleModel",
          "model_module_version": "1.5.0",
          "state": {
            "_model_module": "@jupyter-widgets/controls",
            "_model_module_version": "1.5.0",
            "_model_name": "DescriptionStyleModel",
            "_view_count": null,
            "_view_module": "@jupyter-widgets/base",
            "_view_module_version": "1.2.0",
            "_view_name": "StyleView",
            "description_width": ""
          }
        },
        "999ccb323bce4486bb556894c3a368b4": {
          "model_module": "@jupyter-widgets/base",
          "model_name": "LayoutModel",
          "model_module_version": "1.2.0",
          "state": {
            "_model_module": "@jupyter-widgets/base",
            "_model_module_version": "1.2.0",
            "_model_name": "LayoutModel",
            "_view_count": null,
            "_view_module": "@jupyter-widgets/base",
            "_view_module_version": "1.2.0",
            "_view_name": "LayoutView",
            "align_content": null,
            "align_items": null,
            "align_self": null,
            "border": null,
            "bottom": null,
            "display": null,
            "flex": null,
            "flex_flow": null,
            "grid_area": null,
            "grid_auto_columns": null,
            "grid_auto_flow": null,
            "grid_auto_rows": null,
            "grid_column": null,
            "grid_gap": null,
            "grid_row": null,
            "grid_template_areas": null,
            "grid_template_columns": null,
            "grid_template_rows": null,
            "height": null,
            "justify_content": null,
            "justify_items": null,
            "left": null,
            "margin": null,
            "max_height": null,
            "max_width": null,
            "min_height": null,
            "min_width": null,
            "object_fit": null,
            "object_position": null,
            "order": null,
            "overflow": null,
            "overflow_x": null,
            "overflow_y": null,
            "padding": null,
            "right": null,
            "top": null,
            "visibility": null,
            "width": null
          }
        },
        "55f23bb6701b4bc29ec6d77258262f86": {
          "model_module": "@jupyter-widgets/controls",
          "model_name": "ProgressStyleModel",
          "model_module_version": "1.5.0",
          "state": {
            "_model_module": "@jupyter-widgets/controls",
            "_model_module_version": "1.5.0",
            "_model_name": "ProgressStyleModel",
            "_view_count": null,
            "_view_module": "@jupyter-widgets/base",
            "_view_module_version": "1.2.0",
            "_view_name": "StyleView",
            "bar_color": null,
            "description_width": ""
          }
        },
        "0043d75833b148fe86b79a94990fc722": {
          "model_module": "@jupyter-widgets/base",
          "model_name": "LayoutModel",
          "model_module_version": "1.2.0",
          "state": {
            "_model_module": "@jupyter-widgets/base",
            "_model_module_version": "1.2.0",
            "_model_name": "LayoutModel",
            "_view_count": null,
            "_view_module": "@jupyter-widgets/base",
            "_view_module_version": "1.2.0",
            "_view_name": "LayoutView",
            "align_content": null,
            "align_items": null,
            "align_self": null,
            "border": null,
            "bottom": null,
            "display": null,
            "flex": null,
            "flex_flow": null,
            "grid_area": null,
            "grid_auto_columns": null,
            "grid_auto_flow": null,
            "grid_auto_rows": null,
            "grid_column": null,
            "grid_gap": null,
            "grid_row": null,
            "grid_template_areas": null,
            "grid_template_columns": null,
            "grid_template_rows": null,
            "height": null,
            "justify_content": null,
            "justify_items": null,
            "left": null,
            "margin": null,
            "max_height": null,
            "max_width": null,
            "min_height": null,
            "min_width": null,
            "object_fit": null,
            "object_position": null,
            "order": null,
            "overflow": null,
            "overflow_x": null,
            "overflow_y": null,
            "padding": null,
            "right": null,
            "top": null,
            "visibility": null,
            "width": null
          }
        },
        "6f2bcc8b8e8c43e3a06d427a5b2d4961": {
          "model_module": "@jupyter-widgets/controls",
          "model_name": "DescriptionStyleModel",
          "model_module_version": "1.5.0",
          "state": {
            "_model_module": "@jupyter-widgets/controls",
            "_model_module_version": "1.5.0",
            "_model_name": "DescriptionStyleModel",
            "_view_count": null,
            "_view_module": "@jupyter-widgets/base",
            "_view_module_version": "1.2.0",
            "_view_name": "StyleView",
            "description_width": ""
          }
        },
        "409ddcd6c96f458a8724e056a1f0f733": {
          "model_module": "@jupyter-widgets/controls",
          "model_name": "HBoxModel",
          "model_module_version": "1.5.0",
          "state": {
            "_dom_classes": [],
            "_model_module": "@jupyter-widgets/controls",
            "_model_module_version": "1.5.0",
            "_model_name": "HBoxModel",
            "_view_count": null,
            "_view_module": "@jupyter-widgets/controls",
            "_view_module_version": "1.5.0",
            "_view_name": "HBoxView",
            "box_style": "",
            "children": [
              "IPY_MODEL_80449e710c1f4885b0cd567268f6a1dc",
              "IPY_MODEL_1f50abcca97f49e89167424a3beb622d",
              "IPY_MODEL_cab464ee3f8740b99143ae5cfa9ee962"
            ],
            "layout": "IPY_MODEL_2e9ba9f0ef484c09a33bfa2853e4a5e8"
          }
        },
        "80449e710c1f4885b0cd567268f6a1dc": {
          "model_module": "@jupyter-widgets/controls",
          "model_name": "HTMLModel",
          "model_module_version": "1.5.0",
          "state": {
            "_dom_classes": [],
            "_model_module": "@jupyter-widgets/controls",
            "_model_module_version": "1.5.0",
            "_model_name": "HTMLModel",
            "_view_count": null,
            "_view_module": "@jupyter-widgets/controls",
            "_view_module_version": "1.5.0",
            "_view_name": "HTMLView",
            "description": "",
            "description_tooltip": null,
            "layout": "IPY_MODEL_e768e75a256a4896bc8104c1c4f417f7",
            "placeholder": "​",
            "style": "IPY_MODEL_afbdaa34d2da4c549b59847f53735141",
            "value": "Generating train split: 100%"
          }
        },
        "1f50abcca97f49e89167424a3beb622d": {
          "model_module": "@jupyter-widgets/controls",
          "model_name": "FloatProgressModel",
          "model_module_version": "1.5.0",
          "state": {
            "_dom_classes": [],
            "_model_module": "@jupyter-widgets/controls",
            "_model_module_version": "1.5.0",
            "_model_name": "FloatProgressModel",
            "_view_count": null,
            "_view_module": "@jupyter-widgets/controls",
            "_view_module_version": "1.5.0",
            "_view_name": "ProgressView",
            "bar_style": "success",
            "description": "",
            "description_tooltip": null,
            "layout": "IPY_MODEL_185cbc1435ca40b4b401c20a1530c4ec",
            "max": 18949,
            "min": 0,
            "orientation": "horizontal",
            "style": "IPY_MODEL_e7a6f63fbbd64a7ba2c8ceced94c73f4",
            "value": 18949
          }
        },
        "cab464ee3f8740b99143ae5cfa9ee962": {
          "model_module": "@jupyter-widgets/controls",
          "model_name": "HTMLModel",
          "model_module_version": "1.5.0",
          "state": {
            "_dom_classes": [],
            "_model_module": "@jupyter-widgets/controls",
            "_model_module_version": "1.5.0",
            "_model_name": "HTMLModel",
            "_view_count": null,
            "_view_module": "@jupyter-widgets/controls",
            "_view_module_version": "1.5.0",
            "_view_name": "HTMLView",
            "description": "",
            "description_tooltip": null,
            "layout": "IPY_MODEL_550265da90dc401cbebe1c23da5b41bd",
            "placeholder": "​",
            "style": "IPY_MODEL_7411a172da71457d844f626df2c6cdeb",
            "value": " 18949/18949 [00:01&lt;00:00, 10905.03 examples/s]"
          }
        },
        "2e9ba9f0ef484c09a33bfa2853e4a5e8": {
          "model_module": "@jupyter-widgets/base",
          "model_name": "LayoutModel",
          "model_module_version": "1.2.0",
          "state": {
            "_model_module": "@jupyter-widgets/base",
            "_model_module_version": "1.2.0",
            "_model_name": "LayoutModel",
            "_view_count": null,
            "_view_module": "@jupyter-widgets/base",
            "_view_module_version": "1.2.0",
            "_view_name": "LayoutView",
            "align_content": null,
            "align_items": null,
            "align_self": null,
            "border": null,
            "bottom": null,
            "display": null,
            "flex": null,
            "flex_flow": null,
            "grid_area": null,
            "grid_auto_columns": null,
            "grid_auto_flow": null,
            "grid_auto_rows": null,
            "grid_column": null,
            "grid_gap": null,
            "grid_row": null,
            "grid_template_areas": null,
            "grid_template_columns": null,
            "grid_template_rows": null,
            "height": null,
            "justify_content": null,
            "justify_items": null,
            "left": null,
            "margin": null,
            "max_height": null,
            "max_width": null,
            "min_height": null,
            "min_width": null,
            "object_fit": null,
            "object_position": null,
            "order": null,
            "overflow": null,
            "overflow_x": null,
            "overflow_y": null,
            "padding": null,
            "right": null,
            "top": null,
            "visibility": null,
            "width": null
          }
        },
        "e768e75a256a4896bc8104c1c4f417f7": {
          "model_module": "@jupyter-widgets/base",
          "model_name": "LayoutModel",
          "model_module_version": "1.2.0",
          "state": {
            "_model_module": "@jupyter-widgets/base",
            "_model_module_version": "1.2.0",
            "_model_name": "LayoutModel",
            "_view_count": null,
            "_view_module": "@jupyter-widgets/base",
            "_view_module_version": "1.2.0",
            "_view_name": "LayoutView",
            "align_content": null,
            "align_items": null,
            "align_self": null,
            "border": null,
            "bottom": null,
            "display": null,
            "flex": null,
            "flex_flow": null,
            "grid_area": null,
            "grid_auto_columns": null,
            "grid_auto_flow": null,
            "grid_auto_rows": null,
            "grid_column": null,
            "grid_gap": null,
            "grid_row": null,
            "grid_template_areas": null,
            "grid_template_columns": null,
            "grid_template_rows": null,
            "height": null,
            "justify_content": null,
            "justify_items": null,
            "left": null,
            "margin": null,
            "max_height": null,
            "max_width": null,
            "min_height": null,
            "min_width": null,
            "object_fit": null,
            "object_position": null,
            "order": null,
            "overflow": null,
            "overflow_x": null,
            "overflow_y": null,
            "padding": null,
            "right": null,
            "top": null,
            "visibility": null,
            "width": null
          }
        },
        "afbdaa34d2da4c549b59847f53735141": {
          "model_module": "@jupyter-widgets/controls",
          "model_name": "DescriptionStyleModel",
          "model_module_version": "1.5.0",
          "state": {
            "_model_module": "@jupyter-widgets/controls",
            "_model_module_version": "1.5.0",
            "_model_name": "DescriptionStyleModel",
            "_view_count": null,
            "_view_module": "@jupyter-widgets/base",
            "_view_module_version": "1.2.0",
            "_view_name": "StyleView",
            "description_width": ""
          }
        },
        "185cbc1435ca40b4b401c20a1530c4ec": {
          "model_module": "@jupyter-widgets/base",
          "model_name": "LayoutModel",
          "model_module_version": "1.2.0",
          "state": {
            "_model_module": "@jupyter-widgets/base",
            "_model_module_version": "1.2.0",
            "_model_name": "LayoutModel",
            "_view_count": null,
            "_view_module": "@jupyter-widgets/base",
            "_view_module_version": "1.2.0",
            "_view_name": "LayoutView",
            "align_content": null,
            "align_items": null,
            "align_self": null,
            "border": null,
            "bottom": null,
            "display": null,
            "flex": null,
            "flex_flow": null,
            "grid_area": null,
            "grid_auto_columns": null,
            "grid_auto_flow": null,
            "grid_auto_rows": null,
            "grid_column": null,
            "grid_gap": null,
            "grid_row": null,
            "grid_template_areas": null,
            "grid_template_columns": null,
            "grid_template_rows": null,
            "height": null,
            "justify_content": null,
            "justify_items": null,
            "left": null,
            "margin": null,
            "max_height": null,
            "max_width": null,
            "min_height": null,
            "min_width": null,
            "object_fit": null,
            "object_position": null,
            "order": null,
            "overflow": null,
            "overflow_x": null,
            "overflow_y": null,
            "padding": null,
            "right": null,
            "top": null,
            "visibility": null,
            "width": null
          }
        },
        "e7a6f63fbbd64a7ba2c8ceced94c73f4": {
          "model_module": "@jupyter-widgets/controls",
          "model_name": "ProgressStyleModel",
          "model_module_version": "1.5.0",
          "state": {
            "_model_module": "@jupyter-widgets/controls",
            "_model_module_version": "1.5.0",
            "_model_name": "ProgressStyleModel",
            "_view_count": null,
            "_view_module": "@jupyter-widgets/base",
            "_view_module_version": "1.2.0",
            "_view_name": "StyleView",
            "bar_color": null,
            "description_width": ""
          }
        },
        "550265da90dc401cbebe1c23da5b41bd": {
          "model_module": "@jupyter-widgets/base",
          "model_name": "LayoutModel",
          "model_module_version": "1.2.0",
          "state": {
            "_model_module": "@jupyter-widgets/base",
            "_model_module_version": "1.2.0",
            "_model_name": "LayoutModel",
            "_view_count": null,
            "_view_module": "@jupyter-widgets/base",
            "_view_module_version": "1.2.0",
            "_view_name": "LayoutView",
            "align_content": null,
            "align_items": null,
            "align_self": null,
            "border": null,
            "bottom": null,
            "display": null,
            "flex": null,
            "flex_flow": null,
            "grid_area": null,
            "grid_auto_columns": null,
            "grid_auto_flow": null,
            "grid_auto_rows": null,
            "grid_column": null,
            "grid_gap": null,
            "grid_row": null,
            "grid_template_areas": null,
            "grid_template_columns": null,
            "grid_template_rows": null,
            "height": null,
            "justify_content": null,
            "justify_items": null,
            "left": null,
            "margin": null,
            "max_height": null,
            "max_width": null,
            "min_height": null,
            "min_width": null,
            "object_fit": null,
            "object_position": null,
            "order": null,
            "overflow": null,
            "overflow_x": null,
            "overflow_y": null,
            "padding": null,
            "right": null,
            "top": null,
            "visibility": null,
            "width": null
          }
        },
        "7411a172da71457d844f626df2c6cdeb": {
          "model_module": "@jupyter-widgets/controls",
          "model_name": "DescriptionStyleModel",
          "model_module_version": "1.5.0",
          "state": {
            "_model_module": "@jupyter-widgets/controls",
            "_model_module_version": "1.5.0",
            "_model_name": "DescriptionStyleModel",
            "_view_count": null,
            "_view_module": "@jupyter-widgets/base",
            "_view_module_version": "1.2.0",
            "_view_name": "StyleView",
            "description_width": ""
          }
        },
        "f37bc586f015415bb61aef9796c8dcad": {
          "model_module": "@jupyter-widgets/controls",
          "model_name": "HBoxModel",
          "model_module_version": "1.5.0",
          "state": {
            "_dom_classes": [],
            "_model_module": "@jupyter-widgets/controls",
            "_model_module_version": "1.5.0",
            "_model_name": "HBoxModel",
            "_view_count": null,
            "_view_module": "@jupyter-widgets/controls",
            "_view_module_version": "1.5.0",
            "_view_name": "HBoxView",
            "box_style": "",
            "children": [
              "IPY_MODEL_25dc1a765e21447a9621d1c98e1096b4",
              "IPY_MODEL_641647a24bcb4215bcbcdd1914f14875",
              "IPY_MODEL_bdc74af789e640098e94807c539b1f95"
            ],
            "layout": "IPY_MODEL_b2b65fa4f1684dffaf82fc7189b40744"
          }
        },
        "25dc1a765e21447a9621d1c98e1096b4": {
          "model_module": "@jupyter-widgets/controls",
          "model_name": "HTMLModel",
          "model_module_version": "1.5.0",
          "state": {
            "_dom_classes": [],
            "_model_module": "@jupyter-widgets/controls",
            "_model_module_version": "1.5.0",
            "_model_name": "HTMLModel",
            "_view_count": null,
            "_view_module": "@jupyter-widgets/controls",
            "_view_module_version": "1.5.0",
            "_view_name": "HTMLView",
            "description": "",
            "description_tooltip": null,
            "layout": "IPY_MODEL_a862b0c8f6774d45bf81ea9eb25ef483",
            "placeholder": "​",
            "style": "IPY_MODEL_0f3b8feece6c4d0a981b52ec111f07ad",
            "value": "Generating test split: 100%"
          }
        },
        "641647a24bcb4215bcbcdd1914f14875": {
          "model_module": "@jupyter-widgets/controls",
          "model_name": "FloatProgressModel",
          "model_module_version": "1.5.0",
          "state": {
            "_dom_classes": [],
            "_model_module": "@jupyter-widgets/controls",
            "_model_module_version": "1.5.0",
            "_model_name": "FloatProgressModel",
            "_view_count": null,
            "_view_module": "@jupyter-widgets/controls",
            "_view_module_version": "1.5.0",
            "_view_name": "ProgressView",
            "bar_style": "success",
            "description": "",
            "description_tooltip": null,
            "layout": "IPY_MODEL_a838e111e59a4bfca1576a29d2d74efe",
            "max": 3269,
            "min": 0,
            "orientation": "horizontal",
            "style": "IPY_MODEL_c1100024560d48c895833e7922e9f01f",
            "value": 3269
          }
        },
        "bdc74af789e640098e94807c539b1f95": {
          "model_module": "@jupyter-widgets/controls",
          "model_name": "HTMLModel",
          "model_module_version": "1.5.0",
          "state": {
            "_dom_classes": [],
            "_model_module": "@jupyter-widgets/controls",
            "_model_module_version": "1.5.0",
            "_model_name": "HTMLModel",
            "_view_count": null,
            "_view_module": "@jupyter-widgets/controls",
            "_view_module_version": "1.5.0",
            "_view_name": "HTMLView",
            "description": "",
            "description_tooltip": null,
            "layout": "IPY_MODEL_154b4eff33c443c78b4a843a28a0a5f8",
            "placeholder": "​",
            "style": "IPY_MODEL_c8998bbd2a0d4ff0869e87e90a58e400",
            "value": " 3269/3269 [00:00&lt;00:00, 7283.40 examples/s]"
          }
        },
        "b2b65fa4f1684dffaf82fc7189b40744": {
          "model_module": "@jupyter-widgets/base",
          "model_name": "LayoutModel",
          "model_module_version": "1.2.0",
          "state": {
            "_model_module": "@jupyter-widgets/base",
            "_model_module_version": "1.2.0",
            "_model_name": "LayoutModel",
            "_view_count": null,
            "_view_module": "@jupyter-widgets/base",
            "_view_module_version": "1.2.0",
            "_view_name": "LayoutView",
            "align_content": null,
            "align_items": null,
            "align_self": null,
            "border": null,
            "bottom": null,
            "display": null,
            "flex": null,
            "flex_flow": null,
            "grid_area": null,
            "grid_auto_columns": null,
            "grid_auto_flow": null,
            "grid_auto_rows": null,
            "grid_column": null,
            "grid_gap": null,
            "grid_row": null,
            "grid_template_areas": null,
            "grid_template_columns": null,
            "grid_template_rows": null,
            "height": null,
            "justify_content": null,
            "justify_items": null,
            "left": null,
            "margin": null,
            "max_height": null,
            "max_width": null,
            "min_height": null,
            "min_width": null,
            "object_fit": null,
            "object_position": null,
            "order": null,
            "overflow": null,
            "overflow_x": null,
            "overflow_y": null,
            "padding": null,
            "right": null,
            "top": null,
            "visibility": null,
            "width": null
          }
        },
        "a862b0c8f6774d45bf81ea9eb25ef483": {
          "model_module": "@jupyter-widgets/base",
          "model_name": "LayoutModel",
          "model_module_version": "1.2.0",
          "state": {
            "_model_module": "@jupyter-widgets/base",
            "_model_module_version": "1.2.0",
            "_model_name": "LayoutModel",
            "_view_count": null,
            "_view_module": "@jupyter-widgets/base",
            "_view_module_version": "1.2.0",
            "_view_name": "LayoutView",
            "align_content": null,
            "align_items": null,
            "align_self": null,
            "border": null,
            "bottom": null,
            "display": null,
            "flex": null,
            "flex_flow": null,
            "grid_area": null,
            "grid_auto_columns": null,
            "grid_auto_flow": null,
            "grid_auto_rows": null,
            "grid_column": null,
            "grid_gap": null,
            "grid_row": null,
            "grid_template_areas": null,
            "grid_template_columns": null,
            "grid_template_rows": null,
            "height": null,
            "justify_content": null,
            "justify_items": null,
            "left": null,
            "margin": null,
            "max_height": null,
            "max_width": null,
            "min_height": null,
            "min_width": null,
            "object_fit": null,
            "object_position": null,
            "order": null,
            "overflow": null,
            "overflow_x": null,
            "overflow_y": null,
            "padding": null,
            "right": null,
            "top": null,
            "visibility": null,
            "width": null
          }
        },
        "0f3b8feece6c4d0a981b52ec111f07ad": {
          "model_module": "@jupyter-widgets/controls",
          "model_name": "DescriptionStyleModel",
          "model_module_version": "1.5.0",
          "state": {
            "_model_module": "@jupyter-widgets/controls",
            "_model_module_version": "1.5.0",
            "_model_name": "DescriptionStyleModel",
            "_view_count": null,
            "_view_module": "@jupyter-widgets/base",
            "_view_module_version": "1.2.0",
            "_view_name": "StyleView",
            "description_width": ""
          }
        },
        "a838e111e59a4bfca1576a29d2d74efe": {
          "model_module": "@jupyter-widgets/base",
          "model_name": "LayoutModel",
          "model_module_version": "1.2.0",
          "state": {
            "_model_module": "@jupyter-widgets/base",
            "_model_module_version": "1.2.0",
            "_model_name": "LayoutModel",
            "_view_count": null,
            "_view_module": "@jupyter-widgets/base",
            "_view_module_version": "1.2.0",
            "_view_name": "LayoutView",
            "align_content": null,
            "align_items": null,
            "align_self": null,
            "border": null,
            "bottom": null,
            "display": null,
            "flex": null,
            "flex_flow": null,
            "grid_area": null,
            "grid_auto_columns": null,
            "grid_auto_flow": null,
            "grid_auto_rows": null,
            "grid_column": null,
            "grid_gap": null,
            "grid_row": null,
            "grid_template_areas": null,
            "grid_template_columns": null,
            "grid_template_rows": null,
            "height": null,
            "justify_content": null,
            "justify_items": null,
            "left": null,
            "margin": null,
            "max_height": null,
            "max_width": null,
            "min_height": null,
            "min_width": null,
            "object_fit": null,
            "object_position": null,
            "order": null,
            "overflow": null,
            "overflow_x": null,
            "overflow_y": null,
            "padding": null,
            "right": null,
            "top": null,
            "visibility": null,
            "width": null
          }
        },
        "c1100024560d48c895833e7922e9f01f": {
          "model_module": "@jupyter-widgets/controls",
          "model_name": "ProgressStyleModel",
          "model_module_version": "1.5.0",
          "state": {
            "_model_module": "@jupyter-widgets/controls",
            "_model_module_version": "1.5.0",
            "_model_name": "ProgressStyleModel",
            "_view_count": null,
            "_view_module": "@jupyter-widgets/base",
            "_view_module_version": "1.2.0",
            "_view_name": "StyleView",
            "bar_color": null,
            "description_width": ""
          }
        },
        "154b4eff33c443c78b4a843a28a0a5f8": {
          "model_module": "@jupyter-widgets/base",
          "model_name": "LayoutModel",
          "model_module_version": "1.2.0",
          "state": {
            "_model_module": "@jupyter-widgets/base",
            "_model_module_version": "1.2.0",
            "_model_name": "LayoutModel",
            "_view_count": null,
            "_view_module": "@jupyter-widgets/base",
            "_view_module_version": "1.2.0",
            "_view_name": "LayoutView",
            "align_content": null,
            "align_items": null,
            "align_self": null,
            "border": null,
            "bottom": null,
            "display": null,
            "flex": null,
            "flex_flow": null,
            "grid_area": null,
            "grid_auto_columns": null,
            "grid_auto_flow": null,
            "grid_auto_rows": null,
            "grid_column": null,
            "grid_gap": null,
            "grid_row": null,
            "grid_template_areas": null,
            "grid_template_columns": null,
            "grid_template_rows": null,
            "height": null,
            "justify_content": null,
            "justify_items": null,
            "left": null,
            "margin": null,
            "max_height": null,
            "max_width": null,
            "min_height": null,
            "min_width": null,
            "object_fit": null,
            "object_position": null,
            "order": null,
            "overflow": null,
            "overflow_x": null,
            "overflow_y": null,
            "padding": null,
            "right": null,
            "top": null,
            "visibility": null,
            "width": null
          }
        },
        "c8998bbd2a0d4ff0869e87e90a58e400": {
          "model_module": "@jupyter-widgets/controls",
          "model_name": "DescriptionStyleModel",
          "model_module_version": "1.5.0",
          "state": {
            "_model_module": "@jupyter-widgets/controls",
            "_model_module_version": "1.5.0",
            "_model_name": "DescriptionStyleModel",
            "_view_count": null,
            "_view_module": "@jupyter-widgets/base",
            "_view_module_version": "1.2.0",
            "_view_name": "StyleView",
            "description_width": ""
          }
        },
        "db253732dbf041ad84cd99a600903171": {
          "model_module": "@jupyter-widgets/controls",
          "model_name": "HBoxModel",
          "model_module_version": "1.5.0",
          "state": {
            "_dom_classes": [],
            "_model_module": "@jupyter-widgets/controls",
            "_model_module_version": "1.5.0",
            "_model_name": "HBoxModel",
            "_view_count": null,
            "_view_module": "@jupyter-widgets/controls",
            "_view_module_version": "1.5.0",
            "_view_name": "HBoxView",
            "box_style": "",
            "children": [
              "IPY_MODEL_50079c589f3d4fe983e76d4f7a16bc41",
              "IPY_MODEL_c2a5b03468a64456886c5c270bb25008",
              "IPY_MODEL_66e16a82424f4887aec59bea6f7ffb09"
            ],
            "layout": "IPY_MODEL_5e53bb5045cd4c9381cd18291748e9d4"
          }
        },
        "50079c589f3d4fe983e76d4f7a16bc41": {
          "model_module": "@jupyter-widgets/controls",
          "model_name": "HTMLModel",
          "model_module_version": "1.5.0",
          "state": {
            "_dom_classes": [],
            "_model_module": "@jupyter-widgets/controls",
            "_model_module_version": "1.5.0",
            "_model_name": "HTMLModel",
            "_view_count": null,
            "_view_module": "@jupyter-widgets/controls",
            "_view_module_version": "1.5.0",
            "_view_name": "HTMLView",
            "description": "",
            "description_tooltip": null,
            "layout": "IPY_MODEL_f468c2ce2f5045b7bb4bbabf5b254f57",
            "placeholder": "​",
            "style": "IPY_MODEL_cd199d54d8e64d1b8b02f176d578491c",
            "value": "Generating ca_test split: 100%"
          }
        },
        "c2a5b03468a64456886c5c270bb25008": {
          "model_module": "@jupyter-widgets/controls",
          "model_name": "FloatProgressModel",
          "model_module_version": "1.5.0",
          "state": {
            "_dom_classes": [],
            "_model_module": "@jupyter-widgets/controls",
            "_model_module_version": "1.5.0",
            "_model_name": "FloatProgressModel",
            "_view_count": null,
            "_view_module": "@jupyter-widgets/controls",
            "_view_module_version": "1.5.0",
            "_view_name": "ProgressView",
            "bar_style": "success",
            "description": "",
            "description_tooltip": null,
            "layout": "IPY_MODEL_dd9a1c1ec3414732936555b3ab144c87",
            "max": 1237,
            "min": 0,
            "orientation": "horizontal",
            "style": "IPY_MODEL_bbdde12052c746d2b95ee6bc4766d3d4",
            "value": 1237
          }
        },
        "66e16a82424f4887aec59bea6f7ffb09": {
          "model_module": "@jupyter-widgets/controls",
          "model_name": "HTMLModel",
          "model_module_version": "1.5.0",
          "state": {
            "_dom_classes": [],
            "_model_module": "@jupyter-widgets/controls",
            "_model_module_version": "1.5.0",
            "_model_name": "HTMLModel",
            "_view_count": null,
            "_view_module": "@jupyter-widgets/controls",
            "_view_module_version": "1.5.0",
            "_view_name": "HTMLView",
            "description": "",
            "description_tooltip": null,
            "layout": "IPY_MODEL_b98a8fb37a904294bede2b7cdd10b6b3",
            "placeholder": "​",
            "style": "IPY_MODEL_7e1e368662f44779a83de875072fe5ec",
            "value": " 1237/1237 [00:00&lt;00:00, 8035.80 examples/s]"
          }
        },
        "5e53bb5045cd4c9381cd18291748e9d4": {
          "model_module": "@jupyter-widgets/base",
          "model_name": "LayoutModel",
          "model_module_version": "1.2.0",
          "state": {
            "_model_module": "@jupyter-widgets/base",
            "_model_module_version": "1.2.0",
            "_model_name": "LayoutModel",
            "_view_count": null,
            "_view_module": "@jupyter-widgets/base",
            "_view_module_version": "1.2.0",
            "_view_name": "LayoutView",
            "align_content": null,
            "align_items": null,
            "align_self": null,
            "border": null,
            "bottom": null,
            "display": null,
            "flex": null,
            "flex_flow": null,
            "grid_area": null,
            "grid_auto_columns": null,
            "grid_auto_flow": null,
            "grid_auto_rows": null,
            "grid_column": null,
            "grid_gap": null,
            "grid_row": null,
            "grid_template_areas": null,
            "grid_template_columns": null,
            "grid_template_rows": null,
            "height": null,
            "justify_content": null,
            "justify_items": null,
            "left": null,
            "margin": null,
            "max_height": null,
            "max_width": null,
            "min_height": null,
            "min_width": null,
            "object_fit": null,
            "object_position": null,
            "order": null,
            "overflow": null,
            "overflow_x": null,
            "overflow_y": null,
            "padding": null,
            "right": null,
            "top": null,
            "visibility": null,
            "width": null
          }
        },
        "f468c2ce2f5045b7bb4bbabf5b254f57": {
          "model_module": "@jupyter-widgets/base",
          "model_name": "LayoutModel",
          "model_module_version": "1.2.0",
          "state": {
            "_model_module": "@jupyter-widgets/base",
            "_model_module_version": "1.2.0",
            "_model_name": "LayoutModel",
            "_view_count": null,
            "_view_module": "@jupyter-widgets/base",
            "_view_module_version": "1.2.0",
            "_view_name": "LayoutView",
            "align_content": null,
            "align_items": null,
            "align_self": null,
            "border": null,
            "bottom": null,
            "display": null,
            "flex": null,
            "flex_flow": null,
            "grid_area": null,
            "grid_auto_columns": null,
            "grid_auto_flow": null,
            "grid_auto_rows": null,
            "grid_column": null,
            "grid_gap": null,
            "grid_row": null,
            "grid_template_areas": null,
            "grid_template_columns": null,
            "grid_template_rows": null,
            "height": null,
            "justify_content": null,
            "justify_items": null,
            "left": null,
            "margin": null,
            "max_height": null,
            "max_width": null,
            "min_height": null,
            "min_width": null,
            "object_fit": null,
            "object_position": null,
            "order": null,
            "overflow": null,
            "overflow_x": null,
            "overflow_y": null,
            "padding": null,
            "right": null,
            "top": null,
            "visibility": null,
            "width": null
          }
        },
        "cd199d54d8e64d1b8b02f176d578491c": {
          "model_module": "@jupyter-widgets/controls",
          "model_name": "DescriptionStyleModel",
          "model_module_version": "1.5.0",
          "state": {
            "_model_module": "@jupyter-widgets/controls",
            "_model_module_version": "1.5.0",
            "_model_name": "DescriptionStyleModel",
            "_view_count": null,
            "_view_module": "@jupyter-widgets/base",
            "_view_module_version": "1.2.0",
            "_view_name": "StyleView",
            "description_width": ""
          }
        },
        "dd9a1c1ec3414732936555b3ab144c87": {
          "model_module": "@jupyter-widgets/base",
          "model_name": "LayoutModel",
          "model_module_version": "1.2.0",
          "state": {
            "_model_module": "@jupyter-widgets/base",
            "_model_module_version": "1.2.0",
            "_model_name": "LayoutModel",
            "_view_count": null,
            "_view_module": "@jupyter-widgets/base",
            "_view_module_version": "1.2.0",
            "_view_name": "LayoutView",
            "align_content": null,
            "align_items": null,
            "align_self": null,
            "border": null,
            "bottom": null,
            "display": null,
            "flex": null,
            "flex_flow": null,
            "grid_area": null,
            "grid_auto_columns": null,
            "grid_auto_flow": null,
            "grid_auto_rows": null,
            "grid_column": null,
            "grid_gap": null,
            "grid_row": null,
            "grid_template_areas": null,
            "grid_template_columns": null,
            "grid_template_rows": null,
            "height": null,
            "justify_content": null,
            "justify_items": null,
            "left": null,
            "margin": null,
            "max_height": null,
            "max_width": null,
            "min_height": null,
            "min_width": null,
            "object_fit": null,
            "object_position": null,
            "order": null,
            "overflow": null,
            "overflow_x": null,
            "overflow_y": null,
            "padding": null,
            "right": null,
            "top": null,
            "visibility": null,
            "width": null
          }
        },
        "bbdde12052c746d2b95ee6bc4766d3d4": {
          "model_module": "@jupyter-widgets/controls",
          "model_name": "ProgressStyleModel",
          "model_module_version": "1.5.0",
          "state": {
            "_model_module": "@jupyter-widgets/controls",
            "_model_module_version": "1.5.0",
            "_model_name": "ProgressStyleModel",
            "_view_count": null,
            "_view_module": "@jupyter-widgets/base",
            "_view_module_version": "1.2.0",
            "_view_name": "StyleView",
            "bar_color": null,
            "description_width": ""
          }
        },
        "b98a8fb37a904294bede2b7cdd10b6b3": {
          "model_module": "@jupyter-widgets/base",
          "model_name": "LayoutModel",
          "model_module_version": "1.2.0",
          "state": {
            "_model_module": "@jupyter-widgets/base",
            "_model_module_version": "1.2.0",
            "_model_name": "LayoutModel",
            "_view_count": null,
            "_view_module": "@jupyter-widgets/base",
            "_view_module_version": "1.2.0",
            "_view_name": "LayoutView",
            "align_content": null,
            "align_items": null,
            "align_self": null,
            "border": null,
            "bottom": null,
            "display": null,
            "flex": null,
            "flex_flow": null,
            "grid_area": null,
            "grid_auto_columns": null,
            "grid_auto_flow": null,
            "grid_auto_rows": null,
            "grid_column": null,
            "grid_gap": null,
            "grid_row": null,
            "grid_template_areas": null,
            "grid_template_columns": null,
            "grid_template_rows": null,
            "height": null,
            "justify_content": null,
            "justify_items": null,
            "left": null,
            "margin": null,
            "max_height": null,
            "max_width": null,
            "min_height": null,
            "min_width": null,
            "object_fit": null,
            "object_position": null,
            "order": null,
            "overflow": null,
            "overflow_x": null,
            "overflow_y": null,
            "padding": null,
            "right": null,
            "top": null,
            "visibility": null,
            "width": null
          }
        },
        "7e1e368662f44779a83de875072fe5ec": {
          "model_module": "@jupyter-widgets/controls",
          "model_name": "DescriptionStyleModel",
          "model_module_version": "1.5.0",
          "state": {
            "_model_module": "@jupyter-widgets/controls",
            "_model_module_version": "1.5.0",
            "_model_name": "DescriptionStyleModel",
            "_view_count": null,
            "_view_module": "@jupyter-widgets/base",
            "_view_module_version": "1.2.0",
            "_view_name": "StyleView",
            "description_width": ""
          }
        },
        "c345e34909ff41cbbe4abcf5b56c6c6d": {
          "model_module": "@jupyter-widgets/controls",
          "model_name": "HBoxModel",
          "model_module_version": "1.5.0",
          "state": {
            "_dom_classes": [],
            "_model_module": "@jupyter-widgets/controls",
            "_model_module_version": "1.5.0",
            "_model_name": "HBoxModel",
            "_view_count": null,
            "_view_module": "@jupyter-widgets/controls",
            "_view_module_version": "1.5.0",
            "_view_name": "HBoxView",
            "box_style": "",
            "children": [
              "IPY_MODEL_0e11885a28d94e97956620bd06f1119d",
              "IPY_MODEL_29bd627faec741918759378ff6d709bc",
              "IPY_MODEL_cb8184c7d8e241cdabd307e6a2c41175"
            ],
            "layout": "IPY_MODEL_1be7c71b391a46c1b1f5121d003f5bc9"
          }
        },
        "0e11885a28d94e97956620bd06f1119d": {
          "model_module": "@jupyter-widgets/controls",
          "model_name": "HTMLModel",
          "model_module_version": "1.5.0",
          "state": {
            "_dom_classes": [],
            "_model_module": "@jupyter-widgets/controls",
            "_model_module_version": "1.5.0",
            "_model_name": "HTMLModel",
            "_view_count": null,
            "_view_module": "@jupyter-widgets/controls",
            "_view_module_version": "1.5.0",
            "_view_name": "HTMLView",
            "description": "",
            "description_tooltip": null,
            "layout": "IPY_MODEL_70e0c39be5524af5bccfe9eef46ff19d",
            "placeholder": "​",
            "style": "IPY_MODEL_2cdb400e38094d48b71476a66b5b5bdc",
            "value": "tokenizer_config.json: 100%"
          }
        },
        "29bd627faec741918759378ff6d709bc": {
          "model_module": "@jupyter-widgets/controls",
          "model_name": "FloatProgressModel",
          "model_module_version": "1.5.0",
          "state": {
            "_dom_classes": [],
            "_model_module": "@jupyter-widgets/controls",
            "_model_module_version": "1.5.0",
            "_model_name": "FloatProgressModel",
            "_view_count": null,
            "_view_module": "@jupyter-widgets/controls",
            "_view_module_version": "1.5.0",
            "_view_name": "ProgressView",
            "bar_style": "success",
            "description": "",
            "description_tooltip": null,
            "layout": "IPY_MODEL_694c7bba218f4dd0a775dd772b11ca33",
            "max": 2324,
            "min": 0,
            "orientation": "horizontal",
            "style": "IPY_MODEL_1c99081e8a5f4b0c9282403350bf612a",
            "value": 2324
          }
        },
        "cb8184c7d8e241cdabd307e6a2c41175": {
          "model_module": "@jupyter-widgets/controls",
          "model_name": "HTMLModel",
          "model_module_version": "1.5.0",
          "state": {
            "_dom_classes": [],
            "_model_module": "@jupyter-widgets/controls",
            "_model_module_version": "1.5.0",
            "_model_name": "HTMLModel",
            "_view_count": null,
            "_view_module": "@jupyter-widgets/controls",
            "_view_module_version": "1.5.0",
            "_view_name": "HTMLView",
            "description": "",
            "description_tooltip": null,
            "layout": "IPY_MODEL_061ea01f349f4d8eb38ca1e6de11d13a",
            "placeholder": "​",
            "style": "IPY_MODEL_ae970012a04743a0ab4239dd15a851e3",
            "value": " 2.32k/2.32k [00:00&lt;00:00, 65.6kB/s]"
          }
        },
        "1be7c71b391a46c1b1f5121d003f5bc9": {
          "model_module": "@jupyter-widgets/base",
          "model_name": "LayoutModel",
          "model_module_version": "1.2.0",
          "state": {
            "_model_module": "@jupyter-widgets/base",
            "_model_module_version": "1.2.0",
            "_model_name": "LayoutModel",
            "_view_count": null,
            "_view_module": "@jupyter-widgets/base",
            "_view_module_version": "1.2.0",
            "_view_name": "LayoutView",
            "align_content": null,
            "align_items": null,
            "align_self": null,
            "border": null,
            "bottom": null,
            "display": null,
            "flex": null,
            "flex_flow": null,
            "grid_area": null,
            "grid_auto_columns": null,
            "grid_auto_flow": null,
            "grid_auto_rows": null,
            "grid_column": null,
            "grid_gap": null,
            "grid_row": null,
            "grid_template_areas": null,
            "grid_template_columns": null,
            "grid_template_rows": null,
            "height": null,
            "justify_content": null,
            "justify_items": null,
            "left": null,
            "margin": null,
            "max_height": null,
            "max_width": null,
            "min_height": null,
            "min_width": null,
            "object_fit": null,
            "object_position": null,
            "order": null,
            "overflow": null,
            "overflow_x": null,
            "overflow_y": null,
            "padding": null,
            "right": null,
            "top": null,
            "visibility": null,
            "width": null
          }
        },
        "70e0c39be5524af5bccfe9eef46ff19d": {
          "model_module": "@jupyter-widgets/base",
          "model_name": "LayoutModel",
          "model_module_version": "1.2.0",
          "state": {
            "_model_module": "@jupyter-widgets/base",
            "_model_module_version": "1.2.0",
            "_model_name": "LayoutModel",
            "_view_count": null,
            "_view_module": "@jupyter-widgets/base",
            "_view_module_version": "1.2.0",
            "_view_name": "LayoutView",
            "align_content": null,
            "align_items": null,
            "align_self": null,
            "border": null,
            "bottom": null,
            "display": null,
            "flex": null,
            "flex_flow": null,
            "grid_area": null,
            "grid_auto_columns": null,
            "grid_auto_flow": null,
            "grid_auto_rows": null,
            "grid_column": null,
            "grid_gap": null,
            "grid_row": null,
            "grid_template_areas": null,
            "grid_template_columns": null,
            "grid_template_rows": null,
            "height": null,
            "justify_content": null,
            "justify_items": null,
            "left": null,
            "margin": null,
            "max_height": null,
            "max_width": null,
            "min_height": null,
            "min_width": null,
            "object_fit": null,
            "object_position": null,
            "order": null,
            "overflow": null,
            "overflow_x": null,
            "overflow_y": null,
            "padding": null,
            "right": null,
            "top": null,
            "visibility": null,
            "width": null
          }
        },
        "2cdb400e38094d48b71476a66b5b5bdc": {
          "model_module": "@jupyter-widgets/controls",
          "model_name": "DescriptionStyleModel",
          "model_module_version": "1.5.0",
          "state": {
            "_model_module": "@jupyter-widgets/controls",
            "_model_module_version": "1.5.0",
            "_model_name": "DescriptionStyleModel",
            "_view_count": null,
            "_view_module": "@jupyter-widgets/base",
            "_view_module_version": "1.2.0",
            "_view_name": "StyleView",
            "description_width": ""
          }
        },
        "694c7bba218f4dd0a775dd772b11ca33": {
          "model_module": "@jupyter-widgets/base",
          "model_name": "LayoutModel",
          "model_module_version": "1.2.0",
          "state": {
            "_model_module": "@jupyter-widgets/base",
            "_model_module_version": "1.2.0",
            "_model_name": "LayoutModel",
            "_view_count": null,
            "_view_module": "@jupyter-widgets/base",
            "_view_module_version": "1.2.0",
            "_view_name": "LayoutView",
            "align_content": null,
            "align_items": null,
            "align_self": null,
            "border": null,
            "bottom": null,
            "display": null,
            "flex": null,
            "flex_flow": null,
            "grid_area": null,
            "grid_auto_columns": null,
            "grid_auto_flow": null,
            "grid_auto_rows": null,
            "grid_column": null,
            "grid_gap": null,
            "grid_row": null,
            "grid_template_areas": null,
            "grid_template_columns": null,
            "grid_template_rows": null,
            "height": null,
            "justify_content": null,
            "justify_items": null,
            "left": null,
            "margin": null,
            "max_height": null,
            "max_width": null,
            "min_height": null,
            "min_width": null,
            "object_fit": null,
            "object_position": null,
            "order": null,
            "overflow": null,
            "overflow_x": null,
            "overflow_y": null,
            "padding": null,
            "right": null,
            "top": null,
            "visibility": null,
            "width": null
          }
        },
        "1c99081e8a5f4b0c9282403350bf612a": {
          "model_module": "@jupyter-widgets/controls",
          "model_name": "ProgressStyleModel",
          "model_module_version": "1.5.0",
          "state": {
            "_model_module": "@jupyter-widgets/controls",
            "_model_module_version": "1.5.0",
            "_model_name": "ProgressStyleModel",
            "_view_count": null,
            "_view_module": "@jupyter-widgets/base",
            "_view_module_version": "1.2.0",
            "_view_name": "StyleView",
            "bar_color": null,
            "description_width": ""
          }
        },
        "061ea01f349f4d8eb38ca1e6de11d13a": {
          "model_module": "@jupyter-widgets/base",
          "model_name": "LayoutModel",
          "model_module_version": "1.2.0",
          "state": {
            "_model_module": "@jupyter-widgets/base",
            "_model_module_version": "1.2.0",
            "_model_name": "LayoutModel",
            "_view_count": null,
            "_view_module": "@jupyter-widgets/base",
            "_view_module_version": "1.2.0",
            "_view_name": "LayoutView",
            "align_content": null,
            "align_items": null,
            "align_self": null,
            "border": null,
            "bottom": null,
            "display": null,
            "flex": null,
            "flex_flow": null,
            "grid_area": null,
            "grid_auto_columns": null,
            "grid_auto_flow": null,
            "grid_auto_rows": null,
            "grid_column": null,
            "grid_gap": null,
            "grid_row": null,
            "grid_template_areas": null,
            "grid_template_columns": null,
            "grid_template_rows": null,
            "height": null,
            "justify_content": null,
            "justify_items": null,
            "left": null,
            "margin": null,
            "max_height": null,
            "max_width": null,
            "min_height": null,
            "min_width": null,
            "object_fit": null,
            "object_position": null,
            "order": null,
            "overflow": null,
            "overflow_x": null,
            "overflow_y": null,
            "padding": null,
            "right": null,
            "top": null,
            "visibility": null,
            "width": null
          }
        },
        "ae970012a04743a0ab4239dd15a851e3": {
          "model_module": "@jupyter-widgets/controls",
          "model_name": "DescriptionStyleModel",
          "model_module_version": "1.5.0",
          "state": {
            "_model_module": "@jupyter-widgets/controls",
            "_model_module_version": "1.5.0",
            "_model_name": "DescriptionStyleModel",
            "_view_count": null,
            "_view_module": "@jupyter-widgets/base",
            "_view_module_version": "1.2.0",
            "_view_name": "StyleView",
            "description_width": ""
          }
        },
        "65f08d12197d41abb84da11b70aa45b8": {
          "model_module": "@jupyter-widgets/controls",
          "model_name": "HBoxModel",
          "model_module_version": "1.5.0",
          "state": {
            "_dom_classes": [],
            "_model_module": "@jupyter-widgets/controls",
            "_model_module_version": "1.5.0",
            "_model_name": "HBoxModel",
            "_view_count": null,
            "_view_module": "@jupyter-widgets/controls",
            "_view_module_version": "1.5.0",
            "_view_name": "HBoxView",
            "box_style": "",
            "children": [
              "IPY_MODEL_2cb046e58fb5425bac62aef5281d41f9",
              "IPY_MODEL_bf5f6af98c444d77b2266c10409f16c5",
              "IPY_MODEL_10c0c81d35694929ba3eec91ba038af7"
            ],
            "layout": "IPY_MODEL_14bc768b555f411d9ef62e676a322233"
          }
        },
        "2cb046e58fb5425bac62aef5281d41f9": {
          "model_module": "@jupyter-widgets/controls",
          "model_name": "HTMLModel",
          "model_module_version": "1.5.0",
          "state": {
            "_dom_classes": [],
            "_model_module": "@jupyter-widgets/controls",
            "_model_module_version": "1.5.0",
            "_model_name": "HTMLModel",
            "_view_count": null,
            "_view_module": "@jupyter-widgets/controls",
            "_view_module_version": "1.5.0",
            "_view_name": "HTMLView",
            "description": "",
            "description_tooltip": null,
            "layout": "IPY_MODEL_962929fe9dfc439bba925807ac18a3ac",
            "placeholder": "​",
            "style": "IPY_MODEL_aadeb92653e04394a0ea79b60ec279aa",
            "value": "spiece.model: 100%"
          }
        },
        "bf5f6af98c444d77b2266c10409f16c5": {
          "model_module": "@jupyter-widgets/controls",
          "model_name": "FloatProgressModel",
          "model_module_version": "1.5.0",
          "state": {
            "_dom_classes": [],
            "_model_module": "@jupyter-widgets/controls",
            "_model_module_version": "1.5.0",
            "_model_name": "FloatProgressModel",
            "_view_count": null,
            "_view_module": "@jupyter-widgets/controls",
            "_view_module_version": "1.5.0",
            "_view_name": "ProgressView",
            "bar_style": "success",
            "description": "",
            "description_tooltip": null,
            "layout": "IPY_MODEL_82dc6e57673d4793b6b3f3c7205dc405",
            "max": 791656,
            "min": 0,
            "orientation": "horizontal",
            "style": "IPY_MODEL_61d410002a1646ce9d9f44eb9cd15c30",
            "value": 791656
          }
        },
        "10c0c81d35694929ba3eec91ba038af7": {
          "model_module": "@jupyter-widgets/controls",
          "model_name": "HTMLModel",
          "model_module_version": "1.5.0",
          "state": {
            "_dom_classes": [],
            "_model_module": "@jupyter-widgets/controls",
            "_model_module_version": "1.5.0",
            "_model_name": "HTMLModel",
            "_view_count": null,
            "_view_module": "@jupyter-widgets/controls",
            "_view_module_version": "1.5.0",
            "_view_name": "HTMLView",
            "description": "",
            "description_tooltip": null,
            "layout": "IPY_MODEL_13ac298575964fda9309f54195a4a5ea",
            "placeholder": "​",
            "style": "IPY_MODEL_fec4a2097529445e914d17e4ff429378",
            "value": " 792k/792k [00:00&lt;00:00, 4.20MB/s]"
          }
        },
        "14bc768b555f411d9ef62e676a322233": {
          "model_module": "@jupyter-widgets/base",
          "model_name": "LayoutModel",
          "model_module_version": "1.2.0",
          "state": {
            "_model_module": "@jupyter-widgets/base",
            "_model_module_version": "1.2.0",
            "_model_name": "LayoutModel",
            "_view_count": null,
            "_view_module": "@jupyter-widgets/base",
            "_view_module_version": "1.2.0",
            "_view_name": "LayoutView",
            "align_content": null,
            "align_items": null,
            "align_self": null,
            "border": null,
            "bottom": null,
            "display": null,
            "flex": null,
            "flex_flow": null,
            "grid_area": null,
            "grid_auto_columns": null,
            "grid_auto_flow": null,
            "grid_auto_rows": null,
            "grid_column": null,
            "grid_gap": null,
            "grid_row": null,
            "grid_template_areas": null,
            "grid_template_columns": null,
            "grid_template_rows": null,
            "height": null,
            "justify_content": null,
            "justify_items": null,
            "left": null,
            "margin": null,
            "max_height": null,
            "max_width": null,
            "min_height": null,
            "min_width": null,
            "object_fit": null,
            "object_position": null,
            "order": null,
            "overflow": null,
            "overflow_x": null,
            "overflow_y": null,
            "padding": null,
            "right": null,
            "top": null,
            "visibility": null,
            "width": null
          }
        },
        "962929fe9dfc439bba925807ac18a3ac": {
          "model_module": "@jupyter-widgets/base",
          "model_name": "LayoutModel",
          "model_module_version": "1.2.0",
          "state": {
            "_model_module": "@jupyter-widgets/base",
            "_model_module_version": "1.2.0",
            "_model_name": "LayoutModel",
            "_view_count": null,
            "_view_module": "@jupyter-widgets/base",
            "_view_module_version": "1.2.0",
            "_view_name": "LayoutView",
            "align_content": null,
            "align_items": null,
            "align_self": null,
            "border": null,
            "bottom": null,
            "display": null,
            "flex": null,
            "flex_flow": null,
            "grid_area": null,
            "grid_auto_columns": null,
            "grid_auto_flow": null,
            "grid_auto_rows": null,
            "grid_column": null,
            "grid_gap": null,
            "grid_row": null,
            "grid_template_areas": null,
            "grid_template_columns": null,
            "grid_template_rows": null,
            "height": null,
            "justify_content": null,
            "justify_items": null,
            "left": null,
            "margin": null,
            "max_height": null,
            "max_width": null,
            "min_height": null,
            "min_width": null,
            "object_fit": null,
            "object_position": null,
            "order": null,
            "overflow": null,
            "overflow_x": null,
            "overflow_y": null,
            "padding": null,
            "right": null,
            "top": null,
            "visibility": null,
            "width": null
          }
        },
        "aadeb92653e04394a0ea79b60ec279aa": {
          "model_module": "@jupyter-widgets/controls",
          "model_name": "DescriptionStyleModel",
          "model_module_version": "1.5.0",
          "state": {
            "_model_module": "@jupyter-widgets/controls",
            "_model_module_version": "1.5.0",
            "_model_name": "DescriptionStyleModel",
            "_view_count": null,
            "_view_module": "@jupyter-widgets/base",
            "_view_module_version": "1.2.0",
            "_view_name": "StyleView",
            "description_width": ""
          }
        },
        "82dc6e57673d4793b6b3f3c7205dc405": {
          "model_module": "@jupyter-widgets/base",
          "model_name": "LayoutModel",
          "model_module_version": "1.2.0",
          "state": {
            "_model_module": "@jupyter-widgets/base",
            "_model_module_version": "1.2.0",
            "_model_name": "LayoutModel",
            "_view_count": null,
            "_view_module": "@jupyter-widgets/base",
            "_view_module_version": "1.2.0",
            "_view_name": "LayoutView",
            "align_content": null,
            "align_items": null,
            "align_self": null,
            "border": null,
            "bottom": null,
            "display": null,
            "flex": null,
            "flex_flow": null,
            "grid_area": null,
            "grid_auto_columns": null,
            "grid_auto_flow": null,
            "grid_auto_rows": null,
            "grid_column": null,
            "grid_gap": null,
            "grid_row": null,
            "grid_template_areas": null,
            "grid_template_columns": null,
            "grid_template_rows": null,
            "height": null,
            "justify_content": null,
            "justify_items": null,
            "left": null,
            "margin": null,
            "max_height": null,
            "max_width": null,
            "min_height": null,
            "min_width": null,
            "object_fit": null,
            "object_position": null,
            "order": null,
            "overflow": null,
            "overflow_x": null,
            "overflow_y": null,
            "padding": null,
            "right": null,
            "top": null,
            "visibility": null,
            "width": null
          }
        },
        "61d410002a1646ce9d9f44eb9cd15c30": {
          "model_module": "@jupyter-widgets/controls",
          "model_name": "ProgressStyleModel",
          "model_module_version": "1.5.0",
          "state": {
            "_model_module": "@jupyter-widgets/controls",
            "_model_module_version": "1.5.0",
            "_model_name": "ProgressStyleModel",
            "_view_count": null,
            "_view_module": "@jupyter-widgets/base",
            "_view_module_version": "1.2.0",
            "_view_name": "StyleView",
            "bar_color": null,
            "description_width": ""
          }
        },
        "13ac298575964fda9309f54195a4a5ea": {
          "model_module": "@jupyter-widgets/base",
          "model_name": "LayoutModel",
          "model_module_version": "1.2.0",
          "state": {
            "_model_module": "@jupyter-widgets/base",
            "_model_module_version": "1.2.0",
            "_model_name": "LayoutModel",
            "_view_count": null,
            "_view_module": "@jupyter-widgets/base",
            "_view_module_version": "1.2.0",
            "_view_name": "LayoutView",
            "align_content": null,
            "align_items": null,
            "align_self": null,
            "border": null,
            "bottom": null,
            "display": null,
            "flex": null,
            "flex_flow": null,
            "grid_area": null,
            "grid_auto_columns": null,
            "grid_auto_flow": null,
            "grid_auto_rows": null,
            "grid_column": null,
            "grid_gap": null,
            "grid_row": null,
            "grid_template_areas": null,
            "grid_template_columns": null,
            "grid_template_rows": null,
            "height": null,
            "justify_content": null,
            "justify_items": null,
            "left": null,
            "margin": null,
            "max_height": null,
            "max_width": null,
            "min_height": null,
            "min_width": null,
            "object_fit": null,
            "object_position": null,
            "order": null,
            "overflow": null,
            "overflow_x": null,
            "overflow_y": null,
            "padding": null,
            "right": null,
            "top": null,
            "visibility": null,
            "width": null
          }
        },
        "fec4a2097529445e914d17e4ff429378": {
          "model_module": "@jupyter-widgets/controls",
          "model_name": "DescriptionStyleModel",
          "model_module_version": "1.5.0",
          "state": {
            "_model_module": "@jupyter-widgets/controls",
            "_model_module_version": "1.5.0",
            "_model_name": "DescriptionStyleModel",
            "_view_count": null,
            "_view_module": "@jupyter-widgets/base",
            "_view_module_version": "1.2.0",
            "_view_name": "StyleView",
            "description_width": ""
          }
        },
        "8ffe5d163d904f86b950d2e87cd2e772": {
          "model_module": "@jupyter-widgets/controls",
          "model_name": "HBoxModel",
          "model_module_version": "1.5.0",
          "state": {
            "_dom_classes": [],
            "_model_module": "@jupyter-widgets/controls",
            "_model_module_version": "1.5.0",
            "_model_name": "HBoxModel",
            "_view_count": null,
            "_view_module": "@jupyter-widgets/controls",
            "_view_module_version": "1.5.0",
            "_view_name": "HBoxView",
            "box_style": "",
            "children": [
              "IPY_MODEL_47c3133acfc649658bf50c686bc2e47b",
              "IPY_MODEL_d03ac5c186d1465c845685286b5a1277",
              "IPY_MODEL_2a5d0ead818a487ea852eea76968821a"
            ],
            "layout": "IPY_MODEL_6352600dc5a34b2298297426bc8aabc9"
          }
        },
        "47c3133acfc649658bf50c686bc2e47b": {
          "model_module": "@jupyter-widgets/controls",
          "model_name": "HTMLModel",
          "model_module_version": "1.5.0",
          "state": {
            "_dom_classes": [],
            "_model_module": "@jupyter-widgets/controls",
            "_model_module_version": "1.5.0",
            "_model_name": "HTMLModel",
            "_view_count": null,
            "_view_module": "@jupyter-widgets/controls",
            "_view_module_version": "1.5.0",
            "_view_name": "HTMLView",
            "description": "",
            "description_tooltip": null,
            "layout": "IPY_MODEL_b8f81780bb744909affe3058b7a51382",
            "placeholder": "​",
            "style": "IPY_MODEL_5bdb347ab34948ceb8f7070f7dcb38d9",
            "value": "tokenizer.json: 100%"
          }
        },
        "d03ac5c186d1465c845685286b5a1277": {
          "model_module": "@jupyter-widgets/controls",
          "model_name": "FloatProgressModel",
          "model_module_version": "1.5.0",
          "state": {
            "_dom_classes": [],
            "_model_module": "@jupyter-widgets/controls",
            "_model_module_version": "1.5.0",
            "_model_name": "FloatProgressModel",
            "_view_count": null,
            "_view_module": "@jupyter-widgets/controls",
            "_view_module_version": "1.5.0",
            "_view_name": "ProgressView",
            "bar_style": "success",
            "description": "",
            "description_tooltip": null,
            "layout": "IPY_MODEL_0db25e6537e64a4d827c890810e88d69",
            "max": 1389353,
            "min": 0,
            "orientation": "horizontal",
            "style": "IPY_MODEL_6590901f52f744b3b4f37b0b961a10a1",
            "value": 1389353
          }
        },
        "2a5d0ead818a487ea852eea76968821a": {
          "model_module": "@jupyter-widgets/controls",
          "model_name": "HTMLModel",
          "model_module_version": "1.5.0",
          "state": {
            "_dom_classes": [],
            "_model_module": "@jupyter-widgets/controls",
            "_model_module_version": "1.5.0",
            "_model_name": "HTMLModel",
            "_view_count": null,
            "_view_module": "@jupyter-widgets/controls",
            "_view_module_version": "1.5.0",
            "_view_name": "HTMLView",
            "description": "",
            "description_tooltip": null,
            "layout": "IPY_MODEL_41d14a386bd84c92af3d5de02d3882d1",
            "placeholder": "​",
            "style": "IPY_MODEL_179619545d524fe8aae2cee20ddad8ed",
            "value": " 1.39M/1.39M [00:00&lt;00:00, 20.2MB/s]"
          }
        },
        "6352600dc5a34b2298297426bc8aabc9": {
          "model_module": "@jupyter-widgets/base",
          "model_name": "LayoutModel",
          "model_module_version": "1.2.0",
          "state": {
            "_model_module": "@jupyter-widgets/base",
            "_model_module_version": "1.2.0",
            "_model_name": "LayoutModel",
            "_view_count": null,
            "_view_module": "@jupyter-widgets/base",
            "_view_module_version": "1.2.0",
            "_view_name": "LayoutView",
            "align_content": null,
            "align_items": null,
            "align_self": null,
            "border": null,
            "bottom": null,
            "display": null,
            "flex": null,
            "flex_flow": null,
            "grid_area": null,
            "grid_auto_columns": null,
            "grid_auto_flow": null,
            "grid_auto_rows": null,
            "grid_column": null,
            "grid_gap": null,
            "grid_row": null,
            "grid_template_areas": null,
            "grid_template_columns": null,
            "grid_template_rows": null,
            "height": null,
            "justify_content": null,
            "justify_items": null,
            "left": null,
            "margin": null,
            "max_height": null,
            "max_width": null,
            "min_height": null,
            "min_width": null,
            "object_fit": null,
            "object_position": null,
            "order": null,
            "overflow": null,
            "overflow_x": null,
            "overflow_y": null,
            "padding": null,
            "right": null,
            "top": null,
            "visibility": null,
            "width": null
          }
        },
        "b8f81780bb744909affe3058b7a51382": {
          "model_module": "@jupyter-widgets/base",
          "model_name": "LayoutModel",
          "model_module_version": "1.2.0",
          "state": {
            "_model_module": "@jupyter-widgets/base",
            "_model_module_version": "1.2.0",
            "_model_name": "LayoutModel",
            "_view_count": null,
            "_view_module": "@jupyter-widgets/base",
            "_view_module_version": "1.2.0",
            "_view_name": "LayoutView",
            "align_content": null,
            "align_items": null,
            "align_self": null,
            "border": null,
            "bottom": null,
            "display": null,
            "flex": null,
            "flex_flow": null,
            "grid_area": null,
            "grid_auto_columns": null,
            "grid_auto_flow": null,
            "grid_auto_rows": null,
            "grid_column": null,
            "grid_gap": null,
            "grid_row": null,
            "grid_template_areas": null,
            "grid_template_columns": null,
            "grid_template_rows": null,
            "height": null,
            "justify_content": null,
            "justify_items": null,
            "left": null,
            "margin": null,
            "max_height": null,
            "max_width": null,
            "min_height": null,
            "min_width": null,
            "object_fit": null,
            "object_position": null,
            "order": null,
            "overflow": null,
            "overflow_x": null,
            "overflow_y": null,
            "padding": null,
            "right": null,
            "top": null,
            "visibility": null,
            "width": null
          }
        },
        "5bdb347ab34948ceb8f7070f7dcb38d9": {
          "model_module": "@jupyter-widgets/controls",
          "model_name": "DescriptionStyleModel",
          "model_module_version": "1.5.0",
          "state": {
            "_model_module": "@jupyter-widgets/controls",
            "_model_module_version": "1.5.0",
            "_model_name": "DescriptionStyleModel",
            "_view_count": null,
            "_view_module": "@jupyter-widgets/base",
            "_view_module_version": "1.2.0",
            "_view_name": "StyleView",
            "description_width": ""
          }
        },
        "0db25e6537e64a4d827c890810e88d69": {
          "model_module": "@jupyter-widgets/base",
          "model_name": "LayoutModel",
          "model_module_version": "1.2.0",
          "state": {
            "_model_module": "@jupyter-widgets/base",
            "_model_module_version": "1.2.0",
            "_model_name": "LayoutModel",
            "_view_count": null,
            "_view_module": "@jupyter-widgets/base",
            "_view_module_version": "1.2.0",
            "_view_name": "LayoutView",
            "align_content": null,
            "align_items": null,
            "align_self": null,
            "border": null,
            "bottom": null,
            "display": null,
            "flex": null,
            "flex_flow": null,
            "grid_area": null,
            "grid_auto_columns": null,
            "grid_auto_flow": null,
            "grid_auto_rows": null,
            "grid_column": null,
            "grid_gap": null,
            "grid_row": null,
            "grid_template_areas": null,
            "grid_template_columns": null,
            "grid_template_rows": null,
            "height": null,
            "justify_content": null,
            "justify_items": null,
            "left": null,
            "margin": null,
            "max_height": null,
            "max_width": null,
            "min_height": null,
            "min_width": null,
            "object_fit": null,
            "object_position": null,
            "order": null,
            "overflow": null,
            "overflow_x": null,
            "overflow_y": null,
            "padding": null,
            "right": null,
            "top": null,
            "visibility": null,
            "width": null
          }
        },
        "6590901f52f744b3b4f37b0b961a10a1": {
          "model_module": "@jupyter-widgets/controls",
          "model_name": "ProgressStyleModel",
          "model_module_version": "1.5.0",
          "state": {
            "_model_module": "@jupyter-widgets/controls",
            "_model_module_version": "1.5.0",
            "_model_name": "ProgressStyleModel",
            "_view_count": null,
            "_view_module": "@jupyter-widgets/base",
            "_view_module_version": "1.2.0",
            "_view_name": "StyleView",
            "bar_color": null,
            "description_width": ""
          }
        },
        "41d14a386bd84c92af3d5de02d3882d1": {
          "model_module": "@jupyter-widgets/base",
          "model_name": "LayoutModel",
          "model_module_version": "1.2.0",
          "state": {
            "_model_module": "@jupyter-widgets/base",
            "_model_module_version": "1.2.0",
            "_model_name": "LayoutModel",
            "_view_count": null,
            "_view_module": "@jupyter-widgets/base",
            "_view_module_version": "1.2.0",
            "_view_name": "LayoutView",
            "align_content": null,
            "align_items": null,
            "align_self": null,
            "border": null,
            "bottom": null,
            "display": null,
            "flex": null,
            "flex_flow": null,
            "grid_area": null,
            "grid_auto_columns": null,
            "grid_auto_flow": null,
            "grid_auto_rows": null,
            "grid_column": null,
            "grid_gap": null,
            "grid_row": null,
            "grid_template_areas": null,
            "grid_template_columns": null,
            "grid_template_rows": null,
            "height": null,
            "justify_content": null,
            "justify_items": null,
            "left": null,
            "margin": null,
            "max_height": null,
            "max_width": null,
            "min_height": null,
            "min_width": null,
            "object_fit": null,
            "object_position": null,
            "order": null,
            "overflow": null,
            "overflow_x": null,
            "overflow_y": null,
            "padding": null,
            "right": null,
            "top": null,
            "visibility": null,
            "width": null
          }
        },
        "179619545d524fe8aae2cee20ddad8ed": {
          "model_module": "@jupyter-widgets/controls",
          "model_name": "DescriptionStyleModel",
          "model_module_version": "1.5.0",
          "state": {
            "_model_module": "@jupyter-widgets/controls",
            "_model_module_version": "1.5.0",
            "_model_name": "DescriptionStyleModel",
            "_view_count": null,
            "_view_module": "@jupyter-widgets/base",
            "_view_module_version": "1.2.0",
            "_view_name": "StyleView",
            "description_width": ""
          }
        },
        "be015de5305c4ab6b7c1a31855e5571c": {
          "model_module": "@jupyter-widgets/controls",
          "model_name": "HBoxModel",
          "model_module_version": "1.5.0",
          "state": {
            "_dom_classes": [],
            "_model_module": "@jupyter-widgets/controls",
            "_model_module_version": "1.5.0",
            "_model_name": "HBoxModel",
            "_view_count": null,
            "_view_module": "@jupyter-widgets/controls",
            "_view_module_version": "1.5.0",
            "_view_name": "HBoxView",
            "box_style": "",
            "children": [
              "IPY_MODEL_c46f418a8ba5449b8fdb3cb3db43b1a4",
              "IPY_MODEL_fe838d08b0594e22914fc4e3a6511c84",
              "IPY_MODEL_d3ff5f22b0fe43aebc767b0c4be7b3c5"
            ],
            "layout": "IPY_MODEL_317e86b8eb4f46bfa79e85a6f1f0b692"
          }
        },
        "c46f418a8ba5449b8fdb3cb3db43b1a4": {
          "model_module": "@jupyter-widgets/controls",
          "model_name": "HTMLModel",
          "model_module_version": "1.5.0",
          "state": {
            "_dom_classes": [],
            "_model_module": "@jupyter-widgets/controls",
            "_model_module_version": "1.5.0",
            "_model_name": "HTMLModel",
            "_view_count": null,
            "_view_module": "@jupyter-widgets/controls",
            "_view_module_version": "1.5.0",
            "_view_name": "HTMLView",
            "description": "",
            "description_tooltip": null,
            "layout": "IPY_MODEL_315b2987b0c64527931b9fd6b1e9c037",
            "placeholder": "​",
            "style": "IPY_MODEL_4d744fcc06d743bd81b756b269edeca1",
            "value": "Map: 100%"
          }
        },
        "fe838d08b0594e22914fc4e3a6511c84": {
          "model_module": "@jupyter-widgets/controls",
          "model_name": "FloatProgressModel",
          "model_module_version": "1.5.0",
          "state": {
            "_dom_classes": [],
            "_model_module": "@jupyter-widgets/controls",
            "_model_module_version": "1.5.0",
            "_model_name": "FloatProgressModel",
            "_view_count": null,
            "_view_module": "@jupyter-widgets/controls",
            "_view_module_version": "1.5.0",
            "_view_name": "ProgressView",
            "bar_style": "success",
            "description": "",
            "description_tooltip": null,
            "layout": "IPY_MODEL_5f19bdb5fd074cbe90bbbd62a9e90d92",
            "max": 989,
            "min": 0,
            "orientation": "horizontal",
            "style": "IPY_MODEL_a367cd5f0edf4576b722f75fb8bf3ac0",
            "value": 989
          }
        },
        "d3ff5f22b0fe43aebc767b0c4be7b3c5": {
          "model_module": "@jupyter-widgets/controls",
          "model_name": "HTMLModel",
          "model_module_version": "1.5.0",
          "state": {
            "_dom_classes": [],
            "_model_module": "@jupyter-widgets/controls",
            "_model_module_version": "1.5.0",
            "_model_name": "HTMLModel",
            "_view_count": null,
            "_view_module": "@jupyter-widgets/controls",
            "_view_module_version": "1.5.0",
            "_view_name": "HTMLView",
            "description": "",
            "description_tooltip": null,
            "layout": "IPY_MODEL_db9e49c547324fb7b8bf62926227fa86",
            "placeholder": "​",
            "style": "IPY_MODEL_b1e09dfc6508480a90848c0348f84cbd",
            "value": " 989/989 [00:07&lt;00:00, 128.20 examples/s]"
          }
        },
        "317e86b8eb4f46bfa79e85a6f1f0b692": {
          "model_module": "@jupyter-widgets/base",
          "model_name": "LayoutModel",
          "model_module_version": "1.2.0",
          "state": {
            "_model_module": "@jupyter-widgets/base",
            "_model_module_version": "1.2.0",
            "_model_name": "LayoutModel",
            "_view_count": null,
            "_view_module": "@jupyter-widgets/base",
            "_view_module_version": "1.2.0",
            "_view_name": "LayoutView",
            "align_content": null,
            "align_items": null,
            "align_self": null,
            "border": null,
            "bottom": null,
            "display": null,
            "flex": null,
            "flex_flow": null,
            "grid_area": null,
            "grid_auto_columns": null,
            "grid_auto_flow": null,
            "grid_auto_rows": null,
            "grid_column": null,
            "grid_gap": null,
            "grid_row": null,
            "grid_template_areas": null,
            "grid_template_columns": null,
            "grid_template_rows": null,
            "height": null,
            "justify_content": null,
            "justify_items": null,
            "left": null,
            "margin": null,
            "max_height": null,
            "max_width": null,
            "min_height": null,
            "min_width": null,
            "object_fit": null,
            "object_position": null,
            "order": null,
            "overflow": null,
            "overflow_x": null,
            "overflow_y": null,
            "padding": null,
            "right": null,
            "top": null,
            "visibility": null,
            "width": null
          }
        },
        "315b2987b0c64527931b9fd6b1e9c037": {
          "model_module": "@jupyter-widgets/base",
          "model_name": "LayoutModel",
          "model_module_version": "1.2.0",
          "state": {
            "_model_module": "@jupyter-widgets/base",
            "_model_module_version": "1.2.0",
            "_model_name": "LayoutModel",
            "_view_count": null,
            "_view_module": "@jupyter-widgets/base",
            "_view_module_version": "1.2.0",
            "_view_name": "LayoutView",
            "align_content": null,
            "align_items": null,
            "align_self": null,
            "border": null,
            "bottom": null,
            "display": null,
            "flex": null,
            "flex_flow": null,
            "grid_area": null,
            "grid_auto_columns": null,
            "grid_auto_flow": null,
            "grid_auto_rows": null,
            "grid_column": null,
            "grid_gap": null,
            "grid_row": null,
            "grid_template_areas": null,
            "grid_template_columns": null,
            "grid_template_rows": null,
            "height": null,
            "justify_content": null,
            "justify_items": null,
            "left": null,
            "margin": null,
            "max_height": null,
            "max_width": null,
            "min_height": null,
            "min_width": null,
            "object_fit": null,
            "object_position": null,
            "order": null,
            "overflow": null,
            "overflow_x": null,
            "overflow_y": null,
            "padding": null,
            "right": null,
            "top": null,
            "visibility": null,
            "width": null
          }
        },
        "4d744fcc06d743bd81b756b269edeca1": {
          "model_module": "@jupyter-widgets/controls",
          "model_name": "DescriptionStyleModel",
          "model_module_version": "1.5.0",
          "state": {
            "_model_module": "@jupyter-widgets/controls",
            "_model_module_version": "1.5.0",
            "_model_name": "DescriptionStyleModel",
            "_view_count": null,
            "_view_module": "@jupyter-widgets/base",
            "_view_module_version": "1.2.0",
            "_view_name": "StyleView",
            "description_width": ""
          }
        },
        "5f19bdb5fd074cbe90bbbd62a9e90d92": {
          "model_module": "@jupyter-widgets/base",
          "model_name": "LayoutModel",
          "model_module_version": "1.2.0",
          "state": {
            "_model_module": "@jupyter-widgets/base",
            "_model_module_version": "1.2.0",
            "_model_name": "LayoutModel",
            "_view_count": null,
            "_view_module": "@jupyter-widgets/base",
            "_view_module_version": "1.2.0",
            "_view_name": "LayoutView",
            "align_content": null,
            "align_items": null,
            "align_self": null,
            "border": null,
            "bottom": null,
            "display": null,
            "flex": null,
            "flex_flow": null,
            "grid_area": null,
            "grid_auto_columns": null,
            "grid_auto_flow": null,
            "grid_auto_rows": null,
            "grid_column": null,
            "grid_gap": null,
            "grid_row": null,
            "grid_template_areas": null,
            "grid_template_columns": null,
            "grid_template_rows": null,
            "height": null,
            "justify_content": null,
            "justify_items": null,
            "left": null,
            "margin": null,
            "max_height": null,
            "max_width": null,
            "min_height": null,
            "min_width": null,
            "object_fit": null,
            "object_position": null,
            "order": null,
            "overflow": null,
            "overflow_x": null,
            "overflow_y": null,
            "padding": null,
            "right": null,
            "top": null,
            "visibility": null,
            "width": null
          }
        },
        "a367cd5f0edf4576b722f75fb8bf3ac0": {
          "model_module": "@jupyter-widgets/controls",
          "model_name": "ProgressStyleModel",
          "model_module_version": "1.5.0",
          "state": {
            "_model_module": "@jupyter-widgets/controls",
            "_model_module_version": "1.5.0",
            "_model_name": "ProgressStyleModel",
            "_view_count": null,
            "_view_module": "@jupyter-widgets/base",
            "_view_module_version": "1.2.0",
            "_view_name": "StyleView",
            "bar_color": null,
            "description_width": ""
          }
        },
        "db9e49c547324fb7b8bf62926227fa86": {
          "model_module": "@jupyter-widgets/base",
          "model_name": "LayoutModel",
          "model_module_version": "1.2.0",
          "state": {
            "_model_module": "@jupyter-widgets/base",
            "_model_module_version": "1.2.0",
            "_model_name": "LayoutModel",
            "_view_count": null,
            "_view_module": "@jupyter-widgets/base",
            "_view_module_version": "1.2.0",
            "_view_name": "LayoutView",
            "align_content": null,
            "align_items": null,
            "align_self": null,
            "border": null,
            "bottom": null,
            "display": null,
            "flex": null,
            "flex_flow": null,
            "grid_area": null,
            "grid_auto_columns": null,
            "grid_auto_flow": null,
            "grid_auto_rows": null,
            "grid_column": null,
            "grid_gap": null,
            "grid_row": null,
            "grid_template_areas": null,
            "grid_template_columns": null,
            "grid_template_rows": null,
            "height": null,
            "justify_content": null,
            "justify_items": null,
            "left": null,
            "margin": null,
            "max_height": null,
            "max_width": null,
            "min_height": null,
            "min_width": null,
            "object_fit": null,
            "object_position": null,
            "order": null,
            "overflow": null,
            "overflow_x": null,
            "overflow_y": null,
            "padding": null,
            "right": null,
            "top": null,
            "visibility": null,
            "width": null
          }
        },
        "b1e09dfc6508480a90848c0348f84cbd": {
          "model_module": "@jupyter-widgets/controls",
          "model_name": "DescriptionStyleModel",
          "model_module_version": "1.5.0",
          "state": {
            "_model_module": "@jupyter-widgets/controls",
            "_model_module_version": "1.5.0",
            "_model_name": "DescriptionStyleModel",
            "_view_count": null,
            "_view_module": "@jupyter-widgets/base",
            "_view_module_version": "1.2.0",
            "_view_name": "StyleView",
            "description_width": ""
          }
        },
        "1b82cb5a77dd419fb0f7e5fa2fbcd940": {
          "model_module": "@jupyter-widgets/controls",
          "model_name": "HBoxModel",
          "model_module_version": "1.5.0",
          "state": {
            "_dom_classes": [],
            "_model_module": "@jupyter-widgets/controls",
            "_model_module_version": "1.5.0",
            "_model_name": "HBoxModel",
            "_view_count": null,
            "_view_module": "@jupyter-widgets/controls",
            "_view_module_version": "1.5.0",
            "_view_name": "HBoxView",
            "box_style": "",
            "children": [
              "IPY_MODEL_4b37338dc3f840d9a360ceed49c8ecff",
              "IPY_MODEL_c06bca1c1f184a7b8aab78e23a40721c",
              "IPY_MODEL_a34504a5e17443d3995fa0445edb56df"
            ],
            "layout": "IPY_MODEL_0c8bbfc8c495472e9983ed817be2794a"
          }
        },
        "4b37338dc3f840d9a360ceed49c8ecff": {
          "model_module": "@jupyter-widgets/controls",
          "model_name": "HTMLModel",
          "model_module_version": "1.5.0",
          "state": {
            "_dom_classes": [],
            "_model_module": "@jupyter-widgets/controls",
            "_model_module_version": "1.5.0",
            "_model_name": "HTMLModel",
            "_view_count": null,
            "_view_module": "@jupyter-widgets/controls",
            "_view_module_version": "1.5.0",
            "_view_name": "HTMLView",
            "description": "",
            "description_tooltip": null,
            "layout": "IPY_MODEL_cbb888e38c1a4737bebe46c152146930",
            "placeholder": "​",
            "style": "IPY_MODEL_8073f1b6eb5040619268edf8884fe205",
            "value": "Map: 100%"
          }
        },
        "c06bca1c1f184a7b8aab78e23a40721c": {
          "model_module": "@jupyter-widgets/controls",
          "model_name": "FloatProgressModel",
          "model_module_version": "1.5.0",
          "state": {
            "_dom_classes": [],
            "_model_module": "@jupyter-widgets/controls",
            "_model_module_version": "1.5.0",
            "_model_name": "FloatProgressModel",
            "_view_count": null,
            "_view_module": "@jupyter-widgets/controls",
            "_view_module_version": "1.5.0",
            "_view_name": "ProgressView",
            "bar_style": "success",
            "description": "",
            "description_tooltip": null,
            "layout": "IPY_MODEL_fa0d0d46fd154000a7fc19daa55ee5bb",
            "max": 248,
            "min": 0,
            "orientation": "horizontal",
            "style": "IPY_MODEL_36879108858345e28d47f677bb1027e4",
            "value": 248
          }
        },
        "a34504a5e17443d3995fa0445edb56df": {
          "model_module": "@jupyter-widgets/controls",
          "model_name": "HTMLModel",
          "model_module_version": "1.5.0",
          "state": {
            "_dom_classes": [],
            "_model_module": "@jupyter-widgets/controls",
            "_model_module_version": "1.5.0",
            "_model_name": "HTMLModel",
            "_view_count": null,
            "_view_module": "@jupyter-widgets/controls",
            "_view_module_version": "1.5.0",
            "_view_name": "HTMLView",
            "description": "",
            "description_tooltip": null,
            "layout": "IPY_MODEL_3fd721113bf64a1bbc7eb50bb2aadf02",
            "placeholder": "​",
            "style": "IPY_MODEL_87a6941f40404c69a67b96540c70b4e3",
            "value": " 248/248 [00:01&lt;00:00, 151.38 examples/s]"
          }
        },
        "0c8bbfc8c495472e9983ed817be2794a": {
          "model_module": "@jupyter-widgets/base",
          "model_name": "LayoutModel",
          "model_module_version": "1.2.0",
          "state": {
            "_model_module": "@jupyter-widgets/base",
            "_model_module_version": "1.2.0",
            "_model_name": "LayoutModel",
            "_view_count": null,
            "_view_module": "@jupyter-widgets/base",
            "_view_module_version": "1.2.0",
            "_view_name": "LayoutView",
            "align_content": null,
            "align_items": null,
            "align_self": null,
            "border": null,
            "bottom": null,
            "display": null,
            "flex": null,
            "flex_flow": null,
            "grid_area": null,
            "grid_auto_columns": null,
            "grid_auto_flow": null,
            "grid_auto_rows": null,
            "grid_column": null,
            "grid_gap": null,
            "grid_row": null,
            "grid_template_areas": null,
            "grid_template_columns": null,
            "grid_template_rows": null,
            "height": null,
            "justify_content": null,
            "justify_items": null,
            "left": null,
            "margin": null,
            "max_height": null,
            "max_width": null,
            "min_height": null,
            "min_width": null,
            "object_fit": null,
            "object_position": null,
            "order": null,
            "overflow": null,
            "overflow_x": null,
            "overflow_y": null,
            "padding": null,
            "right": null,
            "top": null,
            "visibility": null,
            "width": null
          }
        },
        "cbb888e38c1a4737bebe46c152146930": {
          "model_module": "@jupyter-widgets/base",
          "model_name": "LayoutModel",
          "model_module_version": "1.2.0",
          "state": {
            "_model_module": "@jupyter-widgets/base",
            "_model_module_version": "1.2.0",
            "_model_name": "LayoutModel",
            "_view_count": null,
            "_view_module": "@jupyter-widgets/base",
            "_view_module_version": "1.2.0",
            "_view_name": "LayoutView",
            "align_content": null,
            "align_items": null,
            "align_self": null,
            "border": null,
            "bottom": null,
            "display": null,
            "flex": null,
            "flex_flow": null,
            "grid_area": null,
            "grid_auto_columns": null,
            "grid_auto_flow": null,
            "grid_auto_rows": null,
            "grid_column": null,
            "grid_gap": null,
            "grid_row": null,
            "grid_template_areas": null,
            "grid_template_columns": null,
            "grid_template_rows": null,
            "height": null,
            "justify_content": null,
            "justify_items": null,
            "left": null,
            "margin": null,
            "max_height": null,
            "max_width": null,
            "min_height": null,
            "min_width": null,
            "object_fit": null,
            "object_position": null,
            "order": null,
            "overflow": null,
            "overflow_x": null,
            "overflow_y": null,
            "padding": null,
            "right": null,
            "top": null,
            "visibility": null,
            "width": null
          }
        },
        "8073f1b6eb5040619268edf8884fe205": {
          "model_module": "@jupyter-widgets/controls",
          "model_name": "DescriptionStyleModel",
          "model_module_version": "1.5.0",
          "state": {
            "_model_module": "@jupyter-widgets/controls",
            "_model_module_version": "1.5.0",
            "_model_name": "DescriptionStyleModel",
            "_view_count": null,
            "_view_module": "@jupyter-widgets/base",
            "_view_module_version": "1.2.0",
            "_view_name": "StyleView",
            "description_width": ""
          }
        },
        "fa0d0d46fd154000a7fc19daa55ee5bb": {
          "model_module": "@jupyter-widgets/base",
          "model_name": "LayoutModel",
          "model_module_version": "1.2.0",
          "state": {
            "_model_module": "@jupyter-widgets/base",
            "_model_module_version": "1.2.0",
            "_model_name": "LayoutModel",
            "_view_count": null,
            "_view_module": "@jupyter-widgets/base",
            "_view_module_version": "1.2.0",
            "_view_name": "LayoutView",
            "align_content": null,
            "align_items": null,
            "align_self": null,
            "border": null,
            "bottom": null,
            "display": null,
            "flex": null,
            "flex_flow": null,
            "grid_area": null,
            "grid_auto_columns": null,
            "grid_auto_flow": null,
            "grid_auto_rows": null,
            "grid_column": null,
            "grid_gap": null,
            "grid_row": null,
            "grid_template_areas": null,
            "grid_template_columns": null,
            "grid_template_rows": null,
            "height": null,
            "justify_content": null,
            "justify_items": null,
            "left": null,
            "margin": null,
            "max_height": null,
            "max_width": null,
            "min_height": null,
            "min_width": null,
            "object_fit": null,
            "object_position": null,
            "order": null,
            "overflow": null,
            "overflow_x": null,
            "overflow_y": null,
            "padding": null,
            "right": null,
            "top": null,
            "visibility": null,
            "width": null
          }
        },
        "36879108858345e28d47f677bb1027e4": {
          "model_module": "@jupyter-widgets/controls",
          "model_name": "ProgressStyleModel",
          "model_module_version": "1.5.0",
          "state": {
            "_model_module": "@jupyter-widgets/controls",
            "_model_module_version": "1.5.0",
            "_model_name": "ProgressStyleModel",
            "_view_count": null,
            "_view_module": "@jupyter-widgets/base",
            "_view_module_version": "1.2.0",
            "_view_name": "StyleView",
            "bar_color": null,
            "description_width": ""
          }
        },
        "3fd721113bf64a1bbc7eb50bb2aadf02": {
          "model_module": "@jupyter-widgets/base",
          "model_name": "LayoutModel",
          "model_module_version": "1.2.0",
          "state": {
            "_model_module": "@jupyter-widgets/base",
            "_model_module_version": "1.2.0",
            "_model_name": "LayoutModel",
            "_view_count": null,
            "_view_module": "@jupyter-widgets/base",
            "_view_module_version": "1.2.0",
            "_view_name": "LayoutView",
            "align_content": null,
            "align_items": null,
            "align_self": null,
            "border": null,
            "bottom": null,
            "display": null,
            "flex": null,
            "flex_flow": null,
            "grid_area": null,
            "grid_auto_columns": null,
            "grid_auto_flow": null,
            "grid_auto_rows": null,
            "grid_column": null,
            "grid_gap": null,
            "grid_row": null,
            "grid_template_areas": null,
            "grid_template_columns": null,
            "grid_template_rows": null,
            "height": null,
            "justify_content": null,
            "justify_items": null,
            "left": null,
            "margin": null,
            "max_height": null,
            "max_width": null,
            "min_height": null,
            "min_width": null,
            "object_fit": null,
            "object_position": null,
            "order": null,
            "overflow": null,
            "overflow_x": null,
            "overflow_y": null,
            "padding": null,
            "right": null,
            "top": null,
            "visibility": null,
            "width": null
          }
        },
        "87a6941f40404c69a67b96540c70b4e3": {
          "model_module": "@jupyter-widgets/controls",
          "model_name": "DescriptionStyleModel",
          "model_module_version": "1.5.0",
          "state": {
            "_model_module": "@jupyter-widgets/controls",
            "_model_module_version": "1.5.0",
            "_model_name": "DescriptionStyleModel",
            "_view_count": null,
            "_view_module": "@jupyter-widgets/base",
            "_view_module_version": "1.2.0",
            "_view_name": "StyleView",
            "description_width": ""
          }
        },
        "27f493df21cc466d932f8a21da39f695": {
          "model_module": "@jupyter-widgets/controls",
          "model_name": "HBoxModel",
          "model_module_version": "1.5.0",
          "state": {
            "_dom_classes": [],
            "_model_module": "@jupyter-widgets/controls",
            "_model_module_version": "1.5.0",
            "_model_name": "HBoxModel",
            "_view_count": null,
            "_view_module": "@jupyter-widgets/controls",
            "_view_module_version": "1.5.0",
            "_view_name": "HBoxView",
            "box_style": "",
            "children": [
              "IPY_MODEL_432aa761f5014ea299361721d0470fa7",
              "IPY_MODEL_08d35ff263d64c6ea334237c713bc825",
              "IPY_MODEL_c79f44c115fa4b86baa85bc2c9869c5c"
            ],
            "layout": "IPY_MODEL_a45b24153f49410e82c3fa4620901951"
          }
        },
        "432aa761f5014ea299361721d0470fa7": {
          "model_module": "@jupyter-widgets/controls",
          "model_name": "HTMLModel",
          "model_module_version": "1.5.0",
          "state": {
            "_dom_classes": [],
            "_model_module": "@jupyter-widgets/controls",
            "_model_module_version": "1.5.0",
            "_model_name": "HTMLModel",
            "_view_count": null,
            "_view_module": "@jupyter-widgets/controls",
            "_view_module_version": "1.5.0",
            "_view_name": "HTMLView",
            "description": "",
            "description_tooltip": null,
            "layout": "IPY_MODEL_4aaf86da8c0e4ac7838f3c6ae700720a",
            "placeholder": "​",
            "style": "IPY_MODEL_782fbdcabd804fe79d37381a0f7a2093",
            "value": "Downloading builder script: 100%"
          }
        },
        "08d35ff263d64c6ea334237c713bc825": {
          "model_module": "@jupyter-widgets/controls",
          "model_name": "FloatProgressModel",
          "model_module_version": "1.5.0",
          "state": {
            "_dom_classes": [],
            "_model_module": "@jupyter-widgets/controls",
            "_model_module_version": "1.5.0",
            "_model_name": "FloatProgressModel",
            "_view_count": null,
            "_view_module": "@jupyter-widgets/controls",
            "_view_module_version": "1.5.0",
            "_view_name": "ProgressView",
            "bar_style": "success",
            "description": "",
            "description_tooltip": null,
            "layout": "IPY_MODEL_f762adde2b344f83a9e810c161ecaf35",
            "max": 6270,
            "min": 0,
            "orientation": "horizontal",
            "style": "IPY_MODEL_17c2850d619842638f0901247088a4e8",
            "value": 6270
          }
        },
        "c79f44c115fa4b86baa85bc2c9869c5c": {
          "model_module": "@jupyter-widgets/controls",
          "model_name": "HTMLModel",
          "model_module_version": "1.5.0",
          "state": {
            "_dom_classes": [],
            "_model_module": "@jupyter-widgets/controls",
            "_model_module_version": "1.5.0",
            "_model_name": "HTMLModel",
            "_view_count": null,
            "_view_module": "@jupyter-widgets/controls",
            "_view_module_version": "1.5.0",
            "_view_name": "HTMLView",
            "description": "",
            "description_tooltip": null,
            "layout": "IPY_MODEL_1246d2c04e17404fa04414961e84f233",
            "placeholder": "​",
            "style": "IPY_MODEL_002280bb031e43ca90a262e515307845",
            "value": " 6.27k/6.27k [00:00&lt;00:00, 354kB/s]"
          }
        },
        "a45b24153f49410e82c3fa4620901951": {
          "model_module": "@jupyter-widgets/base",
          "model_name": "LayoutModel",
          "model_module_version": "1.2.0",
          "state": {
            "_model_module": "@jupyter-widgets/base",
            "_model_module_version": "1.2.0",
            "_model_name": "LayoutModel",
            "_view_count": null,
            "_view_module": "@jupyter-widgets/base",
            "_view_module_version": "1.2.0",
            "_view_name": "LayoutView",
            "align_content": null,
            "align_items": null,
            "align_self": null,
            "border": null,
            "bottom": null,
            "display": null,
            "flex": null,
            "flex_flow": null,
            "grid_area": null,
            "grid_auto_columns": null,
            "grid_auto_flow": null,
            "grid_auto_rows": null,
            "grid_column": null,
            "grid_gap": null,
            "grid_row": null,
            "grid_template_areas": null,
            "grid_template_columns": null,
            "grid_template_rows": null,
            "height": null,
            "justify_content": null,
            "justify_items": null,
            "left": null,
            "margin": null,
            "max_height": null,
            "max_width": null,
            "min_height": null,
            "min_width": null,
            "object_fit": null,
            "object_position": null,
            "order": null,
            "overflow": null,
            "overflow_x": null,
            "overflow_y": null,
            "padding": null,
            "right": null,
            "top": null,
            "visibility": null,
            "width": null
          }
        },
        "4aaf86da8c0e4ac7838f3c6ae700720a": {
          "model_module": "@jupyter-widgets/base",
          "model_name": "LayoutModel",
          "model_module_version": "1.2.0",
          "state": {
            "_model_module": "@jupyter-widgets/base",
            "_model_module_version": "1.2.0",
            "_model_name": "LayoutModel",
            "_view_count": null,
            "_view_module": "@jupyter-widgets/base",
            "_view_module_version": "1.2.0",
            "_view_name": "LayoutView",
            "align_content": null,
            "align_items": null,
            "align_self": null,
            "border": null,
            "bottom": null,
            "display": null,
            "flex": null,
            "flex_flow": null,
            "grid_area": null,
            "grid_auto_columns": null,
            "grid_auto_flow": null,
            "grid_auto_rows": null,
            "grid_column": null,
            "grid_gap": null,
            "grid_row": null,
            "grid_template_areas": null,
            "grid_template_columns": null,
            "grid_template_rows": null,
            "height": null,
            "justify_content": null,
            "justify_items": null,
            "left": null,
            "margin": null,
            "max_height": null,
            "max_width": null,
            "min_height": null,
            "min_width": null,
            "object_fit": null,
            "object_position": null,
            "order": null,
            "overflow": null,
            "overflow_x": null,
            "overflow_y": null,
            "padding": null,
            "right": null,
            "top": null,
            "visibility": null,
            "width": null
          }
        },
        "782fbdcabd804fe79d37381a0f7a2093": {
          "model_module": "@jupyter-widgets/controls",
          "model_name": "DescriptionStyleModel",
          "model_module_version": "1.5.0",
          "state": {
            "_model_module": "@jupyter-widgets/controls",
            "_model_module_version": "1.5.0",
            "_model_name": "DescriptionStyleModel",
            "_view_count": null,
            "_view_module": "@jupyter-widgets/base",
            "_view_module_version": "1.2.0",
            "_view_name": "StyleView",
            "description_width": ""
          }
        },
        "f762adde2b344f83a9e810c161ecaf35": {
          "model_module": "@jupyter-widgets/base",
          "model_name": "LayoutModel",
          "model_module_version": "1.2.0",
          "state": {
            "_model_module": "@jupyter-widgets/base",
            "_model_module_version": "1.2.0",
            "_model_name": "LayoutModel",
            "_view_count": null,
            "_view_module": "@jupyter-widgets/base",
            "_view_module_version": "1.2.0",
            "_view_name": "LayoutView",
            "align_content": null,
            "align_items": null,
            "align_self": null,
            "border": null,
            "bottom": null,
            "display": null,
            "flex": null,
            "flex_flow": null,
            "grid_area": null,
            "grid_auto_columns": null,
            "grid_auto_flow": null,
            "grid_auto_rows": null,
            "grid_column": null,
            "grid_gap": null,
            "grid_row": null,
            "grid_template_areas": null,
            "grid_template_columns": null,
            "grid_template_rows": null,
            "height": null,
            "justify_content": null,
            "justify_items": null,
            "left": null,
            "margin": null,
            "max_height": null,
            "max_width": null,
            "min_height": null,
            "min_width": null,
            "object_fit": null,
            "object_position": null,
            "order": null,
            "overflow": null,
            "overflow_x": null,
            "overflow_y": null,
            "padding": null,
            "right": null,
            "top": null,
            "visibility": null,
            "width": null
          }
        },
        "17c2850d619842638f0901247088a4e8": {
          "model_module": "@jupyter-widgets/controls",
          "model_name": "ProgressStyleModel",
          "model_module_version": "1.5.0",
          "state": {
            "_model_module": "@jupyter-widgets/controls",
            "_model_module_version": "1.5.0",
            "_model_name": "ProgressStyleModel",
            "_view_count": null,
            "_view_module": "@jupyter-widgets/base",
            "_view_module_version": "1.2.0",
            "_view_name": "StyleView",
            "bar_color": null,
            "description_width": ""
          }
        },
        "1246d2c04e17404fa04414961e84f233": {
          "model_module": "@jupyter-widgets/base",
          "model_name": "LayoutModel",
          "model_module_version": "1.2.0",
          "state": {
            "_model_module": "@jupyter-widgets/base",
            "_model_module_version": "1.2.0",
            "_model_name": "LayoutModel",
            "_view_count": null,
            "_view_module": "@jupyter-widgets/base",
            "_view_module_version": "1.2.0",
            "_view_name": "LayoutView",
            "align_content": null,
            "align_items": null,
            "align_self": null,
            "border": null,
            "bottom": null,
            "display": null,
            "flex": null,
            "flex_flow": null,
            "grid_area": null,
            "grid_auto_columns": null,
            "grid_auto_flow": null,
            "grid_auto_rows": null,
            "grid_column": null,
            "grid_gap": null,
            "grid_row": null,
            "grid_template_areas": null,
            "grid_template_columns": null,
            "grid_template_rows": null,
            "height": null,
            "justify_content": null,
            "justify_items": null,
            "left": null,
            "margin": null,
            "max_height": null,
            "max_width": null,
            "min_height": null,
            "min_width": null,
            "object_fit": null,
            "object_position": null,
            "order": null,
            "overflow": null,
            "overflow_x": null,
            "overflow_y": null,
            "padding": null,
            "right": null,
            "top": null,
            "visibility": null,
            "width": null
          }
        },
        "002280bb031e43ca90a262e515307845": {
          "model_module": "@jupyter-widgets/controls",
          "model_name": "DescriptionStyleModel",
          "model_module_version": "1.5.0",
          "state": {
            "_model_module": "@jupyter-widgets/controls",
            "_model_module_version": "1.5.0",
            "_model_name": "DescriptionStyleModel",
            "_view_count": null,
            "_view_module": "@jupyter-widgets/base",
            "_view_module_version": "1.2.0",
            "_view_name": "StyleView",
            "description_width": ""
          }
        },
        "f85bc33f8d6f4fdd830906cc157a250a": {
          "model_module": "@jupyter-widgets/controls",
          "model_name": "HBoxModel",
          "model_module_version": "1.5.0",
          "state": {
            "_dom_classes": [],
            "_model_module": "@jupyter-widgets/controls",
            "_model_module_version": "1.5.0",
            "_model_name": "HBoxModel",
            "_view_count": null,
            "_view_module": "@jupyter-widgets/controls",
            "_view_module_version": "1.5.0",
            "_view_name": "HBoxView",
            "box_style": "",
            "children": [
              "IPY_MODEL_9c798128957947179434a19f6e18de3a",
              "IPY_MODEL_516a66c7f8ee46cb8d1ccfa2de17f03c",
              "IPY_MODEL_301381e3effc4f658968e972f75065cf"
            ],
            "layout": "IPY_MODEL_07c9d78a567a41348eb2fa76006c778b"
          }
        },
        "9c798128957947179434a19f6e18de3a": {
          "model_module": "@jupyter-widgets/controls",
          "model_name": "HTMLModel",
          "model_module_version": "1.5.0",
          "state": {
            "_dom_classes": [],
            "_model_module": "@jupyter-widgets/controls",
            "_model_module_version": "1.5.0",
            "_model_name": "HTMLModel",
            "_view_count": null,
            "_view_module": "@jupyter-widgets/controls",
            "_view_module_version": "1.5.0",
            "_view_name": "HTMLView",
            "description": "",
            "description_tooltip": null,
            "layout": "IPY_MODEL_2a1edb97a68b4f45b77e271e103b41be",
            "placeholder": "​",
            "style": "IPY_MODEL_1b8df918a1c14c74a02c9157c9275166",
            "value": "config.json: 100%"
          }
        },
        "516a66c7f8ee46cb8d1ccfa2de17f03c": {
          "model_module": "@jupyter-widgets/controls",
          "model_name": "FloatProgressModel",
          "model_module_version": "1.5.0",
          "state": {
            "_dom_classes": [],
            "_model_module": "@jupyter-widgets/controls",
            "_model_module_version": "1.5.0",
            "_model_name": "FloatProgressModel",
            "_view_count": null,
            "_view_module": "@jupyter-widgets/controls",
            "_view_module_version": "1.5.0",
            "_view_name": "ProgressView",
            "bar_style": "success",
            "description": "",
            "description_tooltip": null,
            "layout": "IPY_MODEL_1cc63903be8b4712b65ef024149f4a19",
            "max": 1206,
            "min": 0,
            "orientation": "horizontal",
            "style": "IPY_MODEL_682606234b914e7f94acbe12d2ec72fe",
            "value": 1206
          }
        },
        "301381e3effc4f658968e972f75065cf": {
          "model_module": "@jupyter-widgets/controls",
          "model_name": "HTMLModel",
          "model_module_version": "1.5.0",
          "state": {
            "_dom_classes": [],
            "_model_module": "@jupyter-widgets/controls",
            "_model_module_version": "1.5.0",
            "_model_name": "HTMLModel",
            "_view_count": null,
            "_view_module": "@jupyter-widgets/controls",
            "_view_module_version": "1.5.0",
            "_view_name": "HTMLView",
            "description": "",
            "description_tooltip": null,
            "layout": "IPY_MODEL_9a34577dc1cf4ce1b99cf55fdc393e24",
            "placeholder": "​",
            "style": "IPY_MODEL_e7c8c25e77294cada73f1da7470edb49",
            "value": " 1.21k/1.21k [00:00&lt;00:00, 73.6kB/s]"
          }
        },
        "07c9d78a567a41348eb2fa76006c778b": {
          "model_module": "@jupyter-widgets/base",
          "model_name": "LayoutModel",
          "model_module_version": "1.2.0",
          "state": {
            "_model_module": "@jupyter-widgets/base",
            "_model_module_version": "1.2.0",
            "_model_name": "LayoutModel",
            "_view_count": null,
            "_view_module": "@jupyter-widgets/base",
            "_view_module_version": "1.2.0",
            "_view_name": "LayoutView",
            "align_content": null,
            "align_items": null,
            "align_self": null,
            "border": null,
            "bottom": null,
            "display": null,
            "flex": null,
            "flex_flow": null,
            "grid_area": null,
            "grid_auto_columns": null,
            "grid_auto_flow": null,
            "grid_auto_rows": null,
            "grid_column": null,
            "grid_gap": null,
            "grid_row": null,
            "grid_template_areas": null,
            "grid_template_columns": null,
            "grid_template_rows": null,
            "height": null,
            "justify_content": null,
            "justify_items": null,
            "left": null,
            "margin": null,
            "max_height": null,
            "max_width": null,
            "min_height": null,
            "min_width": null,
            "object_fit": null,
            "object_position": null,
            "order": null,
            "overflow": null,
            "overflow_x": null,
            "overflow_y": null,
            "padding": null,
            "right": null,
            "top": null,
            "visibility": null,
            "width": null
          }
        },
        "2a1edb97a68b4f45b77e271e103b41be": {
          "model_module": "@jupyter-widgets/base",
          "model_name": "LayoutModel",
          "model_module_version": "1.2.0",
          "state": {
            "_model_module": "@jupyter-widgets/base",
            "_model_module_version": "1.2.0",
            "_model_name": "LayoutModel",
            "_view_count": null,
            "_view_module": "@jupyter-widgets/base",
            "_view_module_version": "1.2.0",
            "_view_name": "LayoutView",
            "align_content": null,
            "align_items": null,
            "align_self": null,
            "border": null,
            "bottom": null,
            "display": null,
            "flex": null,
            "flex_flow": null,
            "grid_area": null,
            "grid_auto_columns": null,
            "grid_auto_flow": null,
            "grid_auto_rows": null,
            "grid_column": null,
            "grid_gap": null,
            "grid_row": null,
            "grid_template_areas": null,
            "grid_template_columns": null,
            "grid_template_rows": null,
            "height": null,
            "justify_content": null,
            "justify_items": null,
            "left": null,
            "margin": null,
            "max_height": null,
            "max_width": null,
            "min_height": null,
            "min_width": null,
            "object_fit": null,
            "object_position": null,
            "order": null,
            "overflow": null,
            "overflow_x": null,
            "overflow_y": null,
            "padding": null,
            "right": null,
            "top": null,
            "visibility": null,
            "width": null
          }
        },
        "1b8df918a1c14c74a02c9157c9275166": {
          "model_module": "@jupyter-widgets/controls",
          "model_name": "DescriptionStyleModel",
          "model_module_version": "1.5.0",
          "state": {
            "_model_module": "@jupyter-widgets/controls",
            "_model_module_version": "1.5.0",
            "_model_name": "DescriptionStyleModel",
            "_view_count": null,
            "_view_module": "@jupyter-widgets/base",
            "_view_module_version": "1.2.0",
            "_view_name": "StyleView",
            "description_width": ""
          }
        },
        "1cc63903be8b4712b65ef024149f4a19": {
          "model_module": "@jupyter-widgets/base",
          "model_name": "LayoutModel",
          "model_module_version": "1.2.0",
          "state": {
            "_model_module": "@jupyter-widgets/base",
            "_model_module_version": "1.2.0",
            "_model_name": "LayoutModel",
            "_view_count": null,
            "_view_module": "@jupyter-widgets/base",
            "_view_module_version": "1.2.0",
            "_view_name": "LayoutView",
            "align_content": null,
            "align_items": null,
            "align_self": null,
            "border": null,
            "bottom": null,
            "display": null,
            "flex": null,
            "flex_flow": null,
            "grid_area": null,
            "grid_auto_columns": null,
            "grid_auto_flow": null,
            "grid_auto_rows": null,
            "grid_column": null,
            "grid_gap": null,
            "grid_row": null,
            "grid_template_areas": null,
            "grid_template_columns": null,
            "grid_template_rows": null,
            "height": null,
            "justify_content": null,
            "justify_items": null,
            "left": null,
            "margin": null,
            "max_height": null,
            "max_width": null,
            "min_height": null,
            "min_width": null,
            "object_fit": null,
            "object_position": null,
            "order": null,
            "overflow": null,
            "overflow_x": null,
            "overflow_y": null,
            "padding": null,
            "right": null,
            "top": null,
            "visibility": null,
            "width": null
          }
        },
        "682606234b914e7f94acbe12d2ec72fe": {
          "model_module": "@jupyter-widgets/controls",
          "model_name": "ProgressStyleModel",
          "model_module_version": "1.5.0",
          "state": {
            "_model_module": "@jupyter-widgets/controls",
            "_model_module_version": "1.5.0",
            "_model_name": "ProgressStyleModel",
            "_view_count": null,
            "_view_module": "@jupyter-widgets/base",
            "_view_module_version": "1.2.0",
            "_view_name": "StyleView",
            "bar_color": null,
            "description_width": ""
          }
        },
        "9a34577dc1cf4ce1b99cf55fdc393e24": {
          "model_module": "@jupyter-widgets/base",
          "model_name": "LayoutModel",
          "model_module_version": "1.2.0",
          "state": {
            "_model_module": "@jupyter-widgets/base",
            "_model_module_version": "1.2.0",
            "_model_name": "LayoutModel",
            "_view_count": null,
            "_view_module": "@jupyter-widgets/base",
            "_view_module_version": "1.2.0",
            "_view_name": "LayoutView",
            "align_content": null,
            "align_items": null,
            "align_self": null,
            "border": null,
            "bottom": null,
            "display": null,
            "flex": null,
            "flex_flow": null,
            "grid_area": null,
            "grid_auto_columns": null,
            "grid_auto_flow": null,
            "grid_auto_rows": null,
            "grid_column": null,
            "grid_gap": null,
            "grid_row": null,
            "grid_template_areas": null,
            "grid_template_columns": null,
            "grid_template_rows": null,
            "height": null,
            "justify_content": null,
            "justify_items": null,
            "left": null,
            "margin": null,
            "max_height": null,
            "max_width": null,
            "min_height": null,
            "min_width": null,
            "object_fit": null,
            "object_position": null,
            "order": null,
            "overflow": null,
            "overflow_x": null,
            "overflow_y": null,
            "padding": null,
            "right": null,
            "top": null,
            "visibility": null,
            "width": null
          }
        },
        "e7c8c25e77294cada73f1da7470edb49": {
          "model_module": "@jupyter-widgets/controls",
          "model_name": "DescriptionStyleModel",
          "model_module_version": "1.5.0",
          "state": {
            "_model_module": "@jupyter-widgets/controls",
            "_model_module_version": "1.5.0",
            "_model_name": "DescriptionStyleModel",
            "_view_count": null,
            "_view_module": "@jupyter-widgets/base",
            "_view_module_version": "1.2.0",
            "_view_name": "StyleView",
            "description_width": ""
          }
        },
        "f2a8bfb8357f465f8dc4f06f6df0645c": {
          "model_module": "@jupyter-widgets/controls",
          "model_name": "HBoxModel",
          "model_module_version": "1.5.0",
          "state": {
            "_dom_classes": [],
            "_model_module": "@jupyter-widgets/controls",
            "_model_module_version": "1.5.0",
            "_model_name": "HBoxModel",
            "_view_count": null,
            "_view_module": "@jupyter-widgets/controls",
            "_view_module_version": "1.5.0",
            "_view_name": "HBoxView",
            "box_style": "",
            "children": [
              "IPY_MODEL_b80dccaaf55c4abd8c1a5584d25c8c23",
              "IPY_MODEL_533313b4ffb44849806c0c2d60c21b94",
              "IPY_MODEL_aee22eb5bbfb48bc9a55eec4a1296377"
            ],
            "layout": "IPY_MODEL_f89b17b5ea924cdc9012ea27ca2bed8f"
          }
        },
        "b80dccaaf55c4abd8c1a5584d25c8c23": {
          "model_module": "@jupyter-widgets/controls",
          "model_name": "HTMLModel",
          "model_module_version": "1.5.0",
          "state": {
            "_dom_classes": [],
            "_model_module": "@jupyter-widgets/controls",
            "_model_module_version": "1.5.0",
            "_model_name": "HTMLModel",
            "_view_count": null,
            "_view_module": "@jupyter-widgets/controls",
            "_view_module_version": "1.5.0",
            "_view_name": "HTMLView",
            "description": "",
            "description_tooltip": null,
            "layout": "IPY_MODEL_d09c398405ae4c0b86f7e7eb64963bf9",
            "placeholder": "​",
            "style": "IPY_MODEL_87be930fb2784e568ecb235858b6d27b",
            "value": "model.safetensors: 100%"
          }
        },
        "533313b4ffb44849806c0c2d60c21b94": {
          "model_module": "@jupyter-widgets/controls",
          "model_name": "FloatProgressModel",
          "model_module_version": "1.5.0",
          "state": {
            "_dom_classes": [],
            "_model_module": "@jupyter-widgets/controls",
            "_model_module_version": "1.5.0",
            "_model_name": "FloatProgressModel",
            "_view_count": null,
            "_view_module": "@jupyter-widgets/controls",
            "_view_module_version": "1.5.0",
            "_view_name": "ProgressView",
            "bar_style": "success",
            "description": "",
            "description_tooltip": null,
            "layout": "IPY_MODEL_47b2fd5bc1d345daab9627b910e28261",
            "max": 242043056,
            "min": 0,
            "orientation": "horizontal",
            "style": "IPY_MODEL_9fa5d8051c024aeca3582af1bcc82311",
            "value": 242043056
          }
        },
        "aee22eb5bbfb48bc9a55eec4a1296377": {
          "model_module": "@jupyter-widgets/controls",
          "model_name": "HTMLModel",
          "model_module_version": "1.5.0",
          "state": {
            "_dom_classes": [],
            "_model_module": "@jupyter-widgets/controls",
            "_model_module_version": "1.5.0",
            "_model_name": "HTMLModel",
            "_view_count": null,
            "_view_module": "@jupyter-widgets/controls",
            "_view_module_version": "1.5.0",
            "_view_name": "HTMLView",
            "description": "",
            "description_tooltip": null,
            "layout": "IPY_MODEL_5c55f352adb64fc88f522923f97cf7f0",
            "placeholder": "​",
            "style": "IPY_MODEL_e1082ae66810437aa5a279215526d612",
            "value": " 242M/242M [00:01&lt;00:00, 246MB/s]"
          }
        },
        "f89b17b5ea924cdc9012ea27ca2bed8f": {
          "model_module": "@jupyter-widgets/base",
          "model_name": "LayoutModel",
          "model_module_version": "1.2.0",
          "state": {
            "_model_module": "@jupyter-widgets/base",
            "_model_module_version": "1.2.0",
            "_model_name": "LayoutModel",
            "_view_count": null,
            "_view_module": "@jupyter-widgets/base",
            "_view_module_version": "1.2.0",
            "_view_name": "LayoutView",
            "align_content": null,
            "align_items": null,
            "align_self": null,
            "border": null,
            "bottom": null,
            "display": null,
            "flex": null,
            "flex_flow": null,
            "grid_area": null,
            "grid_auto_columns": null,
            "grid_auto_flow": null,
            "grid_auto_rows": null,
            "grid_column": null,
            "grid_gap": null,
            "grid_row": null,
            "grid_template_areas": null,
            "grid_template_columns": null,
            "grid_template_rows": null,
            "height": null,
            "justify_content": null,
            "justify_items": null,
            "left": null,
            "margin": null,
            "max_height": null,
            "max_width": null,
            "min_height": null,
            "min_width": null,
            "object_fit": null,
            "object_position": null,
            "order": null,
            "overflow": null,
            "overflow_x": null,
            "overflow_y": null,
            "padding": null,
            "right": null,
            "top": null,
            "visibility": null,
            "width": null
          }
        },
        "d09c398405ae4c0b86f7e7eb64963bf9": {
          "model_module": "@jupyter-widgets/base",
          "model_name": "LayoutModel",
          "model_module_version": "1.2.0",
          "state": {
            "_model_module": "@jupyter-widgets/base",
            "_model_module_version": "1.2.0",
            "_model_name": "LayoutModel",
            "_view_count": null,
            "_view_module": "@jupyter-widgets/base",
            "_view_module_version": "1.2.0",
            "_view_name": "LayoutView",
            "align_content": null,
            "align_items": null,
            "align_self": null,
            "border": null,
            "bottom": null,
            "display": null,
            "flex": null,
            "flex_flow": null,
            "grid_area": null,
            "grid_auto_columns": null,
            "grid_auto_flow": null,
            "grid_auto_rows": null,
            "grid_column": null,
            "grid_gap": null,
            "grid_row": null,
            "grid_template_areas": null,
            "grid_template_columns": null,
            "grid_template_rows": null,
            "height": null,
            "justify_content": null,
            "justify_items": null,
            "left": null,
            "margin": null,
            "max_height": null,
            "max_width": null,
            "min_height": null,
            "min_width": null,
            "object_fit": null,
            "object_position": null,
            "order": null,
            "overflow": null,
            "overflow_x": null,
            "overflow_y": null,
            "padding": null,
            "right": null,
            "top": null,
            "visibility": null,
            "width": null
          }
        },
        "87be930fb2784e568ecb235858b6d27b": {
          "model_module": "@jupyter-widgets/controls",
          "model_name": "DescriptionStyleModel",
          "model_module_version": "1.5.0",
          "state": {
            "_model_module": "@jupyter-widgets/controls",
            "_model_module_version": "1.5.0",
            "_model_name": "DescriptionStyleModel",
            "_view_count": null,
            "_view_module": "@jupyter-widgets/base",
            "_view_module_version": "1.2.0",
            "_view_name": "StyleView",
            "description_width": ""
          }
        },
        "47b2fd5bc1d345daab9627b910e28261": {
          "model_module": "@jupyter-widgets/base",
          "model_name": "LayoutModel",
          "model_module_version": "1.2.0",
          "state": {
            "_model_module": "@jupyter-widgets/base",
            "_model_module_version": "1.2.0",
            "_model_name": "LayoutModel",
            "_view_count": null,
            "_view_module": "@jupyter-widgets/base",
            "_view_module_version": "1.2.0",
            "_view_name": "LayoutView",
            "align_content": null,
            "align_items": null,
            "align_self": null,
            "border": null,
            "bottom": null,
            "display": null,
            "flex": null,
            "flex_flow": null,
            "grid_area": null,
            "grid_auto_columns": null,
            "grid_auto_flow": null,
            "grid_auto_rows": null,
            "grid_column": null,
            "grid_gap": null,
            "grid_row": null,
            "grid_template_areas": null,
            "grid_template_columns": null,
            "grid_template_rows": null,
            "height": null,
            "justify_content": null,
            "justify_items": null,
            "left": null,
            "margin": null,
            "max_height": null,
            "max_width": null,
            "min_height": null,
            "min_width": null,
            "object_fit": null,
            "object_position": null,
            "order": null,
            "overflow": null,
            "overflow_x": null,
            "overflow_y": null,
            "padding": null,
            "right": null,
            "top": null,
            "visibility": null,
            "width": null
          }
        },
        "9fa5d8051c024aeca3582af1bcc82311": {
          "model_module": "@jupyter-widgets/controls",
          "model_name": "ProgressStyleModel",
          "model_module_version": "1.5.0",
          "state": {
            "_model_module": "@jupyter-widgets/controls",
            "_model_module_version": "1.5.0",
            "_model_name": "ProgressStyleModel",
            "_view_count": null,
            "_view_module": "@jupyter-widgets/base",
            "_view_module_version": "1.2.0",
            "_view_name": "StyleView",
            "bar_color": null,
            "description_width": ""
          }
        },
        "5c55f352adb64fc88f522923f97cf7f0": {
          "model_module": "@jupyter-widgets/base",
          "model_name": "LayoutModel",
          "model_module_version": "1.2.0",
          "state": {
            "_model_module": "@jupyter-widgets/base",
            "_model_module_version": "1.2.0",
            "_model_name": "LayoutModel",
            "_view_count": null,
            "_view_module": "@jupyter-widgets/base",
            "_view_module_version": "1.2.0",
            "_view_name": "LayoutView",
            "align_content": null,
            "align_items": null,
            "align_self": null,
            "border": null,
            "bottom": null,
            "display": null,
            "flex": null,
            "flex_flow": null,
            "grid_area": null,
            "grid_auto_columns": null,
            "grid_auto_flow": null,
            "grid_auto_rows": null,
            "grid_column": null,
            "grid_gap": null,
            "grid_row": null,
            "grid_template_areas": null,
            "grid_template_columns": null,
            "grid_template_rows": null,
            "height": null,
            "justify_content": null,
            "justify_items": null,
            "left": null,
            "margin": null,
            "max_height": null,
            "max_width": null,
            "min_height": null,
            "min_width": null,
            "object_fit": null,
            "object_position": null,
            "order": null,
            "overflow": null,
            "overflow_x": null,
            "overflow_y": null,
            "padding": null,
            "right": null,
            "top": null,
            "visibility": null,
            "width": null
          }
        },
        "e1082ae66810437aa5a279215526d612": {
          "model_module": "@jupyter-widgets/controls",
          "model_name": "DescriptionStyleModel",
          "model_module_version": "1.5.0",
          "state": {
            "_model_module": "@jupyter-widgets/controls",
            "_model_module_version": "1.5.0",
            "_model_name": "DescriptionStyleModel",
            "_view_count": null,
            "_view_module": "@jupyter-widgets/base",
            "_view_module_version": "1.2.0",
            "_view_name": "StyleView",
            "description_width": ""
          }
        },
        "9ae151f8edf0483badcb188a195b59e0": {
          "model_module": "@jupyter-widgets/controls",
          "model_name": "HBoxModel",
          "model_module_version": "1.5.0",
          "state": {
            "_dom_classes": [],
            "_model_module": "@jupyter-widgets/controls",
            "_model_module_version": "1.5.0",
            "_model_name": "HBoxModel",
            "_view_count": null,
            "_view_module": "@jupyter-widgets/controls",
            "_view_module_version": "1.5.0",
            "_view_name": "HBoxView",
            "box_style": "",
            "children": [
              "IPY_MODEL_95b6d69d993741d39542880dbd5f4464",
              "IPY_MODEL_ba9c626eb5904cefb002be9931a4b281",
              "IPY_MODEL_79708b2d6f67426ab51f3f5be8ade885"
            ],
            "layout": "IPY_MODEL_91665a9544a544d7bbb0a7d67f91bc26"
          }
        },
        "95b6d69d993741d39542880dbd5f4464": {
          "model_module": "@jupyter-widgets/controls",
          "model_name": "HTMLModel",
          "model_module_version": "1.5.0",
          "state": {
            "_dom_classes": [],
            "_model_module": "@jupyter-widgets/controls",
            "_model_module_version": "1.5.0",
            "_model_name": "HTMLModel",
            "_view_count": null,
            "_view_module": "@jupyter-widgets/controls",
            "_view_module_version": "1.5.0",
            "_view_name": "HTMLView",
            "description": "",
            "description_tooltip": null,
            "layout": "IPY_MODEL_7ad83410b47c4b82b5bbb67772862fee",
            "placeholder": "​",
            "style": "IPY_MODEL_bf77036b1dca4d748dc13a34593736bf",
            "value": "generation_config.json: 100%"
          }
        },
        "ba9c626eb5904cefb002be9931a4b281": {
          "model_module": "@jupyter-widgets/controls",
          "model_name": "FloatProgressModel",
          "model_module_version": "1.5.0",
          "state": {
            "_dom_classes": [],
            "_model_module": "@jupyter-widgets/controls",
            "_model_module_version": "1.5.0",
            "_model_name": "FloatProgressModel",
            "_view_count": null,
            "_view_module": "@jupyter-widgets/controls",
            "_view_module_version": "1.5.0",
            "_view_name": "ProgressView",
            "bar_style": "success",
            "description": "",
            "description_tooltip": null,
            "layout": "IPY_MODEL_17f09cb8f9ce48d4bcfb000ec6c8a7c7",
            "max": 147,
            "min": 0,
            "orientation": "horizontal",
            "style": "IPY_MODEL_4f2fb6418239468a9aadb9281df81597",
            "value": 147
          }
        },
        "79708b2d6f67426ab51f3f5be8ade885": {
          "model_module": "@jupyter-widgets/controls",
          "model_name": "HTMLModel",
          "model_module_version": "1.5.0",
          "state": {
            "_dom_classes": [],
            "_model_module": "@jupyter-widgets/controls",
            "_model_module_version": "1.5.0",
            "_model_name": "HTMLModel",
            "_view_count": null,
            "_view_module": "@jupyter-widgets/controls",
            "_view_module_version": "1.5.0",
            "_view_name": "HTMLView",
            "description": "",
            "description_tooltip": null,
            "layout": "IPY_MODEL_e314068db0b047b2bddc68c992822571",
            "placeholder": "​",
            "style": "IPY_MODEL_53cd956b837441799b1da87e08e268e5",
            "value": " 147/147 [00:00&lt;00:00, 10.6kB/s]"
          }
        },
        "91665a9544a544d7bbb0a7d67f91bc26": {
          "model_module": "@jupyter-widgets/base",
          "model_name": "LayoutModel",
          "model_module_version": "1.2.0",
          "state": {
            "_model_module": "@jupyter-widgets/base",
            "_model_module_version": "1.2.0",
            "_model_name": "LayoutModel",
            "_view_count": null,
            "_view_module": "@jupyter-widgets/base",
            "_view_module_version": "1.2.0",
            "_view_name": "LayoutView",
            "align_content": null,
            "align_items": null,
            "align_self": null,
            "border": null,
            "bottom": null,
            "display": null,
            "flex": null,
            "flex_flow": null,
            "grid_area": null,
            "grid_auto_columns": null,
            "grid_auto_flow": null,
            "grid_auto_rows": null,
            "grid_column": null,
            "grid_gap": null,
            "grid_row": null,
            "grid_template_areas": null,
            "grid_template_columns": null,
            "grid_template_rows": null,
            "height": null,
            "justify_content": null,
            "justify_items": null,
            "left": null,
            "margin": null,
            "max_height": null,
            "max_width": null,
            "min_height": null,
            "min_width": null,
            "object_fit": null,
            "object_position": null,
            "order": null,
            "overflow": null,
            "overflow_x": null,
            "overflow_y": null,
            "padding": null,
            "right": null,
            "top": null,
            "visibility": null,
            "width": null
          }
        },
        "7ad83410b47c4b82b5bbb67772862fee": {
          "model_module": "@jupyter-widgets/base",
          "model_name": "LayoutModel",
          "model_module_version": "1.2.0",
          "state": {
            "_model_module": "@jupyter-widgets/base",
            "_model_module_version": "1.2.0",
            "_model_name": "LayoutModel",
            "_view_count": null,
            "_view_module": "@jupyter-widgets/base",
            "_view_module_version": "1.2.0",
            "_view_name": "LayoutView",
            "align_content": null,
            "align_items": null,
            "align_self": null,
            "border": null,
            "bottom": null,
            "display": null,
            "flex": null,
            "flex_flow": null,
            "grid_area": null,
            "grid_auto_columns": null,
            "grid_auto_flow": null,
            "grid_auto_rows": null,
            "grid_column": null,
            "grid_gap": null,
            "grid_row": null,
            "grid_template_areas": null,
            "grid_template_columns": null,
            "grid_template_rows": null,
            "height": null,
            "justify_content": null,
            "justify_items": null,
            "left": null,
            "margin": null,
            "max_height": null,
            "max_width": null,
            "min_height": null,
            "min_width": null,
            "object_fit": null,
            "object_position": null,
            "order": null,
            "overflow": null,
            "overflow_x": null,
            "overflow_y": null,
            "padding": null,
            "right": null,
            "top": null,
            "visibility": null,
            "width": null
          }
        },
        "bf77036b1dca4d748dc13a34593736bf": {
          "model_module": "@jupyter-widgets/controls",
          "model_name": "DescriptionStyleModel",
          "model_module_version": "1.5.0",
          "state": {
            "_model_module": "@jupyter-widgets/controls",
            "_model_module_version": "1.5.0",
            "_model_name": "DescriptionStyleModel",
            "_view_count": null,
            "_view_module": "@jupyter-widgets/base",
            "_view_module_version": "1.2.0",
            "_view_name": "StyleView",
            "description_width": ""
          }
        },
        "17f09cb8f9ce48d4bcfb000ec6c8a7c7": {
          "model_module": "@jupyter-widgets/base",
          "model_name": "LayoutModel",
          "model_module_version": "1.2.0",
          "state": {
            "_model_module": "@jupyter-widgets/base",
            "_model_module_version": "1.2.0",
            "_model_name": "LayoutModel",
            "_view_count": null,
            "_view_module": "@jupyter-widgets/base",
            "_view_module_version": "1.2.0",
            "_view_name": "LayoutView",
            "align_content": null,
            "align_items": null,
            "align_self": null,
            "border": null,
            "bottom": null,
            "display": null,
            "flex": null,
            "flex_flow": null,
            "grid_area": null,
            "grid_auto_columns": null,
            "grid_auto_flow": null,
            "grid_auto_rows": null,
            "grid_column": null,
            "grid_gap": null,
            "grid_row": null,
            "grid_template_areas": null,
            "grid_template_columns": null,
            "grid_template_rows": null,
            "height": null,
            "justify_content": null,
            "justify_items": null,
            "left": null,
            "margin": null,
            "max_height": null,
            "max_width": null,
            "min_height": null,
            "min_width": null,
            "object_fit": null,
            "object_position": null,
            "order": null,
            "overflow": null,
            "overflow_x": null,
            "overflow_y": null,
            "padding": null,
            "right": null,
            "top": null,
            "visibility": null,
            "width": null
          }
        },
        "4f2fb6418239468a9aadb9281df81597": {
          "model_module": "@jupyter-widgets/controls",
          "model_name": "ProgressStyleModel",
          "model_module_version": "1.5.0",
          "state": {
            "_model_module": "@jupyter-widgets/controls",
            "_model_module_version": "1.5.0",
            "_model_name": "ProgressStyleModel",
            "_view_count": null,
            "_view_module": "@jupyter-widgets/base",
            "_view_module_version": "1.2.0",
            "_view_name": "StyleView",
            "bar_color": null,
            "description_width": ""
          }
        },
        "e314068db0b047b2bddc68c992822571": {
          "model_module": "@jupyter-widgets/base",
          "model_name": "LayoutModel",
          "model_module_version": "1.2.0",
          "state": {
            "_model_module": "@jupyter-widgets/base",
            "_model_module_version": "1.2.0",
            "_model_name": "LayoutModel",
            "_view_count": null,
            "_view_module": "@jupyter-widgets/base",
            "_view_module_version": "1.2.0",
            "_view_name": "LayoutView",
            "align_content": null,
            "align_items": null,
            "align_self": null,
            "border": null,
            "bottom": null,
            "display": null,
            "flex": null,
            "flex_flow": null,
            "grid_area": null,
            "grid_auto_columns": null,
            "grid_auto_flow": null,
            "grid_auto_rows": null,
            "grid_column": null,
            "grid_gap": null,
            "grid_row": null,
            "grid_template_areas": null,
            "grid_template_columns": null,
            "grid_template_rows": null,
            "height": null,
            "justify_content": null,
            "justify_items": null,
            "left": null,
            "margin": null,
            "max_height": null,
            "max_width": null,
            "min_height": null,
            "min_width": null,
            "object_fit": null,
            "object_position": null,
            "order": null,
            "overflow": null,
            "overflow_x": null,
            "overflow_y": null,
            "padding": null,
            "right": null,
            "top": null,
            "visibility": null,
            "width": null
          }
        },
        "53cd956b837441799b1da87e08e268e5": {
          "model_module": "@jupyter-widgets/controls",
          "model_name": "DescriptionStyleModel",
          "model_module_version": "1.5.0",
          "state": {
            "_model_module": "@jupyter-widgets/controls",
            "_model_module_version": "1.5.0",
            "_model_name": "DescriptionStyleModel",
            "_view_count": null,
            "_view_module": "@jupyter-widgets/base",
            "_view_module_version": "1.2.0",
            "_view_name": "StyleView",
            "description_width": ""
          }
        },
        "069f2ebb2b9447adb242f36f416dd9ff": {
          "model_module": "@jupyter-widgets/controls",
          "model_name": "HBoxModel",
          "model_module_version": "1.5.0",
          "state": {
            "_dom_classes": [],
            "_model_module": "@jupyter-widgets/controls",
            "_model_module_version": "1.5.0",
            "_model_name": "HBoxModel",
            "_view_count": null,
            "_view_module": "@jupyter-widgets/controls",
            "_view_module_version": "1.5.0",
            "_view_name": "HBoxView",
            "box_style": "",
            "children": [
              "IPY_MODEL_fb56055cc1c144c4b297ea01f6427033",
              "IPY_MODEL_474a2fad9d2c44dcaa376d1223ebfa5e",
              "IPY_MODEL_e7dbb7097c5e40ad84ea01771cdd3fb0"
            ],
            "layout": "IPY_MODEL_43285a9229574dfbbe48ac870e257d4f"
          }
        },
        "fb56055cc1c144c4b297ea01f6427033": {
          "model_module": "@jupyter-widgets/controls",
          "model_name": "HTMLModel",
          "model_module_version": "1.5.0",
          "state": {
            "_dom_classes": [],
            "_model_module": "@jupyter-widgets/controls",
            "_model_module_version": "1.5.0",
            "_model_name": "HTMLModel",
            "_view_count": null,
            "_view_module": "@jupyter-widgets/controls",
            "_view_module_version": "1.5.0",
            "_view_name": "HTMLView",
            "description": "",
            "description_tooltip": null,
            "layout": "IPY_MODEL_4fdb8ac93c24466eb8c33f9a5a2938cc",
            "placeholder": "​",
            "style": "IPY_MODEL_28e2ffbc2fac4a9d916e1698c203dfc8",
            "value": "tokenizer_config.json: 100%"
          }
        },
        "474a2fad9d2c44dcaa376d1223ebfa5e": {
          "model_module": "@jupyter-widgets/controls",
          "model_name": "FloatProgressModel",
          "model_module_version": "1.5.0",
          "state": {
            "_dom_classes": [],
            "_model_module": "@jupyter-widgets/controls",
            "_model_module_version": "1.5.0",
            "_model_name": "FloatProgressModel",
            "_view_count": null,
            "_view_module": "@jupyter-widgets/controls",
            "_view_module_version": "1.5.0",
            "_view_name": "ProgressView",
            "bar_style": "success",
            "description": "",
            "description_tooltip": null,
            "layout": "IPY_MODEL_0275b4b17c874bedb144d034716c41eb",
            "max": 2324,
            "min": 0,
            "orientation": "horizontal",
            "style": "IPY_MODEL_0b12db3785fb45dfa51fc68001894109",
            "value": 2324
          }
        },
        "e7dbb7097c5e40ad84ea01771cdd3fb0": {
          "model_module": "@jupyter-widgets/controls",
          "model_name": "HTMLModel",
          "model_module_version": "1.5.0",
          "state": {
            "_dom_classes": [],
            "_model_module": "@jupyter-widgets/controls",
            "_model_module_version": "1.5.0",
            "_model_name": "HTMLModel",
            "_view_count": null,
            "_view_module": "@jupyter-widgets/controls",
            "_view_module_version": "1.5.0",
            "_view_name": "HTMLView",
            "description": "",
            "description_tooltip": null,
            "layout": "IPY_MODEL_086ad160c440434596e43dea14146c7e",
            "placeholder": "​",
            "style": "IPY_MODEL_fe9f232004fb4589bad00361bc33e9c4",
            "value": " 2.32k/2.32k [00:00&lt;00:00, 150kB/s]"
          }
        },
        "43285a9229574dfbbe48ac870e257d4f": {
          "model_module": "@jupyter-widgets/base",
          "model_name": "LayoutModel",
          "model_module_version": "1.2.0",
          "state": {
            "_model_module": "@jupyter-widgets/base",
            "_model_module_version": "1.2.0",
            "_model_name": "LayoutModel",
            "_view_count": null,
            "_view_module": "@jupyter-widgets/base",
            "_view_module_version": "1.2.0",
            "_view_name": "LayoutView",
            "align_content": null,
            "align_items": null,
            "align_self": null,
            "border": null,
            "bottom": null,
            "display": null,
            "flex": null,
            "flex_flow": null,
            "grid_area": null,
            "grid_auto_columns": null,
            "grid_auto_flow": null,
            "grid_auto_rows": null,
            "grid_column": null,
            "grid_gap": null,
            "grid_row": null,
            "grid_template_areas": null,
            "grid_template_columns": null,
            "grid_template_rows": null,
            "height": null,
            "justify_content": null,
            "justify_items": null,
            "left": null,
            "margin": null,
            "max_height": null,
            "max_width": null,
            "min_height": null,
            "min_width": null,
            "object_fit": null,
            "object_position": null,
            "order": null,
            "overflow": null,
            "overflow_x": null,
            "overflow_y": null,
            "padding": null,
            "right": null,
            "top": null,
            "visibility": null,
            "width": null
          }
        },
        "4fdb8ac93c24466eb8c33f9a5a2938cc": {
          "model_module": "@jupyter-widgets/base",
          "model_name": "LayoutModel",
          "model_module_version": "1.2.0",
          "state": {
            "_model_module": "@jupyter-widgets/base",
            "_model_module_version": "1.2.0",
            "_model_name": "LayoutModel",
            "_view_count": null,
            "_view_module": "@jupyter-widgets/base",
            "_view_module_version": "1.2.0",
            "_view_name": "LayoutView",
            "align_content": null,
            "align_items": null,
            "align_self": null,
            "border": null,
            "bottom": null,
            "display": null,
            "flex": null,
            "flex_flow": null,
            "grid_area": null,
            "grid_auto_columns": null,
            "grid_auto_flow": null,
            "grid_auto_rows": null,
            "grid_column": null,
            "grid_gap": null,
            "grid_row": null,
            "grid_template_areas": null,
            "grid_template_columns": null,
            "grid_template_rows": null,
            "height": null,
            "justify_content": null,
            "justify_items": null,
            "left": null,
            "margin": null,
            "max_height": null,
            "max_width": null,
            "min_height": null,
            "min_width": null,
            "object_fit": null,
            "object_position": null,
            "order": null,
            "overflow": null,
            "overflow_x": null,
            "overflow_y": null,
            "padding": null,
            "right": null,
            "top": null,
            "visibility": null,
            "width": null
          }
        },
        "28e2ffbc2fac4a9d916e1698c203dfc8": {
          "model_module": "@jupyter-widgets/controls",
          "model_name": "DescriptionStyleModel",
          "model_module_version": "1.5.0",
          "state": {
            "_model_module": "@jupyter-widgets/controls",
            "_model_module_version": "1.5.0",
            "_model_name": "DescriptionStyleModel",
            "_view_count": null,
            "_view_module": "@jupyter-widgets/base",
            "_view_module_version": "1.2.0",
            "_view_name": "StyleView",
            "description_width": ""
          }
        },
        "0275b4b17c874bedb144d034716c41eb": {
          "model_module": "@jupyter-widgets/base",
          "model_name": "LayoutModel",
          "model_module_version": "1.2.0",
          "state": {
            "_model_module": "@jupyter-widgets/base",
            "_model_module_version": "1.2.0",
            "_model_name": "LayoutModel",
            "_view_count": null,
            "_view_module": "@jupyter-widgets/base",
            "_view_module_version": "1.2.0",
            "_view_name": "LayoutView",
            "align_content": null,
            "align_items": null,
            "align_self": null,
            "border": null,
            "bottom": null,
            "display": null,
            "flex": null,
            "flex_flow": null,
            "grid_area": null,
            "grid_auto_columns": null,
            "grid_auto_flow": null,
            "grid_auto_rows": null,
            "grid_column": null,
            "grid_gap": null,
            "grid_row": null,
            "grid_template_areas": null,
            "grid_template_columns": null,
            "grid_template_rows": null,
            "height": null,
            "justify_content": null,
            "justify_items": null,
            "left": null,
            "margin": null,
            "max_height": null,
            "max_width": null,
            "min_height": null,
            "min_width": null,
            "object_fit": null,
            "object_position": null,
            "order": null,
            "overflow": null,
            "overflow_x": null,
            "overflow_y": null,
            "padding": null,
            "right": null,
            "top": null,
            "visibility": null,
            "width": null
          }
        },
        "0b12db3785fb45dfa51fc68001894109": {
          "model_module": "@jupyter-widgets/controls",
          "model_name": "ProgressStyleModel",
          "model_module_version": "1.5.0",
          "state": {
            "_model_module": "@jupyter-widgets/controls",
            "_model_module_version": "1.5.0",
            "_model_name": "ProgressStyleModel",
            "_view_count": null,
            "_view_module": "@jupyter-widgets/base",
            "_view_module_version": "1.2.0",
            "_view_name": "StyleView",
            "bar_color": null,
            "description_width": ""
          }
        },
        "086ad160c440434596e43dea14146c7e": {
          "model_module": "@jupyter-widgets/base",
          "model_name": "LayoutModel",
          "model_module_version": "1.2.0",
          "state": {
            "_model_module": "@jupyter-widgets/base",
            "_model_module_version": "1.2.0",
            "_model_name": "LayoutModel",
            "_view_count": null,
            "_view_module": "@jupyter-widgets/base",
            "_view_module_version": "1.2.0",
            "_view_name": "LayoutView",
            "align_content": null,
            "align_items": null,
            "align_self": null,
            "border": null,
            "bottom": null,
            "display": null,
            "flex": null,
            "flex_flow": null,
            "grid_area": null,
            "grid_auto_columns": null,
            "grid_auto_flow": null,
            "grid_auto_rows": null,
            "grid_column": null,
            "grid_gap": null,
            "grid_row": null,
            "grid_template_areas": null,
            "grid_template_columns": null,
            "grid_template_rows": null,
            "height": null,
            "justify_content": null,
            "justify_items": null,
            "left": null,
            "margin": null,
            "max_height": null,
            "max_width": null,
            "min_height": null,
            "min_width": null,
            "object_fit": null,
            "object_position": null,
            "order": null,
            "overflow": null,
            "overflow_x": null,
            "overflow_y": null,
            "padding": null,
            "right": null,
            "top": null,
            "visibility": null,
            "width": null
          }
        },
        "fe9f232004fb4589bad00361bc33e9c4": {
          "model_module": "@jupyter-widgets/controls",
          "model_name": "DescriptionStyleModel",
          "model_module_version": "1.5.0",
          "state": {
            "_model_module": "@jupyter-widgets/controls",
            "_model_module_version": "1.5.0",
            "_model_name": "DescriptionStyleModel",
            "_view_count": null,
            "_view_module": "@jupyter-widgets/base",
            "_view_module_version": "1.2.0",
            "_view_name": "StyleView",
            "description_width": ""
          }
        },
        "c19b9ba8c9064525873fd9e4327af129": {
          "model_module": "@jupyter-widgets/controls",
          "model_name": "HBoxModel",
          "model_module_version": "1.5.0",
          "state": {
            "_dom_classes": [],
            "_model_module": "@jupyter-widgets/controls",
            "_model_module_version": "1.5.0",
            "_model_name": "HBoxModel",
            "_view_count": null,
            "_view_module": "@jupyter-widgets/controls",
            "_view_module_version": "1.5.0",
            "_view_name": "HBoxView",
            "box_style": "",
            "children": [
              "IPY_MODEL_7e249f38cc5b4893b1e3544e6d0911c1",
              "IPY_MODEL_9cb2ee7f753d474e8430f41013ff1abb",
              "IPY_MODEL_896db856d3074a5283272348ed107c31"
            ],
            "layout": "IPY_MODEL_01855a4ad05b4a2ea3285904170c1606"
          }
        },
        "7e249f38cc5b4893b1e3544e6d0911c1": {
          "model_module": "@jupyter-widgets/controls",
          "model_name": "HTMLModel",
          "model_module_version": "1.5.0",
          "state": {
            "_dom_classes": [],
            "_model_module": "@jupyter-widgets/controls",
            "_model_module_version": "1.5.0",
            "_model_name": "HTMLModel",
            "_view_count": null,
            "_view_module": "@jupyter-widgets/controls",
            "_view_module_version": "1.5.0",
            "_view_name": "HTMLView",
            "description": "",
            "description_tooltip": null,
            "layout": "IPY_MODEL_7510868942954d3bab28691fbdf5d054",
            "placeholder": "​",
            "style": "IPY_MODEL_38898ce5b3e44a4eba60b5fdea923c25",
            "value": "spiece.model: 100%"
          }
        },
        "9cb2ee7f753d474e8430f41013ff1abb": {
          "model_module": "@jupyter-widgets/controls",
          "model_name": "FloatProgressModel",
          "model_module_version": "1.5.0",
          "state": {
            "_dom_classes": [],
            "_model_module": "@jupyter-widgets/controls",
            "_model_module_version": "1.5.0",
            "_model_name": "FloatProgressModel",
            "_view_count": null,
            "_view_module": "@jupyter-widgets/controls",
            "_view_module_version": "1.5.0",
            "_view_name": "ProgressView",
            "bar_style": "success",
            "description": "",
            "description_tooltip": null,
            "layout": "IPY_MODEL_1e77078d08724ed48e9ded7a21c26264",
            "max": 791656,
            "min": 0,
            "orientation": "horizontal",
            "style": "IPY_MODEL_27793051e6e0494e9ef3aff823576a39",
            "value": 791656
          }
        },
        "896db856d3074a5283272348ed107c31": {
          "model_module": "@jupyter-widgets/controls",
          "model_name": "HTMLModel",
          "model_module_version": "1.5.0",
          "state": {
            "_dom_classes": [],
            "_model_module": "@jupyter-widgets/controls",
            "_model_module_version": "1.5.0",
            "_model_name": "HTMLModel",
            "_view_count": null,
            "_view_module": "@jupyter-widgets/controls",
            "_view_module_version": "1.5.0",
            "_view_name": "HTMLView",
            "description": "",
            "description_tooltip": null,
            "layout": "IPY_MODEL_dfb95e3d532e43cbb36165d875a94676",
            "placeholder": "​",
            "style": "IPY_MODEL_02974fb0ca54496ea1ce4d4560d5273f",
            "value": " 792k/792k [00:00&lt;00:00, 9.13MB/s]"
          }
        },
        "01855a4ad05b4a2ea3285904170c1606": {
          "model_module": "@jupyter-widgets/base",
          "model_name": "LayoutModel",
          "model_module_version": "1.2.0",
          "state": {
            "_model_module": "@jupyter-widgets/base",
            "_model_module_version": "1.2.0",
            "_model_name": "LayoutModel",
            "_view_count": null,
            "_view_module": "@jupyter-widgets/base",
            "_view_module_version": "1.2.0",
            "_view_name": "LayoutView",
            "align_content": null,
            "align_items": null,
            "align_self": null,
            "border": null,
            "bottom": null,
            "display": null,
            "flex": null,
            "flex_flow": null,
            "grid_area": null,
            "grid_auto_columns": null,
            "grid_auto_flow": null,
            "grid_auto_rows": null,
            "grid_column": null,
            "grid_gap": null,
            "grid_row": null,
            "grid_template_areas": null,
            "grid_template_columns": null,
            "grid_template_rows": null,
            "height": null,
            "justify_content": null,
            "justify_items": null,
            "left": null,
            "margin": null,
            "max_height": null,
            "max_width": null,
            "min_height": null,
            "min_width": null,
            "object_fit": null,
            "object_position": null,
            "order": null,
            "overflow": null,
            "overflow_x": null,
            "overflow_y": null,
            "padding": null,
            "right": null,
            "top": null,
            "visibility": null,
            "width": null
          }
        },
        "7510868942954d3bab28691fbdf5d054": {
          "model_module": "@jupyter-widgets/base",
          "model_name": "LayoutModel",
          "model_module_version": "1.2.0",
          "state": {
            "_model_module": "@jupyter-widgets/base",
            "_model_module_version": "1.2.0",
            "_model_name": "LayoutModel",
            "_view_count": null,
            "_view_module": "@jupyter-widgets/base",
            "_view_module_version": "1.2.0",
            "_view_name": "LayoutView",
            "align_content": null,
            "align_items": null,
            "align_self": null,
            "border": null,
            "bottom": null,
            "display": null,
            "flex": null,
            "flex_flow": null,
            "grid_area": null,
            "grid_auto_columns": null,
            "grid_auto_flow": null,
            "grid_auto_rows": null,
            "grid_column": null,
            "grid_gap": null,
            "grid_row": null,
            "grid_template_areas": null,
            "grid_template_columns": null,
            "grid_template_rows": null,
            "height": null,
            "justify_content": null,
            "justify_items": null,
            "left": null,
            "margin": null,
            "max_height": null,
            "max_width": null,
            "min_height": null,
            "min_width": null,
            "object_fit": null,
            "object_position": null,
            "order": null,
            "overflow": null,
            "overflow_x": null,
            "overflow_y": null,
            "padding": null,
            "right": null,
            "top": null,
            "visibility": null,
            "width": null
          }
        },
        "38898ce5b3e44a4eba60b5fdea923c25": {
          "model_module": "@jupyter-widgets/controls",
          "model_name": "DescriptionStyleModel",
          "model_module_version": "1.5.0",
          "state": {
            "_model_module": "@jupyter-widgets/controls",
            "_model_module_version": "1.5.0",
            "_model_name": "DescriptionStyleModel",
            "_view_count": null,
            "_view_module": "@jupyter-widgets/base",
            "_view_module_version": "1.2.0",
            "_view_name": "StyleView",
            "description_width": ""
          }
        },
        "1e77078d08724ed48e9ded7a21c26264": {
          "model_module": "@jupyter-widgets/base",
          "model_name": "LayoutModel",
          "model_module_version": "1.2.0",
          "state": {
            "_model_module": "@jupyter-widgets/base",
            "_model_module_version": "1.2.0",
            "_model_name": "LayoutModel",
            "_view_count": null,
            "_view_module": "@jupyter-widgets/base",
            "_view_module_version": "1.2.0",
            "_view_name": "LayoutView",
            "align_content": null,
            "align_items": null,
            "align_self": null,
            "border": null,
            "bottom": null,
            "display": null,
            "flex": null,
            "flex_flow": null,
            "grid_area": null,
            "grid_auto_columns": null,
            "grid_auto_flow": null,
            "grid_auto_rows": null,
            "grid_column": null,
            "grid_gap": null,
            "grid_row": null,
            "grid_template_areas": null,
            "grid_template_columns": null,
            "grid_template_rows": null,
            "height": null,
            "justify_content": null,
            "justify_items": null,
            "left": null,
            "margin": null,
            "max_height": null,
            "max_width": null,
            "min_height": null,
            "min_width": null,
            "object_fit": null,
            "object_position": null,
            "order": null,
            "overflow": null,
            "overflow_x": null,
            "overflow_y": null,
            "padding": null,
            "right": null,
            "top": null,
            "visibility": null,
            "width": null
          }
        },
        "27793051e6e0494e9ef3aff823576a39": {
          "model_module": "@jupyter-widgets/controls",
          "model_name": "ProgressStyleModel",
          "model_module_version": "1.5.0",
          "state": {
            "_model_module": "@jupyter-widgets/controls",
            "_model_module_version": "1.5.0",
            "_model_name": "ProgressStyleModel",
            "_view_count": null,
            "_view_module": "@jupyter-widgets/base",
            "_view_module_version": "1.2.0",
            "_view_name": "StyleView",
            "bar_color": null,
            "description_width": ""
          }
        },
        "dfb95e3d532e43cbb36165d875a94676": {
          "model_module": "@jupyter-widgets/base",
          "model_name": "LayoutModel",
          "model_module_version": "1.2.0",
          "state": {
            "_model_module": "@jupyter-widgets/base",
            "_model_module_version": "1.2.0",
            "_model_name": "LayoutModel",
            "_view_count": null,
            "_view_module": "@jupyter-widgets/base",
            "_view_module_version": "1.2.0",
            "_view_name": "LayoutView",
            "align_content": null,
            "align_items": null,
            "align_self": null,
            "border": null,
            "bottom": null,
            "display": null,
            "flex": null,
            "flex_flow": null,
            "grid_area": null,
            "grid_auto_columns": null,
            "grid_auto_flow": null,
            "grid_auto_rows": null,
            "grid_column": null,
            "grid_gap": null,
            "grid_row": null,
            "grid_template_areas": null,
            "grid_template_columns": null,
            "grid_template_rows": null,
            "height": null,
            "justify_content": null,
            "justify_items": null,
            "left": null,
            "margin": null,
            "max_height": null,
            "max_width": null,
            "min_height": null,
            "min_width": null,
            "object_fit": null,
            "object_position": null,
            "order": null,
            "overflow": null,
            "overflow_x": null,
            "overflow_y": null,
            "padding": null,
            "right": null,
            "top": null,
            "visibility": null,
            "width": null
          }
        },
        "02974fb0ca54496ea1ce4d4560d5273f": {
          "model_module": "@jupyter-widgets/controls",
          "model_name": "DescriptionStyleModel",
          "model_module_version": "1.5.0",
          "state": {
            "_model_module": "@jupyter-widgets/controls",
            "_model_module_version": "1.5.0",
            "_model_name": "DescriptionStyleModel",
            "_view_count": null,
            "_view_module": "@jupyter-widgets/base",
            "_view_module_version": "1.2.0",
            "_view_name": "StyleView",
            "description_width": ""
          }
        },
        "7756120a9f3c4060b02f0c18118b7888": {
          "model_module": "@jupyter-widgets/controls",
          "model_name": "HBoxModel",
          "model_module_version": "1.5.0",
          "state": {
            "_dom_classes": [],
            "_model_module": "@jupyter-widgets/controls",
            "_model_module_version": "1.5.0",
            "_model_name": "HBoxModel",
            "_view_count": null,
            "_view_module": "@jupyter-widgets/controls",
            "_view_module_version": "1.5.0",
            "_view_name": "HBoxView",
            "box_style": "",
            "children": [
              "IPY_MODEL_e51a88dd82e24e589626d42d42daac41",
              "IPY_MODEL_d17e2580a57f4899bde24cbd34d50d0e",
              "IPY_MODEL_b4e08d89024c4eb39fb412e04c62fef7"
            ],
            "layout": "IPY_MODEL_ea0e07013bbc4f9fa0dcd7c25e2a6d57"
          }
        },
        "e51a88dd82e24e589626d42d42daac41": {
          "model_module": "@jupyter-widgets/controls",
          "model_name": "HTMLModel",
          "model_module_version": "1.5.0",
          "state": {
            "_dom_classes": [],
            "_model_module": "@jupyter-widgets/controls",
            "_model_module_version": "1.5.0",
            "_model_name": "HTMLModel",
            "_view_count": null,
            "_view_module": "@jupyter-widgets/controls",
            "_view_module_version": "1.5.0",
            "_view_name": "HTMLView",
            "description": "",
            "description_tooltip": null,
            "layout": "IPY_MODEL_fc4f2ef083fb4d77b96b92ff37b95192",
            "placeholder": "​",
            "style": "IPY_MODEL_e98a65fd7bef4487ac4b82ecaa4ef23c",
            "value": "tokenizer.json: 100%"
          }
        },
        "d17e2580a57f4899bde24cbd34d50d0e": {
          "model_module": "@jupyter-widgets/controls",
          "model_name": "FloatProgressModel",
          "model_module_version": "1.5.0",
          "state": {
            "_dom_classes": [],
            "_model_module": "@jupyter-widgets/controls",
            "_model_module_version": "1.5.0",
            "_model_name": "FloatProgressModel",
            "_view_count": null,
            "_view_module": "@jupyter-widgets/controls",
            "_view_module_version": "1.5.0",
            "_view_name": "ProgressView",
            "bar_style": "success",
            "description": "",
            "description_tooltip": null,
            "layout": "IPY_MODEL_0b62140138fd4be88b96b6f34d50b245",
            "max": 2422193,
            "min": 0,
            "orientation": "horizontal",
            "style": "IPY_MODEL_7c820726b4d04a0a88ea39f3494c9df2",
            "value": 2422193
          }
        },
        "b4e08d89024c4eb39fb412e04c62fef7": {
          "model_module": "@jupyter-widgets/controls",
          "model_name": "HTMLModel",
          "model_module_version": "1.5.0",
          "state": {
            "_dom_classes": [],
            "_model_module": "@jupyter-widgets/controls",
            "_model_module_version": "1.5.0",
            "_model_name": "HTMLModel",
            "_view_count": null,
            "_view_module": "@jupyter-widgets/controls",
            "_view_module_version": "1.5.0",
            "_view_name": "HTMLView",
            "description": "",
            "description_tooltip": null,
            "layout": "IPY_MODEL_28b637f42700419eb2f5d987ac8e7ece",
            "placeholder": "​",
            "style": "IPY_MODEL_62d7582f947a4c53aff469e7a078552f",
            "value": " 2.42M/2.42M [00:00&lt;00:00, 6.51MB/s]"
          }
        },
        "ea0e07013bbc4f9fa0dcd7c25e2a6d57": {
          "model_module": "@jupyter-widgets/base",
          "model_name": "LayoutModel",
          "model_module_version": "1.2.0",
          "state": {
            "_model_module": "@jupyter-widgets/base",
            "_model_module_version": "1.2.0",
            "_model_name": "LayoutModel",
            "_view_count": null,
            "_view_module": "@jupyter-widgets/base",
            "_view_module_version": "1.2.0",
            "_view_name": "LayoutView",
            "align_content": null,
            "align_items": null,
            "align_self": null,
            "border": null,
            "bottom": null,
            "display": null,
            "flex": null,
            "flex_flow": null,
            "grid_area": null,
            "grid_auto_columns": null,
            "grid_auto_flow": null,
            "grid_auto_rows": null,
            "grid_column": null,
            "grid_gap": null,
            "grid_row": null,
            "grid_template_areas": null,
            "grid_template_columns": null,
            "grid_template_rows": null,
            "height": null,
            "justify_content": null,
            "justify_items": null,
            "left": null,
            "margin": null,
            "max_height": null,
            "max_width": null,
            "min_height": null,
            "min_width": null,
            "object_fit": null,
            "object_position": null,
            "order": null,
            "overflow": null,
            "overflow_x": null,
            "overflow_y": null,
            "padding": null,
            "right": null,
            "top": null,
            "visibility": null,
            "width": null
          }
        },
        "fc4f2ef083fb4d77b96b92ff37b95192": {
          "model_module": "@jupyter-widgets/base",
          "model_name": "LayoutModel",
          "model_module_version": "1.2.0",
          "state": {
            "_model_module": "@jupyter-widgets/base",
            "_model_module_version": "1.2.0",
            "_model_name": "LayoutModel",
            "_view_count": null,
            "_view_module": "@jupyter-widgets/base",
            "_view_module_version": "1.2.0",
            "_view_name": "LayoutView",
            "align_content": null,
            "align_items": null,
            "align_self": null,
            "border": null,
            "bottom": null,
            "display": null,
            "flex": null,
            "flex_flow": null,
            "grid_area": null,
            "grid_auto_columns": null,
            "grid_auto_flow": null,
            "grid_auto_rows": null,
            "grid_column": null,
            "grid_gap": null,
            "grid_row": null,
            "grid_template_areas": null,
            "grid_template_columns": null,
            "grid_template_rows": null,
            "height": null,
            "justify_content": null,
            "justify_items": null,
            "left": null,
            "margin": null,
            "max_height": null,
            "max_width": null,
            "min_height": null,
            "min_width": null,
            "object_fit": null,
            "object_position": null,
            "order": null,
            "overflow": null,
            "overflow_x": null,
            "overflow_y": null,
            "padding": null,
            "right": null,
            "top": null,
            "visibility": null,
            "width": null
          }
        },
        "e98a65fd7bef4487ac4b82ecaa4ef23c": {
          "model_module": "@jupyter-widgets/controls",
          "model_name": "DescriptionStyleModel",
          "model_module_version": "1.5.0",
          "state": {
            "_model_module": "@jupyter-widgets/controls",
            "_model_module_version": "1.5.0",
            "_model_name": "DescriptionStyleModel",
            "_view_count": null,
            "_view_module": "@jupyter-widgets/base",
            "_view_module_version": "1.2.0",
            "_view_name": "StyleView",
            "description_width": ""
          }
        },
        "0b62140138fd4be88b96b6f34d50b245": {
          "model_module": "@jupyter-widgets/base",
          "model_name": "LayoutModel",
          "model_module_version": "1.2.0",
          "state": {
            "_model_module": "@jupyter-widgets/base",
            "_model_module_version": "1.2.0",
            "_model_name": "LayoutModel",
            "_view_count": null,
            "_view_module": "@jupyter-widgets/base",
            "_view_module_version": "1.2.0",
            "_view_name": "LayoutView",
            "align_content": null,
            "align_items": null,
            "align_self": null,
            "border": null,
            "bottom": null,
            "display": null,
            "flex": null,
            "flex_flow": null,
            "grid_area": null,
            "grid_auto_columns": null,
            "grid_auto_flow": null,
            "grid_auto_rows": null,
            "grid_column": null,
            "grid_gap": null,
            "grid_row": null,
            "grid_template_areas": null,
            "grid_template_columns": null,
            "grid_template_rows": null,
            "height": null,
            "justify_content": null,
            "justify_items": null,
            "left": null,
            "margin": null,
            "max_height": null,
            "max_width": null,
            "min_height": null,
            "min_width": null,
            "object_fit": null,
            "object_position": null,
            "order": null,
            "overflow": null,
            "overflow_x": null,
            "overflow_y": null,
            "padding": null,
            "right": null,
            "top": null,
            "visibility": null,
            "width": null
          }
        },
        "7c820726b4d04a0a88ea39f3494c9df2": {
          "model_module": "@jupyter-widgets/controls",
          "model_name": "ProgressStyleModel",
          "model_module_version": "1.5.0",
          "state": {
            "_model_module": "@jupyter-widgets/controls",
            "_model_module_version": "1.5.0",
            "_model_name": "ProgressStyleModel",
            "_view_count": null,
            "_view_module": "@jupyter-widgets/base",
            "_view_module_version": "1.2.0",
            "_view_name": "StyleView",
            "bar_color": null,
            "description_width": ""
          }
        },
        "28b637f42700419eb2f5d987ac8e7ece": {
          "model_module": "@jupyter-widgets/base",
          "model_name": "LayoutModel",
          "model_module_version": "1.2.0",
          "state": {
            "_model_module": "@jupyter-widgets/base",
            "_model_module_version": "1.2.0",
            "_model_name": "LayoutModel",
            "_view_count": null,
            "_view_module": "@jupyter-widgets/base",
            "_view_module_version": "1.2.0",
            "_view_name": "LayoutView",
            "align_content": null,
            "align_items": null,
            "align_self": null,
            "border": null,
            "bottom": null,
            "display": null,
            "flex": null,
            "flex_flow": null,
            "grid_area": null,
            "grid_auto_columns": null,
            "grid_auto_flow": null,
            "grid_auto_rows": null,
            "grid_column": null,
            "grid_gap": null,
            "grid_row": null,
            "grid_template_areas": null,
            "grid_template_columns": null,
            "grid_template_rows": null,
            "height": null,
            "justify_content": null,
            "justify_items": null,
            "left": null,
            "margin": null,
            "max_height": null,
            "max_width": null,
            "min_height": null,
            "min_width": null,
            "object_fit": null,
            "object_position": null,
            "order": null,
            "overflow": null,
            "overflow_x": null,
            "overflow_y": null,
            "padding": null,
            "right": null,
            "top": null,
            "visibility": null,
            "width": null
          }
        },
        "62d7582f947a4c53aff469e7a078552f": {
          "model_module": "@jupyter-widgets/controls",
          "model_name": "DescriptionStyleModel",
          "model_module_version": "1.5.0",
          "state": {
            "_model_module": "@jupyter-widgets/controls",
            "_model_module_version": "1.5.0",
            "_model_name": "DescriptionStyleModel",
            "_view_count": null,
            "_view_module": "@jupyter-widgets/base",
            "_view_module_version": "1.2.0",
            "_view_name": "StyleView",
            "description_width": ""
          }
        },
        "3e7c262d2c26447aadf9c06563f8d440": {
          "model_module": "@jupyter-widgets/controls",
          "model_name": "HBoxModel",
          "model_module_version": "1.5.0",
          "state": {
            "_dom_classes": [],
            "_model_module": "@jupyter-widgets/controls",
            "_model_module_version": "1.5.0",
            "_model_name": "HBoxModel",
            "_view_count": null,
            "_view_module": "@jupyter-widgets/controls",
            "_view_module_version": "1.5.0",
            "_view_name": "HBoxView",
            "box_style": "",
            "children": [
              "IPY_MODEL_2c65c7de66054561849443a659ed28a7",
              "IPY_MODEL_61ca8f02c037479f9acbdb8a2f8b3d18",
              "IPY_MODEL_b4c6eb3262024328819a06157bd831a9"
            ],
            "layout": "IPY_MODEL_e3770a39adeb4cfba5c1960ec7169723"
          }
        },
        "2c65c7de66054561849443a659ed28a7": {
          "model_module": "@jupyter-widgets/controls",
          "model_name": "HTMLModel",
          "model_module_version": "1.5.0",
          "state": {
            "_dom_classes": [],
            "_model_module": "@jupyter-widgets/controls",
            "_model_module_version": "1.5.0",
            "_model_name": "HTMLModel",
            "_view_count": null,
            "_view_module": "@jupyter-widgets/controls",
            "_view_module_version": "1.5.0",
            "_view_name": "HTMLView",
            "description": "",
            "description_tooltip": null,
            "layout": "IPY_MODEL_693e7ac2cb3e41b6a5016c483d977280",
            "placeholder": "​",
            "style": "IPY_MODEL_82094b1ed12947719c29b0b7e9edda4f",
            "value": "special_tokens_map.json: 100%"
          }
        },
        "61ca8f02c037479f9acbdb8a2f8b3d18": {
          "model_module": "@jupyter-widgets/controls",
          "model_name": "FloatProgressModel",
          "model_module_version": "1.5.0",
          "state": {
            "_dom_classes": [],
            "_model_module": "@jupyter-widgets/controls",
            "_model_module_version": "1.5.0",
            "_model_name": "FloatProgressModel",
            "_view_count": null,
            "_view_module": "@jupyter-widgets/controls",
            "_view_module_version": "1.5.0",
            "_view_name": "ProgressView",
            "bar_style": "success",
            "description": "",
            "description_tooltip": null,
            "layout": "IPY_MODEL_ee29aab8189a4d63a742eb3d1c46e6af",
            "max": 2201,
            "min": 0,
            "orientation": "horizontal",
            "style": "IPY_MODEL_fd2f64bbc9974817988b2bb2862f0010",
            "value": 2201
          }
        },
        "b4c6eb3262024328819a06157bd831a9": {
          "model_module": "@jupyter-widgets/controls",
          "model_name": "HTMLModel",
          "model_module_version": "1.5.0",
          "state": {
            "_dom_classes": [],
            "_model_module": "@jupyter-widgets/controls",
            "_model_module_version": "1.5.0",
            "_model_name": "HTMLModel",
            "_view_count": null,
            "_view_module": "@jupyter-widgets/controls",
            "_view_module_version": "1.5.0",
            "_view_name": "HTMLView",
            "description": "",
            "description_tooltip": null,
            "layout": "IPY_MODEL_2626c7f06bf04aeb8bf0d47ff92e71c2",
            "placeholder": "​",
            "style": "IPY_MODEL_7ac3ff2882644bdda23c034b6577cc6e",
            "value": " 2.20k/2.20k [00:00&lt;00:00, 129kB/s]"
          }
        },
        "e3770a39adeb4cfba5c1960ec7169723": {
          "model_module": "@jupyter-widgets/base",
          "model_name": "LayoutModel",
          "model_module_version": "1.2.0",
          "state": {
            "_model_module": "@jupyter-widgets/base",
            "_model_module_version": "1.2.0",
            "_model_name": "LayoutModel",
            "_view_count": null,
            "_view_module": "@jupyter-widgets/base",
            "_view_module_version": "1.2.0",
            "_view_name": "LayoutView",
            "align_content": null,
            "align_items": null,
            "align_self": null,
            "border": null,
            "bottom": null,
            "display": null,
            "flex": null,
            "flex_flow": null,
            "grid_area": null,
            "grid_auto_columns": null,
            "grid_auto_flow": null,
            "grid_auto_rows": null,
            "grid_column": null,
            "grid_gap": null,
            "grid_row": null,
            "grid_template_areas": null,
            "grid_template_columns": null,
            "grid_template_rows": null,
            "height": null,
            "justify_content": null,
            "justify_items": null,
            "left": null,
            "margin": null,
            "max_height": null,
            "max_width": null,
            "min_height": null,
            "min_width": null,
            "object_fit": null,
            "object_position": null,
            "order": null,
            "overflow": null,
            "overflow_x": null,
            "overflow_y": null,
            "padding": null,
            "right": null,
            "top": null,
            "visibility": null,
            "width": null
          }
        },
        "693e7ac2cb3e41b6a5016c483d977280": {
          "model_module": "@jupyter-widgets/base",
          "model_name": "LayoutModel",
          "model_module_version": "1.2.0",
          "state": {
            "_model_module": "@jupyter-widgets/base",
            "_model_module_version": "1.2.0",
            "_model_name": "LayoutModel",
            "_view_count": null,
            "_view_module": "@jupyter-widgets/base",
            "_view_module_version": "1.2.0",
            "_view_name": "LayoutView",
            "align_content": null,
            "align_items": null,
            "align_self": null,
            "border": null,
            "bottom": null,
            "display": null,
            "flex": null,
            "flex_flow": null,
            "grid_area": null,
            "grid_auto_columns": null,
            "grid_auto_flow": null,
            "grid_auto_rows": null,
            "grid_column": null,
            "grid_gap": null,
            "grid_row": null,
            "grid_template_areas": null,
            "grid_template_columns": null,
            "grid_template_rows": null,
            "height": null,
            "justify_content": null,
            "justify_items": null,
            "left": null,
            "margin": null,
            "max_height": null,
            "max_width": null,
            "min_height": null,
            "min_width": null,
            "object_fit": null,
            "object_position": null,
            "order": null,
            "overflow": null,
            "overflow_x": null,
            "overflow_y": null,
            "padding": null,
            "right": null,
            "top": null,
            "visibility": null,
            "width": null
          }
        },
        "82094b1ed12947719c29b0b7e9edda4f": {
          "model_module": "@jupyter-widgets/controls",
          "model_name": "DescriptionStyleModel",
          "model_module_version": "1.5.0",
          "state": {
            "_model_module": "@jupyter-widgets/controls",
            "_model_module_version": "1.5.0",
            "_model_name": "DescriptionStyleModel",
            "_view_count": null,
            "_view_module": "@jupyter-widgets/base",
            "_view_module_version": "1.2.0",
            "_view_name": "StyleView",
            "description_width": ""
          }
        },
        "ee29aab8189a4d63a742eb3d1c46e6af": {
          "model_module": "@jupyter-widgets/base",
          "model_name": "LayoutModel",
          "model_module_version": "1.2.0",
          "state": {
            "_model_module": "@jupyter-widgets/base",
            "_model_module_version": "1.2.0",
            "_model_name": "LayoutModel",
            "_view_count": null,
            "_view_module": "@jupyter-widgets/base",
            "_view_module_version": "1.2.0",
            "_view_name": "LayoutView",
            "align_content": null,
            "align_items": null,
            "align_self": null,
            "border": null,
            "bottom": null,
            "display": null,
            "flex": null,
            "flex_flow": null,
            "grid_area": null,
            "grid_auto_columns": null,
            "grid_auto_flow": null,
            "grid_auto_rows": null,
            "grid_column": null,
            "grid_gap": null,
            "grid_row": null,
            "grid_template_areas": null,
            "grid_template_columns": null,
            "grid_template_rows": null,
            "height": null,
            "justify_content": null,
            "justify_items": null,
            "left": null,
            "margin": null,
            "max_height": null,
            "max_width": null,
            "min_height": null,
            "min_width": null,
            "object_fit": null,
            "object_position": null,
            "order": null,
            "overflow": null,
            "overflow_x": null,
            "overflow_y": null,
            "padding": null,
            "right": null,
            "top": null,
            "visibility": null,
            "width": null
          }
        },
        "fd2f64bbc9974817988b2bb2862f0010": {
          "model_module": "@jupyter-widgets/controls",
          "model_name": "ProgressStyleModel",
          "model_module_version": "1.5.0",
          "state": {
            "_model_module": "@jupyter-widgets/controls",
            "_model_module_version": "1.5.0",
            "_model_name": "ProgressStyleModel",
            "_view_count": null,
            "_view_module": "@jupyter-widgets/base",
            "_view_module_version": "1.2.0",
            "_view_name": "StyleView",
            "bar_color": null,
            "description_width": ""
          }
        },
        "2626c7f06bf04aeb8bf0d47ff92e71c2": {
          "model_module": "@jupyter-widgets/base",
          "model_name": "LayoutModel",
          "model_module_version": "1.2.0",
          "state": {
            "_model_module": "@jupyter-widgets/base",
            "_model_module_version": "1.2.0",
            "_model_name": "LayoutModel",
            "_view_count": null,
            "_view_module": "@jupyter-widgets/base",
            "_view_module_version": "1.2.0",
            "_view_name": "LayoutView",
            "align_content": null,
            "align_items": null,
            "align_self": null,
            "border": null,
            "bottom": null,
            "display": null,
            "flex": null,
            "flex_flow": null,
            "grid_area": null,
            "grid_auto_columns": null,
            "grid_auto_flow": null,
            "grid_auto_rows": null,
            "grid_column": null,
            "grid_gap": null,
            "grid_row": null,
            "grid_template_areas": null,
            "grid_template_columns": null,
            "grid_template_rows": null,
            "height": null,
            "justify_content": null,
            "justify_items": null,
            "left": null,
            "margin": null,
            "max_height": null,
            "max_width": null,
            "min_height": null,
            "min_width": null,
            "object_fit": null,
            "object_position": null,
            "order": null,
            "overflow": null,
            "overflow_x": null,
            "overflow_y": null,
            "padding": null,
            "right": null,
            "top": null,
            "visibility": null,
            "width": null
          }
        },
        "7ac3ff2882644bdda23c034b6577cc6e": {
          "model_module": "@jupyter-widgets/controls",
          "model_name": "DescriptionStyleModel",
          "model_module_version": "1.5.0",
          "state": {
            "_model_module": "@jupyter-widgets/controls",
            "_model_module_version": "1.5.0",
            "_model_name": "DescriptionStyleModel",
            "_view_count": null,
            "_view_module": "@jupyter-widgets/base",
            "_view_module_version": "1.2.0",
            "_view_name": "StyleView",
            "description_width": ""
          }
        },
        "d200a2c0f0b34993a30805feb19e5205": {
          "model_module": "@jupyter-widgets/controls",
          "model_name": "HBoxModel",
          "model_module_version": "1.5.0",
          "state": {
            "_dom_classes": [],
            "_model_module": "@jupyter-widgets/controls",
            "_model_module_version": "1.5.0",
            "_model_name": "HBoxModel",
            "_view_count": null,
            "_view_module": "@jupyter-widgets/controls",
            "_view_module_version": "1.5.0",
            "_view_name": "HBoxView",
            "box_style": "",
            "children": [
              "IPY_MODEL_2d613d5b121c4af882604b11c5b3f08a",
              "IPY_MODEL_b1161de555584f048843e61fadc53743",
              "IPY_MODEL_a6dabc4ed7b94d1c8fc15ec0c74e3794"
            ],
            "layout": "IPY_MODEL_7bc7a1e1d974419d8375dacf54f7f6b0"
          }
        },
        "2d613d5b121c4af882604b11c5b3f08a": {
          "model_module": "@jupyter-widgets/controls",
          "model_name": "HTMLModel",
          "model_module_version": "1.5.0",
          "state": {
            "_dom_classes": [],
            "_model_module": "@jupyter-widgets/controls",
            "_model_module_version": "1.5.0",
            "_model_name": "HTMLModel",
            "_view_count": null,
            "_view_module": "@jupyter-widgets/controls",
            "_view_module_version": "1.5.0",
            "_view_name": "HTMLView",
            "description": "",
            "description_tooltip": null,
            "layout": "IPY_MODEL_b90a051117d840e4bdce421e22ff1981",
            "placeholder": "​",
            "style": "IPY_MODEL_eb15c8a9db614942bfaba40cc865307e",
            "value": "config.json: 100%"
          }
        },
        "b1161de555584f048843e61fadc53743": {
          "model_module": "@jupyter-widgets/controls",
          "model_name": "FloatProgressModel",
          "model_module_version": "1.5.0",
          "state": {
            "_dom_classes": [],
            "_model_module": "@jupyter-widgets/controls",
            "_model_module_version": "1.5.0",
            "_model_name": "FloatProgressModel",
            "_view_count": null,
            "_view_module": "@jupyter-widgets/controls",
            "_view_module_version": "1.5.0",
            "_view_name": "ProgressView",
            "bar_style": "success",
            "description": "",
            "description_tooltip": null,
            "layout": "IPY_MODEL_8108d3b46259475dbe5349740e083847",
            "max": 1493,
            "min": 0,
            "orientation": "horizontal",
            "style": "IPY_MODEL_f8013f43f18b450c9f938ef0c6a3df1d",
            "value": 1493
          }
        },
        "a6dabc4ed7b94d1c8fc15ec0c74e3794": {
          "model_module": "@jupyter-widgets/controls",
          "model_name": "HTMLModel",
          "model_module_version": "1.5.0",
          "state": {
            "_dom_classes": [],
            "_model_module": "@jupyter-widgets/controls",
            "_model_module_version": "1.5.0",
            "_model_name": "HTMLModel",
            "_view_count": null,
            "_view_module": "@jupyter-widgets/controls",
            "_view_module_version": "1.5.0",
            "_view_name": "HTMLView",
            "description": "",
            "description_tooltip": null,
            "layout": "IPY_MODEL_8f2986e3ac444859a7a80ebc5947606b",
            "placeholder": "​",
            "style": "IPY_MODEL_ecc8a255ca0a4d9b9f7ab93965a0bfa0",
            "value": " 1.49k/1.49k [00:00&lt;00:00, 77.8kB/s]"
          }
        },
        "7bc7a1e1d974419d8375dacf54f7f6b0": {
          "model_module": "@jupyter-widgets/base",
          "model_name": "LayoutModel",
          "model_module_version": "1.2.0",
          "state": {
            "_model_module": "@jupyter-widgets/base",
            "_model_module_version": "1.2.0",
            "_model_name": "LayoutModel",
            "_view_count": null,
            "_view_module": "@jupyter-widgets/base",
            "_view_module_version": "1.2.0",
            "_view_name": "LayoutView",
            "align_content": null,
            "align_items": null,
            "align_self": null,
            "border": null,
            "bottom": null,
            "display": null,
            "flex": null,
            "flex_flow": null,
            "grid_area": null,
            "grid_auto_columns": null,
            "grid_auto_flow": null,
            "grid_auto_rows": null,
            "grid_column": null,
            "grid_gap": null,
            "grid_row": null,
            "grid_template_areas": null,
            "grid_template_columns": null,
            "grid_template_rows": null,
            "height": null,
            "justify_content": null,
            "justify_items": null,
            "left": null,
            "margin": null,
            "max_height": null,
            "max_width": null,
            "min_height": null,
            "min_width": null,
            "object_fit": null,
            "object_position": null,
            "order": null,
            "overflow": null,
            "overflow_x": null,
            "overflow_y": null,
            "padding": null,
            "right": null,
            "top": null,
            "visibility": null,
            "width": null
          }
        },
        "b90a051117d840e4bdce421e22ff1981": {
          "model_module": "@jupyter-widgets/base",
          "model_name": "LayoutModel",
          "model_module_version": "1.2.0",
          "state": {
            "_model_module": "@jupyter-widgets/base",
            "_model_module_version": "1.2.0",
            "_model_name": "LayoutModel",
            "_view_count": null,
            "_view_module": "@jupyter-widgets/base",
            "_view_module_version": "1.2.0",
            "_view_name": "LayoutView",
            "align_content": null,
            "align_items": null,
            "align_self": null,
            "border": null,
            "bottom": null,
            "display": null,
            "flex": null,
            "flex_flow": null,
            "grid_area": null,
            "grid_auto_columns": null,
            "grid_auto_flow": null,
            "grid_auto_rows": null,
            "grid_column": null,
            "grid_gap": null,
            "grid_row": null,
            "grid_template_areas": null,
            "grid_template_columns": null,
            "grid_template_rows": null,
            "height": null,
            "justify_content": null,
            "justify_items": null,
            "left": null,
            "margin": null,
            "max_height": null,
            "max_width": null,
            "min_height": null,
            "min_width": null,
            "object_fit": null,
            "object_position": null,
            "order": null,
            "overflow": null,
            "overflow_x": null,
            "overflow_y": null,
            "padding": null,
            "right": null,
            "top": null,
            "visibility": null,
            "width": null
          }
        },
        "eb15c8a9db614942bfaba40cc865307e": {
          "model_module": "@jupyter-widgets/controls",
          "model_name": "DescriptionStyleModel",
          "model_module_version": "1.5.0",
          "state": {
            "_model_module": "@jupyter-widgets/controls",
            "_model_module_version": "1.5.0",
            "_model_name": "DescriptionStyleModel",
            "_view_count": null,
            "_view_module": "@jupyter-widgets/base",
            "_view_module_version": "1.2.0",
            "_view_name": "StyleView",
            "description_width": ""
          }
        },
        "8108d3b46259475dbe5349740e083847": {
          "model_module": "@jupyter-widgets/base",
          "model_name": "LayoutModel",
          "model_module_version": "1.2.0",
          "state": {
            "_model_module": "@jupyter-widgets/base",
            "_model_module_version": "1.2.0",
            "_model_name": "LayoutModel",
            "_view_count": null,
            "_view_module": "@jupyter-widgets/base",
            "_view_module_version": "1.2.0",
            "_view_name": "LayoutView",
            "align_content": null,
            "align_items": null,
            "align_self": null,
            "border": null,
            "bottom": null,
            "display": null,
            "flex": null,
            "flex_flow": null,
            "grid_area": null,
            "grid_auto_columns": null,
            "grid_auto_flow": null,
            "grid_auto_rows": null,
            "grid_column": null,
            "grid_gap": null,
            "grid_row": null,
            "grid_template_areas": null,
            "grid_template_columns": null,
            "grid_template_rows": null,
            "height": null,
            "justify_content": null,
            "justify_items": null,
            "left": null,
            "margin": null,
            "max_height": null,
            "max_width": null,
            "min_height": null,
            "min_width": null,
            "object_fit": null,
            "object_position": null,
            "order": null,
            "overflow": null,
            "overflow_x": null,
            "overflow_y": null,
            "padding": null,
            "right": null,
            "top": null,
            "visibility": null,
            "width": null
          }
        },
        "f8013f43f18b450c9f938ef0c6a3df1d": {
          "model_module": "@jupyter-widgets/controls",
          "model_name": "ProgressStyleModel",
          "model_module_version": "1.5.0",
          "state": {
            "_model_module": "@jupyter-widgets/controls",
            "_model_module_version": "1.5.0",
            "_model_name": "ProgressStyleModel",
            "_view_count": null,
            "_view_module": "@jupyter-widgets/base",
            "_view_module_version": "1.2.0",
            "_view_name": "StyleView",
            "bar_color": null,
            "description_width": ""
          }
        },
        "8f2986e3ac444859a7a80ebc5947606b": {
          "model_module": "@jupyter-widgets/base",
          "model_name": "LayoutModel",
          "model_module_version": "1.2.0",
          "state": {
            "_model_module": "@jupyter-widgets/base",
            "_model_module_version": "1.2.0",
            "_model_name": "LayoutModel",
            "_view_count": null,
            "_view_module": "@jupyter-widgets/base",
            "_view_module_version": "1.2.0",
            "_view_name": "LayoutView",
            "align_content": null,
            "align_items": null,
            "align_self": null,
            "border": null,
            "bottom": null,
            "display": null,
            "flex": null,
            "flex_flow": null,
            "grid_area": null,
            "grid_auto_columns": null,
            "grid_auto_flow": null,
            "grid_auto_rows": null,
            "grid_column": null,
            "grid_gap": null,
            "grid_row": null,
            "grid_template_areas": null,
            "grid_template_columns": null,
            "grid_template_rows": null,
            "height": null,
            "justify_content": null,
            "justify_items": null,
            "left": null,
            "margin": null,
            "max_height": null,
            "max_width": null,
            "min_height": null,
            "min_width": null,
            "object_fit": null,
            "object_position": null,
            "order": null,
            "overflow": null,
            "overflow_x": null,
            "overflow_y": null,
            "padding": null,
            "right": null,
            "top": null,
            "visibility": null,
            "width": null
          }
        },
        "ecc8a255ca0a4d9b9f7ab93965a0bfa0": {
          "model_module": "@jupyter-widgets/controls",
          "model_name": "DescriptionStyleModel",
          "model_module_version": "1.5.0",
          "state": {
            "_model_module": "@jupyter-widgets/controls",
            "_model_module_version": "1.5.0",
            "_model_name": "DescriptionStyleModel",
            "_view_count": null,
            "_view_module": "@jupyter-widgets/base",
            "_view_module_version": "1.2.0",
            "_view_name": "StyleView",
            "description_width": ""
          }
        },
        "f1dc69f54d584f68b039601c7eaeba5d": {
          "model_module": "@jupyter-widgets/controls",
          "model_name": "HBoxModel",
          "model_module_version": "1.5.0",
          "state": {
            "_dom_classes": [],
            "_model_module": "@jupyter-widgets/controls",
            "_model_module_version": "1.5.0",
            "_model_name": "HBoxModel",
            "_view_count": null,
            "_view_module": "@jupyter-widgets/controls",
            "_view_module_version": "1.5.0",
            "_view_name": "HBoxView",
            "box_style": "",
            "children": [
              "IPY_MODEL_98cc80dcdef6485a9269c19964c3c76d",
              "IPY_MODEL_90e517d59a044a7c9c016714c1e78278",
              "IPY_MODEL_4735ce59cec34e8cba3998ee9797053e"
            ],
            "layout": "IPY_MODEL_18b4955ce15f427a8dea72805121bf85"
          }
        },
        "98cc80dcdef6485a9269c19964c3c76d": {
          "model_module": "@jupyter-widgets/controls",
          "model_name": "HTMLModel",
          "model_module_version": "1.5.0",
          "state": {
            "_dom_classes": [],
            "_model_module": "@jupyter-widgets/controls",
            "_model_module_version": "1.5.0",
            "_model_name": "HTMLModel",
            "_view_count": null,
            "_view_module": "@jupyter-widgets/controls",
            "_view_module_version": "1.5.0",
            "_view_name": "HTMLView",
            "description": "",
            "description_tooltip": null,
            "layout": "IPY_MODEL_0f8bfee269ff4a4f89e3542721c3420f",
            "placeholder": "​",
            "style": "IPY_MODEL_a3add7a292b84ecfbdbab1144c41cb69",
            "value": "model.safetensors: 100%"
          }
        },
        "90e517d59a044a7c9c016714c1e78278": {
          "model_module": "@jupyter-widgets/controls",
          "model_name": "FloatProgressModel",
          "model_module_version": "1.5.0",
          "state": {
            "_dom_classes": [],
            "_model_module": "@jupyter-widgets/controls",
            "_model_module_version": "1.5.0",
            "_model_name": "FloatProgressModel",
            "_view_count": null,
            "_view_module": "@jupyter-widgets/controls",
            "_view_module_version": "1.5.0",
            "_view_name": "ProgressView",
            "bar_style": "success",
            "description": "",
            "description_tooltip": null,
            "layout": "IPY_MODEL_df1addd7598b4271b4f485c427cd70ef",
            "max": 242042016,
            "min": 0,
            "orientation": "horizontal",
            "style": "IPY_MODEL_28902a47a0434d95b6ac40f834c1894e",
            "value": 242042016
          }
        },
        "4735ce59cec34e8cba3998ee9797053e": {
          "model_module": "@jupyter-widgets/controls",
          "model_name": "HTMLModel",
          "model_module_version": "1.5.0",
          "state": {
            "_dom_classes": [],
            "_model_module": "@jupyter-widgets/controls",
            "_model_module_version": "1.5.0",
            "_model_name": "HTMLModel",
            "_view_count": null,
            "_view_module": "@jupyter-widgets/controls",
            "_view_module_version": "1.5.0",
            "_view_name": "HTMLView",
            "description": "",
            "description_tooltip": null,
            "layout": "IPY_MODEL_b65048f5a0734e1081894ea6c708f687",
            "placeholder": "​",
            "style": "IPY_MODEL_14ce17e4002f4bde8c8455933982c7e1",
            "value": " 242M/242M [00:01&lt;00:00, 236MB/s]"
          }
        },
        "18b4955ce15f427a8dea72805121bf85": {
          "model_module": "@jupyter-widgets/base",
          "model_name": "LayoutModel",
          "model_module_version": "1.2.0",
          "state": {
            "_model_module": "@jupyter-widgets/base",
            "_model_module_version": "1.2.0",
            "_model_name": "LayoutModel",
            "_view_count": null,
            "_view_module": "@jupyter-widgets/base",
            "_view_module_version": "1.2.0",
            "_view_name": "LayoutView",
            "align_content": null,
            "align_items": null,
            "align_self": null,
            "border": null,
            "bottom": null,
            "display": null,
            "flex": null,
            "flex_flow": null,
            "grid_area": null,
            "grid_auto_columns": null,
            "grid_auto_flow": null,
            "grid_auto_rows": null,
            "grid_column": null,
            "grid_gap": null,
            "grid_row": null,
            "grid_template_areas": null,
            "grid_template_columns": null,
            "grid_template_rows": null,
            "height": null,
            "justify_content": null,
            "justify_items": null,
            "left": null,
            "margin": null,
            "max_height": null,
            "max_width": null,
            "min_height": null,
            "min_width": null,
            "object_fit": null,
            "object_position": null,
            "order": null,
            "overflow": null,
            "overflow_x": null,
            "overflow_y": null,
            "padding": null,
            "right": null,
            "top": null,
            "visibility": null,
            "width": null
          }
        },
        "0f8bfee269ff4a4f89e3542721c3420f": {
          "model_module": "@jupyter-widgets/base",
          "model_name": "LayoutModel",
          "model_module_version": "1.2.0",
          "state": {
            "_model_module": "@jupyter-widgets/base",
            "_model_module_version": "1.2.0",
            "_model_name": "LayoutModel",
            "_view_count": null,
            "_view_module": "@jupyter-widgets/base",
            "_view_module_version": "1.2.0",
            "_view_name": "LayoutView",
            "align_content": null,
            "align_items": null,
            "align_self": null,
            "border": null,
            "bottom": null,
            "display": null,
            "flex": null,
            "flex_flow": null,
            "grid_area": null,
            "grid_auto_columns": null,
            "grid_auto_flow": null,
            "grid_auto_rows": null,
            "grid_column": null,
            "grid_gap": null,
            "grid_row": null,
            "grid_template_areas": null,
            "grid_template_columns": null,
            "grid_template_rows": null,
            "height": null,
            "justify_content": null,
            "justify_items": null,
            "left": null,
            "margin": null,
            "max_height": null,
            "max_width": null,
            "min_height": null,
            "min_width": null,
            "object_fit": null,
            "object_position": null,
            "order": null,
            "overflow": null,
            "overflow_x": null,
            "overflow_y": null,
            "padding": null,
            "right": null,
            "top": null,
            "visibility": null,
            "width": null
          }
        },
        "a3add7a292b84ecfbdbab1144c41cb69": {
          "model_module": "@jupyter-widgets/controls",
          "model_name": "DescriptionStyleModel",
          "model_module_version": "1.5.0",
          "state": {
            "_model_module": "@jupyter-widgets/controls",
            "_model_module_version": "1.5.0",
            "_model_name": "DescriptionStyleModel",
            "_view_count": null,
            "_view_module": "@jupyter-widgets/base",
            "_view_module_version": "1.2.0",
            "_view_name": "StyleView",
            "description_width": ""
          }
        },
        "df1addd7598b4271b4f485c427cd70ef": {
          "model_module": "@jupyter-widgets/base",
          "model_name": "LayoutModel",
          "model_module_version": "1.2.0",
          "state": {
            "_model_module": "@jupyter-widgets/base",
            "_model_module_version": "1.2.0",
            "_model_name": "LayoutModel",
            "_view_count": null,
            "_view_module": "@jupyter-widgets/base",
            "_view_module_version": "1.2.0",
            "_view_name": "LayoutView",
            "align_content": null,
            "align_items": null,
            "align_self": null,
            "border": null,
            "bottom": null,
            "display": null,
            "flex": null,
            "flex_flow": null,
            "grid_area": null,
            "grid_auto_columns": null,
            "grid_auto_flow": null,
            "grid_auto_rows": null,
            "grid_column": null,
            "grid_gap": null,
            "grid_row": null,
            "grid_template_areas": null,
            "grid_template_columns": null,
            "grid_template_rows": null,
            "height": null,
            "justify_content": null,
            "justify_items": null,
            "left": null,
            "margin": null,
            "max_height": null,
            "max_width": null,
            "min_height": null,
            "min_width": null,
            "object_fit": null,
            "object_position": null,
            "order": null,
            "overflow": null,
            "overflow_x": null,
            "overflow_y": null,
            "padding": null,
            "right": null,
            "top": null,
            "visibility": null,
            "width": null
          }
        },
        "28902a47a0434d95b6ac40f834c1894e": {
          "model_module": "@jupyter-widgets/controls",
          "model_name": "ProgressStyleModel",
          "model_module_version": "1.5.0",
          "state": {
            "_model_module": "@jupyter-widgets/controls",
            "_model_module_version": "1.5.0",
            "_model_name": "ProgressStyleModel",
            "_view_count": null,
            "_view_module": "@jupyter-widgets/base",
            "_view_module_version": "1.2.0",
            "_view_name": "StyleView",
            "bar_color": null,
            "description_width": ""
          }
        },
        "b65048f5a0734e1081894ea6c708f687": {
          "model_module": "@jupyter-widgets/base",
          "model_name": "LayoutModel",
          "model_module_version": "1.2.0",
          "state": {
            "_model_module": "@jupyter-widgets/base",
            "_model_module_version": "1.2.0",
            "_model_name": "LayoutModel",
            "_view_count": null,
            "_view_module": "@jupyter-widgets/base",
            "_view_module_version": "1.2.0",
            "_view_name": "LayoutView",
            "align_content": null,
            "align_items": null,
            "align_self": null,
            "border": null,
            "bottom": null,
            "display": null,
            "flex": null,
            "flex_flow": null,
            "grid_area": null,
            "grid_auto_columns": null,
            "grid_auto_flow": null,
            "grid_auto_rows": null,
            "grid_column": null,
            "grid_gap": null,
            "grid_row": null,
            "grid_template_areas": null,
            "grid_template_columns": null,
            "grid_template_rows": null,
            "height": null,
            "justify_content": null,
            "justify_items": null,
            "left": null,
            "margin": null,
            "max_height": null,
            "max_width": null,
            "min_height": null,
            "min_width": null,
            "object_fit": null,
            "object_position": null,
            "order": null,
            "overflow": null,
            "overflow_x": null,
            "overflow_y": null,
            "padding": null,
            "right": null,
            "top": null,
            "visibility": null,
            "width": null
          }
        },
        "14ce17e4002f4bde8c8455933982c7e1": {
          "model_module": "@jupyter-widgets/controls",
          "model_name": "DescriptionStyleModel",
          "model_module_version": "1.5.0",
          "state": {
            "_model_module": "@jupyter-widgets/controls",
            "_model_module_version": "1.5.0",
            "_model_name": "DescriptionStyleModel",
            "_view_count": null,
            "_view_module": "@jupyter-widgets/base",
            "_view_module_version": "1.2.0",
            "_view_name": "StyleView",
            "description_width": ""
          }
        },
        "fad46e1362c24b21a89c77ceba696263": {
          "model_module": "@jupyter-widgets/controls",
          "model_name": "HBoxModel",
          "model_module_version": "1.5.0",
          "state": {
            "_dom_classes": [],
            "_model_module": "@jupyter-widgets/controls",
            "_model_module_version": "1.5.0",
            "_model_name": "HBoxModel",
            "_view_count": null,
            "_view_module": "@jupyter-widgets/controls",
            "_view_module_version": "1.5.0",
            "_view_name": "HBoxView",
            "box_style": "",
            "children": [
              "IPY_MODEL_f231cfd2c8984bfb85fa1a3323b48ab9",
              "IPY_MODEL_1477422317b64a4ab589c758f2861857",
              "IPY_MODEL_64f514b470d2432a89941af2c4f86f8d"
            ],
            "layout": "IPY_MODEL_6d9c57764c3f496a8261ee42945dd9b5"
          }
        },
        "f231cfd2c8984bfb85fa1a3323b48ab9": {
          "model_module": "@jupyter-widgets/controls",
          "model_name": "HTMLModel",
          "model_module_version": "1.5.0",
          "state": {
            "_dom_classes": [],
            "_model_module": "@jupyter-widgets/controls",
            "_model_module_version": "1.5.0",
            "_model_name": "HTMLModel",
            "_view_count": null,
            "_view_module": "@jupyter-widgets/controls",
            "_view_module_version": "1.5.0",
            "_view_name": "HTMLView",
            "description": "",
            "description_tooltip": null,
            "layout": "IPY_MODEL_7ee971dd30594dddbe678467dfa8c3e1",
            "placeholder": "​",
            "style": "IPY_MODEL_2b79955c2f0945619b09e0b134a48b1b",
            "value": "generation_config.json: 100%"
          }
        },
        "1477422317b64a4ab589c758f2861857": {
          "model_module": "@jupyter-widgets/controls",
          "model_name": "FloatProgressModel",
          "model_module_version": "1.5.0",
          "state": {
            "_dom_classes": [],
            "_model_module": "@jupyter-widgets/controls",
            "_model_module_version": "1.5.0",
            "_model_name": "FloatProgressModel",
            "_view_count": null,
            "_view_module": "@jupyter-widgets/controls",
            "_view_module_version": "1.5.0",
            "_view_name": "ProgressView",
            "bar_style": "success",
            "description": "",
            "description_tooltip": null,
            "layout": "IPY_MODEL_8973ba91d575407399c3be55fec1be30",
            "max": 112,
            "min": 0,
            "orientation": "horizontal",
            "style": "IPY_MODEL_bc770747515f42edb23c78112bb15e97",
            "value": 112
          }
        },
        "64f514b470d2432a89941af2c4f86f8d": {
          "model_module": "@jupyter-widgets/controls",
          "model_name": "HTMLModel",
          "model_module_version": "1.5.0",
          "state": {
            "_dom_classes": [],
            "_model_module": "@jupyter-widgets/controls",
            "_model_module_version": "1.5.0",
            "_model_name": "HTMLModel",
            "_view_count": null,
            "_view_module": "@jupyter-widgets/controls",
            "_view_module_version": "1.5.0",
            "_view_name": "HTMLView",
            "description": "",
            "description_tooltip": null,
            "layout": "IPY_MODEL_b438a3984d7f4a0ca07299abf9b2b9f6",
            "placeholder": "​",
            "style": "IPY_MODEL_1502810165754961ac888daafe29bcc7",
            "value": " 112/112 [00:00&lt;00:00, 7.56kB/s]"
          }
        },
        "6d9c57764c3f496a8261ee42945dd9b5": {
          "model_module": "@jupyter-widgets/base",
          "model_name": "LayoutModel",
          "model_module_version": "1.2.0",
          "state": {
            "_model_module": "@jupyter-widgets/base",
            "_model_module_version": "1.2.0",
            "_model_name": "LayoutModel",
            "_view_count": null,
            "_view_module": "@jupyter-widgets/base",
            "_view_module_version": "1.2.0",
            "_view_name": "LayoutView",
            "align_content": null,
            "align_items": null,
            "align_self": null,
            "border": null,
            "bottom": null,
            "display": null,
            "flex": null,
            "flex_flow": null,
            "grid_area": null,
            "grid_auto_columns": null,
            "grid_auto_flow": null,
            "grid_auto_rows": null,
            "grid_column": null,
            "grid_gap": null,
            "grid_row": null,
            "grid_template_areas": null,
            "grid_template_columns": null,
            "grid_template_rows": null,
            "height": null,
            "justify_content": null,
            "justify_items": null,
            "left": null,
            "margin": null,
            "max_height": null,
            "max_width": null,
            "min_height": null,
            "min_width": null,
            "object_fit": null,
            "object_position": null,
            "order": null,
            "overflow": null,
            "overflow_x": null,
            "overflow_y": null,
            "padding": null,
            "right": null,
            "top": null,
            "visibility": null,
            "width": null
          }
        },
        "7ee971dd30594dddbe678467dfa8c3e1": {
          "model_module": "@jupyter-widgets/base",
          "model_name": "LayoutModel",
          "model_module_version": "1.2.0",
          "state": {
            "_model_module": "@jupyter-widgets/base",
            "_model_module_version": "1.2.0",
            "_model_name": "LayoutModel",
            "_view_count": null,
            "_view_module": "@jupyter-widgets/base",
            "_view_module_version": "1.2.0",
            "_view_name": "LayoutView",
            "align_content": null,
            "align_items": null,
            "align_self": null,
            "border": null,
            "bottom": null,
            "display": null,
            "flex": null,
            "flex_flow": null,
            "grid_area": null,
            "grid_auto_columns": null,
            "grid_auto_flow": null,
            "grid_auto_rows": null,
            "grid_column": null,
            "grid_gap": null,
            "grid_row": null,
            "grid_template_areas": null,
            "grid_template_columns": null,
            "grid_template_rows": null,
            "height": null,
            "justify_content": null,
            "justify_items": null,
            "left": null,
            "margin": null,
            "max_height": null,
            "max_width": null,
            "min_height": null,
            "min_width": null,
            "object_fit": null,
            "object_position": null,
            "order": null,
            "overflow": null,
            "overflow_x": null,
            "overflow_y": null,
            "padding": null,
            "right": null,
            "top": null,
            "visibility": null,
            "width": null
          }
        },
        "2b79955c2f0945619b09e0b134a48b1b": {
          "model_module": "@jupyter-widgets/controls",
          "model_name": "DescriptionStyleModel",
          "model_module_version": "1.5.0",
          "state": {
            "_model_module": "@jupyter-widgets/controls",
            "_model_module_version": "1.5.0",
            "_model_name": "DescriptionStyleModel",
            "_view_count": null,
            "_view_module": "@jupyter-widgets/base",
            "_view_module_version": "1.2.0",
            "_view_name": "StyleView",
            "description_width": ""
          }
        },
        "8973ba91d575407399c3be55fec1be30": {
          "model_module": "@jupyter-widgets/base",
          "model_name": "LayoutModel",
          "model_module_version": "1.2.0",
          "state": {
            "_model_module": "@jupyter-widgets/base",
            "_model_module_version": "1.2.0",
            "_model_name": "LayoutModel",
            "_view_count": null,
            "_view_module": "@jupyter-widgets/base",
            "_view_module_version": "1.2.0",
            "_view_name": "LayoutView",
            "align_content": null,
            "align_items": null,
            "align_self": null,
            "border": null,
            "bottom": null,
            "display": null,
            "flex": null,
            "flex_flow": null,
            "grid_area": null,
            "grid_auto_columns": null,
            "grid_auto_flow": null,
            "grid_auto_rows": null,
            "grid_column": null,
            "grid_gap": null,
            "grid_row": null,
            "grid_template_areas": null,
            "grid_template_columns": null,
            "grid_template_rows": null,
            "height": null,
            "justify_content": null,
            "justify_items": null,
            "left": null,
            "margin": null,
            "max_height": null,
            "max_width": null,
            "min_height": null,
            "min_width": null,
            "object_fit": null,
            "object_position": null,
            "order": null,
            "overflow": null,
            "overflow_x": null,
            "overflow_y": null,
            "padding": null,
            "right": null,
            "top": null,
            "visibility": null,
            "width": null
          }
        },
        "bc770747515f42edb23c78112bb15e97": {
          "model_module": "@jupyter-widgets/controls",
          "model_name": "ProgressStyleModel",
          "model_module_version": "1.5.0",
          "state": {
            "_model_module": "@jupyter-widgets/controls",
            "_model_module_version": "1.5.0",
            "_model_name": "ProgressStyleModel",
            "_view_count": null,
            "_view_module": "@jupyter-widgets/base",
            "_view_module_version": "1.2.0",
            "_view_name": "StyleView",
            "bar_color": null,
            "description_width": ""
          }
        },
        "b438a3984d7f4a0ca07299abf9b2b9f6": {
          "model_module": "@jupyter-widgets/base",
          "model_name": "LayoutModel",
          "model_module_version": "1.2.0",
          "state": {
            "_model_module": "@jupyter-widgets/base",
            "_model_module_version": "1.2.0",
            "_model_name": "LayoutModel",
            "_view_count": null,
            "_view_module": "@jupyter-widgets/base",
            "_view_module_version": "1.2.0",
            "_view_name": "LayoutView",
            "align_content": null,
            "align_items": null,
            "align_self": null,
            "border": null,
            "bottom": null,
            "display": null,
            "flex": null,
            "flex_flow": null,
            "grid_area": null,
            "grid_auto_columns": null,
            "grid_auto_flow": null,
            "grid_auto_rows": null,
            "grid_column": null,
            "grid_gap": null,
            "grid_row": null,
            "grid_template_areas": null,
            "grid_template_columns": null,
            "grid_template_rows": null,
            "height": null,
            "justify_content": null,
            "justify_items": null,
            "left": null,
            "margin": null,
            "max_height": null,
            "max_width": null,
            "min_height": null,
            "min_width": null,
            "object_fit": null,
            "object_position": null,
            "order": null,
            "overflow": null,
            "overflow_x": null,
            "overflow_y": null,
            "padding": null,
            "right": null,
            "top": null,
            "visibility": null,
            "width": null
          }
        },
        "1502810165754961ac888daafe29bcc7": {
          "model_module": "@jupyter-widgets/controls",
          "model_name": "DescriptionStyleModel",
          "model_module_version": "1.5.0",
          "state": {
            "_model_module": "@jupyter-widgets/controls",
            "_model_module_version": "1.5.0",
            "_model_name": "DescriptionStyleModel",
            "_view_count": null,
            "_view_module": "@jupyter-widgets/base",
            "_view_module_version": "1.2.0",
            "_view_name": "StyleView",
            "description_width": ""
          }
        }
      }
    }
  },
  "cells": [
    {
      "cell_type": "markdown",
      "source": [
        "# IMPORTS"
      ],
      "metadata": {
        "id": "pkLepq7iGQnP"
      }
    },
    {
      "cell_type": "code",
      "source": [
        "!pip install -qq transformers accelerate evaluate"
      ],
      "metadata": {
        "id": "_NYRs39XEYCK",
        "colab": {
          "base_uri": "https://localhost:8080/"
        },
        "outputId": "d9674dff-84b0-4522-94a3-186601d0004d"
      },
      "execution_count": null,
      "outputs": [
        {
          "output_type": "stream",
          "name": "stdout",
          "text": [
            "\u001b[?25l     \u001b[90m━━━━━━━━━━━━━━━━━━━━━━━━━━━━━━━━━━━━━━━━\u001b[0m \u001b[32m0.0/302.6 kB\u001b[0m \u001b[31m?\u001b[0m eta \u001b[36m-:--:--\u001b[0m\r\u001b[2K     \u001b[91m━━━━━━━━━━━━\u001b[0m\u001b[90m╺\u001b[0m\u001b[90m━━━━━━━━━━━━━━━━━━━━━━━━━━━\u001b[0m \u001b[32m92.2/302.6 kB\u001b[0m \u001b[31m2.5 MB/s\u001b[0m eta \u001b[36m0:00:01\u001b[0m\r\u001b[2K     \u001b[91m━━━━━━━━━━━━━━━━━━━━━━━━━━━━━━━━━━━━━━━\u001b[0m\u001b[90m╺\u001b[0m \u001b[32m297.0/302.6 kB\u001b[0m \u001b[31m4.7 MB/s\u001b[0m eta \u001b[36m0:00:01\u001b[0m\r\u001b[2K     \u001b[90m━━━━━━━━━━━━━━━━━━━━━━━━━━━━━━━━━━━━━━━━\u001b[0m \u001b[32m302.6/302.6 kB\u001b[0m \u001b[31m3.9 MB/s\u001b[0m eta \u001b[36m0:00:00\u001b[0m\n",
            "\u001b[2K     \u001b[90m━━━━━━━━━━━━━━━━━━━━━━━━━━━━━━━━━━━━━━━━\u001b[0m \u001b[32m84.1/84.1 kB\u001b[0m \u001b[31m4.7 MB/s\u001b[0m eta \u001b[36m0:00:00\u001b[0m\n",
            "\u001b[2K     \u001b[90m━━━━━━━━━━━━━━━━━━━━━━━━━━━━━━━━━━━━━━━━\u001b[0m \u001b[32m542.0/542.0 kB\u001b[0m \u001b[31m9.6 MB/s\u001b[0m eta \u001b[36m0:00:00\u001b[0m\n",
            "\u001b[2K     \u001b[90m━━━━━━━━━━━━━━━━━━━━━━━━━━━━━━━━━━━━━━━━\u001b[0m \u001b[32m116.3/116.3 kB\u001b[0m \u001b[31m7.7 MB/s\u001b[0m eta \u001b[36m0:00:00\u001b[0m\n",
            "\u001b[2K     \u001b[90m━━━━━━━━━━━━━━━━━━━━━━━━━━━━━━━━━━━━━━━━\u001b[0m \u001b[32m194.1/194.1 kB\u001b[0m \u001b[31m8.5 MB/s\u001b[0m eta \u001b[36m0:00:00\u001b[0m\n",
            "\u001b[2K     \u001b[90m━━━━━━━━━━━━━━━━━━━━━━━━━━━━━━━━━━━━━━━━\u001b[0m \u001b[32m134.8/134.8 kB\u001b[0m \u001b[31m4.9 MB/s\u001b[0m eta \u001b[36m0:00:00\u001b[0m\n",
            "\u001b[2K     \u001b[90m━━━━━━━━━━━━━━━━━━━━━━━━━━━━━━━━━━━━━━━━\u001b[0m \u001b[32m21.3/21.3 MB\u001b[0m \u001b[31m53.7 MB/s\u001b[0m eta \u001b[36m0:00:00\u001b[0m\n",
            "\u001b[?25h"
          ]
        }
      ]
    },
    {
      "cell_type": "code",
      "source": [
        "! pip install -q evaluate rouge_score"
      ],
      "metadata": {
        "colab": {
          "base_uri": "https://localhost:8080/"
        },
        "id": "YrvU-5brTsmx",
        "outputId": "a84838c2-ee99-42a9-c37a-ccfe487b9e43"
      },
      "execution_count": null,
      "outputs": [
        {
          "output_type": "stream",
          "name": "stdout",
          "text": [
            "  Preparing metadata (setup.py) ... \u001b[?25l\u001b[?25hdone\n",
            "  Building wheel for rouge_score (setup.py) ... \u001b[?25l\u001b[?25hdone\n"
          ]
        }
      ]
    },
    {
      "cell_type": "code",
      "source": [
        "import re\n",
        "import random\n",
        "import evaluate\n",
        "from google.colab import drive\n",
        "import matplotlib.pyplot as plt\n",
        "import pandas as pd\n",
        "import numpy as np\n",
        "from sklearn.metrics import ConfusionMatrixDisplay, confusion_matrix, classification_report, accuracy_score, f1_score, precision_score, recall_score\n",
        "from sklearn.model_selection import train_test_split\n",
        "import torch\n",
        "from torch.utils.data import Dataset\n",
        "import transformers\n",
        "from keras.callbacks import EarlyStopping\n",
        "from transformers import AutoModelForSeq2SeqLM, AutoTokenizer, Seq2SeqTrainer, Seq2SeqTrainingArguments, pipeline, DataCollatorForSeq2Seq, T5ForConditionalGeneration, T5Tokenizer\n",
        "from transformers.data.processors.utils import InputFeatures\n",
        "from datasets import load_dataset\n",
        "\n",
        "\n",
        "pd.options.mode.chained_assignment = None # Turn off some annoying pandas warning"
      ],
      "metadata": {
        "id": "twpP5OgAD1-a"
      },
      "execution_count": null,
      "outputs": []
    },
    {
      "cell_type": "code",
      "source": [
        "if torch.cuda.is_available():\n",
        "    device = torch.device(\"cuda\")\n",
        "    print(f'There are {torch.cuda.device_count()} GPU(s) available.')\n",
        "    print('We will use the GPU:', torch.cuda.get_device_name(0))\n",
        "else:\n",
        "    print('No GPU available, using the CPU instead.')\n",
        "    device = torch.device(\"cpu\")"
      ],
      "metadata": {
        "id": "ab1VEIiToILU",
        "colab": {
          "base_uri": "https://localhost:8080/"
        },
        "outputId": "3b14e847-392b-4ac0-80b6-0f1501ef3823"
      },
      "execution_count": null,
      "outputs": [
        {
          "output_type": "stream",
          "name": "stdout",
          "text": [
            "There are 1 GPU(s) available.\n",
            "We will use the GPU: Tesla T4\n"
          ]
        }
      ]
    },
    {
      "cell_type": "code",
      "source": [
        "SEED = 42\n",
        "\n",
        "random.seed(SEED)\n",
        "np.random.seed(SEED)\n",
        "torch.manual_seed(SEED)\n",
        "torch.cuda.manual_seed(SEED)\n",
        "torch.cuda.manual_seed_all(SEED)\n",
        "torch.backends.cudnn.deterministic = True\n",
        "torch.backends.cudnn.benchmark = False"
      ],
      "metadata": {
        "id": "cbbAQ73boI5-"
      },
      "execution_count": null,
      "outputs": []
    },
    {
      "cell_type": "markdown",
      "source": [
        "# Load the dataset\n"
      ],
      "metadata": {
        "id": "1rd7_MtTaot4"
      }
    },
    {
      "cell_type": "code",
      "source": [
        "billsum = load_dataset(\"billsum\", split=\"ca_test\")"
      ],
      "metadata": {
        "id": "opaMFenGOOfH",
        "colab": {
          "base_uri": "https://localhost:8080/",
          "height": 345,
          "referenced_widgets": [
            "7a9f853092c44dfb99d6f200fc62c711",
            "7eb115b2042349b9aff8b0e964dd4de6",
            "12920be50b584501b81dc6b039090819",
            "154f67c357af436ca974882dd2069fe9",
            "c0e42719ee5745dcaa4a7c58058159d5",
            "6d00c238f14a49609f97472f00cbcb01",
            "3d231bf7b2204c5889661118cc5cc338",
            "5c8b12bc869f40c2b0f188042114f329",
            "13720d4bf7374c89bf0a7c8991425cd6",
            "0f84e782cbed4f6d9c101836dc500683",
            "adade8c3dd9d464cb4a98e11ea8f2dbd",
            "a7c83e40e7e045c5b4f6876bf7da56bc",
            "0d93cbb82e704ae4b65a3851774e3413",
            "58ea4506bdf8454f95e9fb55db9ced46",
            "5db75e07e5414c9d925fdf3b2e7f8e07",
            "c10348a97f61421e84b317d557279f14",
            "5a9afa96cca449f385f18814941fa3f0",
            "471114c02be34d618c7cd2426cba888b",
            "479df6045c57465fb124456298822376",
            "fcfef4fa08e748a8a1ef70441b03e5a6",
            "a362e7e353f3488c99afa7d4fb6fedb9",
            "02252d0b31c240c4ad55fb9de2ac9fbe",
            "bf6b9abf53444db5bc0155f9f2599af4",
            "ea3673a04f404238bb52967ed928f1ef",
            "d1dbb9cb45fc4dbbb84464fa9cfeabc1",
            "19b6a4736dfd4fccaa40dcd7f8e7e758",
            "1e9beb6335b6492c9ab703c75790d37f",
            "8ac7fe46a64d42ffa73bfb0d26ce1fab",
            "74ab51342f414708b18cad6c864ddf6e",
            "66d955298fbd4fc29fd9d5eab732e560",
            "4ddf6df528a34bd1bafecb419963b148",
            "3af0eb4631654c38aa47ddfe37efb119",
            "91873bf29c3c49958ba4fb05328c5d59",
            "ce50813de969484eb037eddcf9018fd8",
            "16e8e4dffece4feb9dbd7fe18ecb1a62",
            "cb5a5bc38e8a4f2b9f9c7f2667e21928",
            "96d3d342e3804ce18cc4526dda878150",
            "ca5943f11b1b4213840b02148dfcae47",
            "19500219e8914d778ef765962467225c",
            "ca384c4f2f7d40a9b6d378a8c8516d2f",
            "999ccb323bce4486bb556894c3a368b4",
            "55f23bb6701b4bc29ec6d77258262f86",
            "0043d75833b148fe86b79a94990fc722",
            "6f2bcc8b8e8c43e3a06d427a5b2d4961",
            "409ddcd6c96f458a8724e056a1f0f733",
            "80449e710c1f4885b0cd567268f6a1dc",
            "1f50abcca97f49e89167424a3beb622d",
            "cab464ee3f8740b99143ae5cfa9ee962",
            "2e9ba9f0ef484c09a33bfa2853e4a5e8",
            "e768e75a256a4896bc8104c1c4f417f7",
            "afbdaa34d2da4c549b59847f53735141",
            "185cbc1435ca40b4b401c20a1530c4ec",
            "e7a6f63fbbd64a7ba2c8ceced94c73f4",
            "550265da90dc401cbebe1c23da5b41bd",
            "7411a172da71457d844f626df2c6cdeb",
            "f37bc586f015415bb61aef9796c8dcad",
            "25dc1a765e21447a9621d1c98e1096b4",
            "641647a24bcb4215bcbcdd1914f14875",
            "bdc74af789e640098e94807c539b1f95",
            "b2b65fa4f1684dffaf82fc7189b40744",
            "a862b0c8f6774d45bf81ea9eb25ef483",
            "0f3b8feece6c4d0a981b52ec111f07ad",
            "a838e111e59a4bfca1576a29d2d74efe",
            "c1100024560d48c895833e7922e9f01f",
            "154b4eff33c443c78b4a843a28a0a5f8",
            "c8998bbd2a0d4ff0869e87e90a58e400",
            "db253732dbf041ad84cd99a600903171",
            "50079c589f3d4fe983e76d4f7a16bc41",
            "c2a5b03468a64456886c5c270bb25008",
            "66e16a82424f4887aec59bea6f7ffb09",
            "5e53bb5045cd4c9381cd18291748e9d4",
            "f468c2ce2f5045b7bb4bbabf5b254f57",
            "cd199d54d8e64d1b8b02f176d578491c",
            "dd9a1c1ec3414732936555b3ab144c87",
            "bbdde12052c746d2b95ee6bc4766d3d4",
            "b98a8fb37a904294bede2b7cdd10b6b3",
            "7e1e368662f44779a83de875072fe5ec"
          ]
        },
        "outputId": "6aa3d76a-c128-4dac-a84c-9ae201b411d2"
      },
      "execution_count": null,
      "outputs": [
        {
          "output_type": "stream",
          "name": "stderr",
          "text": [
            "/usr/local/lib/python3.10/dist-packages/huggingface_hub/utils/_token.py:89: UserWarning: \n",
            "The secret `HF_TOKEN` does not exist in your Colab secrets.\n",
            "To authenticate with the Hugging Face Hub, create a token in your settings tab (https://huggingface.co/settings/tokens), set it as secret in your Google Colab and restart your session.\n",
            "You will be able to reuse this secret in all of your notebooks.\n",
            "Please note that authentication is recommended but still optional to access public models or datasets.\n",
            "  warnings.warn(\n"
          ]
        },
        {
          "output_type": "display_data",
          "data": {
            "text/plain": [
              "Downloading readme:   0%|          | 0.00/7.27k [00:00<?, ?B/s]"
            ],
            "application/vnd.jupyter.widget-view+json": {
              "version_major": 2,
              "version_minor": 0,
              "model_id": "7a9f853092c44dfb99d6f200fc62c711"
            }
          },
          "metadata": {}
        },
        {
          "output_type": "display_data",
          "data": {
            "text/plain": [
              "Downloading data:   0%|          | 0.00/91.8M [00:00<?, ?B/s]"
            ],
            "application/vnd.jupyter.widget-view+json": {
              "version_major": 2,
              "version_minor": 0,
              "model_id": "a7c83e40e7e045c5b4f6876bf7da56bc"
            }
          },
          "metadata": {}
        },
        {
          "output_type": "display_data",
          "data": {
            "text/plain": [
              "Downloading data:   0%|          | 0.00/15.8M [00:00<?, ?B/s]"
            ],
            "application/vnd.jupyter.widget-view+json": {
              "version_major": 2,
              "version_minor": 0,
              "model_id": "bf6b9abf53444db5bc0155f9f2599af4"
            }
          },
          "metadata": {}
        },
        {
          "output_type": "display_data",
          "data": {
            "text/plain": [
              "Downloading data:   0%|          | 0.00/6.12M [00:00<?, ?B/s]"
            ],
            "application/vnd.jupyter.widget-view+json": {
              "version_major": 2,
              "version_minor": 0,
              "model_id": "ce50813de969484eb037eddcf9018fd8"
            }
          },
          "metadata": {}
        },
        {
          "output_type": "display_data",
          "data": {
            "text/plain": [
              "Generating train split:   0%|          | 0/18949 [00:00<?, ? examples/s]"
            ],
            "application/vnd.jupyter.widget-view+json": {
              "version_major": 2,
              "version_minor": 0,
              "model_id": "409ddcd6c96f458a8724e056a1f0f733"
            }
          },
          "metadata": {}
        },
        {
          "output_type": "display_data",
          "data": {
            "text/plain": [
              "Generating test split:   0%|          | 0/3269 [00:00<?, ? examples/s]"
            ],
            "application/vnd.jupyter.widget-view+json": {
              "version_major": 2,
              "version_minor": 0,
              "model_id": "f37bc586f015415bb61aef9796c8dcad"
            }
          },
          "metadata": {}
        },
        {
          "output_type": "display_data",
          "data": {
            "text/plain": [
              "Generating ca_test split:   0%|          | 0/1237 [00:00<?, ? examples/s]"
            ],
            "application/vnd.jupyter.widget-view+json": {
              "version_major": 2,
              "version_minor": 0,
              "model_id": "db253732dbf041ad84cd99a600903171"
            }
          },
          "metadata": {}
        }
      ]
    },
    {
      "cell_type": "code",
      "source": [
        "billsum"
      ],
      "metadata": {
        "colab": {
          "base_uri": "https://localhost:8080/"
        },
        "id": "9o7IkLLdPctj",
        "outputId": "e093c2c9-8b36-48a0-e0c7-ece2542f71d0"
      },
      "execution_count": null,
      "outputs": [
        {
          "output_type": "execute_result",
          "data": {
            "text/plain": [
              "Dataset({\n",
              "    features: ['text', 'summary', 'title'],\n",
              "    num_rows: 1237\n",
              "})"
            ]
          },
          "metadata": {},
          "execution_count": 8
        }
      ]
    },
    {
      "cell_type": "code",
      "source": [
        "billsum = billsum.train_test_split(test_size=0.2)"
      ],
      "metadata": {
        "id": "Jjghu8QpQHYJ"
      },
      "execution_count": null,
      "outputs": []
    },
    {
      "cell_type": "code",
      "source": [
        "billsum"
      ],
      "metadata": {
        "id": "FQYHkub_q5py",
        "colab": {
          "base_uri": "https://localhost:8080/"
        },
        "outputId": "fb3b75a3-a31e-450c-d46f-65ae43177caa"
      },
      "execution_count": null,
      "outputs": [
        {
          "output_type": "execute_result",
          "data": {
            "text/plain": [
              "DatasetDict({\n",
              "    train: Dataset({\n",
              "        features: ['text', 'summary', 'title'],\n",
              "        num_rows: 989\n",
              "    })\n",
              "    test: Dataset({\n",
              "        features: ['text', 'summary', 'title'],\n",
              "        num_rows: 248\n",
              "    })\n",
              "})"
            ]
          },
          "metadata": {},
          "execution_count": 10
        }
      ]
    },
    {
      "cell_type": "code",
      "source": [
        "example = billsum[\"train\"][0]\n",
        "for key in example:\n",
        "    print(\"A key of the example: \\\"{}\\\"\".format(key))\n",
        "    print(\"The value corresponding to the key-\\\"{}\\\"\\n \\\"{}\\\"\".format(key, example[key]))"
      ],
      "metadata": {
        "id": "P2I5wlKSsF8_",
        "colab": {
          "base_uri": "https://localhost:8080/"
        },
        "outputId": "2285e853-2ddb-465b-e99d-e9392c081aa9"
      },
      "execution_count": null,
      "outputs": [
        {
          "output_type": "stream",
          "name": "stdout",
          "text": [
            "A key of the example: \"text\"\n",
            "The value corresponding to the key-\"text\"\n",
            " \"The people of the State of California do enact as follows:\n",
            "\n",
            "\n",
            "SECTION 1.\n",
            "This act shall be known, and may be cited, as the Pool Safety Act.\n",
            "SEC. 2.\n",
            "The Legislature finds and declares all of the following:\n",
            "(a) Swimming pools provide children and their families with a wonderful opportunity for recreation, exercise, and fun. Keeping children safe during this activity is supported by parents and guardians, safety advocates, health providers, insurance companies, and the swimming pool industry.\n",
            "(b) According to both the federal Centers for Disease Control and Prevention’s National Center for Injury Prevention and Control and the State Department of Public Health’s EpiCenter data, drowning is the leading cause of death for California children one to four years of age, inclusive.\n",
            "(c) Additional children suffer near-drowning incidents and survive, but many of those children suffer irreversible brain injuries, which can lead to lifelong learning deficiencies that impact not only the affected child and his or her family, but also the resources and moneys available to California’s health care system, regional centers, and special education school programs.\n",
            "(d) Close parental supervision of children with access to swimming pools is essential to providing pool safety for children. Barriers, such as those required pursuant to Section 115922 of the Health and Safety Code, can help to deter young children from gaining unsupervised access to pools. Swimming lessons are encouraged and can help children understand the importance of water safety.\n",
            "(e) All water sports activities come with risk. Knowing the risks and having drowning prevention strategies in place before and during water sports activities reduce drowning incidents, and the installation of a residential pool barrier is a leading strategy to further California’s goal of dramatically reducing unintentional injury.\n",
            "SEC. 3.\n",
            "Section 7195 of the Business and Professions Code is amended to read:\n",
            "7195.\n",
            "For purposes of this chapter, the following definitions apply:\n",
            "(a) (1) “Home inspection” is a noninvasive, physical examination, performed for a fee in connection with a transfer, as defined in subdivision (e), of real property, of the mechanical, electrical, or plumbing systems or the structural and essential components of a residential dwelling of one to four units designed to identify material defects in those systems, structures, and components. “Home inspection” includes any consultation regarding the property that is represented to be a home inspection or any confusingly similar term.\n",
            "(2) In connection with a transfer, as defined in subdivision (e), of real property with a swimming pool or spa, a “home inspection” shall include a noninvasive physical examination of the pool or spa and dwelling for the purpose of identifying which, if any, of the seven drowning prevention safety features listed in subdivision (a) of Section 115922 of the Health and Safety Code the pool or spa is equipped with.\n",
            "(3) “Home inspection,” if requested by the client, may include an inspection of energy efficiency. Energy efficiency items to be inspected may include the following:\n",
            "(A) A noninvasive inspection of insulation R-values in attics, roofs, walls, floors, and ducts.\n",
            "(B) The number of window glass panes and frame types.\n",
            "(C) The heating and cooling equipment and water heating systems.\n",
            "(D) The age and fuel type of major appliances.\n",
            "(E) The exhaust and cooling fans.\n",
            "(F) The type of thermostat and other systems.\n",
            "(G) The general integrity and potential leakage areas of walls, window areas, doors, and duct systems.\n",
            "(H) The solar control efficiency of existing windows.\n",
            "(b) A “material defect” is a condition that significantly affects the value, desirability, habitability, or safety of the dwelling. Style or aesthetics shall not be considered in determining whether a system, structure, or component is defective.\n",
            "(c) A “home inspection report” is a written report prepared for a fee and issued after a home inspection. The report clearly describes and identifies the inspected systems, structures, or components of the dwelling, any material defects identified, and any recommendations regarding the conditions observed or recommendations for evaluation by appropriate persons. In a dwelling with a pool or spa, the “home inspection report” shall identify which, if any, of the seven drowning prevention safety features listed in subdivision (a) of Section 115922 of the Health and Safety Code the pool or spa is equipped with and shall specifically state if the pool or spa has fewer than two of the listed drowning prevention safety features.\n",
            "(d) A “home inspector” is any individual who performs a home inspection.\n",
            "(e) “Transfer” is a transfer by sale, exchange, installment land sales contract, as defined in Section 2985 of the Civil Code, lease with an option to purchase, any other option to purchase, or ground lease coupled with improvements, of real property or residential stock cooperative, improved with or consisting of not less than one nor more than four dwelling units.\n",
            "SEC. 4.\n",
            "Section 115922 of the Health and Safety Code is amended to read:\n",
            "115922.\n",
            "(a) Except as provided in Section 115925, when a building permit is issued for the construction of a new swimming pool or spa or the remodeling of an existing swimming pool or spa at a private single-family home, the swimming pool or spa shall be equipped with at least two of the following seven drowning prevention safety features:\n",
            "(1) An enclosure that meets the requirements of Section 115923 and isolates the swimming pool or spa from the private single-family home.\n",
            "(2) Removable mesh fencing that meets American Society for Testing and Materials (ASTM) Specifications F 2286 standards in conjunction with a gate that is self-closing and self-latching and can accommodate a key lockable device.\n",
            "(3) An approved safety pool cover, as defined in subdivision (d) of Section 115921.\n",
            "(4) Exit alarms on the private single-family home’s doors that provide direct access to the swimming pool or spa. The exit alarm may cause either an alarm noise or a verbal warning, such as a repeating notification that “the door to the pool is open.”\n",
            "(5) A self-closing, self-latching device with a release mechanism placed no lower than 54 inches above the floor on the private single-family home’s doors providing direct access to the swimming pool or spa.\n",
            "(6) An alarm that, when placed in a swimming pool or spa, will sound upon detection of accidental or unauthorized entrance into the water. The alarm shall meet and be independently certified to the ASTM Standard F 2208 “Standards Specification for Pool Alarms,” which includes surface motion, pressure, sonar, laser, and infrared type alarms. A swimming protection alarm feature designed for individual use, including an alarm attached to a child that sounds when the child exceeds a certain distance or becomes submerged in water, is not a qualifying drowning prevention safety feature.\n",
            "(7) Other means of protection, if the degree of protection afforded is equal to or greater than that afforded by any of the features set forth above and has been independently verified by an approved testing laboratory as meeting standards for those features established by the ASTM or the American Society of Mechanical Engineers (ASME).\n",
            "(b) Before the issuance of a final approval for the completion of permitted construction or remodeling work, the local building code official shall inspect the drowning safety prevention features required by this act and, if no violations are found, shall give final approval.\n",
            "SEC. 5.\n",
            "Section 115925 of the Health and Safety Code is amended to read:\n",
            "115925.\n",
            "The requirements of this article shall not apply to any of the following:\n",
            "(a) Public swimming pools.\n",
            "(b) Hot tubs or spas with locking safety covers that comply with the American Society for Testing Materials (ASTM F1346).\n",
            "(c) An apartment complex, or any residential setting other than a single-family home.\n",
            "SEC. 6.\n",
            "If the Commission on State Mandates determines that this act contains costs mandated by the state, reimbursement to local agencies and school districts for those costs shall be made pursuant to Part 7 (commencing with Section 17500) of Division 4 of Title 2 of the Government Code.\"\n",
            "A key of the example: \"summary\"\n",
            "The value corresponding to the key-\"summary\"\n",
            " \"Existing law, the Swimming Pool Safety Act, provides that it does not apply to any pool within the jurisdiction of any political subdivision that adopts an ordinance for swimming pools, as specified. The act further requires, when a building permit is issued for construction of a new swimming pool or spa, or the remodeling of an existing pool or spa, at a private, single-family home, that the pool or spa be equipped with at least 1 of 7 drowning prevention safety features. The act requires the local building code official to inspect and approve the drowning safety prevention devices before the issuance of a final approval for the completion of permitted construction or remodeling work.\n",
            "This bill would instead require, when a building permit is issued, that the pool or spa be equipped with at least 2 of the 7 drowning prevention safety features. By imposing additional duties on local officials, this bill would impose a state-mandated local program. The bill would remove the exemption for the above-described political subdivisions.\n",
            "Existing law defines terms related to paid home inspections, establishes a standard of care for home inspectors, and prohibits certain inspections in which the inspector or the inspector’s employer, as specified, has a financial interest.\n",
            "This bill would require a home inspection for real property with a swimming pool or spa to include a noninvasive physical examination of the pool or spa and dwelling for the purpose of identifying which, if any, of the specified 7 drowning prevention safety features the pool or spa is equipped with.\n",
            "The California Constitution requires the state to reimburse local agencies and school districts for certain costs mandated by the state. Statutory provisions establish procedures for making that reimbursement.\n",
            "This bill would provide that, if the Commission on State Mandates determines that the bill contains costs mandated by the state, reimbursement for those costs shall be made pursuant to these statutory provisions.\"\n",
            "A key of the example: \"title\"\n",
            "The value corresponding to the key-\"title\"\n",
            " \"An act to amend Section 7195 of the Business and Professions Code, and to amend Sections 115922 and 115925 of the Health and Safety Code, relating to public health.\"\n"
          ]
        }
      ]
    },
    {
      "cell_type": "markdown",
      "source": [
        "# Tokenization T5_Model"
      ],
      "metadata": {
        "id": "grs_kXtQtTMb"
      }
    },
    {
      "cell_type": "code",
      "source": [
        "tokenizer = AutoTokenizer.from_pretrained(\"t5-small\")"
      ],
      "metadata": {
        "id": "nU2cm3CsSvTC",
        "colab": {
          "base_uri": "https://localhost:8080/",
          "height": 113,
          "referenced_widgets": [
            "c345e34909ff41cbbe4abcf5b56c6c6d",
            "0e11885a28d94e97956620bd06f1119d",
            "29bd627faec741918759378ff6d709bc",
            "cb8184c7d8e241cdabd307e6a2c41175",
            "1be7c71b391a46c1b1f5121d003f5bc9",
            "70e0c39be5524af5bccfe9eef46ff19d",
            "2cdb400e38094d48b71476a66b5b5bdc",
            "694c7bba218f4dd0a775dd772b11ca33",
            "1c99081e8a5f4b0c9282403350bf612a",
            "061ea01f349f4d8eb38ca1e6de11d13a",
            "ae970012a04743a0ab4239dd15a851e3",
            "65f08d12197d41abb84da11b70aa45b8",
            "2cb046e58fb5425bac62aef5281d41f9",
            "bf5f6af98c444d77b2266c10409f16c5",
            "10c0c81d35694929ba3eec91ba038af7",
            "14bc768b555f411d9ef62e676a322233",
            "962929fe9dfc439bba925807ac18a3ac",
            "aadeb92653e04394a0ea79b60ec279aa",
            "82dc6e57673d4793b6b3f3c7205dc405",
            "61d410002a1646ce9d9f44eb9cd15c30",
            "13ac298575964fda9309f54195a4a5ea",
            "fec4a2097529445e914d17e4ff429378",
            "8ffe5d163d904f86b950d2e87cd2e772",
            "47c3133acfc649658bf50c686bc2e47b",
            "d03ac5c186d1465c845685286b5a1277",
            "2a5d0ead818a487ea852eea76968821a",
            "6352600dc5a34b2298297426bc8aabc9",
            "b8f81780bb744909affe3058b7a51382",
            "5bdb347ab34948ceb8f7070f7dcb38d9",
            "0db25e6537e64a4d827c890810e88d69",
            "6590901f52f744b3b4f37b0b961a10a1",
            "41d14a386bd84c92af3d5de02d3882d1",
            "179619545d524fe8aae2cee20ddad8ed"
          ]
        },
        "outputId": "ade1329e-85da-4287-9d0e-a466bf1d7c44"
      },
      "execution_count": null,
      "outputs": [
        {
          "output_type": "display_data",
          "data": {
            "text/plain": [
              "tokenizer_config.json:   0%|          | 0.00/2.32k [00:00<?, ?B/s]"
            ],
            "application/vnd.jupyter.widget-view+json": {
              "version_major": 2,
              "version_minor": 0,
              "model_id": "c345e34909ff41cbbe4abcf5b56c6c6d"
            }
          },
          "metadata": {}
        },
        {
          "output_type": "display_data",
          "data": {
            "text/plain": [
              "spiece.model:   0%|          | 0.00/792k [00:00<?, ?B/s]"
            ],
            "application/vnd.jupyter.widget-view+json": {
              "version_major": 2,
              "version_minor": 0,
              "model_id": "65f08d12197d41abb84da11b70aa45b8"
            }
          },
          "metadata": {}
        },
        {
          "output_type": "display_data",
          "data": {
            "text/plain": [
              "tokenizer.json:   0%|          | 0.00/1.39M [00:00<?, ?B/s]"
            ],
            "application/vnd.jupyter.widget-view+json": {
              "version_major": 2,
              "version_minor": 0,
              "model_id": "8ffe5d163d904f86b950d2e87cd2e772"
            }
          },
          "metadata": {}
        }
      ]
    },
    {
      "cell_type": "code",
      "source": [
        "tokenized_text = tokenizer(example['text'])\n",
        "for key in tokenized_text:\n",
        "    print(key)\n",
        "    print(tokenized_text[key])"
      ],
      "metadata": {
        "colab": {
          "base_uri": "https://localhost:8080/"
        },
        "id": "xJpB4GxGSvNo",
        "outputId": "a442e664-4e7f-4851-bd0b-df84b35d6cf5"
      },
      "execution_count": null,
      "outputs": [
        {
          "output_type": "stream",
          "name": "stderr",
          "text": [
            "Token indices sequence length is longer than the specified maximum sequence length for this model (1768 > 512). Running this sequence through the model will result in indexing errors\n"
          ]
        },
        {
          "output_type": "stream",
          "name": "stdout",
          "text": [
            "input_ids\n",
            "[37, 151, 13, 8, 1015, 13, 1826, 103, 3, 35, 2708, 38, 6963, 10, 180, 3073, 9562, 1300, 100, 1810, 1522, 36, 801, 6, 11, 164, 36, 3, 11675, 6, 38, 8, 9896, 6859, 1983, 5, 180, 3073, 5, 1682, 37, 28204, 12902, 11, 15884, 7, 66, 13, 8, 826, 10, 41, 9, 61, 27223, 14652, 370, 502, 11, 70, 1791, 28, 3, 9, 1627, 1004, 21, 17711, 6, 2510, 6, 11, 694, 5, 3, 18536, 502, 1346, 383, 48, 1756, 19, 3510, 57, 1362, 11, 4879, 7137, 6, 1455, 18408, 6, 533, 3580, 6, 958, 688, 6, 11, 8, 5989, 2201, 681, 5, 41, 115, 61, 2150, 12, 321, 8, 2822, 1166, 7, 21, 14326, 4330, 11, 19715, 22, 7, 868, 1166, 21, 28905, 19715, 11, 4330, 11, 8, 1015, 1775, 13, 2575, 1685, 22, 7, 12741, 24382, 331, 6, 24614, 53, 19, 8, 1374, 1137, 13, 1687, 21, 1826, 502, 80, 12, 662, 203, 13, 1246, 6, 13066, 5, 41, 75, 61, 11180, 502, 5696, 1084, 18, 26, 3623, 29, 53, 15935, 11, 7905, 6, 68, 186, 13, 273, 502, 5696, 19598, 2660, 2317, 2241, 5157, 6, 84, 54, 991, 12, 280, 2961, 1036, 30307, 24, 1113, 59, 163, 8, 4161, 861, 11, 112, 42, 160, 384, 6, 68, 92, 8, 1438, 11, 540, 7, 347, 12, 1826, 22, 7, 533, 124, 358, 6, 3518, 6881, 6, 11, 534, 1073, 496, 1356, 5, 41, 26, 61, 9084, 21555, 15520, 13, 502, 28, 592, 12, 5989, 14652, 19, 1832, 12, 1260, 2201, 1455, 21, 502, 5, 29147, 7, 6, 224, 38, 273, 831, 19890, 288, 12, 5568, 850, 3390, 2884, 13, 8, 1685, 11, 6859, 3636, 6, 54, 199, 12, 20, 449, 1021, 502, 45, 3, 11866, 73, 23313, 592, 12, 14652, 5, 27223, 5182, 33, 6470, 11, 54, 199, 502, 734, 8, 3172, 13, 387, 1455, 5, 41, 15, 61, 432, 387, 2100, 1087, 369, 28, 1020, 5, 19345, 8, 5217, 11, 578, 24614, 53, 9793, 3266, 16, 286, 274, 11, 383, 387, 2100, 1087, 1428, 24614, 53, 15935, 6, 11, 8, 2545, 13, 3, 9, 4326, 2201, 12515, 19, 3, 9, 1374, 1998, 12, 856, 1826, 22, 7, 1288, 13, 13464, 3, 5503, 73, 77, 9174, 138, 2871, 5, 180, 3073, 5, 1877, 5568, 489, 22464, 13, 8, 1769, 11, 749, 17585, 7, 3636, 19, 21012, 12, 608, 10, 489, 22464, 5, 242, 3659, 13, 48, 5800, 6, 8, 826, 4903, 7, 1581, 10, 41, 9, 61, 5637, 105, 19040, 6082, 153, 19, 3, 9, 529, 15267, 6, 1722, 6498, 6, 3032, 21, 3, 9, 2572, 16, 2135, 28, 3, 9, 2025, 6, 38, 4802, 16, 27444, 41, 15, 201, 13, 490, 785, 6, 13, 8, 8168, 6, 4850, 6, 42, 11312, 1002, 42, 8, 8649, 11, 1832, 3379, 13, 3, 9, 4326, 18004, 13, 80, 12, 662, 3173, 876, 12, 2862, 1037, 18370, 16, 273, 1002, 6, 5278, 6, 11, 3379, 5, 105, 19040, 6082, 153, 963, 136, 4577, 1918, 8, 785, 24, 19, 7283, 12, 36, 3, 9, 234, 6082, 42, 136, 15266, 120, 1126, 1657, 5, 6499, 86, 2135, 28, 3, 9, 2025, 6, 38, 4802, 16, 27444, 41, 15, 201, 13, 490, 785, 28, 3, 9, 5989, 2201, 42, 4174, 6, 3, 9, 105, 5515, 6082, 153, 1522, 560, 3, 9, 529, 15267, 1722, 6498, 13, 8, 2201, 42, 4174, 11, 18004, 21, 8, 1730, 13, 3, 9690, 84, 6, 3, 99, 136, 6, 13, 8, 2391, 24614, 53, 9793, 1455, 753, 2616, 16, 27444, 41, 9, 61, 13, 5568, 850, 3390, 2884, 13, 8, 1685, 11, 6859, 3636, 8, 2201, 42, 4174, 19, 5005, 28, 5, 10153, 105, 19040, 6082, 642, 3, 99, 6709, 57, 8, 1188, 6, 164, 560, 46, 6082, 13, 827, 3949, 5, 4654, 3949, 1173, 12, 36, 3, 26300, 164, 560, 8, 826, 10, 41, 188, 61, 71, 529, 15267, 6082, 13, 15298, 391, 18, 12097, 7, 16, 44, 7636, 6, 2955, 7, 6, 4205, 6, 8242, 6, 11, 3, 7472, 7, 5, 41, 279, 61, 37, 381, 13, 2034, 1905, 2131, 15, 7, 11, 2835, 1308, 5, 41, 254, 61, 37, 5866, 11, 9243, 1277, 11, 387, 5866, 1002, 5, 41, 308, 61, 37, 1246, 11, 2914, 686, 13, 779, 9403, 5, 41, 427, 61, 37, 10685, 11, 9243, 2675, 5, 41, 371, 61, 37, 686, 13, 22062, 11, 119, 1002, 5, 41, 517, 61, 37, 879, 9322, 11, 1055, 7653, 545, 844, 13, 4205, 6, 2034, 844, 6, 3377, 6, 11, 3, 7472, 1002, 5, 41, 566, 61, 37, 3693, 610, 3949, 13, 1895, 3196, 5, 41, 115, 61, 71, 105, 11303, 15595, 153, 19, 3, 9, 1706, 24, 4019, 2603, 7, 8, 701, 6, 93, 23, 52, 2020, 6, 7386, 2020, 6, 42, 1455, 13, 8, 18004, 5, 7936, 42, 9386, 7, 1522, 59, 36, 1702, 16, 3, 11682, 823, 3, 9, 358, 6, 1809, 6, 42, 3876, 19, 24701, 5, 41, 75, 61, 71, 105, 5515, 6082, 934, 153, 19, 3, 9, 1545, 934, 2657, 21, 3, 9, 2572, 11, 4683, 227, 3, 9, 234, 6082, 5, 37, 934, 3133, 8788, 11, 3, 8826, 7, 8, 3, 26300, 1002, 6, 5278, 6, 42, 3379, 13, 8, 18004, 6, 136, 1037, 18370, 4313, 6, 11, 136, 5719, 1918, 8, 1124, 6970, 42, 5719, 21, 5002, 57, 2016, 7609, 5, 86, 3, 9, 18004, 28, 3, 9, 2201, 42, 4174, 6, 8, 105, 5515, 6082, 934, 153, 1522, 2862, 84, 6, 3, 99, 136, 6, 13, 8, 2391, 24614, 53, 9793, 1455, 753, 2616, 16, 27444, 41, 9, 61, 13, 5568, 850, 3390, 2884, 13, 8, 1685, 11, 6859, 3636, 8, 2201, 42, 4174, 19, 5005, 28, 11, 1522, 3346, 538, 3, 99, 8, 2201, 42, 4174, 65, 3, 10643, 145, 192, 13, 8, 2616, 24614, 53, 9793, 1455, 753, 5, 41, 26, 61, 71, 105, 5515, 17033, 153, 19, 136, 928, 113, 1912, 7, 3, 9, 234, 6082, 5, 41, 15, 61, 105, 18474, 1010, 153, 19, 3, 9, 2025, 57, 1048, 6, 2509, 6, 20345, 1322, 1085, 1696, 6, 38, 4802, 16, 5568, 2838, 4433, 13, 8, 7707, 3636, 6, 6841, 28, 46, 1182, 12, 1242, 6, 136, 119, 1182, 12, 1242, 6, 42, 1591, 6841, 14286, 28, 6867, 6, 13, 490, 785, 42, 4326, 1519, 20270, 6, 3798, 28, 42, 5608, 53, 13, 59, 705, 145, 80, 3701, 72, 145, 662, 18004, 3173, 5, 180, 3073, 5, 2853, 5568, 850, 3390, 2884, 13, 8, 1685, 11, 6859, 3636, 19, 21012, 12, 608, 10, 850, 3390, 2884, 5, 41, 9, 61, 20537, 38, 937, 16, 5568, 3, 15660, 28456, 6, 116, 3, 9, 740, 5720, 19, 4683, 21, 8, 1449, 13, 3, 9, 126, 5989, 2201, 42, 4174, 42, 8, 16915, 13, 46, 1895, 5989, 2201, 42, 4174, 44, 3, 9, 1045, 712, 18, 15474, 234, 6, 8, 5989, 2201, 42, 4174, 1522, 36, 5005, 28, 44, 709, 192, 13, 8, 826, 2391, 24614, 53, 9793, 1455, 753, 10, 5637, 389, 22104, 24, 7864, 8, 1502, 13, 5568, 850, 3390, 2773, 11, 25034, 7, 8, 5989, 2201, 42, 4174, 45, 8, 1045, 712, 18, 15474, 234, 5, 6499, 419, 7168, 179, 13476, 24141, 24, 7864, 797, 3467, 21, 19693, 11, 16158, 41, 12510, 329, 61, 18070, 1628, 377, 1630, 3840, 2443, 16, 13274, 28, 3, 9, 10530, 24, 19, 1044, 18, 3903, 7, 53, 11, 1044, 18, 40, 14547, 53, 11, 54, 6563, 3, 9, 843, 6081, 179, 1407, 5, 10153, 389, 3754, 1455, 2201, 1189, 6, 38, 4802, 16, 27444, 41, 26, 61, 13, 5568, 850, 3390, 2658, 5, 3, 10820, 1881, 155, 6196, 7, 30, 8, 1045, 712, 18, 15474, 234, 22, 7, 3377, 24, 370, 1223, 592, 12, 8, 5989, 2201, 42, 4174, 5, 37, 7189, 6196, 164, 1137, 893, 46, 6196, 4661, 42, 3, 9, 7375, 138, 6337, 6, 224, 38, 3, 9, 6103, 53, 11420, 24, 105, 532, 1365, 12, 8, 2201, 19, 539, 1239, 3, 15757, 71, 1044, 18, 3903, 7, 53, 6, 1044, 18, 40, 14547, 53, 1407, 28, 3, 9, 1576, 8557, 2681, 150, 1364, 145, 10630, 5075, 756, 8, 1501, 30, 8, 1045, 712, 18, 15474, 234, 22, 7, 3377, 1260, 1223, 592, 12, 8, 5989, 2201, 42, 4174, 5, 3, 18669, 389, 6196, 24, 6, 116, 2681, 16, 3, 9, 5989, 2201, 42, 4174, 6, 56, 1345, 1286, 10664, 13, 24306, 42, 3, 22556, 6143, 139, 8, 387, 5, 37, 6196, 1522, 942, 11, 36, 13971, 4970, 12, 8, 6157, 2305, 5150, 377, 1630, 4018, 105, 134, 17, 232, 986, 7, 18070, 257, 21, 9896, 24920, 7, 642, 84, 963, 1774, 4644, 6, 1666, 6, 520, 291, 6, 6124, 6, 11, 16, 89, 11096, 26, 686, 6196, 7, 5, 71, 5989, 1711, 6196, 1451, 876, 21, 928, 169, 6, 379, 46, 6196, 5223, 12, 3, 9, 861, 24, 2993, 116, 8, 861, 8193, 7, 3, 9, 824, 2357, 42, 2992, 769, 21726, 16, 387, 6, 19, 59, 3, 9, 18002, 24614, 53, 9793, 1455, 1451, 5, 3, 24358, 2502, 598, 13, 1711, 6, 3, 99, 8, 1952, 13, 1711, 5293, 15, 26, 19, 4081, 12, 42, 2123, 145, 24, 5293, 15, 26, 57, 136, 13, 8, 753, 356, 7444, 756, 11, 65, 118, 13971, 17087, 57, 46, 3754, 2505, 10343, 38, 1338, 2443, 21, 273, 753, 2127, 57, 8, 6157, 2305, 42, 8, 797, 3467, 13, 24483, 11597, 7, 41, 3291, 4369, 137, 41, 115, 61, 3103, 8, 3, 30935, 13, 3, 9, 804, 5142, 21, 8, 6929, 13, 10548, 1449, 42, 16915, 161, 6, 8, 415, 740, 1081, 2314, 1522, 15614, 8, 24614, 53, 1455, 9793, 753, 831, 57, 48, 1810, 11, 6, 3, 99, 150, 17880, 33, 435, 6, 1522, 428, 804, 5142, 5, 180, 3073, 5, 3594, 5568, 3, 15660, 28456, 13, 8, 1685, 11, 6859, 3636, 19, 21012, 12, 608, 10, 3, 15660, 28456, 5, 37, 1502, 13, 48, 1108, 1522, 59, 1581, 12, 136, 13, 8, 826, 10, 41, 9, 61, 2575, 5989, 14652, 5, 41, 115, 61, 5396, 6244, 7, 42, 4174, 7, 28, 21097, 1455, 3792, 24, 9095, 28, 8, 797, 3467, 21, 19693, 16158, 41, 12510, 329, 377, 23747, 10938, 5, 41, 75, 61, 389, 4579, 1561, 6, 42, 136, 4326, 1898, 119, 145, 3, 9, 712, 18, 15474, 234, 5, 180, 3073, 5, 4357, 156, 8, 3527, 30, 1015, 19926, 1422, 2082, 7, 24, 48, 1810, 2579, 1358, 12871, 26, 57, 8, 538, 6, 23960, 12, 415, 4299, 11, 496, 14126, 21, 273, 1358, 1522, 36, 263, 19890, 288, 12, 2733, 489, 41, 287, 526, 4733, 28, 5568, 1003, 2560, 61, 13, 6022, 314, 13, 11029, 204, 13, 8, 3141, 3636, 5, 1]\n",
            "attention_mask\n",
            "[1, 1, 1, 1, 1, 1, 1, 1, 1, 1, 1, 1, 1, 1, 1, 1, 1, 1, 1, 1, 1, 1, 1, 1, 1, 1, 1, 1, 1, 1, 1, 1, 1, 1, 1, 1, 1, 1, 1, 1, 1, 1, 1, 1, 1, 1, 1, 1, 1, 1, 1, 1, 1, 1, 1, 1, 1, 1, 1, 1, 1, 1, 1, 1, 1, 1, 1, 1, 1, 1, 1, 1, 1, 1, 1, 1, 1, 1, 1, 1, 1, 1, 1, 1, 1, 1, 1, 1, 1, 1, 1, 1, 1, 1, 1, 1, 1, 1, 1, 1, 1, 1, 1, 1, 1, 1, 1, 1, 1, 1, 1, 1, 1, 1, 1, 1, 1, 1, 1, 1, 1, 1, 1, 1, 1, 1, 1, 1, 1, 1, 1, 1, 1, 1, 1, 1, 1, 1, 1, 1, 1, 1, 1, 1, 1, 1, 1, 1, 1, 1, 1, 1, 1, 1, 1, 1, 1, 1, 1, 1, 1, 1, 1, 1, 1, 1, 1, 1, 1, 1, 1, 1, 1, 1, 1, 1, 1, 1, 1, 1, 1, 1, 1, 1, 1, 1, 1, 1, 1, 1, 1, 1, 1, 1, 1, 1, 1, 1, 1, 1, 1, 1, 1, 1, 1, 1, 1, 1, 1, 1, 1, 1, 1, 1, 1, 1, 1, 1, 1, 1, 1, 1, 1, 1, 1, 1, 1, 1, 1, 1, 1, 1, 1, 1, 1, 1, 1, 1, 1, 1, 1, 1, 1, 1, 1, 1, 1, 1, 1, 1, 1, 1, 1, 1, 1, 1, 1, 1, 1, 1, 1, 1, 1, 1, 1, 1, 1, 1, 1, 1, 1, 1, 1, 1, 1, 1, 1, 1, 1, 1, 1, 1, 1, 1, 1, 1, 1, 1, 1, 1, 1, 1, 1, 1, 1, 1, 1, 1, 1, 1, 1, 1, 1, 1, 1, 1, 1, 1, 1, 1, 1, 1, 1, 1, 1, 1, 1, 1, 1, 1, 1, 1, 1, 1, 1, 1, 1, 1, 1, 1, 1, 1, 1, 1, 1, 1, 1, 1, 1, 1, 1, 1, 1, 1, 1, 1, 1, 1, 1, 1, 1, 1, 1, 1, 1, 1, 1, 1, 1, 1, 1, 1, 1, 1, 1, 1, 1, 1, 1, 1, 1, 1, 1, 1, 1, 1, 1, 1, 1, 1, 1, 1, 1, 1, 1, 1, 1, 1, 1, 1, 1, 1, 1, 1, 1, 1, 1, 1, 1, 1, 1, 1, 1, 1, 1, 1, 1, 1, 1, 1, 1, 1, 1, 1, 1, 1, 1, 1, 1, 1, 1, 1, 1, 1, 1, 1, 1, 1, 1, 1, 1, 1, 1, 1, 1, 1, 1, 1, 1, 1, 1, 1, 1, 1, 1, 1, 1, 1, 1, 1, 1, 1, 1, 1, 1, 1, 1, 1, 1, 1, 1, 1, 1, 1, 1, 1, 1, 1, 1, 1, 1, 1, 1, 1, 1, 1, 1, 1, 1, 1, 1, 1, 1, 1, 1, 1, 1, 1, 1, 1, 1, 1, 1, 1, 1, 1, 1, 1, 1, 1, 1, 1, 1, 1, 1, 1, 1, 1, 1, 1, 1, 1, 1, 1, 1, 1, 1, 1, 1, 1, 1, 1, 1, 1, 1, 1, 1, 1, 1, 1, 1, 1, 1, 1, 1, 1, 1, 1, 1, 1, 1, 1, 1, 1, 1, 1, 1, 1, 1, 1, 1, 1, 1, 1, 1, 1, 1, 1, 1, 1, 1, 1, 1, 1, 1, 1, 1, 1, 1, 1, 1, 1, 1, 1, 1, 1, 1, 1, 1, 1, 1, 1, 1, 1, 1, 1, 1, 1, 1, 1, 1, 1, 1, 1, 1, 1, 1, 1, 1, 1, 1, 1, 1, 1, 1, 1, 1, 1, 1, 1, 1, 1, 1, 1, 1, 1, 1, 1, 1, 1, 1, 1, 1, 1, 1, 1, 1, 1, 1, 1, 1, 1, 1, 1, 1, 1, 1, 1, 1, 1, 1, 1, 1, 1, 1, 1, 1, 1, 1, 1, 1, 1, 1, 1, 1, 1, 1, 1, 1, 1, 1, 1, 1, 1, 1, 1, 1, 1, 1, 1, 1, 1, 1, 1, 1, 1, 1, 1, 1, 1, 1, 1, 1, 1, 1, 1, 1, 1, 1, 1, 1, 1, 1, 1, 1, 1, 1, 1, 1, 1, 1, 1, 1, 1, 1, 1, 1, 1, 1, 1, 1, 1, 1, 1, 1, 1, 1, 1, 1, 1, 1, 1, 1, 1, 1, 1, 1, 1, 1, 1, 1, 1, 1, 1, 1, 1, 1, 1, 1, 1, 1, 1, 1, 1, 1, 1, 1, 1, 1, 1, 1, 1, 1, 1, 1, 1, 1, 1, 1, 1, 1, 1, 1, 1, 1, 1, 1, 1, 1, 1, 1, 1, 1, 1, 1, 1, 1, 1, 1, 1, 1, 1, 1, 1, 1, 1, 1, 1, 1, 1, 1, 1, 1, 1, 1, 1, 1, 1, 1, 1, 1, 1, 1, 1, 1, 1, 1, 1, 1, 1, 1, 1, 1, 1, 1, 1, 1, 1, 1, 1, 1, 1, 1, 1, 1, 1, 1, 1, 1, 1, 1, 1, 1, 1, 1, 1, 1, 1, 1, 1, 1, 1, 1, 1, 1, 1, 1, 1, 1, 1, 1, 1, 1, 1, 1, 1, 1, 1, 1, 1, 1, 1, 1, 1, 1, 1, 1, 1, 1, 1, 1, 1, 1, 1, 1, 1, 1, 1, 1, 1, 1, 1, 1, 1, 1, 1, 1, 1, 1, 1, 1, 1, 1, 1, 1, 1, 1, 1, 1, 1, 1, 1, 1, 1, 1, 1, 1, 1, 1, 1, 1, 1, 1, 1, 1, 1, 1, 1, 1, 1, 1, 1, 1, 1, 1, 1, 1, 1, 1, 1, 1, 1, 1, 1, 1, 1, 1, 1, 1, 1, 1, 1, 1, 1, 1, 1, 1, 1, 1, 1, 1, 1, 1, 1, 1, 1, 1, 1, 1, 1, 1, 1, 1, 1, 1, 1, 1, 1, 1, 1, 1, 1, 1, 1, 1, 1, 1, 1, 1, 1, 1, 1, 1, 1, 1, 1, 1, 1, 1, 1, 1, 1, 1, 1, 1, 1, 1, 1, 1, 1, 1, 1, 1, 1, 1, 1, 1, 1, 1, 1, 1, 1, 1, 1, 1, 1, 1, 1, 1, 1, 1, 1, 1, 1, 1, 1, 1, 1, 1, 1, 1, 1, 1, 1, 1, 1, 1, 1, 1, 1, 1, 1, 1, 1, 1, 1, 1, 1, 1, 1, 1, 1, 1, 1, 1, 1, 1, 1, 1, 1, 1, 1, 1, 1, 1, 1, 1, 1, 1, 1, 1, 1, 1, 1, 1, 1, 1, 1, 1, 1, 1, 1, 1, 1, 1, 1, 1, 1, 1, 1, 1, 1, 1, 1, 1, 1, 1, 1, 1, 1, 1, 1, 1, 1, 1, 1, 1, 1, 1, 1, 1, 1, 1, 1, 1, 1, 1, 1, 1, 1, 1, 1, 1, 1, 1, 1, 1, 1, 1, 1, 1, 1, 1, 1, 1, 1, 1, 1, 1, 1, 1, 1, 1, 1, 1, 1, 1, 1, 1, 1, 1, 1, 1, 1, 1, 1, 1, 1, 1, 1, 1, 1, 1, 1, 1, 1, 1, 1, 1, 1, 1, 1, 1, 1, 1, 1, 1, 1, 1, 1, 1, 1, 1, 1, 1, 1, 1, 1, 1, 1, 1, 1, 1, 1, 1, 1, 1, 1, 1, 1, 1, 1, 1, 1, 1, 1, 1, 1, 1, 1, 1, 1, 1, 1, 1, 1, 1, 1, 1, 1, 1, 1, 1, 1, 1, 1, 1, 1, 1, 1, 1, 1, 1, 1, 1, 1, 1, 1, 1, 1, 1, 1, 1, 1, 1, 1, 1, 1, 1, 1, 1, 1, 1, 1, 1, 1, 1, 1, 1, 1, 1, 1, 1, 1, 1, 1, 1, 1, 1, 1, 1, 1, 1, 1, 1, 1, 1, 1, 1, 1, 1, 1, 1, 1, 1, 1, 1, 1, 1, 1, 1, 1, 1, 1, 1, 1, 1, 1, 1, 1, 1, 1, 1, 1, 1, 1, 1, 1, 1, 1, 1, 1, 1, 1, 1, 1, 1, 1, 1, 1, 1, 1, 1, 1, 1, 1, 1, 1, 1, 1, 1, 1, 1, 1, 1, 1, 1, 1, 1, 1, 1, 1, 1, 1, 1, 1, 1, 1, 1, 1, 1, 1, 1, 1, 1, 1, 1, 1, 1, 1, 1, 1, 1, 1, 1, 1, 1, 1, 1, 1, 1, 1, 1, 1, 1, 1, 1, 1, 1, 1, 1, 1, 1, 1, 1, 1, 1, 1, 1, 1, 1, 1, 1, 1, 1, 1, 1, 1, 1, 1, 1, 1, 1, 1, 1, 1, 1, 1, 1, 1, 1, 1, 1, 1, 1, 1, 1, 1, 1, 1, 1, 1, 1, 1, 1, 1, 1, 1, 1, 1, 1, 1, 1, 1, 1, 1, 1, 1, 1, 1, 1, 1, 1, 1, 1, 1, 1, 1, 1, 1, 1, 1, 1, 1, 1, 1, 1, 1, 1, 1, 1, 1, 1, 1, 1, 1, 1, 1, 1, 1, 1, 1, 1, 1, 1, 1, 1, 1, 1, 1, 1, 1, 1, 1, 1, 1, 1, 1, 1, 1, 1, 1, 1, 1, 1, 1, 1, 1, 1, 1, 1, 1, 1, 1, 1, 1, 1, 1, 1, 1, 1, 1, 1, 1, 1, 1, 1, 1, 1, 1, 1, 1, 1, 1, 1, 1, 1, 1, 1, 1, 1, 1, 1, 1, 1, 1, 1, 1, 1, 1, 1, 1, 1, 1, 1, 1, 1, 1, 1, 1, 1, 1, 1, 1, 1, 1, 1, 1, 1, 1, 1, 1, 1, 1, 1, 1, 1, 1, 1, 1, 1, 1, 1, 1, 1, 1, 1, 1, 1, 1, 1, 1, 1, 1, 1, 1, 1, 1, 1, 1, 1, 1, 1, 1, 1, 1, 1, 1, 1, 1, 1, 1, 1, 1, 1, 1, 1, 1, 1, 1, 1, 1, 1, 1, 1, 1, 1, 1, 1, 1, 1, 1, 1, 1, 1, 1, 1, 1, 1, 1, 1, 1, 1, 1, 1, 1, 1, 1, 1, 1, 1, 1, 1, 1, 1, 1, 1, 1, 1, 1, 1, 1, 1, 1, 1, 1, 1, 1, 1, 1, 1, 1, 1, 1, 1, 1, 1, 1, 1, 1, 1, 1, 1, 1, 1, 1, 1, 1, 1, 1, 1, 1, 1, 1, 1, 1, 1, 1, 1, 1, 1, 1, 1, 1, 1, 1, 1, 1, 1, 1, 1, 1, 1, 1, 1, 1, 1, 1, 1, 1, 1, 1, 1, 1, 1, 1, 1, 1, 1, 1, 1, 1, 1, 1, 1, 1, 1, 1, 1, 1, 1, 1, 1, 1, 1, 1, 1, 1, 1, 1, 1, 1, 1, 1, 1, 1, 1, 1, 1, 1, 1, 1, 1, 1, 1, 1, 1, 1, 1, 1, 1, 1, 1, 1, 1, 1, 1, 1]\n"
          ]
        }
      ]
    },
    {
      "cell_type": "markdown",
      "source": [
        "# Data Preprocessing"
      ],
      "metadata": {
        "id": "TBWZi-orv538"
      }
    },
    {
      "cell_type": "code",
      "source": [
        "def preprocess_function(examples):\n",
        "    # Prepends the string \"summarize: \" to each document in the 'text' field of the input examples.\n",
        "    # This is done to instruct the T5 model on the task it needs to perform, which in this case is summarization.\n",
        "    inputs = [\"summarize: \" + doc for doc in examples[\"text\"]]\n",
        "\n",
        "    # Tokenizes the prepended input texts to convert them into a format that can be fed into the T5 model.\n",
        "    # Sets a maximum token length of 1024, and truncates any text longer than this limit.\n",
        "    model_inputs = tokenizer(inputs, max_length=1024, truncation=True)\n",
        "\n",
        "    # Tokenizes the 'summary' field of the input examples to prepare the target labels for the summarization task.\n",
        "    # Sets a maximum token length of 128, and truncates any text longer than this limit.\n",
        "    labels = tokenizer(text_target=examples[\"summary\"], max_length=128, truncation=True)\n",
        "\n",
        "    # Assigns the tokenized labels to the 'labels' field of model_inputs.\n",
        "    # The 'labels' field is used during training to calculate the loss and guide model learning.\n",
        "    model_inputs[\"labels\"] = labels[\"input_ids\"]\n",
        "\n",
        "    # Returns the prepared inputs and labels as a single dictionary, ready for training.\n",
        "    return model_inputs\n"
      ],
      "metadata": {
        "id": "3TH_P1hWS7We"
      },
      "execution_count": null,
      "outputs": []
    },
    {
      "cell_type": "code",
      "source": [
        "tokenized_billsum = billsum.map(preprocess_function, batched=True)"
      ],
      "metadata": {
        "colab": {
          "base_uri": "https://localhost:8080/",
          "height": 81,
          "referenced_widgets": [
            "be015de5305c4ab6b7c1a31855e5571c",
            "c46f418a8ba5449b8fdb3cb3db43b1a4",
            "fe838d08b0594e22914fc4e3a6511c84",
            "d3ff5f22b0fe43aebc767b0c4be7b3c5",
            "317e86b8eb4f46bfa79e85a6f1f0b692",
            "315b2987b0c64527931b9fd6b1e9c037",
            "4d744fcc06d743bd81b756b269edeca1",
            "5f19bdb5fd074cbe90bbbd62a9e90d92",
            "a367cd5f0edf4576b722f75fb8bf3ac0",
            "db9e49c547324fb7b8bf62926227fa86",
            "b1e09dfc6508480a90848c0348f84cbd",
            "1b82cb5a77dd419fb0f7e5fa2fbcd940",
            "4b37338dc3f840d9a360ceed49c8ecff",
            "c06bca1c1f184a7b8aab78e23a40721c",
            "a34504a5e17443d3995fa0445edb56df",
            "0c8bbfc8c495472e9983ed817be2794a",
            "cbb888e38c1a4737bebe46c152146930",
            "8073f1b6eb5040619268edf8884fe205",
            "fa0d0d46fd154000a7fc19daa55ee5bb",
            "36879108858345e28d47f677bb1027e4",
            "3fd721113bf64a1bbc7eb50bb2aadf02",
            "87a6941f40404c69a67b96540c70b4e3"
          ]
        },
        "id": "Mdeo5kGITCSd",
        "outputId": "3c0e63e7-849d-4e81-879e-395f9f37dbd2"
      },
      "execution_count": null,
      "outputs": [
        {
          "output_type": "display_data",
          "data": {
            "text/plain": [
              "Map:   0%|          | 0/989 [00:00<?, ? examples/s]"
            ],
            "application/vnd.jupyter.widget-view+json": {
              "version_major": 2,
              "version_minor": 0,
              "model_id": "be015de5305c4ab6b7c1a31855e5571c"
            }
          },
          "metadata": {}
        },
        {
          "output_type": "display_data",
          "data": {
            "text/plain": [
              "Map:   0%|          | 0/248 [00:00<?, ? examples/s]"
            ],
            "application/vnd.jupyter.widget-view+json": {
              "version_major": 2,
              "version_minor": 0,
              "model_id": "1b82cb5a77dd419fb0f7e5fa2fbcd940"
            }
          },
          "metadata": {}
        }
      ]
    },
    {
      "cell_type": "code",
      "source": [
        "tokenized_billsum['test'][0]['text']"
      ],
      "metadata": {
        "colab": {
          "base_uri": "https://localhost:8080/",
          "height": 105
        },
        "id": "aX2to1wwTNf8",
        "outputId": "f18b9001-f6d4-4369-a042-22e038bd4484"
      },
      "execution_count": null,
      "outputs": [
        {
          "output_type": "execute_result",
          "data": {
            "text/plain": [
              "'The people of the State of California do enact as follows:\\n\\n\\nSECTION 1.\\n(a) The Legislature finds and declares all of the following:\\n(1) Short-lived climate pollutants, such as black carbon, fluorinated gases, and methane, are powerful climate forcers that have a dramatic and detrimental effect on air quality, public health, and climate change.\\n(2) These pollutants create a warming influence on the climate that is many times more potent than that of carbon dioxide.\\n(3) Short-lived climate pollutants that are toxic air contaminants also are a significant environmental risk factor for premature death.\\n(4) Reducing emissions of these pollutants can have an immediate beneficial impact on climate change and on public health.\\n(5) To the extent possible, efforts to reduce emissions of short-lived climate pollutants should focus on areas of the state that are disproportionately affected by poor air quality.\\n(b) It is the intent of the Legislature to support the adoption of policies that improve organics recycling and innovative, cost effective, and environmentally beneficial uses of biomethane derived from solid waste facilities.\\n(c) It is intent of the Legislature that the disposal reduction targets established pursuant to Section 39730.6 of the Health and Safety Code shall serve as a statewide average target and not as a minimum requirement for each jurisdiction.\\nSEC. 2.\\nSection 39730.5 is added to the Health and Safety Code, to read:\\n39730.5.\\n(a) No later than January 1, 2018, the state board shall approve and begin implementing the comprehensive short-lived climate pollutant strategy developed pursuant to Section 39730 to achieve a reduction in the statewide emissions of methane by 40 percent, hydrofluorocarbon gases by 40 percent, and anthropogenic black carbon by 50 percent below 2013 levels by 2030.\\n(b) Prior to approving the short-lived climate pollutant strategy pursuant to subdivision (a), the state board shall do all of the following:\\n(1) Coordinate with other state and local agencies and districts to develop measures identified as part of the strategy.\\n(2) Provide a forum for public engagement by holding at least three public hearings in geographically diverse locations throughout the state.\\n(3) Evaluate the best-available scientific, technological, and economic information to ensure that the strategy is cost effective and technologically feasible.\\n(4) Incorporate and prioritize, as appropriate, measures and actions that provide the following cobenefits:\\n(A) Job growth and local economic benefits in the state.\\n(B) Public health benefits.\\n(C) Potential for new innovation in technology, energy, and resource management practices.\\n(c) The state board shall publicly notice the strategy described in subdivision (a) and post a copy of that strategy on the state board’s Internet Web site at least one month prior to the state board approving the strategy pursuant to subdivision (a).\\nSEC. 3.\\nSection 39730.6 is added to the Health and Safety Code, to read:\\n39730.6.\\n(a) Consistent with Section 39730.5, methane emissions reduction goals shall include the following targets to reduce the landfill disposal of organics:\\n(1) A 50-percent reduction in the level of the statewide disposal of organic waste from the 2014 level by 2020.\\n(2) A 75-percent reduction in the level of the statewide disposal of organic waste from the 2014 level by 2025.\\n(b) Except as provided in this section and Section 42652.5 of the Public Resources Code, the state board shall not adopt, prior to January 1, 2025, requirements to control methane emissions associated with the disposal of organic waste in landfills other than through landfill methane emissions control regulations.\\nSEC. 4.\\nSection 39730.7 is added to the Health and Safety Code, to read:\\n39730.7.\\n(a) For purposes of this section, the following terms have the following meanings:\\n(1) “Department” means the Department of Food and Agriculture.\\n(2) “Commission” means the Public Utilities Commission.\\n(3) “Energy commission” means the State Energy Resources Conservation and Development Commission.\\n(4) “Strategy” means the strategy to reduce short-lived climate pollutants developed pursuant to Section 39730.\\n(b) (1) The state board, in consultation with the department, shall adopt regulations to reduce methane emissions from livestock manure management operations and dairy manure management operations, consistent with this section and the strategy, by up to 40 percent below the dairy sector’s and livestock sector’s 2013 levels by 2030.\\n(2) Prior to adopting regulations pursuant to paragraph (1), the state board shall do all of the following:\\n(A) Work with stakeholders to identify and address technical, market, regulatory, and other challenges and barriers to the development of dairy methane emissions reduction projects. The group of stakeholders shall include a broad range of stakeholders involved in the development of dairy methane reduction projects, including, but not limited to, project developers, dairy and livestock industry representatives, state and local permitting agencies, energy agency representatives, compost producers with experience composting dairy manure, environmental and conservation stakeholders, public health experts, and others with demonstrated expertise relevant to the success of dairy methane emissions reduction efforts.\\n(B) Provide a forum for public engagement by holding at least three public meetings in geographically diverse locations throughout the state where dairy operations and livestock operations are present.\\n(C) In consultation with the department, do both of the following:\\n(i) Conduct or consider livestock and dairy operation research on dairy methane emissions reduction projects, including, but not limited to, scrape manure management systems, solids separation systems, and enteric fermentation.\\n(ii) Consider developing and adopting methane emissions reduction protocols.\\n(3) The state board shall make available to the public by posting on its Internet Web site a report on the progress made in implementing paragraph (2). Pursuant to Section 9795 of the Government Code, the state board shall notify the Legislature of the report.\\n(4) Notwithstanding the Administrative Procedure Act (Chapter 3.5 (commencing with Section 11340) of Part 1 of Division 3 of Title 2 of the Government Code), the regulations adopted pursuant to paragraph (1) shall be implemented on or after January 1, 2024, if the state board, in consultation with the department, determines all of the following:\\n(A) The regulations are technologically feasible.\\n(B) The regulations are economically feasible considering milk and live cattle prices and the commitment of state, federal, and private funding, among other things, and that markets exist for the products generated by dairy manure management and livestock manure management methane emissions reduction projects, including composting, biomethane, and other products. The analysis shall include consideration of both of the following:\\n(i) Electrical interconnection of onsite electrical generation facilities using biomethane.\\n(ii) Access to common carrier pipelines available for the injection of digester biomethane.\\n(C) The regulations are cost effective.\\n(D) The regulations include provisions to minimize and mitigate potential leakage to other states or countries, as appropriate.\\n(E) The regulations include an evaluation of the achievements made by incentive-based programs.\\n(c) No later than July 1, 2020, the state board, in consultation with the department, shall analyze the progress the dairy and livestock sector has made in achieving the goals identified in the strategy and specified in paragraph (1) of subdivision (b). The analysis shall determine if sufficient progress has been made to overcome technical and market barriers, as identified in the strategy. If the analysis determines that progress has not been made in meeting the targets due to insufficient funding or technical or market barriers, the state board, in consultation with the department and upon consultation with stakeholders, may reduce the goal in the strategy for the dairy and livestock sectors, as identified pursuant to paragraph (1).\\n(d) (1) (A) No later than January 1, 2018, the state board, in consultation with the commission and the energy commission, shall establish energy infrastructure development and procurement policies needed to encourage dairy biomethane projects to meet the goal identified pursuant to paragraph (1) of subdivision (b).\\n(B) The state board shall develop a pilot financial mechanism to reduce the economic uncertainty associated with the value of environmental credits, including credits pursuant to the Low-Carbon Fuel Standard regulations (Subarticle 7 (commencing with Section 95480) of Title 17 of the California Code of Regulations) from dairy-related projects producing low-carbon transportation fuels. The state board shall make recommendations to the Legislature for expanding this mechanism to other sources of biogas.\\n(2) No later than January 1, 2018, the commission, in consultation with the state board and the department, shall direct gas corporations to implement not less than five dairy biomethane pilot projects to demonstrate interconnection to the common carrier pipeline system. For the purposes of these pilot projects, gas corporations may recover in rates the reasonable cost of pipeline infrastructure developed pursuant to the pilot projects.\\n(e) No later than January 1, 2018, the state board shall provide guidance on credits generated pursuant to the Low-Carbon Fuel Standard regulations (Subarticle 7 (commencing with Section 95480) of Title 17 of the California Code of Regulations) and the market-based compliance mechanism developed pursuant to Part 5 (commencing with Section 38570) of Division 25.5 from the methane reduction protocols described in the strategy and shall ensure that projects developed before the implementation of regulations adopted pursuant to subdivision (b) receive credit for at least 10 years. Projects shall be eligible for an extension of credits after the first 10 years to the extent allowed by regulations adopted pursuant to the California Global Warming Solutions Act of 2006 (Division 25.5 (commencing with Section 38500)).\\n(f) Enteric emissions reductions shall be achieved only through incentive-based mechanisms until the state board, in consultation with the department, determines that a cost-effective, considering the impact on animal productivity, and scientifically proven method of reducing enteric emissions is available and that adoption of the enteric emissions reduction method would not damage animal health, public health, or consumer acceptance. Voluntary enteric emissions reductions may be used toward satisfying the goals of this chapter.\\n(g) Except as provided in this section, the state board shall not adopt methane emissions reduction regulations controlling the emissions of methane from dairy operations or livestock operations to achieve the 2020 and 2030 greenhouse gas emissions reduction goals established pursuant to the California Global Warming Solutions Act of 2006 (Division 25.5 (commencing with Section 38500)).\\n(h) Nothing in this section shall limit the authority of the state board to acquire planning and baseline information, including requiring the monitoring and reporting of emissions.\\n(i) This section does not in any way affect the state board’s or districts’ authority to regulate emissions of criteria pollutants, toxic air contaminants, or other pollutants pursuant to other provisions of this division.\\nSEC. 5.\\nSection 39730.8 is added to the Health and Safety Code, to read:\\n39730.8.\\n(a) For purposes of this section, the following terms have the following meanings:\\n(1) “Commission” means the Public Utilities Commission.\\n(2) “Energy commission” means the State Energy Resources Conservation and Development Commission.\\n(3) “Strategy” means the strategy to reduce short-lived climate pollutants developed pursuant to Section 39730.\\n(b) The energy commission, in consultation with the state board and the commission, shall develop recommendations for the development and use of renewable gas, including biomethane and biogas, as a part of its 2017 Integrated Energy Policy Report prepared pursuant to Section 25302 of the Public Resources Code. In developing the recommendations, the energy commission shall identify cost-effective strategies that are consistent with existing state policies and climate change goals by considering priority end uses of renewable gas, including biomethane and biogas, and their interactions with state policies, including biomethane and all of the following:\\n(1) The Renewables Portfolio Standard program (Article 16 (commencing with Section 399.11) of Chapter 2.3 of Part 1 of Division 1 of the Public Utilities Code).\\n(2) The Low-Carbon Fuel Standard regulations (Subarticle 7 (commencing with Section 95480) of Title 17 of the California Code of Regulations).\\n(3) Waste diversion goals established pursuant to Division 30 (commencing with Section 40000) of the Public Resources Code.\\n(4) The market-based compliance mechanism developed pursuant to Part 5 (commencing with Section 38570) of Division 25.5.\\n(5) The strategy.\\n(c) Based on the recommendations developed pursuant to subdivision (b), and to meet the state’s climate change, renewable energy, low-carbon fuel, and short-lived climate pollutants goals, including black carbon, landfill diversion, and dairy methane targets identified in the strategy, state agencies shall consider and, as appropriate, adopt policies and incentives to significantly increase the sustainable production and use of renewable gas, including biomethane and biogas.\\n(d) Based on the recommendations developed pursuant to subdivision (b), the commission, in consultation with the energy commission and the state board, shall consider additional policies to support the development and use in the state of renewable gas, including biomethane and biogas, that reduce short-lived climate pollutants in the state.\\n(e) In implementing this section, priority shall be given to fuels with the greatest greenhouse gas emissions benefits, including the consideration of carbon intensity and reduction in short-lived climate pollutants, as appropriate.\\nSEC. 6.\\nChapter 13.1 (commencing with Section 42652) is added to Part 3 of Division 30 of the Public Resources Code, to read:\\nCHAPTER  13.1. Short-Lived Climate Pollutants\\n42652.\\nThe Legislature finds and declares all of the following:\\n(a) The organic disposal reduction targets are essential to achieving the statewide recycling goal identified in Section 41780.01.\\n(b) Achieving organic waste disposal reduction targets requires significant investment to develop organics recycling capacity.\\n(c) More robust state and local funding mechanisms are needed to support the expansion of organics recycling capacity.\\n42652.5.\\n(a) The department, in consultation with the State Air Resources Board, shall adopt regulations to achieve the organic waste reduction goals for 2020 and 2025 established in Section 39730.6 of the Health and Safety Code. The regulations shall comply with all of the following:\\n(1) May require local jurisdictions to impose requirements on generators or other relevant entities within their jurisdiction and may authorize local jurisdictions to impose penalties on generators for noncompliance.\\n(2) Shall include requirements intended to meet the goal that not less than 20 percent of edible food that is currently disposed of is recovered for human consumption by 2025.\\n(3) Shall not establish a numeric organic waste disposal limit for individual landfills.\\n(4) May include different levels of requirements for local jurisdictions and phased timelines based upon their progress in meeting the organic waste reduction goals for 2020 and 2025 established in Section 39730.6 of the Health and Safety Code. The department shall base its determination of progress on relevant factors, including, but not limited to, reviews conducted pursuant to Section 41825, the amount of organic waste disposed compared to the 2014 level, per capita disposal rates, the review required by Section 42653, and other relevant information provided by a jurisdiction.\\n(5) May include penalties to be imposed by the department for noncompliance. If penalties are included, they shall not exceed the amount authorized pursuant to Section 41850.\\n(6) Shall take effect on or after January 1, 2022, except the imposition of penalties pursuant to paragraph (1) shall not take effect until two years after the effective date of the regulations.\\n(b) A local jurisdiction may charge and collect fees to recover the local jurisdiction’s costs incurred in complying with the regulations adopted pursuant to this section.\\n42653.\\n(a) No later than July 1, 2020, the department, in consultation with the State Air Resources Board, shall analyze the progress that the waste sector, state government, and local governments have made in achieving the organic waste reduction goals for 2020 and 2025 established in Section 39730.6 of the Health and Safety Code. The analysis shall include all of the following:\\n(1) The status of new organics recycling infrastructure development, including the commitment of state funding and appropriate rate increases for solid waste and recycling services to support infrastructure expansion.\\n(2) The progress in reducing regulatory barriers to the siting of organics recycling facilities and the timing and effectiveness of policies that will facilitate the permitting of organics recycling infrastructure.\\n(3) The status of markets for the products generated by organics recycling facilities, including cost-effective electrical interconnection and common carrier pipeline injection of digester biomethane and the status of markets for compost, biomethane, and other products from the recycling of organic waste.\\n(b) If the department determines that significant progress has not been made on the items analyzed pursuant to subdivision (a), the department may include incentives or additional requirements in the regulations described in Section 42652 to facilitate progress towards achieving the organic waste reduction goals for 2020 and 2025 established in Section 39730.6 of the Health and Safety Code. The department may, upon consultation with stakeholders, recommend to the Legislature revisions to those organic waste reduction goals.\\n42654.\\nThis chapter shall not limit the authority of a local jurisdiction to adopt, implement, or enforce requirements in addition to those set forth in the regulations adopted pursuant to this chapter.\\nSEC. 7.\\nNo reimbursement is required by this act pursuant to Section 6 of Article XIII\\u2009B of the California Constitution because a local agency or school district has the authority to levy service charges, fees, or assessments sufficient to pay for the program or level of service mandated by this act, within the meaning of Section 17556 of the Government Code.'"
            ],
            "application/vnd.google.colaboratory.intrinsic+json": {
              "type": "string"
            }
          },
          "metadata": {},
          "execution_count": 16
        }
      ]
    },
    {
      "cell_type": "code",
      "source": [
        "tokenized_billsum['test'][0]['summary']"
      ],
      "metadata": {
        "colab": {
          "base_uri": "https://localhost:8080/",
          "height": 105
        },
        "id": "lWMkrX-fTNeM",
        "outputId": "8747379f-cc6a-4a1a-ee40-e9fcee2e9d87"
      },
      "execution_count": null,
      "outputs": [
        {
          "output_type": "execute_result",
          "data": {
            "text/plain": [
              "'(1)\\xa0The California Global Warming Solutions Act of 2006 designates the State Air Resources Board as the state agency charged with monitoring and regulating sources of emissions of greenhouse gases. The state board is required to approve a statewide greenhouse gas emissions limit equivalent to the statewide greenhouse gas emissions level in 1990 to be achieved by 2020. The state board is also required to complete a comprehensive strategy to reduce emissions of short-lived climate pollutants, as defined, in the state.\\nThis bill would require the state board, no later than January 1, 2018, to approve and begin implementing that comprehensive strategy to reduce emissions of short-lived climate pollutants to achieve a reduction in methane by 40%, hydrofluorocarbon gases by 40%, and anthropogenic black carbon by 50% below 2013 levels by 2030, as specified. The bill also would establish specified targets for reducing organic waste in landfills.\\nThis bill would require the state board, in consultation with the Department of Food and Agriculture, to adopt regulations to reduce methane emissions from livestock manure management operations and dairy manure management operations, as specified. The bill would require the state board to take certain actions prior to adopting those regulations. This bill would require the regulations to take effect on or after January 1, 2024, if the state board, in consultation with the department, makes certain determinations.\\nThis bill would require the state board, the Public Utilities Commission, and the State Energy Resources Conservation and Development Commission to undertake various actions related to reducing short-lived climate pollutants in the state. The bill would require state agencies to consider and, as appropriate, adopt policies and incentives to significantly increase the sustainable production and use of renewable gas.\\n(2)\\xa0The California Integrated Waste Management Act of 1989, which is administered by the Department of Resources Recycling and Recovery, establishes an integrated waste management program that requires each county and city and county to prepare and submit to the department a countywide integrated waste management plan.\\nThe bill would require the department, in consultation with the state board, to adopt regulations that achieve the specified targets for reducing organic waste in landfills. The bill would authorize local jurisdictions to charge and collect fees to recover the local jurisdiction’s costs incurred in complying with the regulations. The bill would require, no later than July 1, 2020, the department, in consultation with the state board, to analyze the progress that the waste sector, state government, and local governments have made in achieving the specified targets for reducing organic waste in landfills. The bill would authorize the department, depending on the outcome of that analysis, to amend the regulations to include incentives or additional requirements, as specified. By adding to the duties of local governments related to organic waste in landfills, this bill would impose a state-mandated local program.\\n(3)\\xa0The California Constitution requires the state to reimburse local agencies and school districts for certain costs mandated by the state. Statutory provisions establish procedures for making that reimbursement.\\nThis bill would provide that no reimbursement is required by this act for a specified reason.'"
            ],
            "application/vnd.google.colaboratory.intrinsic+json": {
              "type": "string"
            }
          },
          "metadata": {},
          "execution_count": 17
        }
      ]
    },
    {
      "cell_type": "code",
      "source": [
        "data_collator = DataCollatorForSeq2Seq(tokenizer=tokenizer, model=\"t5-small\")"
      ],
      "metadata": {
        "id": "scFwFiQiTNb_"
      },
      "execution_count": null,
      "outputs": []
    },
    {
      "cell_type": "markdown",
      "source": [
        "# Evaluation Metrics for Training"
      ],
      "metadata": {
        "id": "F_P_0QUWTpkJ"
      }
    },
    {
      "cell_type": "code",
      "source": [
        "rouge = evaluate.load(\"rouge\")"
      ],
      "metadata": {
        "id": "rUc6XFA-TNZm",
        "colab": {
          "base_uri": "https://localhost:8080/",
          "height": 49,
          "referenced_widgets": [
            "27f493df21cc466d932f8a21da39f695",
            "432aa761f5014ea299361721d0470fa7",
            "08d35ff263d64c6ea334237c713bc825",
            "c79f44c115fa4b86baa85bc2c9869c5c",
            "a45b24153f49410e82c3fa4620901951",
            "4aaf86da8c0e4ac7838f3c6ae700720a",
            "782fbdcabd804fe79d37381a0f7a2093",
            "f762adde2b344f83a9e810c161ecaf35",
            "17c2850d619842638f0901247088a4e8",
            "1246d2c04e17404fa04414961e84f233",
            "002280bb031e43ca90a262e515307845"
          ]
        },
        "outputId": "82a922e7-e096-4854-8958-0283f2d3d04e"
      },
      "execution_count": null,
      "outputs": [
        {
          "output_type": "display_data",
          "data": {
            "text/plain": [
              "Downloading builder script:   0%|          | 0.00/6.27k [00:00<?, ?B/s]"
            ],
            "application/vnd.jupyter.widget-view+json": {
              "version_major": 2,
              "version_minor": 0,
              "model_id": "27f493df21cc466d932f8a21da39f695"
            }
          },
          "metadata": {}
        }
      ]
    },
    {
      "cell_type": "code",
      "source": [
        "def compute_metrics(eval_pred):\n",
        "    # Unpacks the evaluation predictions tuple into predictions and labels.\n",
        "    predictions, labels = eval_pred\n",
        "\n",
        "    # Decodes the tokenized predictions back to text, skipping any special tokens (e.g., padding tokens).\n",
        "    decoded_preds = tokenizer.batch_decode(predictions, skip_special_tokens=True)\n",
        "\n",
        "    # Replaces any -100 values in labels with the tokenizer's pad_token_id.\n",
        "    # This is done because -100 is often used to ignore certain tokens when calculating the loss during training.\n",
        "    labels = np.where(labels != -100, labels, tokenizer.pad_token_id)\n",
        "\n",
        "    # Decodes the tokenized labels back to text, skipping any special tokens (e.g., padding tokens).\n",
        "    decoded_labels = tokenizer.batch_decode(labels, skip_special_tokens=True)\n",
        "\n",
        "    # Computes the ROUGE metric between the decoded predictions and decoded labels.\n",
        "    # The use_stemmer parameter enables stemming, which reduces words to their root form before comparison.\n",
        "    result = rouge.compute(predictions=decoded_preds, references=decoded_labels, use_stemmer=True)\n",
        "\n",
        "    # Calculates the length of each prediction by counting the non-padding tokens.\n",
        "    prediction_lens = [np.count_nonzero(pred != tokenizer.pad_token_id) for pred in predictions]\n",
        "\n",
        "    # Computes the mean length of the predictions and adds it to the result dictionary under the key \"gen_len\".\n",
        "    result[\"gen_len\"] = np.mean(prediction_lens)\n",
        "\n",
        "    # Rounds each value in the result dictionary to 4 decimal places for cleaner output, and returns the result.\n",
        "    return {k: round(v, 4) for k, v in result.items()}"
      ],
      "metadata": {
        "id": "tMLYUasZTNSa"
      },
      "execution_count": null,
      "outputs": []
    },
    {
      "cell_type": "markdown",
      "source": [
        "# Training the Model"
      ],
      "metadata": {
        "id": "7bXm4LT-UEu5"
      }
    },
    {
      "cell_type": "code",
      "source": [
        "model = AutoModelForSeq2SeqLM.from_pretrained(\"t5-small\")"
      ],
      "metadata": {
        "id": "zkj_JtcuUEOf",
        "colab": {
          "base_uri": "https://localhost:8080/",
          "height": 113,
          "referenced_widgets": [
            "f85bc33f8d6f4fdd830906cc157a250a",
            "9c798128957947179434a19f6e18de3a",
            "516a66c7f8ee46cb8d1ccfa2de17f03c",
            "301381e3effc4f658968e972f75065cf",
            "07c9d78a567a41348eb2fa76006c778b",
            "2a1edb97a68b4f45b77e271e103b41be",
            "1b8df918a1c14c74a02c9157c9275166",
            "1cc63903be8b4712b65ef024149f4a19",
            "682606234b914e7f94acbe12d2ec72fe",
            "9a34577dc1cf4ce1b99cf55fdc393e24",
            "e7c8c25e77294cada73f1da7470edb49",
            "f2a8bfb8357f465f8dc4f06f6df0645c",
            "b80dccaaf55c4abd8c1a5584d25c8c23",
            "533313b4ffb44849806c0c2d60c21b94",
            "aee22eb5bbfb48bc9a55eec4a1296377",
            "f89b17b5ea924cdc9012ea27ca2bed8f",
            "d09c398405ae4c0b86f7e7eb64963bf9",
            "87be930fb2784e568ecb235858b6d27b",
            "47b2fd5bc1d345daab9627b910e28261",
            "9fa5d8051c024aeca3582af1bcc82311",
            "5c55f352adb64fc88f522923f97cf7f0",
            "e1082ae66810437aa5a279215526d612",
            "9ae151f8edf0483badcb188a195b59e0",
            "95b6d69d993741d39542880dbd5f4464",
            "ba9c626eb5904cefb002be9931a4b281",
            "79708b2d6f67426ab51f3f5be8ade885",
            "91665a9544a544d7bbb0a7d67f91bc26",
            "7ad83410b47c4b82b5bbb67772862fee",
            "bf77036b1dca4d748dc13a34593736bf",
            "17f09cb8f9ce48d4bcfb000ec6c8a7c7",
            "4f2fb6418239468a9aadb9281df81597",
            "e314068db0b047b2bddc68c992822571",
            "53cd956b837441799b1da87e08e268e5"
          ]
        },
        "outputId": "3928ca29-be5d-4db9-e6df-6fdefb2fccc0"
      },
      "execution_count": null,
      "outputs": [
        {
          "output_type": "display_data",
          "data": {
            "text/plain": [
              "config.json:   0%|          | 0.00/1.21k [00:00<?, ?B/s]"
            ],
            "application/vnd.jupyter.widget-view+json": {
              "version_major": 2,
              "version_minor": 0,
              "model_id": "f85bc33f8d6f4fdd830906cc157a250a"
            }
          },
          "metadata": {}
        },
        {
          "output_type": "display_data",
          "data": {
            "text/plain": [
              "model.safetensors:   0%|          | 0.00/242M [00:00<?, ?B/s]"
            ],
            "application/vnd.jupyter.widget-view+json": {
              "version_major": 2,
              "version_minor": 0,
              "model_id": "f2a8bfb8357f465f8dc4f06f6df0645c"
            }
          },
          "metadata": {}
        },
        {
          "output_type": "display_data",
          "data": {
            "text/plain": [
              "generation_config.json:   0%|          | 0.00/147 [00:00<?, ?B/s]"
            ],
            "application/vnd.jupyter.widget-view+json": {
              "version_major": 2,
              "version_minor": 0,
              "model_id": "9ae151f8edf0483badcb188a195b59e0"
            }
          },
          "metadata": {}
        }
      ]
    },
    {
      "cell_type": "code",
      "source": [
        "training_args = Seq2SeqTrainingArguments(\n",
        "    output_dir=\"my_fine_tuned_t5_small_model\",\n",
        "    evaluation_strategy=\"epoch\",\n",
        "    learning_rate=2e-5,\n",
        "    per_device_train_batch_size=8,\n",
        "    per_device_eval_batch_size=8,\n",
        "    weight_decay=0.01,\n",
        "    save_total_limit=3,\n",
        "    num_train_epochs=5,\n",
        "    predict_with_generate=True,\n",
        "    fp16=True,\n",
        ")"
      ],
      "metadata": {
        "colab": {
          "base_uri": "https://localhost:8080/"
        },
        "id": "kW4kjcWtUKLG",
        "outputId": "d40bdcea-4d77-40ec-fcd3-ab5e475b5b5f"
      },
      "execution_count": null,
      "outputs": [
        {
          "output_type": "stream",
          "name": "stderr",
          "text": [
            "/usr/local/lib/python3.10/dist-packages/transformers/training_args.py:1474: FutureWarning: `evaluation_strategy` is deprecated and will be removed in version 4.46 of 🤗 Transformers. Use `eval_strategy` instead\n",
            "  warnings.warn(\n"
          ]
        }
      ]
    },
    {
      "cell_type": "code",
      "source": [
        "trainer = Seq2SeqTrainer(\n",
        "    model=model,\n",
        "    args=training_args,\n",
        "    train_dataset=tokenized_billsum[\"train\"],\n",
        "    eval_dataset=tokenized_billsum[\"test\"],\n",
        "    tokenizer=tokenizer,\n",
        "    data_collator=data_collator,\n",
        "    compute_metrics=compute_metrics,\n",
        ")"
      ],
      "metadata": {
        "id": "O8MTKED4UK6j"
      },
      "execution_count": null,
      "outputs": []
    },
    {
      "cell_type": "code",
      "source": [
        "trainer.train()"
      ],
      "metadata": {
        "colab": {
          "base_uri": "https://localhost:8080/",
          "height": 356
        },
        "id": "JQls4AM4UK2D",
        "outputId": "f8305ee8-be3f-4d67-ef2a-a4ba8196b0a7"
      },
      "execution_count": null,
      "outputs": [
        {
          "output_type": "display_data",
          "data": {
            "text/plain": [
              "<IPython.core.display.HTML object>"
            ],
            "text/html": [
              "\n",
              "    <div>\n",
              "      \n",
              "      <progress value='620' max='620' style='width:300px; height:20px; vertical-align: middle;'></progress>\n",
              "      [620/620 06:45, Epoch 5/5]\n",
              "    </div>\n",
              "    <table border=\"1\" class=\"dataframe\">\n",
              "  <thead>\n",
              " <tr style=\"text-align: left;\">\n",
              "      <th>Epoch</th>\n",
              "      <th>Training Loss</th>\n",
              "      <th>Validation Loss</th>\n",
              "      <th>Rouge1</th>\n",
              "      <th>Rouge2</th>\n",
              "      <th>Rougel</th>\n",
              "      <th>Rougelsum</th>\n",
              "      <th>Gen Len</th>\n",
              "    </tr>\n",
              "  </thead>\n",
              "  <tbody>\n",
              "    <tr>\n",
              "      <td>1</td>\n",
              "      <td>No log</td>\n",
              "      <td>2.623370</td>\n",
              "      <td>0.137000</td>\n",
              "      <td>0.046200</td>\n",
              "      <td>0.111700</td>\n",
              "      <td>0.111400</td>\n",
              "      <td>19.000000</td>\n",
              "    </tr>\n",
              "    <tr>\n",
              "      <td>2</td>\n",
              "      <td>No log</td>\n",
              "      <td>2.483130</td>\n",
              "      <td>0.153200</td>\n",
              "      <td>0.057500</td>\n",
              "      <td>0.125000</td>\n",
              "      <td>0.124900</td>\n",
              "      <td>19.000000</td>\n",
              "    </tr>\n",
              "    <tr>\n",
              "      <td>3</td>\n",
              "      <td>No log</td>\n",
              "      <td>2.427928</td>\n",
              "      <td>0.182900</td>\n",
              "      <td>0.082200</td>\n",
              "      <td>0.151400</td>\n",
              "      <td>0.151400</td>\n",
              "      <td>19.000000</td>\n",
              "    </tr>\n",
              "    <tr>\n",
              "      <td>4</td>\n",
              "      <td>No log</td>\n",
              "      <td>2.403649</td>\n",
              "      <td>0.188600</td>\n",
              "      <td>0.089600</td>\n",
              "      <td>0.157200</td>\n",
              "      <td>0.157000</td>\n",
              "      <td>19.000000</td>\n",
              "    </tr>\n",
              "    <tr>\n",
              "      <td>5</td>\n",
              "      <td>2.821400</td>\n",
              "      <td>2.394625</td>\n",
              "      <td>0.192000</td>\n",
              "      <td>0.092900</td>\n",
              "      <td>0.160900</td>\n",
              "      <td>0.160700</td>\n",
              "      <td>19.000000</td>\n",
              "    </tr>\n",
              "  </tbody>\n",
              "</table><p>"
            ]
          },
          "metadata": {}
        },
        {
          "output_type": "stream",
          "name": "stderr",
          "text": [
            "/usr/local/lib/python3.10/dist-packages/transformers/generation/utils.py:1168: UserWarning: Using the model-agnostic default `max_length` (=20) to control the generation length. We recommend setting `max_new_tokens` to control the maximum length of the generation.\n",
            "  warnings.warn(\n",
            "/usr/local/lib/python3.10/dist-packages/transformers/generation/utils.py:1168: UserWarning: Using the model-agnostic default `max_length` (=20) to control the generation length. We recommend setting `max_new_tokens` to control the maximum length of the generation.\n",
            "  warnings.warn(\n"
          ]
        },
        {
          "output_type": "execute_result",
          "data": {
            "text/plain": [
              "TrainOutput(global_step=620, training_loss=2.772800765498992, metrics={'train_runtime': 407.8758, 'train_samples_per_second': 12.124, 'train_steps_per_second': 1.52, 'total_flos': 1338530416558080.0, 'train_loss': 2.772800765498992, 'epoch': 5.0})"
            ]
          },
          "metadata": {},
          "execution_count": 24
        }
      ]
    },
    {
      "cell_type": "code",
      "source": [
        "model_save_path = \"my_fine_tuned_t5_small_model\""
      ],
      "metadata": {
        "id": "T7-f5q1ty7wP"
      },
      "execution_count": null,
      "outputs": []
    },
    {
      "cell_type": "code",
      "source": [
        "trainer.save_model(model_save_path)"
      ],
      "metadata": {
        "id": "If182EusUKpu"
      },
      "execution_count": null,
      "outputs": []
    },
    {
      "cell_type": "code",
      "source": [
        "tokenizer = T5Tokenizer.from_pretrained('t5-small')\n",
        "tokenizer.save_pretrained(model_save_path)"
      ],
      "metadata": {
        "id": "bX8YFIl_yhSO",
        "colab": {
          "base_uri": "https://localhost:8080/"
        },
        "outputId": "c53e6c3c-530a-4fed-8d30-a80a4d52fe7a"
      },
      "execution_count": null,
      "outputs": [
        {
          "output_type": "stream",
          "name": "stderr",
          "text": [
            "Special tokens have been added in the vocabulary, make sure the associated word embeddings are fine-tuned or trained.\n"
          ]
        },
        {
          "output_type": "execute_result",
          "data": {
            "text/plain": [
              "('my_fine_tuned_t5_small_model/tokenizer_config.json',\n",
              " 'my_fine_tuned_t5_small_model/special_tokens_map.json',\n",
              " 'my_fine_tuned_t5_small_model/spiece.model',\n",
              " 'my_fine_tuned_t5_small_model/added_tokens.json')"
            ]
          },
          "metadata": {},
          "execution_count": 36
        }
      ]
    },
    {
      "cell_type": "markdown",
      "source": [
        "# Use the Fine-Tuned Model to Summarize Text"
      ],
      "metadata": {
        "id": "jcR8uDj1WETE"
      }
    },
    {
      "cell_type": "code",
      "source": [
        "text = billsum['test'][100]['text']\n",
        "text = \"summarize: \" + text\n",
        "text"
      ],
      "metadata": {
        "colab": {
          "base_uri": "https://localhost:8080/",
          "height": 105
        },
        "id": "SZo0wWz7WDMu",
        "outputId": "5d2db9df-1fd7-4096-d102-3f8155923bc7"
      },
      "execution_count": null,
      "outputs": [
        {
          "output_type": "execute_result",
          "data": {
            "text/plain": [
              "'summarize: The people of the State of California do enact as follows:\\n\\n\\nSECTION 1.\\nSection 11834.02 of the Health and Safety Code is amended to read:\\n11834.02.\\n(a)  As used in this chapter, “alcoholism or drug abuse recovery or treatment facility or facilities,” “facility,” or “facilities” means any premises, place, or building that provides 24-hour residential nonmedical services to adults who are recovering from problems related to alcohol, drug, or alcohol and drug misuse or abuse, and who need alcohol, drug, or alcohol and drug recovery treatment or detoxification services.\\n(b)  As used in this chapter, “adults” may include, but is not limited to, all of the following:\\n(1)  Mothers over 18 years of age and their children.\\n(2)  Emancipated minors, which may include, but is not limited to, mothers under 18 years of age and their children.\\n(c)  As used in this chapter, “emancipated minors” means persons under 18 years of age who have acquired emancipation status pursuant to Section 7002 of the Family Code.\\n(d) As used in this chapter, “integral facilities” means any combination of two or more facilities located on the same or different parcels that collectively serve seven or more persons, not including the licensee or members of the licensee’s family or persons employed as facility staff, and that are under the control or management of the same owner, operator, management company, or licensee, or any affiliate of any of them, or which together comprise one operation or enterprise. Integral facilities shall include, but not be limited to, the provision of housing in one facility and recovery programming, treatment, meals, or any other service at another facility or facilities, or by assigning staff or a consultant to provide services to or in more than one facility.\\n(e) Notwithstanding subdivision (a), an alcoholism or drug abuse recovery or treatment facility may serve adolescents upon the issuance of a waiver granted by the department pursuant to regulations adopted under subdivision (c) of Section 11834.50.\\nSEC. 2.\\nSection 11834.09 of the Health and Safety Code is amended to read:\\n11834.09.\\n(a) Upon receipt of a completed written application, fire clearance, and licensing fee from the prospective licensee, and subject to the department’s review and determination that the prospective licensee can comply with this chapter and regulations adopted pursuant to this chapter, the department shall issue a single license to the following types of alcoholism or drug abuse recovery or treatment facilities:\\n(1) A residential facility, other than integral facilities.\\n(2) Integral facilities, as defined in subdivision (d) of Section 11834.02.\\n(b) Failure to submit a completed written application, fire clearance, and payment of the required licensing fee in a timely manner shall result in termination of the department’s licensure review and shall require submission of a new application by the prospective licensee.\\n(c) Failure of the prospective licensee to demonstrate the ability to comply with this chapter or the regulations adopted pursuant to this chapter shall result in departmental denial of the prospective licensee’s application for licensure.\\nSEC. 3.\\nSection 11834.20 of the Health and Safety Code is amended to read:\\n11834.20.\\n(a) The Legislature hereby declares that it is the policy of this state that each county and city shall permit and encourage the development of sufficient numbers and types of alcoholism or drug abuse recovery or treatment facilities as are commensurate with local need.\\n(b) (1)\\nIt shall be presumed that local need is satisfied, and the department shall\\nFor any licensing application submitted on or after January 1, 2017, the department may\\ndeny an application for a new facility license, if the proposed location is in proximity to an existing facility that would result in overconcentration.\\n(2) As used in this section, “overconcentration” means that if a new license is issued, two or more alcoholism or drug abuse recovery or treatment facilities will be separated by a distance of 300 feet or less, as measured from the nearest property line on which an existing facility is located to the nearest property line of the proposed facility. The siting of facilities that combine to form integral facilities within 300 feet of one another shall not result in overconcentration.\\n(3)\\nNotwithstanding paragraphs (1) and (2), based\\nBased\\non special local needs and conditions, the department may approve a separation distance of less than 300 feet if the proximity of facilities to one another would not conflict with regulations of the city or county in which the proposed facility will be located.\\n(c) Any city or county may request denial of the license applied for on the basis of an overconcentration of facilities.\\n(d) At least 45 days prior to approving any application for a new facility, the department or county licensing agency shall notify in writing the planning agency of the city, if the facility is to be located in the city, or the planning agency of the county, if the facility is to be located in an unincorporated area, of the proposed location of the facility.\\n(e) The provisions of this article apply equally to any chartered city, general law city, county, city and county, district, and any other local public entity.\\n(f) For the purposes of this article, “six or fewer persons” does not include the licensee or members of the licensee’s family or persons employed as facility staff.\\nSEC. 4.\\nSection 11834.23 of the\\nHealth and Safety Code\\nis amended to read:\\n11834.23.\\n(a)Whether or not unrelated persons are living together, an alcoholism or drug abuse recovery or treatment facility that serves six or fewer persons shall be considered a residential use of property for the purposes of this article. In addition, the residents and operators of the facility shall be considered a family for the purposes of any law or zoning ordinance that relates to the residential use of property pursuant to this article.\\n(b)For the purpose of all local ordinances, an alcoholism or drug abuse recovery or treatment facility that serves six or fewer persons shall not be included within the definition of a boarding house, rooming house, institution or home for the care of minors, the aged, or persons with mental health disorders, foster care home, guest home, rest home, community residence, or other similar term that implies that the alcoholism or drug abuse recovery or treatment home is a business run for profit or differs in any other way from a single-family residence.\\n(c)This section shall not be construed to forbid a city, county, or other local public entity from placing restrictions on building heights, setback, lot dimensions, or placement of signs of an alcoholism or drug abuse recovery or treatment facility that serves six or fewer persons as long as the restrictions are identical to those applied to other single-family residences.\\n(d)This section shall not be construed to forbid the application to an alcoholism or drug abuse recovery or treatment facility of any local ordinance that deals with health and safety, building standards, environmental impact standards, or any other matter within the jurisdiction of a local public entity. However, the ordinance shall not distinguish alcoholism or drug abuse recovery or treatment facilities that serve six or fewer persons from other single-family dwellings or distinguish residents of alcoholism or drug abuse recovery or treatment facilities from persons who reside in other single-family dwellings.\\n(e)No conditional use permit, zoning variance, or other zoning clearance shall be required of an alcoholism or drug abuse recovery or treatment facility that serves six or fewer persons that is not required of a single-family residence in the same zone.\\n(f)Use of a single-family dwelling for purposes of an alcoholism or drug abuse recovery facility serving six or fewer persons shall not constitute a change of occupancy for purposes of Part 1.5 (commencing with Section 17910) of Division 13 or local building codes. However, nothing in this section is intended to supersede Section 13143 or 13143.6, to the extent those sections are applicable to alcoholism or drug abuse recovery or treatment facilities serving six or fewer residents.\\n(g)This section shall not apply to integral facilities, as defined in subdivision (d) of Section 11834.02.\\n(h)A city, county, or city and county whose application of zoning ordinances to a licensed alcoholism or drug abuse recovery or treatment facility is restricted by this section is an interested party with standing to pursue any available administrative appeals or otherwise seek judicial review of the licensing decision of the department and enforce the provisions of this chapter.\\nSEC. 5.\\nSEC. 4.\\nIf the Commission on State Mandates determines that this act contains costs mandated by the state, reimbursement to local agencies and school districts for those costs shall be made pursuant to Part 7 (commencing with Section 17500) of Division 4 of Title 2 of the Government Code.'"
            ],
            "application/vnd.google.colaboratory.intrinsic+json": {
              "type": "string"
            }
          },
          "metadata": {},
          "execution_count": 37
        }
      ]
    },
    {
      "cell_type": "code",
      "source": [
        "summarizer = pipeline(\"summarization\", model=\"my_fine_tuned_t5_small_model\")\n",
        "pred = summarizer(text)\n",
        "pred\n"
      ],
      "metadata": {
        "colab": {
          "base_uri": "https://localhost:8080/"
        },
        "id": "k9-k_x9zWLF2",
        "outputId": "abb36962-564a-474d-d278-410381fd58e8"
      },
      "execution_count": null,
      "outputs": [
        {
          "output_type": "stream",
          "name": "stderr",
          "text": [
            "You set `add_prefix_space`. The tokenizer needs to be converted from the slow tokenizers\n",
            "Token indices sequence length is longer than the specified maximum sequence length for this model (1944 > 512). Running this sequence through the model will result in indexing errors\n"
          ]
        },
        {
          "output_type": "execute_result",
          "data": {
            "text/plain": [
              "[{'summary_text': 'Existing law prohibits a city, county, or other local public entity from placing restrictions on building heights, setback, lot dimensions, or placement of signs of an alcoholism or drug abuse recovery or treatment facility that serves six or fewer persons as long as the restrictions are identical to those applied to other single-family dwellings. This bill would require the department to issue a single license to the following types of alcoholisesm or drugs abuse recovery and treatment facilities, as defined, if the proposed location is in proximity to an existing facility, a boarding house, rooming house, or zoning ordinance that prohibits the use of a residential or a building that provides 24-hour residential nonmedical services to a person who is a business run for the care of minors or persons that is not required of an emancipation of the .'}]"
            ]
          },
          "metadata": {},
          "execution_count": 38
        }
      ]
    },
    {
      "cell_type": "code",
      "source": [
        "tokenizer = AutoTokenizer.from_pretrained(\"my_fine_tuned_t5_small_model\")\n",
        "inputs = tokenizer(text, return_tensors=\"pt\").input_ids\n",
        "inputs\n"
      ],
      "metadata": {
        "colab": {
          "base_uri": "https://localhost:8080/"
        },
        "id": "YK7nKifeWra3",
        "outputId": "eaeedc5b-92dd-44c3-8c26-e0bb9438103f"
      },
      "execution_count": null,
      "outputs": [
        {
          "output_type": "stream",
          "name": "stderr",
          "text": [
            "Token indices sequence length is longer than the specified maximum sequence length for this model (1942 > 512). Running this sequence through the model will result in indexing errors\n"
          ]
        },
        {
          "output_type": "execute_result",
          "data": {
            "text/plain": [
              "tensor([[21603,    10,    37,  ...,  3636,     5,     1]])"
            ]
          },
          "metadata": {},
          "execution_count": 39
        }
      ]
    },
    {
      "cell_type": "code",
      "source": [
        "model = AutoModelForSeq2SeqLM.from_pretrained(\"my_fine_tuned_t5_small_model\")\n",
        "outputs = model.generate(inputs, max_new_tokens=100, do_sample=False)"
      ],
      "metadata": {
        "id": "Uk0f-VCeWvFe"
      },
      "execution_count": null,
      "outputs": []
    },
    {
      "cell_type": "code",
      "source": [
        "tokenizer.decode(outputs[0], skip_special_tokens=True)"
      ],
      "metadata": {
        "colab": {
          "base_uri": "https://localhost:8080/",
          "height": 70
        },
        "id": "0KNvzKukWw2H",
        "outputId": "abfda1d2-d938-4a77-aec9-1f2ab4ec6962"
      },
      "execution_count": null,
      "outputs": [
        {
          "output_type": "execute_result",
          "data": {
            "text/plain": [
              "'Existing law requires the department to approve a single license to the following types of alcoholism or drug abuse recovery or treatment facilities as defined. Existing law requires the department to approve a single license to the following types of alcoholism or drug abuse recovery or treatment facilities, as defined, if the proposed location is in proximity to an existing facility that would result in overconcentration. Existing law requires the department to approve a single license to the following types of alcoholis'"
            ],
            "application/vnd.google.colaboratory.intrinsic+json": {
              "type": "string"
            }
          },
          "metadata": {},
          "execution_count": 41
        }
      ]
    },
    {
      "cell_type": "markdown",
      "source": [
        "# Evaluate the Result"
      ],
      "metadata": {
        "id": "P4lq-0g8W4EA"
      }
    },
    {
      "cell_type": "code",
      "source": [
        "pred[0]['summary_text']"
      ],
      "metadata": {
        "colab": {
          "base_uri": "https://localhost:8080/",
          "height": 105
        },
        "id": "aN7Rqt74W6Uh",
        "outputId": "44d21132-bc13-4c86-93ec-8fbc3374776e"
      },
      "execution_count": null,
      "outputs": [
        {
          "output_type": "execute_result",
          "data": {
            "text/plain": [
              "'Existing law prohibits a city, county, or other local public entity from placing restrictions on building heights, setback, lot dimensions, or placement of signs of an alcoholism or drug abuse recovery or treatment facility that serves six or fewer persons as long as the restrictions are identical to those applied to other single-family dwellings. This bill would require the department to issue a single license to the following types of alcoholisesm or drugs abuse recovery and treatment facilities, as defined, if the proposed location is in proximity to an existing facility, a boarding house, rooming house, or zoning ordinance that prohibits the use of a residential or a building that provides 24-hour residential nonmedical services to a person who is a business run for the care of minors or persons that is not required of an emancipation of the .'"
            ],
            "application/vnd.google.colaboratory.intrinsic+json": {
              "type": "string"
            }
          },
          "metadata": {},
          "execution_count": 42
        }
      ]
    },
    {
      "cell_type": "code",
      "source": [
        "preds = [pred[0]['summary_text']]"
      ],
      "metadata": {
        "id": "H4fyFEHIW6SM"
      },
      "execution_count": null,
      "outputs": []
    },
    {
      "cell_type": "code",
      "source": [
        "labels = [billsum['test'][100]['summary']]"
      ],
      "metadata": {
        "id": "br9ckILsW6Pb"
      },
      "execution_count": null,
      "outputs": []
    },
    {
      "cell_type": "code",
      "source": [
        "rouge.compute(predictions=preds, references=labels, use_stemmer=True)"
      ],
      "metadata": {
        "colab": {
          "base_uri": "https://localhost:8080/"
        },
        "id": "jio2JNcvW6M_",
        "outputId": "150ef954-fc03-418f-d3ae-380e37f8ed00"
      },
      "execution_count": null,
      "outputs": [
        {
          "output_type": "execute_result",
          "data": {
            "text/plain": [
              "{'rouge1': 0.3059163059163059,\n",
              " 'rouge2': 0.1649782923299566,\n",
              " 'rougeL': 0.19336219336219337,\n",
              " 'rougeLsum': 0.26551226551226553}"
            ]
          },
          "metadata": {},
          "execution_count": 45
        }
      ]
    },
    {
      "cell_type": "markdown",
      "source": [
        "# Testing our own Paragraphs"
      ],
      "metadata": {
        "id": "uu0RRPaGhLjo"
      }
    },
    {
      "cell_type": "code",
      "source": [
        "text1 = \"Urbanization is a defining trend of the 21st century, with more than half of the world's population now living in cities. This shift presents both opportunities and challenges for sustainable development. On one hand, cities are engines of economic growth, innovation, and cultural exchange. They offer better access to jobs, education, healthcare, and social services, which can improve the quality of life for their residents. Urban areas are also more efficient in terms of resource use and can implement green technologies and infrastructure more effectively than rural areas. On the other hand, rapid urbanization often leads to significant challenges, including inadequate housing, congested transportation systems, and environmental degradation. Many cities struggle with air and water pollution, waste management, and the provision of essential services to all residents, particularly in informal settlements. Additionally, the high population density in urban areas can exacerbate social inequalities and lead to the marginalization of vulnerable groups. Addressing these issues requires integrated urban planning, investment in sustainable infrastructure, and inclusive policies that ensure all urban residents benefit from the opportunities cities offer. By fostering resilient, inclusive, and sustainable urban environments, we can harness the potential of cities to drive positive global change.\"\n",
        "text2 = \"The evolution of technology has dramatically transformed the way we communicate, work, and live, ushering in a new era of connectivity and convenience. With the advent of the internet, mobile devices, and social media platforms, information is now accessible at our fingertips, enabling instant communication and interaction across the globe. This technological advancement has revolutionized industries, from healthcare and education to entertainment and commerce, facilitating unprecedented innovation and efficiency. For instance, telemedicine allows patients to consult with doctors remotely, online learning platforms provide access to education for people worldwide, and e-commerce has transformed the retail landscape. However, this rapid technological progress also brings significant challenges. Issues such as digital addiction, cyberbullying, privacy concerns, and the spread of misinformation are becoming increasingly prevalent. Moreover, the digital divide persists, with many individuals and communities lacking access to the latest technologies. Balancing the benefits of technological advancement with its drawbacks requires thoughtful regulation, ethical considerations, and efforts to ensure that technological progress is inclusive and equitable.\"\n",
        "text3 = \"Education plays a pivotal role in shaping the future of individuals and societies, acting as a powerful catalyst for personal growth, social cohesion, and economic development. A robust education system equips students with critical thinking skills, knowledge, and the ability to adapt to rapidly changing circumstances. It fosters creativity, innovation, and problem-solving abilities, which are essential for addressing complex global challenges such as poverty, inequality, and environmental sustainability. Education also promotes social cohesion by instilling values of tolerance, empathy, and civic responsibility, contributing to more inclusive and peaceful societies. However, significant disparities in educational access and quality persist worldwide, with marginalized communities often facing barriers such as inadequate infrastructure, lack of trained teachers, and limited resources. These inequalities hinder the full realization of individuals' potential and impede societal progress. Ensuring inclusive and equitable education for all requires targeted policies, increased investment in educational infrastructure, teacher training, and community engagement. By addressing these challenges, we can unlock the full potential of every individual and pave the way for a more equitable and prosperous future.\""
      ],
      "metadata": {
        "id": "h4LRNzDUbTRs"
      },
      "execution_count": null,
      "outputs": []
    },
    {
      "cell_type": "code",
      "source": [
        "text = \"summarize: \" + text1\n",
        "text"
      ],
      "metadata": {
        "colab": {
          "base_uri": "https://localhost:8080/",
          "height": 105
        },
        "id": "u4HARdsChVVU",
        "outputId": "50c1ab47-dfcf-4a6e-c2ad-70a6d3432450"
      },
      "execution_count": null,
      "outputs": [
        {
          "output_type": "execute_result",
          "data": {
            "text/plain": [
              "\"summarize: Urbanization is a defining trend of the 21st century, with more than half of the world's population now living in cities. This shift presents both opportunities and challenges for sustainable development. On one hand, cities are engines of economic growth, innovation, and cultural exchange. They offer better access to jobs, education, healthcare, and social services, which can improve the quality of life for their residents. Urban areas are also more efficient in terms of resource use and can implement green technologies and infrastructure more effectively than rural areas. On the other hand, rapid urbanization often leads to significant challenges, including inadequate housing, congested transportation systems, and environmental degradation. Many cities struggle with air and water pollution, waste management, and the provision of essential services to all residents, particularly in informal settlements. Additionally, the high population density in urban areas can exacerbate social inequalities and lead to the marginalization of vulnerable groups. Addressing these issues requires integrated urban planning, investment in sustainable infrastructure, and inclusive policies that ensure all urban residents benefit from the opportunities cities offer. By fostering resilient, inclusive, and sustainable urban environments, we can harness the potential of cities to drive positive global change.\""
            ],
            "application/vnd.google.colaboratory.intrinsic+json": {
              "type": "string"
            }
          },
          "metadata": {},
          "execution_count": 47
        }
      ]
    },
    {
      "cell_type": "code",
      "source": [
        "summarizer = pipeline(\"summarization\", model=\"my_fine_tuned_t5_small_model\")\n",
        "pred = summarizer(text)\n",
        "pred"
      ],
      "metadata": {
        "colab": {
          "base_uri": "https://localhost:8080/"
        },
        "id": "oPXZc1c4hVTQ",
        "outputId": "67033066-ba0f-4724-833d-2ffe9df96608"
      },
      "execution_count": null,
      "outputs": [
        {
          "output_type": "execute_result",
          "data": {
            "text/plain": [
              "[{'summary_text': \"urbanization is a defining trend of the 21st century, with more than half of the world's population now living in cities . This shift presents both opportunities and challenges for sustainable development . Cities are engines of economic growth, innovation, and cultural exchange .\"}]"
            ]
          },
          "metadata": {},
          "execution_count": 48
        }
      ]
    },
    {
      "cell_type": "code",
      "source": [
        "text = \"summarize: \" + text2\n",
        "text"
      ],
      "metadata": {
        "colab": {
          "base_uri": "https://localhost:8080/",
          "height": 105
        },
        "id": "nVBu6PlOhVQ9",
        "outputId": "6636faed-6dcd-491f-9252-991549d4422a"
      },
      "execution_count": null,
      "outputs": [
        {
          "output_type": "execute_result",
          "data": {
            "text/plain": [
              "'summarize: The evolution of technology has dramatically transformed the way we communicate, work, and live, ushering in a new era of connectivity and convenience. With the advent of the internet, mobile devices, and social media platforms, information is now accessible at our fingertips, enabling instant communication and interaction across the globe. This technological advancement has revolutionized industries, from healthcare and education to entertainment and commerce, facilitating unprecedented innovation and efficiency. For instance, telemedicine allows patients to consult with doctors remotely, online learning platforms provide access to education for people worldwide, and e-commerce has transformed the retail landscape. However, this rapid technological progress also brings significant challenges. Issues such as digital addiction, cyberbullying, privacy concerns, and the spread of misinformation are becoming increasingly prevalent. Moreover, the digital divide persists, with many individuals and communities lacking access to the latest technologies. Balancing the benefits of technological advancement with its drawbacks requires thoughtful regulation, ethical considerations, and efforts to ensure that technological progress is inclusive and equitable.'"
            ],
            "application/vnd.google.colaboratory.intrinsic+json": {
              "type": "string"
            }
          },
          "metadata": {},
          "execution_count": 49
        }
      ]
    },
    {
      "cell_type": "code",
      "source": [
        "summarizer = pipeline(\"summarization\", model=\"my_fine_tuned_t5_small_model\")\n",
        "pred = summarizer(text)\n",
        "pred"
      ],
      "metadata": {
        "colab": {
          "base_uri": "https://localhost:8080/"
        },
        "id": "GdgkxET6hVO2",
        "outputId": "81c91d74-899a-41ff-90f1-6ad003bce578"
      },
      "execution_count": null,
      "outputs": [
        {
          "output_type": "execute_result",
          "data": {
            "text/plain": [
              "[{'summary_text': 'telemedicine allows patients to consult with doctors remotely, online learning platforms provide access to education for people worldwide, and e-commerce has transformed the retail landscape. This rapid technological progress also brings significant challenges. Issues such as cyberbullying, privacy concerns, and the spread of misinformation are becoming increasingly prevalent.'}]"
            ]
          },
          "metadata": {},
          "execution_count": 50
        }
      ]
    },
    {
      "cell_type": "code",
      "source": [
        "text = \"summarize: \" + text3\n",
        "text"
      ],
      "metadata": {
        "colab": {
          "base_uri": "https://localhost:8080/",
          "height": 105
        },
        "id": "IeNP--xbhb90",
        "outputId": "6f387f2b-4c0d-4b1b-ffdc-7e9639bb62a3"
      },
      "execution_count": null,
      "outputs": [
        {
          "output_type": "execute_result",
          "data": {
            "text/plain": [
              "\"summarize: Education plays a pivotal role in shaping the future of individuals and societies, acting as a powerful catalyst for personal growth, social cohesion, and economic development. A robust education system equips students with critical thinking skills, knowledge, and the ability to adapt to rapidly changing circumstances. It fosters creativity, innovation, and problem-solving abilities, which are essential for addressing complex global challenges such as poverty, inequality, and environmental sustainability. Education also promotes social cohesion by instilling values of tolerance, empathy, and civic responsibility, contributing to more inclusive and peaceful societies. However, significant disparities in educational access and quality persist worldwide, with marginalized communities often facing barriers such as inadequate infrastructure, lack of trained teachers, and limited resources. These inequalities hinder the full realization of individuals' potential and impede societal progress. Ensuring inclusive and equitable education for all requires targeted policies, increased investment in educational infrastructure, teacher training, and community engagement. By addressing these challenges, we can unlock the full potential of every individual and pave the way for a more equitable and prosperous future.\""
            ],
            "application/vnd.google.colaboratory.intrinsic+json": {
              "type": "string"
            }
          },
          "metadata": {},
          "execution_count": 51
        }
      ]
    },
    {
      "cell_type": "code",
      "source": [
        "summarizer = pipeline(\"summarization\", model=\"my_fine_tuned_t5_small_model\")\n",
        "pred = summarizer(text)\n",
        "pred"
      ],
      "metadata": {
        "colab": {
          "base_uri": "https://localhost:8080/"
        },
        "id": "z_gXhQ5chb7u",
        "outputId": "be9e976d-69aa-477b-8784-0e932eefdcf3"
      },
      "execution_count": null,
      "outputs": [
        {
          "output_type": "execute_result",
          "data": {
            "text/plain": [
              "[{'summary_text': 'a robust education system equips students with critical thinking skills, knowledge, and the ability to adapt to rapidly changing circumstances. It fosters creativity, innovation, and problem-solving abilities, which are essential for addressing complex global challenges such as poverty, inequality, and environmental sustainability.'}]"
            ]
          },
          "metadata": {},
          "execution_count": 52
        }
      ]
    },
    {
      "cell_type": "markdown",
      "source": [
        "# Tokenization Pre-Trained_T5"
      ],
      "metadata": {
        "id": "eQBqRrcEtr7g"
      }
    },
    {
      "cell_type": "code",
      "source": [
        "tokenizer = AutoTokenizer.from_pretrained(\"Falconsai/text_summarization\")"
      ],
      "metadata": {
        "id": "LphFLIS_bTTu",
        "colab": {
          "base_uri": "https://localhost:8080/",
          "height": 145,
          "referenced_widgets": [
            "069f2ebb2b9447adb242f36f416dd9ff",
            "fb56055cc1c144c4b297ea01f6427033",
            "474a2fad9d2c44dcaa376d1223ebfa5e",
            "e7dbb7097c5e40ad84ea01771cdd3fb0",
            "43285a9229574dfbbe48ac870e257d4f",
            "4fdb8ac93c24466eb8c33f9a5a2938cc",
            "28e2ffbc2fac4a9d916e1698c203dfc8",
            "0275b4b17c874bedb144d034716c41eb",
            "0b12db3785fb45dfa51fc68001894109",
            "086ad160c440434596e43dea14146c7e",
            "fe9f232004fb4589bad00361bc33e9c4",
            "c19b9ba8c9064525873fd9e4327af129",
            "7e249f38cc5b4893b1e3544e6d0911c1",
            "9cb2ee7f753d474e8430f41013ff1abb",
            "896db856d3074a5283272348ed107c31",
            "01855a4ad05b4a2ea3285904170c1606",
            "7510868942954d3bab28691fbdf5d054",
            "38898ce5b3e44a4eba60b5fdea923c25",
            "1e77078d08724ed48e9ded7a21c26264",
            "27793051e6e0494e9ef3aff823576a39",
            "dfb95e3d532e43cbb36165d875a94676",
            "02974fb0ca54496ea1ce4d4560d5273f",
            "7756120a9f3c4060b02f0c18118b7888",
            "e51a88dd82e24e589626d42d42daac41",
            "d17e2580a57f4899bde24cbd34d50d0e",
            "b4e08d89024c4eb39fb412e04c62fef7",
            "ea0e07013bbc4f9fa0dcd7c25e2a6d57",
            "fc4f2ef083fb4d77b96b92ff37b95192",
            "e98a65fd7bef4487ac4b82ecaa4ef23c",
            "0b62140138fd4be88b96b6f34d50b245",
            "7c820726b4d04a0a88ea39f3494c9df2",
            "28b637f42700419eb2f5d987ac8e7ece",
            "62d7582f947a4c53aff469e7a078552f",
            "3e7c262d2c26447aadf9c06563f8d440",
            "2c65c7de66054561849443a659ed28a7",
            "61ca8f02c037479f9acbdb8a2f8b3d18",
            "b4c6eb3262024328819a06157bd831a9",
            "e3770a39adeb4cfba5c1960ec7169723",
            "693e7ac2cb3e41b6a5016c483d977280",
            "82094b1ed12947719c29b0b7e9edda4f",
            "ee29aab8189a4d63a742eb3d1c46e6af",
            "fd2f64bbc9974817988b2bb2862f0010",
            "2626c7f06bf04aeb8bf0d47ff92e71c2",
            "7ac3ff2882644bdda23c034b6577cc6e"
          ]
        },
        "outputId": "7df68055-bb45-4be7-a827-afbc767555aa"
      },
      "execution_count": null,
      "outputs": [
        {
          "output_type": "display_data",
          "data": {
            "text/plain": [
              "tokenizer_config.json:   0%|          | 0.00/2.32k [00:00<?, ?B/s]"
            ],
            "application/vnd.jupyter.widget-view+json": {
              "version_major": 2,
              "version_minor": 0,
              "model_id": "069f2ebb2b9447adb242f36f416dd9ff"
            }
          },
          "metadata": {}
        },
        {
          "output_type": "display_data",
          "data": {
            "text/plain": [
              "spiece.model:   0%|          | 0.00/792k [00:00<?, ?B/s]"
            ],
            "application/vnd.jupyter.widget-view+json": {
              "version_major": 2,
              "version_minor": 0,
              "model_id": "c19b9ba8c9064525873fd9e4327af129"
            }
          },
          "metadata": {}
        },
        {
          "output_type": "display_data",
          "data": {
            "text/plain": [
              "tokenizer.json:   0%|          | 0.00/2.42M [00:00<?, ?B/s]"
            ],
            "application/vnd.jupyter.widget-view+json": {
              "version_major": 2,
              "version_minor": 0,
              "model_id": "7756120a9f3c4060b02f0c18118b7888"
            }
          },
          "metadata": {}
        },
        {
          "output_type": "display_data",
          "data": {
            "text/plain": [
              "special_tokens_map.json:   0%|          | 0.00/2.20k [00:00<?, ?B/s]"
            ],
            "application/vnd.jupyter.widget-view+json": {
              "version_major": 2,
              "version_minor": 0,
              "model_id": "3e7c262d2c26447aadf9c06563f8d440"
            }
          },
          "metadata": {}
        }
      ]
    },
    {
      "cell_type": "code",
      "source": [
        "tokenized_text = tokenizer(example['text'])\n",
        "for key in tokenized_text:\n",
        "    print(key)\n",
        "    print(tokenized_text[key])"
      ],
      "metadata": {
        "colab": {
          "base_uri": "https://localhost:8080/"
        },
        "id": "qwx_bJMNb1CC",
        "outputId": "ba746411-d4e0-437e-d2d5-4810addc77d4"
      },
      "execution_count": null,
      "outputs": [
        {
          "output_type": "stream",
          "name": "stderr",
          "text": [
            "Token indices sequence length is longer than the specified maximum sequence length for this model (1768 > 512). Running this sequence through the model will result in indexing errors\n"
          ]
        },
        {
          "output_type": "stream",
          "name": "stdout",
          "text": [
            "input_ids\n",
            "[37, 151, 13, 8, 1015, 13, 1826, 103, 3, 35, 2708, 38, 6963, 10, 180, 3073, 9562, 1300, 100, 1810, 1522, 36, 801, 6, 11, 164, 36, 3, 11675, 6, 38, 8, 9896, 6859, 1983, 5, 180, 3073, 5, 1682, 37, 28204, 12902, 11, 15884, 7, 66, 13, 8, 826, 10, 41, 9, 61, 27223, 14652, 370, 502, 11, 70, 1791, 28, 3, 9, 1627, 1004, 21, 17711, 6, 2510, 6, 11, 694, 5, 3, 18536, 502, 1346, 383, 48, 1756, 19, 3510, 57, 1362, 11, 4879, 7137, 6, 1455, 18408, 6, 533, 3580, 6, 958, 688, 6, 11, 8, 5989, 2201, 681, 5, 41, 115, 61, 2150, 12, 321, 8, 2822, 1166, 7, 21, 14326, 4330, 11, 19715, 22, 7, 868, 1166, 21, 28905, 19715, 11, 4330, 11, 8, 1015, 1775, 13, 2575, 1685, 22, 7, 12741, 24382, 331, 6, 24614, 53, 19, 8, 1374, 1137, 13, 1687, 21, 1826, 502, 80, 12, 662, 203, 13, 1246, 6, 13066, 5, 41, 75, 61, 11180, 502, 5696, 1084, 18, 26, 3623, 29, 53, 15935, 11, 7905, 6, 68, 186, 13, 273, 502, 5696, 19598, 2660, 2317, 2241, 5157, 6, 84, 54, 991, 12, 280, 2961, 1036, 30307, 24, 1113, 59, 163, 8, 4161, 861, 11, 112, 42, 160, 384, 6, 68, 92, 8, 1438, 11, 540, 7, 347, 12, 1826, 22, 7, 533, 124, 358, 6, 3518, 6881, 6, 11, 534, 1073, 496, 1356, 5, 41, 26, 61, 9084, 21555, 15520, 13, 502, 28, 592, 12, 5989, 14652, 19, 1832, 12, 1260, 2201, 1455, 21, 502, 5, 29147, 7, 6, 224, 38, 273, 831, 19890, 288, 12, 5568, 850, 3390, 2884, 13, 8, 1685, 11, 6859, 3636, 6, 54, 199, 12, 20, 449, 1021, 502, 45, 3, 11866, 73, 23313, 592, 12, 14652, 5, 27223, 5182, 33, 6470, 11, 54, 199, 502, 734, 8, 3172, 13, 387, 1455, 5, 41, 15, 61, 432, 387, 2100, 1087, 369, 28, 1020, 5, 19345, 8, 5217, 11, 578, 24614, 53, 9793, 3266, 16, 286, 274, 11, 383, 387, 2100, 1087, 1428, 24614, 53, 15935, 6, 11, 8, 2545, 13, 3, 9, 4326, 2201, 12515, 19, 3, 9, 1374, 1998, 12, 856, 1826, 22, 7, 1288, 13, 13464, 3, 5503, 73, 77, 9174, 138, 2871, 5, 180, 3073, 5, 1877, 5568, 489, 22464, 13, 8, 1769, 11, 749, 17585, 7, 3636, 19, 21012, 12, 608, 10, 489, 22464, 5, 242, 3659, 13, 48, 5800, 6, 8, 826, 4903, 7, 1581, 10, 41, 9, 61, 5637, 105, 19040, 6082, 153, 19, 3, 9, 529, 15267, 6, 1722, 6498, 6, 3032, 21, 3, 9, 2572, 16, 2135, 28, 3, 9, 2025, 6, 38, 4802, 16, 27444, 41, 15, 201, 13, 490, 785, 6, 13, 8, 8168, 6, 4850, 6, 42, 11312, 1002, 42, 8, 8649, 11, 1832, 3379, 13, 3, 9, 4326, 18004, 13, 80, 12, 662, 3173, 876, 12, 2862, 1037, 18370, 16, 273, 1002, 6, 5278, 6, 11, 3379, 5, 105, 19040, 6082, 153, 963, 136, 4577, 1918, 8, 785, 24, 19, 7283, 12, 36, 3, 9, 234, 6082, 42, 136, 15266, 120, 1126, 1657, 5, 6499, 86, 2135, 28, 3, 9, 2025, 6, 38, 4802, 16, 27444, 41, 15, 201, 13, 490, 785, 28, 3, 9, 5989, 2201, 42, 4174, 6, 3, 9, 105, 5515, 6082, 153, 1522, 560, 3, 9, 529, 15267, 1722, 6498, 13, 8, 2201, 42, 4174, 11, 18004, 21, 8, 1730, 13, 3, 9690, 84, 6, 3, 99, 136, 6, 13, 8, 2391, 24614, 53, 9793, 1455, 753, 2616, 16, 27444, 41, 9, 61, 13, 5568, 850, 3390, 2884, 13, 8, 1685, 11, 6859, 3636, 8, 2201, 42, 4174, 19, 5005, 28, 5, 10153, 105, 19040, 6082, 642, 3, 99, 6709, 57, 8, 1188, 6, 164, 560, 46, 6082, 13, 827, 3949, 5, 4654, 3949, 1173, 12, 36, 3, 26300, 164, 560, 8, 826, 10, 41, 188, 61, 71, 529, 15267, 6082, 13, 15298, 391, 18, 12097, 7, 16, 44, 7636, 6, 2955, 7, 6, 4205, 6, 8242, 6, 11, 3, 7472, 7, 5, 41, 279, 61, 37, 381, 13, 2034, 1905, 2131, 15, 7, 11, 2835, 1308, 5, 41, 254, 61, 37, 5866, 11, 9243, 1277, 11, 387, 5866, 1002, 5, 41, 308, 61, 37, 1246, 11, 2914, 686, 13, 779, 9403, 5, 41, 427, 61, 37, 10685, 11, 9243, 2675, 5, 41, 371, 61, 37, 686, 13, 22062, 11, 119, 1002, 5, 41, 517, 61, 37, 879, 9322, 11, 1055, 7653, 545, 844, 13, 4205, 6, 2034, 844, 6, 3377, 6, 11, 3, 7472, 1002, 5, 41, 566, 61, 37, 3693, 610, 3949, 13, 1895, 3196, 5, 41, 115, 61, 71, 105, 11303, 15595, 153, 19, 3, 9, 1706, 24, 4019, 2603, 7, 8, 701, 6, 93, 23, 52, 2020, 6, 7386, 2020, 6, 42, 1455, 13, 8, 18004, 5, 7936, 42, 9386, 7, 1522, 59, 36, 1702, 16, 3, 11682, 823, 3, 9, 358, 6, 1809, 6, 42, 3876, 19, 24701, 5, 41, 75, 61, 71, 105, 5515, 6082, 934, 153, 19, 3, 9, 1545, 934, 2657, 21, 3, 9, 2572, 11, 4683, 227, 3, 9, 234, 6082, 5, 37, 934, 3133, 8788, 11, 3, 8826, 7, 8, 3, 26300, 1002, 6, 5278, 6, 42, 3379, 13, 8, 18004, 6, 136, 1037, 18370, 4313, 6, 11, 136, 5719, 1918, 8, 1124, 6970, 42, 5719, 21, 5002, 57, 2016, 7609, 5, 86, 3, 9, 18004, 28, 3, 9, 2201, 42, 4174, 6, 8, 105, 5515, 6082, 934, 153, 1522, 2862, 84, 6, 3, 99, 136, 6, 13, 8, 2391, 24614, 53, 9793, 1455, 753, 2616, 16, 27444, 41, 9, 61, 13, 5568, 850, 3390, 2884, 13, 8, 1685, 11, 6859, 3636, 8, 2201, 42, 4174, 19, 5005, 28, 11, 1522, 3346, 538, 3, 99, 8, 2201, 42, 4174, 65, 3, 10643, 145, 192, 13, 8, 2616, 24614, 53, 9793, 1455, 753, 5, 41, 26, 61, 71, 105, 5515, 17033, 153, 19, 136, 928, 113, 1912, 7, 3, 9, 234, 6082, 5, 41, 15, 61, 105, 18474, 1010, 153, 19, 3, 9, 2025, 57, 1048, 6, 2509, 6, 20345, 1322, 1085, 1696, 6, 38, 4802, 16, 5568, 2838, 4433, 13, 8, 7707, 3636, 6, 6841, 28, 46, 1182, 12, 1242, 6, 136, 119, 1182, 12, 1242, 6, 42, 1591, 6841, 14286, 28, 6867, 6, 13, 490, 785, 42, 4326, 1519, 20270, 6, 3798, 28, 42, 5608, 53, 13, 59, 705, 145, 80, 3701, 72, 145, 662, 18004, 3173, 5, 180, 3073, 5, 2853, 5568, 850, 3390, 2884, 13, 8, 1685, 11, 6859, 3636, 19, 21012, 12, 608, 10, 850, 3390, 2884, 5, 41, 9, 61, 20537, 38, 937, 16, 5568, 3, 15660, 28456, 6, 116, 3, 9, 740, 5720, 19, 4683, 21, 8, 1449, 13, 3, 9, 126, 5989, 2201, 42, 4174, 42, 8, 16915, 13, 46, 1895, 5989, 2201, 42, 4174, 44, 3, 9, 1045, 712, 18, 15474, 234, 6, 8, 5989, 2201, 42, 4174, 1522, 36, 5005, 28, 44, 709, 192, 13, 8, 826, 2391, 24614, 53, 9793, 1455, 753, 10, 5637, 389, 22104, 24, 7864, 8, 1502, 13, 5568, 850, 3390, 2773, 11, 25034, 7, 8, 5989, 2201, 42, 4174, 45, 8, 1045, 712, 18, 15474, 234, 5, 6499, 419, 7168, 179, 13476, 24141, 24, 7864, 797, 3467, 21, 19693, 11, 16158, 41, 12510, 329, 61, 18070, 1628, 377, 1630, 3840, 2443, 16, 13274, 28, 3, 9, 10530, 24, 19, 1044, 18, 3903, 7, 53, 11, 1044, 18, 40, 14547, 53, 11, 54, 6563, 3, 9, 843, 6081, 179, 1407, 5, 10153, 389, 3754, 1455, 2201, 1189, 6, 38, 4802, 16, 27444, 41, 26, 61, 13, 5568, 850, 3390, 2658, 5, 3, 10820, 1881, 155, 6196, 7, 30, 8, 1045, 712, 18, 15474, 234, 22, 7, 3377, 24, 370, 1223, 592, 12, 8, 5989, 2201, 42, 4174, 5, 37, 7189, 6196, 164, 1137, 893, 46, 6196, 4661, 42, 3, 9, 7375, 138, 6337, 6, 224, 38, 3, 9, 6103, 53, 11420, 24, 105, 532, 1365, 12, 8, 2201, 19, 539, 1239, 3, 15757, 71, 1044, 18, 3903, 7, 53, 6, 1044, 18, 40, 14547, 53, 1407, 28, 3, 9, 1576, 8557, 2681, 150, 1364, 145, 10630, 5075, 756, 8, 1501, 30, 8, 1045, 712, 18, 15474, 234, 22, 7, 3377, 1260, 1223, 592, 12, 8, 5989, 2201, 42, 4174, 5, 3, 18669, 389, 6196, 24, 6, 116, 2681, 16, 3, 9, 5989, 2201, 42, 4174, 6, 56, 1345, 1286, 10664, 13, 24306, 42, 3, 22556, 6143, 139, 8, 387, 5, 37, 6196, 1522, 942, 11, 36, 13971, 4970, 12, 8, 6157, 2305, 5150, 377, 1630, 4018, 105, 134, 17, 232, 986, 7, 18070, 257, 21, 9896, 24920, 7, 642, 84, 963, 1774, 4644, 6, 1666, 6, 520, 291, 6, 6124, 6, 11, 16, 89, 11096, 26, 686, 6196, 7, 5, 71, 5989, 1711, 6196, 1451, 876, 21, 928, 169, 6, 379, 46, 6196, 5223, 12, 3, 9, 861, 24, 2993, 116, 8, 861, 8193, 7, 3, 9, 824, 2357, 42, 2992, 769, 21726, 16, 387, 6, 19, 59, 3, 9, 18002, 24614, 53, 9793, 1455, 1451, 5, 3, 24358, 2502, 598, 13, 1711, 6, 3, 99, 8, 1952, 13, 1711, 5293, 15, 26, 19, 4081, 12, 42, 2123, 145, 24, 5293, 15, 26, 57, 136, 13, 8, 753, 356, 7444, 756, 11, 65, 118, 13971, 17087, 57, 46, 3754, 2505, 10343, 38, 1338, 2443, 21, 273, 753, 2127, 57, 8, 6157, 2305, 42, 8, 797, 3467, 13, 24483, 11597, 7, 41, 3291, 4369, 137, 41, 115, 61, 3103, 8, 3, 30935, 13, 3, 9, 804, 5142, 21, 8, 6929, 13, 10548, 1449, 42, 16915, 161, 6, 8, 415, 740, 1081, 2314, 1522, 15614, 8, 24614, 53, 1455, 9793, 753, 831, 57, 48, 1810, 11, 6, 3, 99, 150, 17880, 33, 435, 6, 1522, 428, 804, 5142, 5, 180, 3073, 5, 3594, 5568, 3, 15660, 28456, 13, 8, 1685, 11, 6859, 3636, 19, 21012, 12, 608, 10, 3, 15660, 28456, 5, 37, 1502, 13, 48, 1108, 1522, 59, 1581, 12, 136, 13, 8, 826, 10, 41, 9, 61, 2575, 5989, 14652, 5, 41, 115, 61, 5396, 6244, 7, 42, 4174, 7, 28, 21097, 1455, 3792, 24, 9095, 28, 8, 797, 3467, 21, 19693, 16158, 41, 12510, 329, 377, 23747, 10938, 5, 41, 75, 61, 389, 4579, 1561, 6, 42, 136, 4326, 1898, 119, 145, 3, 9, 712, 18, 15474, 234, 5, 180, 3073, 5, 4357, 156, 8, 3527, 30, 1015, 19926, 1422, 2082, 7, 24, 48, 1810, 2579, 1358, 12871, 26, 57, 8, 538, 6, 23960, 12, 415, 4299, 11, 496, 14126, 21, 273, 1358, 1522, 36, 263, 19890, 288, 12, 2733, 489, 41, 287, 526, 4733, 28, 5568, 1003, 2560, 61, 13, 6022, 314, 13, 11029, 204, 13, 8, 3141, 3636, 5, 1]\n",
            "attention_mask\n",
            "[1, 1, 1, 1, 1, 1, 1, 1, 1, 1, 1, 1, 1, 1, 1, 1, 1, 1, 1, 1, 1, 1, 1, 1, 1, 1, 1, 1, 1, 1, 1, 1, 1, 1, 1, 1, 1, 1, 1, 1, 1, 1, 1, 1, 1, 1, 1, 1, 1, 1, 1, 1, 1, 1, 1, 1, 1, 1, 1, 1, 1, 1, 1, 1, 1, 1, 1, 1, 1, 1, 1, 1, 1, 1, 1, 1, 1, 1, 1, 1, 1, 1, 1, 1, 1, 1, 1, 1, 1, 1, 1, 1, 1, 1, 1, 1, 1, 1, 1, 1, 1, 1, 1, 1, 1, 1, 1, 1, 1, 1, 1, 1, 1, 1, 1, 1, 1, 1, 1, 1, 1, 1, 1, 1, 1, 1, 1, 1, 1, 1, 1, 1, 1, 1, 1, 1, 1, 1, 1, 1, 1, 1, 1, 1, 1, 1, 1, 1, 1, 1, 1, 1, 1, 1, 1, 1, 1, 1, 1, 1, 1, 1, 1, 1, 1, 1, 1, 1, 1, 1, 1, 1, 1, 1, 1, 1, 1, 1, 1, 1, 1, 1, 1, 1, 1, 1, 1, 1, 1, 1, 1, 1, 1, 1, 1, 1, 1, 1, 1, 1, 1, 1, 1, 1, 1, 1, 1, 1, 1, 1, 1, 1, 1, 1, 1, 1, 1, 1, 1, 1, 1, 1, 1, 1, 1, 1, 1, 1, 1, 1, 1, 1, 1, 1, 1, 1, 1, 1, 1, 1, 1, 1, 1, 1, 1, 1, 1, 1, 1, 1, 1, 1, 1, 1, 1, 1, 1, 1, 1, 1, 1, 1, 1, 1, 1, 1, 1, 1, 1, 1, 1, 1, 1, 1, 1, 1, 1, 1, 1, 1, 1, 1, 1, 1, 1, 1, 1, 1, 1, 1, 1, 1, 1, 1, 1, 1, 1, 1, 1, 1, 1, 1, 1, 1, 1, 1, 1, 1, 1, 1, 1, 1, 1, 1, 1, 1, 1, 1, 1, 1, 1, 1, 1, 1, 1, 1, 1, 1, 1, 1, 1, 1, 1, 1, 1, 1, 1, 1, 1, 1, 1, 1, 1, 1, 1, 1, 1, 1, 1, 1, 1, 1, 1, 1, 1, 1, 1, 1, 1, 1, 1, 1, 1, 1, 1, 1, 1, 1, 1, 1, 1, 1, 1, 1, 1, 1, 1, 1, 1, 1, 1, 1, 1, 1, 1, 1, 1, 1, 1, 1, 1, 1, 1, 1, 1, 1, 1, 1, 1, 1, 1, 1, 1, 1, 1, 1, 1, 1, 1, 1, 1, 1, 1, 1, 1, 1, 1, 1, 1, 1, 1, 1, 1, 1, 1, 1, 1, 1, 1, 1, 1, 1, 1, 1, 1, 1, 1, 1, 1, 1, 1, 1, 1, 1, 1, 1, 1, 1, 1, 1, 1, 1, 1, 1, 1, 1, 1, 1, 1, 1, 1, 1, 1, 1, 1, 1, 1, 1, 1, 1, 1, 1, 1, 1, 1, 1, 1, 1, 1, 1, 1, 1, 1, 1, 1, 1, 1, 1, 1, 1, 1, 1, 1, 1, 1, 1, 1, 1, 1, 1, 1, 1, 1, 1, 1, 1, 1, 1, 1, 1, 1, 1, 1, 1, 1, 1, 1, 1, 1, 1, 1, 1, 1, 1, 1, 1, 1, 1, 1, 1, 1, 1, 1, 1, 1, 1, 1, 1, 1, 1, 1, 1, 1, 1, 1, 1, 1, 1, 1, 1, 1, 1, 1, 1, 1, 1, 1, 1, 1, 1, 1, 1, 1, 1, 1, 1, 1, 1, 1, 1, 1, 1, 1, 1, 1, 1, 1, 1, 1, 1, 1, 1, 1, 1, 1, 1, 1, 1, 1, 1, 1, 1, 1, 1, 1, 1, 1, 1, 1, 1, 1, 1, 1, 1, 1, 1, 1, 1, 1, 1, 1, 1, 1, 1, 1, 1, 1, 1, 1, 1, 1, 1, 1, 1, 1, 1, 1, 1, 1, 1, 1, 1, 1, 1, 1, 1, 1, 1, 1, 1, 1, 1, 1, 1, 1, 1, 1, 1, 1, 1, 1, 1, 1, 1, 1, 1, 1, 1, 1, 1, 1, 1, 1, 1, 1, 1, 1, 1, 1, 1, 1, 1, 1, 1, 1, 1, 1, 1, 1, 1, 1, 1, 1, 1, 1, 1, 1, 1, 1, 1, 1, 1, 1, 1, 1, 1, 1, 1, 1, 1, 1, 1, 1, 1, 1, 1, 1, 1, 1, 1, 1, 1, 1, 1, 1, 1, 1, 1, 1, 1, 1, 1, 1, 1, 1, 1, 1, 1, 1, 1, 1, 1, 1, 1, 1, 1, 1, 1, 1, 1, 1, 1, 1, 1, 1, 1, 1, 1, 1, 1, 1, 1, 1, 1, 1, 1, 1, 1, 1, 1, 1, 1, 1, 1, 1, 1, 1, 1, 1, 1, 1, 1, 1, 1, 1, 1, 1, 1, 1, 1, 1, 1, 1, 1, 1, 1, 1, 1, 1, 1, 1, 1, 1, 1, 1, 1, 1, 1, 1, 1, 1, 1, 1, 1, 1, 1, 1, 1, 1, 1, 1, 1, 1, 1, 1, 1, 1, 1, 1, 1, 1, 1, 1, 1, 1, 1, 1, 1, 1, 1, 1, 1, 1, 1, 1, 1, 1, 1, 1, 1, 1, 1, 1, 1, 1, 1, 1, 1, 1, 1, 1, 1, 1, 1, 1, 1, 1, 1, 1, 1, 1, 1, 1, 1, 1, 1, 1, 1, 1, 1, 1, 1, 1, 1, 1, 1, 1, 1, 1, 1, 1, 1, 1, 1, 1, 1, 1, 1, 1, 1, 1, 1, 1, 1, 1, 1, 1, 1, 1, 1, 1, 1, 1, 1, 1, 1, 1, 1, 1, 1, 1, 1, 1, 1, 1, 1, 1, 1, 1, 1, 1, 1, 1, 1, 1, 1, 1, 1, 1, 1, 1, 1, 1, 1, 1, 1, 1, 1, 1, 1, 1, 1, 1, 1, 1, 1, 1, 1, 1, 1, 1, 1, 1, 1, 1, 1, 1, 1, 1, 1, 1, 1, 1, 1, 1, 1, 1, 1, 1, 1, 1, 1, 1, 1, 1, 1, 1, 1, 1, 1, 1, 1, 1, 1, 1, 1, 1, 1, 1, 1, 1, 1, 1, 1, 1, 1, 1, 1, 1, 1, 1, 1, 1, 1, 1, 1, 1, 1, 1, 1, 1, 1, 1, 1, 1, 1, 1, 1, 1, 1, 1, 1, 1, 1, 1, 1, 1, 1, 1, 1, 1, 1, 1, 1, 1, 1, 1, 1, 1, 1, 1, 1, 1, 1, 1, 1, 1, 1, 1, 1, 1, 1, 1, 1, 1, 1, 1, 1, 1, 1, 1, 1, 1, 1, 1, 1, 1, 1, 1, 1, 1, 1, 1, 1, 1, 1, 1, 1, 1, 1, 1, 1, 1, 1, 1, 1, 1, 1, 1, 1, 1, 1, 1, 1, 1, 1, 1, 1, 1, 1, 1, 1, 1, 1, 1, 1, 1, 1, 1, 1, 1, 1, 1, 1, 1, 1, 1, 1, 1, 1, 1, 1, 1, 1, 1, 1, 1, 1, 1, 1, 1, 1, 1, 1, 1, 1, 1, 1, 1, 1, 1, 1, 1, 1, 1, 1, 1, 1, 1, 1, 1, 1, 1, 1, 1, 1, 1, 1, 1, 1, 1, 1, 1, 1, 1, 1, 1, 1, 1, 1, 1, 1, 1, 1, 1, 1, 1, 1, 1, 1, 1, 1, 1, 1, 1, 1, 1, 1, 1, 1, 1, 1, 1, 1, 1, 1, 1, 1, 1, 1, 1, 1, 1, 1, 1, 1, 1, 1, 1, 1, 1, 1, 1, 1, 1, 1, 1, 1, 1, 1, 1, 1, 1, 1, 1, 1, 1, 1, 1, 1, 1, 1, 1, 1, 1, 1, 1, 1, 1, 1, 1, 1, 1, 1, 1, 1, 1, 1, 1, 1, 1, 1, 1, 1, 1, 1, 1, 1, 1, 1, 1, 1, 1, 1, 1, 1, 1, 1, 1, 1, 1, 1, 1, 1, 1, 1, 1, 1, 1, 1, 1, 1, 1, 1, 1, 1, 1, 1, 1, 1, 1, 1, 1, 1, 1, 1, 1, 1, 1, 1, 1, 1, 1, 1, 1, 1, 1, 1, 1, 1, 1, 1, 1, 1, 1, 1, 1, 1, 1, 1, 1, 1, 1, 1, 1, 1, 1, 1, 1, 1, 1, 1, 1, 1, 1, 1, 1, 1, 1, 1, 1, 1, 1, 1, 1, 1, 1, 1, 1, 1, 1, 1, 1, 1, 1, 1, 1, 1, 1, 1, 1, 1, 1, 1, 1, 1, 1, 1, 1, 1, 1, 1, 1, 1, 1, 1, 1, 1, 1, 1, 1, 1, 1, 1, 1, 1, 1, 1, 1, 1, 1, 1, 1, 1, 1, 1, 1, 1, 1, 1, 1, 1, 1, 1, 1, 1, 1, 1, 1, 1, 1, 1, 1, 1, 1, 1, 1, 1, 1, 1, 1, 1, 1, 1, 1, 1, 1, 1, 1, 1, 1, 1, 1, 1, 1, 1, 1, 1, 1, 1, 1, 1, 1, 1, 1, 1, 1, 1, 1, 1, 1, 1, 1, 1, 1, 1, 1, 1, 1, 1, 1, 1, 1, 1, 1, 1, 1, 1, 1, 1, 1, 1, 1, 1, 1, 1, 1, 1, 1, 1, 1, 1, 1, 1, 1, 1, 1, 1, 1, 1, 1, 1, 1, 1, 1, 1, 1, 1, 1, 1, 1, 1, 1, 1, 1, 1, 1, 1, 1, 1, 1, 1, 1, 1, 1, 1, 1, 1, 1, 1, 1, 1, 1, 1, 1, 1, 1, 1, 1, 1, 1, 1, 1, 1, 1, 1, 1, 1, 1, 1, 1, 1, 1, 1, 1, 1, 1, 1, 1, 1, 1, 1, 1, 1, 1, 1, 1, 1, 1, 1, 1, 1, 1, 1, 1, 1, 1, 1, 1, 1, 1, 1, 1, 1, 1, 1, 1, 1, 1, 1, 1, 1, 1, 1, 1, 1, 1, 1, 1, 1, 1, 1, 1, 1, 1, 1, 1, 1, 1, 1, 1, 1, 1, 1, 1, 1, 1, 1, 1, 1, 1, 1, 1, 1, 1, 1, 1, 1, 1, 1, 1, 1, 1, 1, 1, 1, 1, 1, 1, 1, 1, 1, 1, 1, 1, 1, 1, 1, 1, 1, 1, 1, 1, 1, 1, 1, 1, 1, 1, 1, 1, 1, 1, 1, 1, 1, 1, 1, 1, 1, 1, 1, 1, 1, 1, 1, 1, 1, 1, 1, 1, 1, 1, 1, 1, 1, 1, 1, 1, 1, 1, 1, 1, 1, 1, 1, 1, 1, 1, 1, 1, 1, 1, 1, 1, 1, 1, 1, 1, 1, 1, 1, 1, 1, 1, 1, 1, 1, 1, 1, 1, 1, 1, 1, 1, 1, 1, 1, 1, 1, 1, 1, 1, 1, 1, 1, 1, 1, 1, 1, 1, 1, 1, 1, 1, 1, 1, 1, 1, 1, 1, 1, 1, 1, 1, 1, 1, 1, 1, 1, 1, 1, 1, 1, 1, 1, 1, 1, 1, 1, 1, 1, 1, 1, 1, 1, 1, 1]\n"
          ]
        }
      ]
    },
    {
      "cell_type": "code",
      "source": [
        "data_collator = DataCollatorForSeq2Seq(tokenizer=tokenizer, model=\"Falconsai/text_summarization\")"
      ],
      "metadata": {
        "id": "FQ0OnMbNb0_-"
      },
      "execution_count": null,
      "outputs": []
    },
    {
      "cell_type": "markdown",
      "source": [
        "# Load Model_Pre-Trained_T5 *(Text Summarization)*"
      ],
      "metadata": {
        "id": "BvGwXsPdc3YO"
      }
    },
    {
      "cell_type": "code",
      "source": [
        "model = AutoModelForSeq2SeqLM.from_pretrained(\"Falconsai/text_summarization\")"
      ],
      "metadata": {
        "id": "ru2Y3U6Db07i",
        "colab": {
          "base_uri": "https://localhost:8080/",
          "height": 113,
          "referenced_widgets": [
            "d200a2c0f0b34993a30805feb19e5205",
            "2d613d5b121c4af882604b11c5b3f08a",
            "b1161de555584f048843e61fadc53743",
            "a6dabc4ed7b94d1c8fc15ec0c74e3794",
            "7bc7a1e1d974419d8375dacf54f7f6b0",
            "b90a051117d840e4bdce421e22ff1981",
            "eb15c8a9db614942bfaba40cc865307e",
            "8108d3b46259475dbe5349740e083847",
            "f8013f43f18b450c9f938ef0c6a3df1d",
            "8f2986e3ac444859a7a80ebc5947606b",
            "ecc8a255ca0a4d9b9f7ab93965a0bfa0",
            "f1dc69f54d584f68b039601c7eaeba5d",
            "98cc80dcdef6485a9269c19964c3c76d",
            "90e517d59a044a7c9c016714c1e78278",
            "4735ce59cec34e8cba3998ee9797053e",
            "18b4955ce15f427a8dea72805121bf85",
            "0f8bfee269ff4a4f89e3542721c3420f",
            "a3add7a292b84ecfbdbab1144c41cb69",
            "df1addd7598b4271b4f485c427cd70ef",
            "28902a47a0434d95b6ac40f834c1894e",
            "b65048f5a0734e1081894ea6c708f687",
            "14ce17e4002f4bde8c8455933982c7e1",
            "fad46e1362c24b21a89c77ceba696263",
            "f231cfd2c8984bfb85fa1a3323b48ab9",
            "1477422317b64a4ab589c758f2861857",
            "64f514b470d2432a89941af2c4f86f8d",
            "6d9c57764c3f496a8261ee42945dd9b5",
            "7ee971dd30594dddbe678467dfa8c3e1",
            "2b79955c2f0945619b09e0b134a48b1b",
            "8973ba91d575407399c3be55fec1be30",
            "bc770747515f42edb23c78112bb15e97",
            "b438a3984d7f4a0ca07299abf9b2b9f6",
            "1502810165754961ac888daafe29bcc7"
          ]
        },
        "outputId": "efeedb68-c225-419f-d7e2-6f0d9a1ea3cf"
      },
      "execution_count": null,
      "outputs": [
        {
          "output_type": "display_data",
          "data": {
            "text/plain": [
              "config.json:   0%|          | 0.00/1.49k [00:00<?, ?B/s]"
            ],
            "application/vnd.jupyter.widget-view+json": {
              "version_major": 2,
              "version_minor": 0,
              "model_id": "d200a2c0f0b34993a30805feb19e5205"
            }
          },
          "metadata": {}
        },
        {
          "output_type": "display_data",
          "data": {
            "text/plain": [
              "model.safetensors:   0%|          | 0.00/242M [00:00<?, ?B/s]"
            ],
            "application/vnd.jupyter.widget-view+json": {
              "version_major": 2,
              "version_minor": 0,
              "model_id": "f1dc69f54d584f68b039601c7eaeba5d"
            }
          },
          "metadata": {}
        },
        {
          "output_type": "display_data",
          "data": {
            "text/plain": [
              "generation_config.json:   0%|          | 0.00/112 [00:00<?, ?B/s]"
            ],
            "application/vnd.jupyter.widget-view+json": {
              "version_major": 2,
              "version_minor": 0,
              "model_id": "fad46e1362c24b21a89c77ceba696263"
            }
          },
          "metadata": {}
        }
      ]
    },
    {
      "cell_type": "code",
      "source": [
        "training_args = Seq2SeqTrainingArguments(\n",
        "    output_dir=\"my_fine_tuned_t5_small_model_2\",\n",
        "    evaluation_strategy=\"epoch\",\n",
        "    learning_rate=2e-5,\n",
        "    per_device_train_batch_size=16,\n",
        "    per_device_eval_batch_size=16,=-\n",
        "    weight_decay=0.01,\n",
        "    save_total_limit=3,\n",
        "    num_train_epochs=5,\n",
        "    predict_with_generate=True,\n",
        "    fp16=True,\n",
        ")"
      ],
      "metadata": {
        "colab": {
          "base_uri": "https://localhost:8080/"
        },
        "id": "pVUTTuXdb04S",
        "outputId": "31ed66ba-ed1f-407f-b06a-ef02ab5e7744"
      },
      "execution_count": null,
      "outputs": [
        {
          "output_type": "stream",
          "name": "stderr",
          "text": [
            "/usr/local/lib/python3.10/dist-packages/transformers/training_args.py:1474: FutureWarning: `evaluation_strategy` is deprecated and will be removed in version 4.46 of 🤗 Transformers. Use `eval_strategy` instead\n",
            "  warnings.warn(\n"
          ]
        }
      ]
    },
    {
      "cell_type": "code",
      "source": [
        "trainer = Seq2SeqTrainer(\n",
        "    model=model,\n",
        "    args=training_args,\n",
        "    train_dataset=tokenized_billsum[\"train\"],\n",
        "    eval_dataset=tokenized_billsum[\"test\"],\n",
        "    tokenizer=tokenizer,\n",
        "    data_collator=data_collator,\n",
        "    compute_metrics=compute_metrics,\n",
        ")"
      ],
      "metadata": {
        "id": "duaVNvhUcSul"
      },
      "execution_count": null,
      "outputs": []
    },
    {
      "cell_type": "code",
      "source": [
        "trainer.train()"
      ],
      "metadata": {
        "colab": {
          "base_uri": "https://localhost:8080/",
          "height": 322
        },
        "id": "oCOUwN0mcSsk",
        "outputId": "1104ec76-abeb-4269-92ce-cf6e84a59cba"
      },
      "execution_count": null,
      "outputs": [
        {
          "output_type": "display_data",
          "data": {
            "text/plain": [
              "<IPython.core.display.HTML object>"
            ],
            "text/html": [
              "\n",
              "    <div>\n",
              "      \n",
              "      <progress value='310' max='310' style='width:300px; height:20px; vertical-align: middle;'></progress>\n",
              "      [310/310 06:05, Epoch 5/5]\n",
              "    </div>\n",
              "    <table border=\"1\" class=\"dataframe\">\n",
              "  <thead>\n",
              " <tr style=\"text-align: left;\">\n",
              "      <th>Epoch</th>\n",
              "      <th>Training Loss</th>\n",
              "      <th>Validation Loss</th>\n",
              "      <th>Rouge1</th>\n",
              "      <th>Rouge2</th>\n",
              "      <th>Rougel</th>\n",
              "      <th>Rougelsum</th>\n",
              "      <th>Gen Len</th>\n",
              "    </tr>\n",
              "  </thead>\n",
              "  <tbody>\n",
              "    <tr>\n",
              "      <td>1</td>\n",
              "      <td>No log</td>\n",
              "      <td>2.693537</td>\n",
              "      <td>0.131800</td>\n",
              "      <td>0.043500</td>\n",
              "      <td>0.109200</td>\n",
              "      <td>0.108900</td>\n",
              "      <td>19.000000</td>\n",
              "    </tr>\n",
              "    <tr>\n",
              "      <td>2</td>\n",
              "      <td>No log</td>\n",
              "      <td>2.558708</td>\n",
              "      <td>0.148400</td>\n",
              "      <td>0.052500</td>\n",
              "      <td>0.119500</td>\n",
              "      <td>0.119400</td>\n",
              "      <td>19.000000</td>\n",
              "    </tr>\n",
              "    <tr>\n",
              "      <td>3</td>\n",
              "      <td>No log</td>\n",
              "      <td>2.505466</td>\n",
              "      <td>0.153500</td>\n",
              "      <td>0.055600</td>\n",
              "      <td>0.124700</td>\n",
              "      <td>0.124600</td>\n",
              "      <td>19.000000</td>\n",
              "    </tr>\n",
              "    <tr>\n",
              "      <td>4</td>\n",
              "      <td>No log</td>\n",
              "      <td>2.479368</td>\n",
              "      <td>0.155600</td>\n",
              "      <td>0.056100</td>\n",
              "      <td>0.126400</td>\n",
              "      <td>0.126300</td>\n",
              "      <td>19.000000</td>\n",
              "    </tr>\n",
              "    <tr>\n",
              "      <td>5</td>\n",
              "      <td>No log</td>\n",
              "      <td>2.470774</td>\n",
              "      <td>0.159200</td>\n",
              "      <td>0.059200</td>\n",
              "      <td>0.129900</td>\n",
              "      <td>0.129800</td>\n",
              "      <td>19.000000</td>\n",
              "    </tr>\n",
              "  </tbody>\n",
              "</table><p>"
            ]
          },
          "metadata": {}
        },
        {
          "output_type": "stream",
          "name": "stderr",
          "text": [
            "/usr/local/lib/python3.10/dist-packages/transformers/generation/utils.py:1168: UserWarning: Using the model-agnostic default `max_length` (=20) to control the generation length. We recommend setting `max_new_tokens` to control the maximum length of the generation.\n",
            "  warnings.warn(\n"
          ]
        },
        {
          "output_type": "execute_result",
          "data": {
            "text/plain": [
              "TrainOutput(global_step=310, training_loss=2.7982947564894154, metrics={'train_runtime': 366.0291, 'train_samples_per_second': 13.51, 'train_steps_per_second': 0.847, 'total_flos': 1338530416558080.0, 'train_loss': 2.7982947564894154, 'epoch': 5.0})"
            ]
          },
          "metadata": {},
          "execution_count": 59
        }
      ]
    },
    {
      "cell_type": "code",
      "source": [
        "model_save_path = \"my_fine_tuned_t5_small_model_2\""
      ],
      "metadata": {
        "id": "31_-fTNn0T6x"
      },
      "execution_count": null,
      "outputs": []
    },
    {
      "cell_type": "code",
      "source": [
        "trainer.save_model(model_save_path)"
      ],
      "metadata": {
        "id": "hK_h51TvcSqe"
      },
      "execution_count": null,
      "outputs": []
    },
    {
      "cell_type": "code",
      "source": [
        "tokenizer = T5Tokenizer.from_pretrained(\"Falconsai/text_summarization\")\n",
        "tokenizer.save_pretrained(model_save_path)"
      ],
      "metadata": {
        "colab": {
          "base_uri": "https://localhost:8080/"
        },
        "id": "jxqCBrbI0Spg",
        "outputId": "c04334d8-eaa6-4a72-da53-6f8a1a34a4fa"
      },
      "execution_count": null,
      "outputs": [
        {
          "output_type": "stream",
          "name": "stderr",
          "text": [
            "Special tokens have been added in the vocabulary, make sure the associated word embeddings are fine-tuned or trained.\n"
          ]
        },
        {
          "output_type": "execute_result",
          "data": {
            "text/plain": [
              "('my_fine_tuned_t5_small_model_2/tokenizer_config.json',\n",
              " 'my_fine_tuned_t5_small_model_2/special_tokens_map.json',\n",
              " 'my_fine_tuned_t5_small_model_2/spiece.model',\n",
              " 'my_fine_tuned_t5_small_model_2/added_tokens.json')"
            ]
          },
          "metadata": {},
          "execution_count": 62
        }
      ]
    },
    {
      "cell_type": "markdown",
      "source": [
        "# Evaluating the Result"
      ],
      "metadata": {
        "id": "KwBZqt43ePS6"
      }
    },
    {
      "cell_type": "code",
      "source": [
        "text = billsum['test'][100]['text']\n",
        "text = \"summarize: \" + text\n",
        "text"
      ],
      "metadata": {
        "colab": {
          "base_uri": "https://localhost:8080/",
          "height": 105
        },
        "id": "MZNQItsOebK3",
        "outputId": "92a71bbf-5ba6-445e-fb5a-c3e9b8e26bef"
      },
      "execution_count": null,
      "outputs": [
        {
          "output_type": "execute_result",
          "data": {
            "text/plain": [
              "'summarize: The people of the State of California do enact as follows:\\n\\n\\nSECTION 1.\\nSection 11834.02 of the Health and Safety Code is amended to read:\\n11834.02.\\n(a)  As used in this chapter, “alcoholism or drug abuse recovery or treatment facility or facilities,” “facility,” or “facilities” means any premises, place, or building that provides 24-hour residential nonmedical services to adults who are recovering from problems related to alcohol, drug, or alcohol and drug misuse or abuse, and who need alcohol, drug, or alcohol and drug recovery treatment or detoxification services.\\n(b)  As used in this chapter, “adults” may include, but is not limited to, all of the following:\\n(1)  Mothers over 18 years of age and their children.\\n(2)  Emancipated minors, which may include, but is not limited to, mothers under 18 years of age and their children.\\n(c)  As used in this chapter, “emancipated minors” means persons under 18 years of age who have acquired emancipation status pursuant to Section 7002 of the Family Code.\\n(d) As used in this chapter, “integral facilities” means any combination of two or more facilities located on the same or different parcels that collectively serve seven or more persons, not including the licensee or members of the licensee’s family or persons employed as facility staff, and that are under the control or management of the same owner, operator, management company, or licensee, or any affiliate of any of them, or which together comprise one operation or enterprise. Integral facilities shall include, but not be limited to, the provision of housing in one facility and recovery programming, treatment, meals, or any other service at another facility or facilities, or by assigning staff or a consultant to provide services to or in more than one facility.\\n(e) Notwithstanding subdivision (a), an alcoholism or drug abuse recovery or treatment facility may serve adolescents upon the issuance of a waiver granted by the department pursuant to regulations adopted under subdivision (c) of Section 11834.50.\\nSEC. 2.\\nSection 11834.09 of the Health and Safety Code is amended to read:\\n11834.09.\\n(a) Upon receipt of a completed written application, fire clearance, and licensing fee from the prospective licensee, and subject to the department’s review and determination that the prospective licensee can comply with this chapter and regulations adopted pursuant to this chapter, the department shall issue a single license to the following types of alcoholism or drug abuse recovery or treatment facilities:\\n(1) A residential facility, other than integral facilities.\\n(2) Integral facilities, as defined in subdivision (d) of Section 11834.02.\\n(b) Failure to submit a completed written application, fire clearance, and payment of the required licensing fee in a timely manner shall result in termination of the department’s licensure review and shall require submission of a new application by the prospective licensee.\\n(c) Failure of the prospective licensee to demonstrate the ability to comply with this chapter or the regulations adopted pursuant to this chapter shall result in departmental denial of the prospective licensee’s application for licensure.\\nSEC. 3.\\nSection 11834.20 of the Health and Safety Code is amended to read:\\n11834.20.\\n(a) The Legislature hereby declares that it is the policy of this state that each county and city shall permit and encourage the development of sufficient numbers and types of alcoholism or drug abuse recovery or treatment facilities as are commensurate with local need.\\n(b) (1)\\nIt shall be presumed that local need is satisfied, and the department shall\\nFor any licensing application submitted on or after January 1, 2017, the department may\\ndeny an application for a new facility license, if the proposed location is in proximity to an existing facility that would result in overconcentration.\\n(2) As used in this section, “overconcentration” means that if a new license is issued, two or more alcoholism or drug abuse recovery or treatment facilities will be separated by a distance of 300 feet or less, as measured from the nearest property line on which an existing facility is located to the nearest property line of the proposed facility. The siting of facilities that combine to form integral facilities within 300 feet of one another shall not result in overconcentration.\\n(3)\\nNotwithstanding paragraphs (1) and (2), based\\nBased\\non special local needs and conditions, the department may approve a separation distance of less than 300 feet if the proximity of facilities to one another would not conflict with regulations of the city or county in which the proposed facility will be located.\\n(c) Any city or county may request denial of the license applied for on the basis of an overconcentration of facilities.\\n(d) At least 45 days prior to approving any application for a new facility, the department or county licensing agency shall notify in writing the planning agency of the city, if the facility is to be located in the city, or the planning agency of the county, if the facility is to be located in an unincorporated area, of the proposed location of the facility.\\n(e) The provisions of this article apply equally to any chartered city, general law city, county, city and county, district, and any other local public entity.\\n(f) For the purposes of this article, “six or fewer persons” does not include the licensee or members of the licensee’s family or persons employed as facility staff.\\nSEC. 4.\\nSection 11834.23 of the\\nHealth and Safety Code\\nis amended to read:\\n11834.23.\\n(a)Whether or not unrelated persons are living together, an alcoholism or drug abuse recovery or treatment facility that serves six or fewer persons shall be considered a residential use of property for the purposes of this article. In addition, the residents and operators of the facility shall be considered a family for the purposes of any law or zoning ordinance that relates to the residential use of property pursuant to this article.\\n(b)For the purpose of all local ordinances, an alcoholism or drug abuse recovery or treatment facility that serves six or fewer persons shall not be included within the definition of a boarding house, rooming house, institution or home for the care of minors, the aged, or persons with mental health disorders, foster care home, guest home, rest home, community residence, or other similar term that implies that the alcoholism or drug abuse recovery or treatment home is a business run for profit or differs in any other way from a single-family residence.\\n(c)This section shall not be construed to forbid a city, county, or other local public entity from placing restrictions on building heights, setback, lot dimensions, or placement of signs of an alcoholism or drug abuse recovery or treatment facility that serves six or fewer persons as long as the restrictions are identical to those applied to other single-family residences.\\n(d)This section shall not be construed to forbid the application to an alcoholism or drug abuse recovery or treatment facility of any local ordinance that deals with health and safety, building standards, environmental impact standards, or any other matter within the jurisdiction of a local public entity. However, the ordinance shall not distinguish alcoholism or drug abuse recovery or treatment facilities that serve six or fewer persons from other single-family dwellings or distinguish residents of alcoholism or drug abuse recovery or treatment facilities from persons who reside in other single-family dwellings.\\n(e)No conditional use permit, zoning variance, or other zoning clearance shall be required of an alcoholism or drug abuse recovery or treatment facility that serves six or fewer persons that is not required of a single-family residence in the same zone.\\n(f)Use of a single-family dwelling for purposes of an alcoholism or drug abuse recovery facility serving six or fewer persons shall not constitute a change of occupancy for purposes of Part 1.5 (commencing with Section 17910) of Division 13 or local building codes. However, nothing in this section is intended to supersede Section 13143 or 13143.6, to the extent those sections are applicable to alcoholism or drug abuse recovery or treatment facilities serving six or fewer residents.\\n(g)This section shall not apply to integral facilities, as defined in subdivision (d) of Section 11834.02.\\n(h)A city, county, or city and county whose application of zoning ordinances to a licensed alcoholism or drug abuse recovery or treatment facility is restricted by this section is an interested party with standing to pursue any available administrative appeals or otherwise seek judicial review of the licensing decision of the department and enforce the provisions of this chapter.\\nSEC. 5.\\nSEC. 4.\\nIf the Commission on State Mandates determines that this act contains costs mandated by the state, reimbursement to local agencies and school districts for those costs shall be made pursuant to Part 7 (commencing with Section 17500) of Division 4 of Title 2 of the Government Code.'"
            ],
            "application/vnd.google.colaboratory.intrinsic+json": {
              "type": "string"
            }
          },
          "metadata": {},
          "execution_count": 63
        }
      ]
    },
    {
      "cell_type": "code",
      "source": [
        "summarizer = pipeline(\"summarization\", model=\"my_fine_tuned_t5_small_model_2\")\n",
        "pred = summarizer(text)\n",
        "pred"
      ],
      "metadata": {
        "colab": {
          "base_uri": "https://localhost:8080/"
        },
        "id": "7aR6lXxxebC-",
        "outputId": "452e2fcc-d1ec-402f-b6e6-226f958f8fae"
      },
      "execution_count": null,
      "outputs": [
        {
          "output_type": "stream",
          "name": "stderr",
          "text": [
            "Token indices sequence length is longer than the specified maximum sequence length for this model (1944 > 512). Running this sequence through the model will result in indexing errors\n"
          ]
        },
        {
          "output_type": "execute_result",
          "data": {
            "text/plain": [
              "[{'summary_text': 'Existing law prohibits a city, county, or other local public entity from placing restrictions on building heights, setback, lot dimensions, or placement of signs of an alcoholism or drug abuse recovery or treatment facility that serves six or fewer persons, as long as the restrictions are identical to those applied to other single-family dwellings. Existing legislation prohibits the department from granting an application for a new facility license, if the proposed location is in proximity to an existing facility that would result in overconcentration of facilities.'}]"
            ]
          },
          "metadata": {},
          "execution_count": 64
        }
      ]
    },
    {
      "cell_type": "code",
      "source": [
        "tokenizer = AutoTokenizer.from_pretrained(\"my_fine_tuned_t5_small_model_2\")\n",
        "inputs = tokenizer(text, return_tensors=\"pt\").input_ids\n",
        "inputs"
      ],
      "metadata": {
        "colab": {
          "base_uri": "https://localhost:8080/"
        },
        "id": "BNkkHZYxee4y",
        "outputId": "821367cb-b812-4e49-b835-339fc05e3371"
      },
      "execution_count": null,
      "outputs": [
        {
          "output_type": "stream",
          "name": "stderr",
          "text": [
            "Token indices sequence length is longer than the specified maximum sequence length for this model (1942 > 512). Running this sequence through the model will result in indexing errors\n"
          ]
        },
        {
          "output_type": "execute_result",
          "data": {
            "text/plain": [
              "tensor([[21603,    10,    37,  ...,  3636,     5,     1]])"
            ]
          },
          "metadata": {},
          "execution_count": 65
        }
      ]
    },
    {
      "cell_type": "code",
      "source": [
        "model = AutoModelForSeq2SeqLM.from_pretrained(\"my_fine_tuned_t5_small_model_2\")\n",
        "outputs = model.generate(inputs, max_new_tokens=100, do_sample=False)"
      ],
      "metadata": {
        "id": "oTJXff0Tee2j"
      },
      "execution_count": null,
      "outputs": []
    },
    {
      "cell_type": "code",
      "source": [
        "tokenizer.decode(outputs[0], skip_special_tokens=True)"
      ],
      "metadata": {
        "colab": {
          "base_uri": "https://localhost:8080/",
          "height": 70
        },
        "id": "2NezhGJqehaJ",
        "outputId": "66418328-0df8-40eb-d222-64ac846ae028"
      },
      "execution_count": null,
      "outputs": [
        {
          "output_type": "execute_result",
          "data": {
            "text/plain": [
              "'Existing law requires the department to approve a single license to the following types of alcoholism or drug abuse recovery or treatment facilities as defined. Existing law requires the department to approve a single license to the following types of alcoholism or drug abuse recovery or treatment facilities, as defined, if the proposed location is in proximity to an existing facility that would result in overconcentration. Existing law requires the department to approve a single license to the following types of alcoholis'"
            ],
            "application/vnd.google.colaboratory.intrinsic+json": {
              "type": "string"
            }
          },
          "metadata": {},
          "execution_count": 67
        }
      ]
    },
    {
      "cell_type": "code",
      "source": [
        "pred[0]['summary_text']"
      ],
      "metadata": {
        "colab": {
          "base_uri": "https://localhost:8080/",
          "height": 70
        },
        "id": "eixhIW2QeMug",
        "outputId": "1524026d-1ae1-4303-b24f-4a64df95a484"
      },
      "execution_count": null,
      "outputs": [
        {
          "output_type": "execute_result",
          "data": {
            "text/plain": [
              "'Existing law prohibits a city, county, or other local public entity from placing restrictions on building heights, setback, lot dimensions, or placement of signs of an alcoholism or drug abuse recovery or treatment facility that serves six or fewer persons, as long as the restrictions are identical to those applied to other single-family dwellings. Existing legislation prohibits the department from granting an application for a new facility license, if the proposed location is in proximity to an existing facility that would result in overconcentration of facilities.'"
            ],
            "application/vnd.google.colaboratory.intrinsic+json": {
              "type": "string"
            }
          },
          "metadata": {},
          "execution_count": 68
        }
      ]
    },
    {
      "cell_type": "code",
      "source": [
        "preds = [pred[0]['summary_text']]"
      ],
      "metadata": {
        "id": "mFxuqkaCeT4G"
      },
      "execution_count": null,
      "outputs": []
    },
    {
      "cell_type": "code",
      "source": [
        "labels = [billsum['test'][100]['summary']]"
      ],
      "metadata": {
        "id": "D7NFR7sTeT2o"
      },
      "execution_count": null,
      "outputs": []
    },
    {
      "cell_type": "code",
      "source": [
        "rouge.compute(predictions=preds, references=labels, use_stemmer=True)"
      ],
      "metadata": {
        "colab": {
          "base_uri": "https://localhost:8080/"
        },
        "id": "MPw6vqxueT0a",
        "outputId": "012e0539-81ce-4b0f-bf8b-d4b56c8ee946"
      },
      "execution_count": null,
      "outputs": [
        {
          "output_type": "execute_result",
          "data": {
            "text/plain": [
              "{'rouge1': 0.20657276995305165,\n",
              " 'rouge2': 0.1381475667189953,\n",
              " 'rougeL': 0.1533646322378717,\n",
              " 'rougeLsum': 0.18466353677621283}"
            ]
          },
          "metadata": {},
          "execution_count": 71
        }
      ]
    },
    {
      "cell_type": "markdown",
      "source": [
        "# Testing on our own Paragraphs"
      ],
      "metadata": {
        "id": "1gk9FMNzejaq"
      }
    },
    {
      "cell_type": "code",
      "source": [
        "text1 = \"Urbanization is a defining trend of the 21st century, with more than half of the world's population now living in cities. This shift presents both opportunities and challenges for sustainable development. On one hand, cities are engines of economic growth, innovation, and cultural exchange. They offer better access to jobs, education, healthcare, and social services, which can improve the quality of life for their residents. Urban areas are also more efficient in terms of resource use and can implement green technologies and infrastructure more effectively than rural areas. On the other hand, rapid urbanization often leads to significant challenges, including inadequate housing, congested transportation systems, and environmental degradation. Many cities struggle with air and water pollution, waste management, and the provision of essential services to all residents, particularly in informal settlements. Additionally, the high population density in urban areas can exacerbate social inequalities and lead to the marginalization of vulnerable groups. Addressing these issues requires integrated urban planning, investment in sustainable infrastructure, and inclusive policies that ensure all urban residents benefit from the opportunities cities offer. By fostering resilient, inclusive, and sustainable urban environments, we can harness the potential of cities to drive positive global change.\"\n",
        "text2 = \"The evolution of technology has dramatically transformed the way we communicate, work, and live, ushering in a new era of connectivity and convenience. With the advent of the internet, mobile devices, and social media platforms, information is now accessible at our fingertips, enabling instant communication and interaction across the globe. This technological advancement has revolutionized industries, from healthcare and education to entertainment and commerce, facilitating unprecedented innovation and efficiency. For instance, telemedicine allows patients to consult with doctors remotely, online learning platforms provide access to education for people worldwide, and e-commerce has transformed the retail landscape. However, this rapid technological progress also brings significant challenges. Issues such as digital addiction, cyberbullying, privacy concerns, and the spread of misinformation are becoming increasingly prevalent. Moreover, the digital divide persists, with many individuals and communities lacking access to the latest technologies. Balancing the benefits of technological advancement with its drawbacks requires thoughtful regulation, ethical considerations, and efforts to ensure that technological progress is inclusive and equitable.\"\n",
        "text3 = \"Education plays a pivotal role in shaping the future of individuals and societies, acting as a powerful catalyst for personal growth, social cohesion, and economic development. A robust education system equips students with critical thinking skills, knowledge, and the ability to adapt to rapidly changing circumstances. It fosters creativity, innovation, and problem-solving abilities, which are essential for addressing complex global challenges such as poverty, inequality, and environmental sustainability. Education also promotes social cohesion by instilling values of tolerance, empathy, and civic responsibility, contributing to more inclusive and peaceful societies. However, significant disparities in educational access and quality persist worldwide, with marginalized communities often facing barriers such as inadequate infrastructure, lack of trained teachers, and limited resources. These inequalities hinder the full realization of individuals' potential and impede societal progress. Ensuring inclusive and equitable education for all requires targeted policies, increased investment in educational infrastructure, teacher training, and community engagement. By addressing these challenges, we can unlock the full potential of every individual and pave the way for a more equitable and prosperous future.\""
      ],
      "metadata": {
        "id": "qoblxJj6daQT"
      },
      "execution_count": null,
      "outputs": []
    },
    {
      "cell_type": "code",
      "source": [
        "text = \"summarize: \" + text1\n",
        "text"
      ],
      "metadata": {
        "colab": {
          "base_uri": "https://localhost:8080/",
          "height": 105
        },
        "id": "se0XYfs3cSoZ",
        "outputId": "2f1dfdb5-0b1c-4051-e043-da136dc5b20b"
      },
      "execution_count": null,
      "outputs": [
        {
          "output_type": "execute_result",
          "data": {
            "text/plain": [
              "\"summarize: Urbanization is a defining trend of the 21st century, with more than half of the world's population now living in cities. This shift presents both opportunities and challenges for sustainable development. On one hand, cities are engines of economic growth, innovation, and cultural exchange. They offer better access to jobs, education, healthcare, and social services, which can improve the quality of life for their residents. Urban areas are also more efficient in terms of resource use and can implement green technologies and infrastructure more effectively than rural areas. On the other hand, rapid urbanization often leads to significant challenges, including inadequate housing, congested transportation systems, and environmental degradation. Many cities struggle with air and water pollution, waste management, and the provision of essential services to all residents, particularly in informal settlements. Additionally, the high population density in urban areas can exacerbate social inequalities and lead to the marginalization of vulnerable groups. Addressing these issues requires integrated urban planning, investment in sustainable infrastructure, and inclusive policies that ensure all urban residents benefit from the opportunities cities offer. By fostering resilient, inclusive, and sustainable urban environments, we can harness the potential of cities to drive positive global change.\""
            ],
            "application/vnd.google.colaboratory.intrinsic+json": {
              "type": "string"
            }
          },
          "metadata": {},
          "execution_count": 73
        }
      ]
    },
    {
      "cell_type": "code",
      "source": [
        "summarizer = pipeline(\"summarization\", model=\"my_fine_tuned_t5_small_model_2\")\n",
        "pred = summarizer(text)\n",
        "pred"
      ],
      "metadata": {
        "colab": {
          "base_uri": "https://localhost:8080/"
        },
        "id": "R7Xj6IcRcSmG",
        "outputId": "e6f7d87d-e681-4707-91a3-3e1e402ccb22"
      },
      "execution_count": null,
      "outputs": [
        {
          "output_type": "execute_result",
          "data": {
            "text/plain": [
              "[{'summary_text': \"Urbanization is a defining trend of the 21st century, with more than half of the world's population now living in cities . This shift presents both opportunities and challenges for sustainable development. Cities are engines of economic growth, innovation, and cultural exchange. They offer better access to jobs, education, healthcare, and social services, which can improve the quality of life for their residents.\"}]"
            ]
          },
          "metadata": {},
          "execution_count": 74
        }
      ]
    },
    {
      "cell_type": "code",
      "source": [
        "text = \"summarize: \" + text2\n",
        "text"
      ],
      "metadata": {
        "colab": {
          "base_uri": "https://localhost:8080/",
          "height": 105
        },
        "id": "4DGIoTgTdslz",
        "outputId": "bbbb44f3-f5f6-4c6d-f128-3f1d36080391"
      },
      "execution_count": null,
      "outputs": [
        {
          "output_type": "execute_result",
          "data": {
            "text/plain": [
              "'summarize: The evolution of technology has dramatically transformed the way we communicate, work, and live, ushering in a new era of connectivity and convenience. With the advent of the internet, mobile devices, and social media platforms, information is now accessible at our fingertips, enabling instant communication and interaction across the globe. This technological advancement has revolutionized industries, from healthcare and education to entertainment and commerce, facilitating unprecedented innovation and efficiency. For instance, telemedicine allows patients to consult with doctors remotely, online learning platforms provide access to education for people worldwide, and e-commerce has transformed the retail landscape. However, this rapid technological progress also brings significant challenges. Issues such as digital addiction, cyberbullying, privacy concerns, and the spread of misinformation are becoming increasingly prevalent. Moreover, the digital divide persists, with many individuals and communities lacking access to the latest technologies. Balancing the benefits of technological advancement with its drawbacks requires thoughtful regulation, ethical considerations, and efforts to ensure that technological progress is inclusive and equitable.'"
            ],
            "application/vnd.google.colaboratory.intrinsic+json": {
              "type": "string"
            }
          },
          "metadata": {},
          "execution_count": 75
        }
      ]
    },
    {
      "cell_type": "code",
      "source": [
        "summarizer = pipeline(\"summarization\", model=\"my_fine_tuned_t5_small_model_2\")\n",
        "pred = summarizer(text)\n",
        "pred"
      ],
      "metadata": {
        "colab": {
          "base_uri": "https://localhost:8080/"
        },
        "id": "IAxqon6EdvNK",
        "outputId": "5b240ad4-8f9d-49c3-c11a-9ad797a4a4d4"
      },
      "execution_count": null,
      "outputs": [
        {
          "output_type": "execute_result",
          "data": {
            "text/plain": [
              "[{'summary_text': 'Information is now accessible at our fingertips, enabling instant communication and interaction across the globe, ushering in a new era of connectivity and convenience. This technological advancement has revolutionized industries, from healthcare and education to entertainment and commerce, facilitating unprecedented innovation and efficiency . Issues such as cyberbullying, privacy concerns, and the spread of misinformation are becoming increasingly prevalent.'}]"
            ]
          },
          "metadata": {},
          "execution_count": 76
        }
      ]
    },
    {
      "cell_type": "code",
      "source": [
        "text = \"summarize: \" + text3\n",
        "text"
      ],
      "metadata": {
        "colab": {
          "base_uri": "https://localhost:8080/",
          "height": 105
        },
        "id": "aSAM70Cjdvu6",
        "outputId": "e93859af-e38c-4c06-eadb-b902342acebc"
      },
      "execution_count": null,
      "outputs": [
        {
          "output_type": "execute_result",
          "data": {
            "text/plain": [
              "\"summarize: Education plays a pivotal role in shaping the future of individuals and societies, acting as a powerful catalyst for personal growth, social cohesion, and economic development. A robust education system equips students with critical thinking skills, knowledge, and the ability to adapt to rapidly changing circumstances. It fosters creativity, innovation, and problem-solving abilities, which are essential for addressing complex global challenges such as poverty, inequality, and environmental sustainability. Education also promotes social cohesion by instilling values of tolerance, empathy, and civic responsibility, contributing to more inclusive and peaceful societies. However, significant disparities in educational access and quality persist worldwide, with marginalized communities often facing barriers such as inadequate infrastructure, lack of trained teachers, and limited resources. These inequalities hinder the full realization of individuals' potential and impede societal progress. Ensuring inclusive and equitable education for all requires targeted policies, increased investment in educational infrastructure, teacher training, and community engagement. By addressing these challenges, we can unlock the full potential of every individual and pave the way for a more equitable and prosperous future.\""
            ],
            "application/vnd.google.colaboratory.intrinsic+json": {
              "type": "string"
            }
          },
          "metadata": {},
          "execution_count": 77
        }
      ]
    },
    {
      "cell_type": "code",
      "source": [
        "summarizer = pipeline(\"summarization\", model=\"my_fine_tuned_t5_small_model_2\")\n",
        "pred = summarizer(text)\n",
        "pred"
      ],
      "metadata": {
        "colab": {
          "base_uri": "https://localhost:8080/"
        },
        "id": "opwMFDQgdvpK",
        "outputId": "4d47b569-9ad3-4892-fe46-7df864e425b1"
      },
      "execution_count": null,
      "outputs": [
        {
          "output_type": "execute_result",
          "data": {
            "text/plain": [
              "[{'summary_text': 'A robust education system equips students with critical thinking skills, knowledge, and the ability to adapt to rapidly changing circumstances. It fosters creativity, innovation, and problem-solving abilities, which are essential for addressing complex global challenges such as poverty, inequality, and environmental sustainability . Education also promotes social cohesion by instilling values of tolerance, empathy, and civic responsibility, contributing to more inclusive and peaceful societies.'}]"
            ]
          },
          "metadata": {},
          "execution_count": 78
        }
      ]
    },
    {
      "cell_type": "code",
      "source": [
        "text4 = \"python a high-level interpreted programming language famous for its zen-like code it's arguably the most popular language in the world because it's easy to learn yet practical for serious projects in fact you're watching this youtube video in a python web application right now it was created by guido van rossum and released in 1991 who named it after monty python's flying circus which is why you'll sometimes find spam and eggs instead of foo and bar in code samples it's commonly used to build server-side applications like web apps with the django framework and is the language of choice for big data analysis and machine learning many students choose python to start learning to code because of its emphasis on readability as outlined by the zen of python beautiful is better than ugly while explicit is better than implicit python is very simple but avoids the temptation to sprinkle in magic that causes ambiguity its code is often organized into notebooks where individual cells can be executed then documented in the same place we're currently at version 3 of the language and you can get started by creating a file that ends in py or ipymb to create an interactive notebook create a variable by setting a name equal to a value it's strongly typed which means values won't change in unexpected ways but dynamic so type annotations are not required the syntax is highly efficient allowing you to declare multiple variables on a single line and define tuples lists and dictionaries with a literal syntax semicolons are not required and if you use them and experience pythonista will say that your code is not pythonic instead of semicolons python uses indentation to terminate or determine the scope of a line of code define a function with the def keyword then indent the next line usually by four spaces to define the function body we might then add a for loop to it and indent that by another four spaces this eliminates the need for curly braces and semicolons found in many other languages python is a multi-paradigm language we can apply functional programming patterns with things like anonymous functions using lambda it also uses objects as an abstraction for data allowing you to implement object-oriented patterns with things like classes and inheritance it also has a huge ecosystem of third-party libraries such as deep learning frameworks like tensorflow and wrappers for many high performance low level packages like open computer vision which are most often installed with the pip package manager this has been the python programming language in 100 seconds hit the like button if you want to see more short videos like this thanks for watching and i will see you in the next one\"\n",
        "text = \"summarize: \" + text4\n",
        "text"
      ],
      "metadata": {
        "id": "Q7sV9bKcJ_aO",
        "colab": {
          "base_uri": "https://localhost:8080/",
          "height": 105
        },
        "outputId": "720df130-43a0-4369-ef69-656d86e91ac2"
      },
      "execution_count": null,
      "outputs": [
        {
          "output_type": "execute_result",
          "data": {
            "text/plain": [
              "\"summarize: python a high-level interpreted programming language famous for its zen-like code it's arguably the most popular language in the world because it's easy to learn yet practical for serious projects in fact you're watching this youtube video in a python web application right now it was created by guido van rossum and released in 1991 who named it after monty python's flying circus which is why you'll sometimes find spam and eggs instead of foo and bar in code samples it's commonly used to build server-side applications like web apps with the django framework and is the language of choice for big data analysis and machine learning many students choose python to start learning to code because of its emphasis on readability as outlined by the zen of python beautiful is better than ugly while explicit is better than implicit python is very simple but avoids the temptation to sprinkle in magic that causes ambiguity its code is often organized into notebooks where individual cells can be executed then documented in the same place we're currently at version 3 of the language and you can get started by creating a file that ends in py or ipymb to create an interactive notebook create a variable by setting a name equal to a value it's strongly typed which means values won't change in unexpected ways but dynamic so type annotations are not required the syntax is highly efficient allowing you to declare multiple variables on a single line and define tuples lists and dictionaries with a literal syntax semicolons are not required and if you use them and experience pythonista will say that your code is not pythonic instead of semicolons python uses indentation to terminate or determine the scope of a line of code define a function with the def keyword then indent the next line usually by four spaces to define the function body we might then add a for loop to it and indent that by another four spaces this eliminates the need for curly braces and semicolons found in many other languages python is a multi-paradigm language we can apply functional programming patterns with things like anonymous functions using lambda it also uses objects as an abstraction for data allowing you to implement object-oriented patterns with things like classes and inheritance it also has a huge ecosystem of third-party libraries such as deep learning frameworks like tensorflow and wrappers for many high performance low level packages like open computer vision which are most often installed with the pip package manager this has been the python programming language in 100 seconds hit the like button if you want to see more short videos like this thanks for watching and i will see you in the next one\""
            ],
            "application/vnd.google.colaboratory.intrinsic+json": {
              "type": "string"
            }
          },
          "metadata": {},
          "execution_count": 79
        }
      ]
    },
    {
      "cell_type": "code",
      "source": [
        "summarizer = pipeline(\"summarization\", model=\"my_fine_tuned_t5_small_model_2\")\n",
        "pred = summarizer(text)\n",
        "pred"
      ],
      "metadata": {
        "id": "Go8T9kONJ_YS",
        "colab": {
          "base_uri": "https://localhost:8080/"
        },
        "outputId": "dc290561-4b3a-4061-804b-6880ab8ee054"
      },
      "execution_count": null,
      "outputs": [
        {
          "output_type": "stream",
          "name": "stderr",
          "text": [
            "Token indices sequence length is longer than the specified maximum sequence length for this model (620 > 512). Running this sequence through the model will result in indexing errors\n"
          ]
        },
        {
          "output_type": "execute_result",
          "data": {
            "text/plain": [
              "[{'summary_text': 'python is a multi-paradigm language we can apply functional programming patterns with things like anonymous functions using lambda it also uses objects as an abstraction for data allowing you to implement object-oriented patterns with something like classes and inheritance it also has a huge ecosystem of third-party libraries such as deep learning frameworks like tensorflow and wrappers for many high performance low level packages like open computer vision .'}]"
            ]
          },
          "metadata": {},
          "execution_count": 80
        }
      ]
    }
  ]
}